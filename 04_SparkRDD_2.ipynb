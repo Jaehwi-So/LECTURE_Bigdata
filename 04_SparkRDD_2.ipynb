{
 "cells": [
  {
   "cell_type": "markdown",
   "id": "d23161ce",
   "metadata": {},
   "source": [
    "# RDD\n",
    "\n",
    "이전 Jupyter Notebook의 내용에 이어서 RDD를 이용한 데이터의 집계를 해보려고 한다.\n",
    "여러 RDD 연산을 사용하여 데이터를 집계하고 변환하여 유의미하게 데이터를 가공해보자.\n",
    "해당 Notebook에서는 아래의 내용을 다룬다.\n",
    "\n",
    "- GroupBy: RDD를 특정 기준으로 그룹화\n",
    "- Paired RDD: 키-값 쌍으로 구성된 RDD\n",
    "- groupByKey(): Paired RDD를 키를 기준으로 그룹화하고, 각 그룹에 대한 값들의 Iterable을 생성\n",
    "- reduceByKey(): Paired RDD를 키를 기준으로 그룹화하고, 각 그룹에 대해 리듀스 함수를 사용하여 값을 집계\n",
    "- combineByKey(): Paired RDD를 키를 기준으로 그룹화하고, 각 그룹에 대해 초기값, 병합 및 리듀스 함수를 사용하여 값을 집계\n",
    "- flatmap(): 각 입력 항목에 대해 여러 출력 항목을 생성하는 함수를 적용하여 새로운 RDD를 생성\n",
    "\n",
    "<br><hr><br>"
   ]
  },
  {
   "cell_type": "markdown",
   "id": "f88734b9",
   "metadata": {},
   "source": [
    "# RDD를 파일로 Write하기"
   ]
  },
  {
   "cell_type": "code",
   "execution_count": 1,
   "id": "f5e21283",
   "metadata": {},
   "outputs": [
    {
     "name": "stderr",
     "output_type": "stream",
     "text": [
      "Setting default log level to \"WARN\".\n",
      "To adjust logging level use sc.setLogLevel(newLevel). For SparkR, use setLogLevel(newLevel).\n",
      "23/11/03 15:38:51 WARN NativeCodeLoader: Unable to load native-hadoop library for your platform... using builtin-java classes where applicable\n",
      "23/11/03 15:38:52 WARN Utils: Service 'SparkUI' could not bind on port 4040. Attempting port 4041.\n"
     ]
    }
   ],
   "source": [
    "import os, sys\n",
    "import pyspark\n",
    "\n",
    "myConf=pyspark.SparkConf()\n",
    "spark = pyspark.sql.SparkSession\\\n",
    "    .builder\\\n",
    "    .master(\"local\")\\\n",
    "    .appName(\"myApp\")\\\n",
    "    .config(conf=myConf)\\\n",
    "    .getOrCreate()"
   ]
  },
  {
   "cell_type": "code",
   "execution_count": 2,
   "id": "65485ab8",
   "metadata": {},
   "outputs": [
    {
     "name": "stderr",
     "output_type": "stream",
     "text": [
      "                                                                                \r"
     ]
    }
   ],
   "source": [
    "spark.sparkContext.parallelize([['THIS', 'IS'], ['A', 'LINE']]).saveAsTextFile(\"data/ds_spark_wiki_out\")"
   ]
  },
  {
   "cell_type": "code",
   "execution_count": 3,
   "id": "ed05c3d1",
   "metadata": {},
   "outputs": [
    {
     "data": {
      "text/plain": [
       "['._SUCCESS.crc', '.part-00000.crc', '_SUCCESS', 'part-00000']"
      ]
     },
     "execution_count": 3,
     "metadata": {},
     "output_type": "execute_result"
    }
   ],
   "source": [
    "os.listdir('data/ds_spark_wiki_out')"
   ]
  },
  {
   "cell_type": "code",
   "execution_count": 4,
   "id": "48f0671a",
   "metadata": {},
   "outputs": [],
   "source": [
    "_rdd=spark.sparkContext.textFile(os.path.join(\"data\", \"ds_spark_wiki_out\"))"
   ]
  },
  {
   "cell_type": "code",
   "execution_count": 5,
   "id": "5f09f002",
   "metadata": {},
   "outputs": [
    {
     "data": {
      "text/plain": [
       "[\"['THIS', 'IS']\", \"['A', 'LINE']\"]"
      ]
     },
     "execution_count": 5,
     "metadata": {},
     "output_type": "execute_result"
    }
   ],
   "source": [
    "_rdd.collect()"
   ]
  },
  {
   "cell_type": "markdown",
   "id": "8a5290da",
   "metadata": {},
   "source": [
    "### Groupby\n",
    "\n",
    "groupBy()는 RDD를 변환transformation 함수이다. Paired나 Unpaired 어느 경우에도 사용할 수 있지만, 주로 unpaired RDD에 많이 쓰인다.\n",
    "\n",
    "Unpaired 데이터는 key, value 쌍으로 구성이 되지 않은 데이터를 말한다. 텍스트를 보면, 그냥 문자열이고 키가 존재하지 않아 Unpaired 형식이다. 또 다른 예는 이름, 전공인데 얼핏보면 이름이 키로 보이지만 문자열 데이터이다."
   ]
  },
  {
   "cell_type": "code",
   "execution_count": 6,
   "id": "fe998904",
   "metadata": {},
   "outputs": [],
   "source": [
    "myRdd2=spark.sparkContext\\\n",
    "    .textFile(os.path.join(\"data\",\"ds_spark_wiki.txt\"))"
   ]
  },
  {
   "cell_type": "code",
   "execution_count": 7,
   "id": "3a773697",
   "metadata": {},
   "outputs": [
    {
     "data": {
      "text/plain": [
       "['Wikipedia',\n",
       " 'Apache Spark is an open source cluster computing framework.',\n",
       " '아파치 스파크는 오픈 소스 클러스터 컴퓨팅 프레임워크이다.',\n",
       " 'Apache Spark Apache Spark Apache Spark Apache Spark',\n",
       " '아파치 스파크 아파치 스파크 아파치 스파크 아파치 스파크',\n",
       " \"Originally developed at the University of California, Berkeley's AMPLab,\",\n",
       " 'the Spark codebase was later donated to the Apache Software Foundation,',\n",
       " 'which has maintained it since.',\n",
       " 'Spark provides an interface for programming entire clusters with',\n",
       " 'implicit data parallelism and fault-tolerance.']"
      ]
     },
     "execution_count": 7,
     "metadata": {},
     "output_type": "execute_result"
    }
   ],
   "source": [
    "myRdd2.take(10)"
   ]
  },
  {
   "cell_type": "code",
   "execution_count": 13,
   "id": "df2375ac",
   "metadata": {},
   "outputs": [
    {
     "name": "stdout",
     "output_type": "stream",
     "text": [
      "[(False, <pyspark.resultiterable.ResultIterable object at 0x7fad50058700>), (True, <pyspark.resultiterable.ResultIterable object at 0x7fad91d05a00>)]\n"
     ]
    }
   ],
   "source": [
    "myRdd_group=myRdd2.groupBy(lambda x:\"아파치\" in x)\n",
    "\n",
    "print(myRdd_group.collect())    \n"
   ]
  },
  {
   "cell_type": "code",
   "execution_count": 18,
   "id": "6d8dcd2a",
   "metadata": {},
   "outputs": [
    {
     "name": "stdout",
     "output_type": "stream",
     "text": [
      "False: <pyspark.resultiterable.ResultIterable object at 0x7fad6046b190>\n",
      "True: <pyspark.resultiterable.ResultIterable object at 0x7fad6046bd00>\n"
     ]
    }
   ],
   "source": [
    "# 데이터의 집단화 groupBy\n",
    "# 데이터를 집단화하기 위해서 groupBy() 함수가 필요하고, 그 결과는 그룹명은 key, 구성원은 value로 저장된다.\n",
    "for (k,v) in myRdd_group.collect():\n",
    "    print (\"{}: {}\".format(k, v))"
   ]
  },
  {
   "cell_type": "code",
   "execution_count": 19,
   "id": "8a1e2800",
   "metadata": {},
   "outputs": [
    {
     "name": "stdout",
     "output_type": "stream",
     "text": [
      "False: Wikipedia\n",
      "False: Apache Spark is an open source cluster computing framework.\n",
      "False: Apache Spark Apache Spark Apache Spark Apache Spark\n",
      "False: Originally developed at the University of California, Berkeley's AMPLab,\n",
      "False: the Spark codebase was later donated to the Apache Software Foundation,\n",
      "False: which has maintained it since.\n",
      "False: Spark provides an interface for programming entire clusters with\n",
      "False: implicit data parallelism and fault-tolerance.\n",
      "-----\n",
      "True: 아파치 스파크는 오픈 소스 클러스터 컴퓨팅 프레임워크이다.\n",
      "True: 아파치 스파크 아파치 스파크 아파치 스파크 아파치 스파크\n",
      "-----\n"
     ]
    }
   ],
   "source": [
    "for (k,v) in myRdd_group.collect():\n",
    "    for eachValue in v:\n",
    "        print (\"{}: {}\".format(k, eachValue))\n",
    "    print (\"-----\")"
   ]
  },
  {
   "cell_type": "code",
   "execution_count": 20,
   "id": "475989f2",
   "metadata": {},
   "outputs": [],
   "source": [
    "# [] list \n",
    "# {} dic \n",
    "# () tuple \n",
    "# <> object"
   ]
  },
  {
   "cell_type": "markdown",
   "id": "4e511878",
   "metadata": {},
   "source": [
    "# Paired RDD\n",
    "key, value의 쌍 -> 튜플 또는 리스트\n",
    "- 튜플 : 수정이 불가능, 리스트에 비해 메모리 효율\n",
    "- 리스트 : 수정이 가능"
   ]
  },
  {
   "cell_type": "code",
   "execution_count": 21,
   "id": "1da12407",
   "metadata": {},
   "outputs": [],
   "source": [
    "_tuple=((\"Seoul\",1),(\"Seoul\",1),(\"Seoul\",1),(\"Busan\",1),(\"Busan\",1),\n",
    "           (\"Seoul\",1),(\"Busan\",1),(\"Bundang\",1),(\"Bundang\",1),(\"Bundang\", 1),\n",
    "           (\"Seoul\",1),(\"Seoul\",1),(\"Busan\",1),(\"Busan\",1),(\"Seoul\",1))\n",
    "\n",
    "_list=[[\"Seoul\",1],[\"Seoul\",1],[\"Seoul\",1],[\"Busan\",1],[\"Busan\",1],[\"Busan\",1],\n",
    "           [\"Seoul\",1],[\"Busan\",1],[\"Bundang\",1],[\"Bundang\",1],[\"Bundang\",1],\n",
    "           [\"Seoul\",1],[\"Seoul\",1],[\"Busan\",1],[\"Busan\",1],[\"Seoul\",1]]"
   ]
  },
  {
   "cell_type": "code",
   "execution_count": 22,
   "id": "bda812f9",
   "metadata": {},
   "outputs": [
    {
     "name": "stdout",
     "output_type": "stream",
     "text": [
      "memory size of tuples (bytes):  160\n",
      "memory size of lists (bytes):  184\n"
     ]
    }
   ],
   "source": [
    "import sys\n",
    "print(\"memory size of tuples (bytes): \", sys.getsizeof(_tuple))\n",
    "print(\"memory size of lists (bytes): \",sys.getsizeof(_list))"
   ]
  },
  {
   "cell_type": "markdown",
   "id": "a1c7595b",
   "metadata": {},
   "source": [
    "### ResultIterable : groupByKey()의 결과는 ResultIterable이고, 이 객체는 그대로 볼 수 없다."
   ]
  },
  {
   "cell_type": "code",
   "execution_count": 24,
   "id": "c014e8cc",
   "metadata": {},
   "outputs": [
    {
     "data": {
      "text/plain": [
       "[('Seoul', <pyspark.resultiterable.ResultIterable at 0x7fad91dcd850>),\n",
       " ('Busan', <pyspark.resultiterable.ResultIterable at 0x7fad920efdf0>),\n",
       " ('Bundang', <pyspark.resultiterable.ResultIterable at 0x7fad920eff40>)]"
      ]
     },
     "execution_count": 24,
     "metadata": {},
     "output_type": "execute_result"
    }
   ],
   "source": [
    "_testRdd=spark.sparkContext.parallelize(_list)\n",
    "_testRdd.groupBy(lambda x:x[0]).collect()"
   ]
  },
  {
   "cell_type": "markdown",
   "id": "d5ab84c9",
   "metadata": {},
   "source": [
    "### mapValues() : value에 대해서 map 적용"
   ]
  },
  {
   "cell_type": "code",
   "execution_count": 25,
   "id": "182bb90c",
   "metadata": {},
   "outputs": [
    {
     "data": {
      "text/plain": [
       "[('Seoul',\n",
       "  [['Seoul', 1],\n",
       "   ['Seoul', 1],\n",
       "   ['Seoul', 1],\n",
       "   ['Seoul', 1],\n",
       "   ['Seoul', 1],\n",
       "   ['Seoul', 1],\n",
       "   ['Seoul', 1]]),\n",
       " ('Busan',\n",
       "  [['Busan', 1],\n",
       "   ['Busan', 1],\n",
       "   ['Busan', 1],\n",
       "   ['Busan', 1],\n",
       "   ['Busan', 1],\n",
       "   ['Busan', 1]]),\n",
       " ('Bundang', [['Bundang', 1], ['Bundang', 1], ['Bundang', 1]])]"
      ]
     },
     "execution_count": 25,
     "metadata": {},
     "output_type": "execute_result"
    }
   ],
   "source": [
    "_testRdd.groupBy(lambda x:x[0]).mapValues(lambda x: list(x)).collect()"
   ]
  },
  {
   "cell_type": "markdown",
   "id": "ab40726f",
   "metadata": {},
   "source": [
    "### groupByKey보다는 reduceByKey 또는 combineByKey를 사용하는 것을 추천하고 있다. \n",
    "groupByKey는 메모리를 많이 사용하고, reduceByKey는 Partition별로 작업이 동시에 병렬적으로 수행될 수 있으므로 보다 빠르기 때문이다."
   ]
  },
  {
   "cell_type": "code",
   "execution_count": 26,
   "id": "31a33b85",
   "metadata": {},
   "outputs": [
    {
     "data": {
      "text/plain": [
       "[('Seoul', 7), ('Busan', 6), ('Bundang', 3)]"
      ]
     },
     "execution_count": 26,
     "metadata": {},
     "output_type": "execute_result"
    }
   ],
   "source": [
    "_testRdd.reduceByKey(lambda x,y:x+y).collect() #연산을 적용시킴"
   ]
  },
  {
   "cell_type": "code",
   "execution_count": 27,
   "id": "78f95412",
   "metadata": {},
   "outputs": [
    {
     "data": {
      "text/plain": [
       "[('Seoul', <pyspark.resultiterable.ResultIterable at 0x7fad91dcd9d0>),\n",
       " ('Busan', <pyspark.resultiterable.ResultIterable at 0x7fad91cfadc0>),\n",
       " ('Bundang', <pyspark.resultiterable.ResultIterable at 0x7fad91cfa280>)]"
      ]
     },
     "execution_count": 27,
     "metadata": {},
     "output_type": "execute_result"
    }
   ],
   "source": [
    "_testRdd.groupByKey().collect() #키별로 묶어놓음"
   ]
  },
  {
   "cell_type": "code",
   "execution_count": 28,
   "id": "e7ae7d2f",
   "metadata": {},
   "outputs": [
    {
     "data": {
      "text/plain": [
       "[('Seoul', [1, 1, 1, 1, 1, 1, 1]),\n",
       " ('Busan', [1, 1, 1, 1, 1, 1]),\n",
       " ('Bundang', [1, 1, 1])]"
      ]
     },
     "execution_count": 28,
     "metadata": {},
     "output_type": "execute_result"
    }
   ],
   "source": [
    "_testRdd.groupByKey().mapValues(list).collect() #Groupby(ResultIterable의 반환값)을 품"
   ]
  },
  {
   "cell_type": "code",
   "execution_count": 29,
   "id": "a1532875",
   "metadata": {},
   "outputs": [
    {
     "data": {
      "text/plain": [
       "[('Seoul', 2),\n",
       " ('Seoul', 2),\n",
       " ('Seoul', 2),\n",
       " ('Busan', 2),\n",
       " ('Busan', 2),\n",
       " ('Busan', 2),\n",
       " ('Seoul', 2),\n",
       " ('Busan', 2),\n",
       " ('Bundang', 2),\n",
       " ('Bundang', 2),\n",
       " ('Bundang', 2),\n",
       " ('Seoul', 2),\n",
       " ('Seoul', 2),\n",
       " ('Busan', 2),\n",
       " ('Busan', 2),\n",
       " ('Seoul', 2)]"
      ]
     },
     "execution_count": 29,
     "metadata": {},
     "output_type": "execute_result"
    }
   ],
   "source": [
    "_testRdd.mapValues(lambda x:x+1).collect() #Value에 대해서 lambda식 적용"
   ]
  },
  {
   "cell_type": "markdown",
   "id": "2164e876",
   "metadata": {},
   "source": [
    "# 단어빈도 세어보기"
   ]
  },
  {
   "cell_type": "code",
   "execution_count": 34,
   "id": "a5aa0cc8",
   "metadata": {},
   "outputs": [
    {
     "data": {
      "text/plain": [
       "['Wikipedia',\n",
       " 'Apache Spark is an open source cluster computing framework.',\n",
       " '아파치 스파크는 오픈 소스 클러스터 컴퓨팅 프레임워크이다.',\n",
       " 'Apache Spark Apache Spark Apache Spark Apache Spark',\n",
       " '아파치 스파크 아파치 스파크 아파치 스파크 아파치 스파크',\n",
       " \"Originally developed at the University of California, Berkeley's AMPLab,\",\n",
       " 'the Spark codebase was later donated to the Apache Software Foundation,',\n",
       " 'which has maintained it since.',\n",
       " 'Spark provides an interface for programming entire clusters with',\n",
       " 'implicit data parallelism and fault-tolerance.']"
      ]
     },
     "execution_count": 34,
     "metadata": {},
     "output_type": "execute_result"
    }
   ],
   "source": [
    "myRdd2.collect()"
   ]
  },
  {
   "cell_type": "code",
   "execution_count": 38,
   "id": "65a58997",
   "metadata": {},
   "outputs": [
    {
     "data": {
      "text/plain": [
       "[('Wikipedia', 1), ('Apache', 1), ('Spark', 1)]"
      ]
     },
     "execution_count": 38,
     "metadata": {},
     "output_type": "execute_result"
    }
   ],
   "source": [
    "myRdd2\\\n",
    "    .flatMap(lambda x:x.split())\\\n",
    "    .map(lambda x:(x,1))\\\n",
    "    .take(3)"
   ]
  },
  {
   "cell_type": "code",
   "execution_count": 30,
   "id": "6feec6e0",
   "metadata": {},
   "outputs": [
    {
     "data": {
      "text/plain": [
       "[('Wikipedia', <pyspark.resultiterable.ResultIterable at 0x7fad920dcca0>),\n",
       " ('Apache', <pyspark.resultiterable.ResultIterable at 0x7fad60472ac0>),\n",
       " ('Spark', <pyspark.resultiterable.ResultIterable at 0x7fad60472e80>)]"
      ]
     },
     "execution_count": 30,
     "metadata": {},
     "output_type": "execute_result"
    }
   ],
   "source": [
    "myRdd2\\\n",
    "    .flatMap(lambda x:x.split())\\\n",
    "    .map(lambda x:(x,1))\\\n",
    "    .groupByKey()\\\n",
    "    .take(3)"
   ]
  },
  {
   "cell_type": "code",
   "execution_count": 31,
   "id": "fbdcf7d4",
   "metadata": {},
   "outputs": [
    {
     "data": {
      "text/plain": [
       "[('Wikipedia', 1),\n",
       " ('Apache', 6),\n",
       " ('Spark', 7),\n",
       " ('is', 1),\n",
       " ('an', 2),\n",
       " ('open', 1),\n",
       " ('source', 1),\n",
       " ('cluster', 1),\n",
       " ('computing', 1),\n",
       " ('framework.', 1)]"
      ]
     },
     "execution_count": 31,
     "metadata": {},
     "output_type": "execute_result"
    }
   ],
   "source": [
    "# sum은 value에 적용되는 내장함수\n",
    "myRdd2\\\n",
    "    .flatMap(lambda x:x.split())\\\n",
    "    .map(lambda x:(x,1))\\\n",
    "    .groupByKey()\\\n",
    "    .mapValues(sum)\\\n",
    "    .take(10)"
   ]
  },
  {
   "cell_type": "code",
   "execution_count": 32,
   "id": "ca2f0e4d",
   "metadata": {},
   "outputs": [
    {
     "data": {
      "text/plain": [
       "[('AMPLab,', 1),\n",
       " ('Apache', 6),\n",
       " (\"Berkeley's\", 1),\n",
       " ('California,', 1),\n",
       " ('Foundation,', 1),\n",
       " ('Originally', 1),\n",
       " ('Software', 1),\n",
       " ('Spark', 7),\n",
       " ('University', 1),\n",
       " ('Wikipedia', 1)]"
      ]
     },
     "execution_count": 32,
     "metadata": {},
     "output_type": "execute_result"
    }
   ],
   "source": [
    "def f(x): return len(x)\n",
    "myRdd2\\\n",
    "    .flatMap(lambda x:x.split())\\\n",
    "    .map(lambda x:(x,1))\\\n",
    "    .groupByKey()\\\n",
    "    .mapValues(f)\\\n",
    "    .sortByKey(True)\\\n",
    "    .take(10)"
   ]
  },
  {
   "cell_type": "code",
   "execution_count": 42,
   "id": "23d79e35",
   "metadata": {},
   "outputs": [
    {
     "name": "stdout",
     "output_type": "stream",
     "text": [
      "단어:AMPLab,\t\t빈도:1\n",
      "단어:Apache\t\t빈도:6\n",
      "단어:Berkeley's\t\t빈도:1\n",
      "단어:California,\t\t빈도:1\n",
      "단어:Foundation,\t\t빈도:1\n",
      "단어:Originally\t\t빈도:1\n",
      "단어:Software\t\t빈도:1\n",
      "단어:Spark\t\t빈도:7\n",
      "단어:University\t\t빈도:1\n",
      "단어:Wikipedia\t\t빈도:1\n",
      "단어:an\t\t빈도:2\n",
      "단어:and\t\t빈도:1\n",
      "단어:at\t\t빈도:1\n",
      "단어:cluster\t\t빈도:1\n",
      "단어:clusters\t\t빈도:1\n",
      "단어:codebase\t\t빈도:1\n",
      "단어:computing\t\t빈도:1\n",
      "단어:data\t\t빈도:1\n",
      "단어:developed\t\t빈도:1\n",
      "단어:donated\t\t빈도:1\n",
      "단어:entire\t\t빈도:1\n",
      "단어:fault-tolerance.\t\t빈도:1\n",
      "단어:for\t\t빈도:1\n",
      "단어:framework.\t\t빈도:1\n",
      "단어:has\t\t빈도:1\n",
      "단어:implicit\t\t빈도:1\n",
      "단어:interface\t\t빈도:1\n",
      "단어:is\t\t빈도:1\n",
      "단어:it\t\t빈도:1\n",
      "단어:later\t\t빈도:1\n",
      "단어:maintained\t\t빈도:1\n",
      "단어:of\t\t빈도:1\n",
      "단어:open\t\t빈도:1\n",
      "단어:parallelism\t\t빈도:1\n",
      "단어:programming\t\t빈도:1\n",
      "단어:provides\t\t빈도:1\n",
      "단어:since.\t\t빈도:1\n",
      "단어:source\t\t빈도:1\n",
      "단어:the\t\t빈도:3\n",
      "단어:to\t\t빈도:1\n",
      "단어:was\t\t빈도:1\n",
      "단어:which\t\t빈도:1\n",
      "단어:with\t\t빈도:1\n",
      "단어:소스\t\t빈도:1\n",
      "단어:스파크\t\t빈도:4\n",
      "단어:스파크는\t\t빈도:1\n",
      "단어:아파치\t\t빈도:5\n",
      "단어:오픈\t\t빈도:1\n",
      "단어:컴퓨팅\t\t빈도:1\n",
      "단어:클러스터\t\t빈도:1\n",
      "단어:프레임워크이다.\t\t빈도:1\n"
     ]
    }
   ],
   "source": [
    "wc=myRdd2\\\n",
    "    .flatMap(lambda x:x.split())\\\n",
    "    .map(lambda x:(x,1))\\\n",
    "    .groupByKey()\\\n",
    "    .mapValues(sum)\\\n",
    "    .sortByKey(True)\\\n",
    "    .collect()\n",
    "\n",
    "#공백으로 구분, 단어빈도를 계산하기 위해, map()은 단어별 빈도 (x,1)를 만듦\n",
    "#groupByKey()는 key를 묶어준다. 따라서 ResultIterable iterator를 반환한다.\n",
    "#sortByKey()로 key로 정렬한 후 collect()한다.\n",
    "\n",
    "for k,v in wc:\n",
    "    print (f\"단어:{k}\\t\\t빈도:{v}\")"
   ]
  },
  {
   "cell_type": "markdown",
   "id": "231cb2e7",
   "metadata": {},
   "source": [
    "### CountByKey 이용하기"
   ]
  },
  {
   "cell_type": "code",
   "execution_count": 43,
   "id": "626f3cbd",
   "metadata": {},
   "outputs": [
    {
     "data": {
      "text/plain": [
       "defaultdict(int,\n",
       "            {'Wikipedia': 1,\n",
       "             'Apache': 6,\n",
       "             'Spark': 7,\n",
       "             'is': 1,\n",
       "             'an': 2,\n",
       "             'open': 1,\n",
       "             'source': 1,\n",
       "             'cluster': 1,\n",
       "             'computing': 1,\n",
       "             'framework.': 1,\n",
       "             '아파치': 5,\n",
       "             '스파크는': 1,\n",
       "             '오픈': 1,\n",
       "             '소스': 1,\n",
       "             '클러스터': 1,\n",
       "             '컴퓨팅': 1,\n",
       "             '프레임워크이다.': 1,\n",
       "             '스파크': 4,\n",
       "             'Originally': 1,\n",
       "             'developed': 1,\n",
       "             'at': 1,\n",
       "             'the': 3,\n",
       "             'University': 1,\n",
       "             'of': 1,\n",
       "             'California,': 1,\n",
       "             \"Berkeley's\": 1,\n",
       "             'AMPLab,': 1,\n",
       "             'codebase': 1,\n",
       "             'was': 1,\n",
       "             'later': 1,\n",
       "             'donated': 1,\n",
       "             'to': 1,\n",
       "             'Software': 1,\n",
       "             'Foundation,': 1,\n",
       "             'which': 1,\n",
       "             'has': 1,\n",
       "             'maintained': 1,\n",
       "             'it': 1,\n",
       "             'since.': 1,\n",
       "             'provides': 1,\n",
       "             'interface': 1,\n",
       "             'for': 1,\n",
       "             'programming': 1,\n",
       "             'entire': 1,\n",
       "             'clusters': 1,\n",
       "             'with': 1,\n",
       "             'implicit': 1,\n",
       "             'data': 1,\n",
       "             'parallelism': 1,\n",
       "             'and': 1,\n",
       "             'fault-tolerance.': 1})"
      ]
     },
     "execution_count": 43,
     "metadata": {},
     "output_type": "execute_result"
    }
   ],
   "source": [
    "myRdd2\\\n",
    "    .flatMap(lambda x:x.split())\\\n",
    "    .map(lambda x:(x,1))\\\n",
    "    .countByKey() # .items() to be added to get a list"
   ]
  },
  {
   "cell_type": "markdown",
   "id": "70bde39e",
   "metadata": {},
   "source": [
    "# 파일의 단어빈도 세어보기"
   ]
  },
  {
   "cell_type": "code",
   "execution_count": 44,
   "id": "2288f6db",
   "metadata": {},
   "outputs": [
    {
     "name": "stdout",
     "output_type": "stream",
     "text": [
      "Writing data/ds_bigdata_wiki.txt\n"
     ]
    }
   ],
   "source": [
    "%%writefile data/ds_bigdata_wiki.txt\n",
    "Big data\n",
    "활용사례 및 의의[편집]\n",
    "정치 및 사회[편집]\n",
    "2008년 미국 대통령 선거[편집]\n",
    "2008년 미국 대통령 선거에서 버락 오바마 미국 대통령 후보는 다양한 형태의 유권자 데이터베이스를 확보하여 이를 분석, 활용한 '유권자 맞춤형 선거 전략'을 전개했다. 당시 오바마 캠프는 인종, 종교, 나이, 가구형태, 소비수준과 같은 기본 인적 사항으로 유권자를 분류하는 것을 넘어서서 과거 투표 여부, 구독하는 잡지, 마시는 음료 등 유권자 성향까지 전화나 개별 방문을 또는 소셜 미디어를 통해 유권자 정보를 수집하였다. 수집된 데이터는 오바마 캠프 본부로 전송되어 유권자 데이터베이스를 온라인으로 통합관리하는 ‘보트빌더(VoteBuilder.com)’시스템의 도움으로 유권자 성향 분석, 미결정 유권자 선별 , 유권자에 대한 예측을 해나갔다. 이를 바탕으로‘유권자 지도’를 작성한 뒤 ‘유권자 맞춤형 선거 전략’을 전개하는 등 오바마 캠프는 비용 대비 효과적인 선거를 치를 수 있었다.\n",
    "\n",
    "대한민국 제19대 총선[편집]\n",
    "중앙선거관리위원회는 대한민국 제19대 총선부터 소셜 네트워크 등 인터넷 상의 선거 운동을 상시 허용하였다.[15] 이에 소셜 미디어 상에서 선거 관련 데이터는 증폭되었으며, 2010년 대한민국 제5회 지방 선거 및 2011년 대한민국 재보궐선거에서 소셜 네트워크 서비스의 중요성을 확인한 정당들 또한 SNS 역량 지수를 공천 심사에 반영하는 등[16] 소셜 네트워크 활용에 주목했다. 이 가운데 여론 조사 기관들은 기존 여론조사 방식으로 예측한 2010년 제5회 지방 선거 및 2011년 재보궐선거의 여론조사 결과와 실제 투표 결과와의 큰 차이를 보완하고자 빅 데이터 기술을 활용한 SNS 여론 분석을 시행했다. 그러나 SNS 이용자의 대다수가 수도권 20~30대에 쏠려 있기에[17], 빅 데이터를 이용한 대한민국 제19대 총선에 대한 SNS 분석은 수도권으로 한정되어 일치하는 한계를 드러내기도 하였다.\n",
    "\n",
    "경제 및 경영[편집]\n",
    "아마존닷컴의 추천 상품 표시 / 구글 및 페이스북의 맞춤형 광고[편집]\n",
    "아마존닷컴은 모든 고객들의 구매 내역을 데이터베이스에 기록하고, 이 기록을 분석해 소비자의 소비 취향과 관심사를 파악한다.[18] 이런 빅 데이터의 활용을 통해 아마존은 고객별로 '추천 상품(레코멘데이션)'을 표시한다. 고객 한사람 한사람의 취미나 독서 경향을 찾아 그와 일치한다고 생각되는 상품을 메일, 홈 페이지상에서 중점적으로 고객 한사람 한사람에게 자동적으로 제시하는 것이다.[19] 아마존닷컴의 추천 상품 표시와 같은 방식으로 구글 및 페이스북도 이용자의 검색 조건, 나아가 사진과 동영상 같은 비정형 데이터 사용을 즉각 처리하여 이용자에게 맞춤형 광고를 제공하는 등 빅데이터의 활용을 증대시키고 있다.\n",
    "\n",
    "문화[편집]\n",
    "MLB (메이저 리그 베이스볼)의 머니볼 이론 및 데이터 야구[편집]\n",
    "머니볼 이론이란 경기 데이터를 철저하게 분석해 오직 데이터를 기반으로 적재적소에 선수들을 배치해 승률을 높인다는 게임 이론이다.[20] 이는 미국 메이저 리그 베이스볼 오클랜드 어슬레틱스의 구단장 빌리 빈이 리그 전체 25위에 해당하는 낮은 구단 지원금 속에서도 최소비용으로 최대효과를 거둔 상황에서 유래되었다. 빌리 빈은 하치해 최하위에 그치던 팀을 4년 연속 포스트시즌에 진출시키고 메이저 리그 최초로 20연승이라는 신기록을 세우도록 탈바꿈 시켰다. 미국 월스트리트 저널은 미국 경제에 큰 영향을 끼치는 파워 엘리트 30인에 워렌 버핏, 앨런 그린스펀과 함께 빌리 빈을 선정[21] 하는 등 머니볼 이론은 경영, 금융 분야에서도 주목받았다. 최근 들어서 과학기술 및 카메라 기술의 발달로 더욱 정교한 데이터의 수집이 가능해졌으며 투구의 궤적 및 투수의 그립, 타구 방향, 야수의 움직임까지 잡아낼 수 있게 되었다. 이처럼 기존의 정형 데이터뿐만 아닌 비정형 데이터의 수집과 분석, 활용을 통해 최근 야구경기에서 빅 데이터의 중요성은 더욱 커지고 있다.\n",
    "\n",
    "선수의 인기만을 쫓는 것이 아니라 팀별 승률이나 선수의 성적을 나타내는 수치와 야구를 관전한다면 그 재미는 배가된다. '출루율'은 타율로 인정되지 않는 볼넷을 포함하여 타자가 성공적으로 베이스를 밟은 횟수의 비율, '장타율'은 타수마다 밟은 총 베이스를 계산해서 타격력이 얼마나 강한지를 나타내는 비율이다.\n",
    "\n",
    "출루율과 장타율 못지 않게 '타수'는 한두 경기에서 낸 성적이 아닌, 수천 번의 타석에 들어 좋은 성적을 만들어낸 선수를 선별하기 위한 기초 통계자료이다. 이처럼 한 선수의 타율에서 팀의 역대 시리즈 전적까지 모든 것을 숫자로 표현할 수 있다고 해서 야구를 '통계의 스포츠'라고 부르기도 한다. 야구뿐만 아니라 생활 곳곳에서 활용되는 통계는 복잡한 상황과 설명을 간단한 숫자로 바꿔주는 매우 강력한 도구이다.[22]\n",
    "\n",
    "'프로파일링'과 '빅데이터' 기법을 활용한 프로그램 MBC <프로파일링>[편집]\n",
    "방송에는 19세 소년의 살인 심리를 파헤친 '용인살인사건의 재구성', 강남 3구 초등학교 85곳의 학업성취도평가 성적과 주변 아파트 매매가의 상관관계를 빅데이터(디지털 환경에서 발생한 방대한 규모의 데이터)를 통해 분석한 '강남, 부자일수록 공부를 잘할까'[23]\n",
    "\n",
    "2014년 FIFA 월드컵 독일 우승과 '빅데이터'[편집]\n",
    "브라질에서 개최된 2014년 FIFA 월드컵에서 독일은 준결승에서 개최국인 브라질을 7:1로 꺾고, 결승에서 아르헨티나와 연장전까지 가는 접전 끝에 1:0으로 승리를 거두었다. 무패행진으로 우승을 차지한 독일 국가대표팀의 우승의 배경에는 '빅데이터'가 있었다.\n",
    "\n",
    "독일 국가대표팀은 SAP와 협업하여 훈련과 실전 경기에 'SAP 매치 인사이트'를 도입했다. SAP 매치 인사이트란 선수들에게 부착된 센서를 통해 운동량, 순간속도, 심박수, 슈팅동작 등 방대한 비정형 데이터를 수집, 분석한 결과를 감독과 코치의 태블릿PC로 전송하여 그들이 데이터를 기반으로 전술을 짜도록 도와주는 솔루션이다. 기존에 감독의 경험이나 주관적 판단으로 결정되는 전략과는 달리, SAP 매치 인사이트를 통해 이루어지는 분석은 선수들에 대한 분석 뿐만 아니라 상대팀 전력, 강점, 약점 등 종합적인 분석을 통해 좀 더 과학적인 전략을 수립할 수 있다. 정보 수집에 쓰이는 센서 1개가 1분에 만들어내는 데이터는 총 12000여개로 독일 국가대표팀은 선수당 4개(골키퍼는 양 손목을 포함해 6개)의 센서를 부착했고, 90분 경기동안 한 선수당 약 432만개, 팀 전체로 약 4968만개의 데이터를 수집했다고 한다.월드컵8강 獨 전차군단 비밀병기는 '빅데이터'\n",
    "\n",
    "과학기술 및 활용[편집]\n",
    "통계학[편집]\n",
    "데이터 마이닝이란 기존 데이터베이스 관리도구의 데이터 수집, 저장, 관리, 분석의 역량을 넘어서는 대량의 정형 또는 비정형 데이터 집합 및 이러한 데이터로부터 가치를 추출하고 결과를 분석하는 기술로, 수집되는 ‘빅 데이터’를 보완하고 마케팅, 시청률조사, 경영 등으로부터 체계화돼 분류, 예측, 연관분석 등의 데이터 마이닝을 거쳐 통계학적으로 결과를 도출해 내고 있다.[24][25]\n",
    "\n",
    "대한민국에서는 2000년부터 정보통신부의 산하단체로 사단법인 한국BI데이터마이닝학회가 설립되어 데이터 마이닝에 관한 학술과 기술을 발전, 보급, 응용하고 있다. ‎또한 국내ㆍ외 통계분야에서 서서히 빅 데이터 활용에 대한 관심과 필요성이 커지고 있는 가운데 국가통계 업무를 계획하고 방대한 통계자료를 처리하는 국가기관인 통계청이 빅 데이터를 연구하고 활용방안을 모색하기 위한 '빅 데이터 연구회'를 발족하였다.[26] 하지만 업계에 따르면, 미국과 영국, 일본 등 선진국들은 이미 빅 데이터를 다각적으로 분석해 조직의 전략방향을 제시하는 데이터과학자 양성에 사활을 걸고 있다. 그러나 한국은 정부와 일부 기업이 데이터과학자 양성을 위한 프로그램을 진행 중에 있어 아직 걸음마 단계인 것으로 알려져 있다.[27]\n",
    "\n",
    "생물정보학[편집]\n",
    "최근 생물학에서 DNA, RNA, 단백질 서열 및 유전자들의 발현과 조절에 대한 데이터의 양이 급격히 증가했고 이에 따라 이 빅 데이터를 활용한 생명의 이해에 관한 논의가 진행되고 있다.\n",
    "\n",
    "보건의료[편집]\n",
    "국민건강보험공단은 가입자의 자격·보험료, 진료·투약내용, 건강검진 결과 및 생활습관 정보 등 2조1천억건, 92테라바이트의 빅데이터를 보유하고 있고, 한편, 건강보험심사평가원은 진료내역, 투약내용(의약품 안심서비스), 의약품 유통 등의 2조2천억건, 89테라바이트의 빅데이터를 보유하고 있으며, 경제협력개발기구(OECD)는 한국의 건강보험 빅데이터 순위가 2위라고 발표했었다. 건보공단과 심평원은 빅데이터를 민간에 널리 알리고 더 많이 개방하고 있다. (연합뉴스 2016.6.14 인터넷뉴스 참조)\n",
    "\n",
    "빅 데이터를 활용하면 미국 의료부문은 연간 3,300 억 달러(미 정부 의료 예산의 약 8%에 해당하는 규모)의 직간접적인 비용 절감 효과를 보일 것으로 전망된다.[28] 특히 임상분야에서는 의료기관 별 진료방법, 효능, 비용 데이터를 분석하여 보다 효과적인 진료방법을 파악하고 환자 데이터를 온라인 플랫폼화하여 의료협회 간 데이터 공유로 치료 효과를 제고하며 공중보건 영역에선 전국의 의료 데이터를 연계하여 전염병 발생과 같은 긴박한 순간에 빠른 의사결정을 가능케 할 전망이다.[29]\n",
    "\n",
    "한편, 의료 분야에서 빅 데이터가 효과를 발휘하기 위해서는 대량의 의료정보 수집이 필수적이기 때문에, 개인정보의 보호와 빅 데이터 활용이라는 두 가지 가치가 상충하게 되된다. 따라서, 의료 분야에서 빅 데이터의 활용과 보급을 위해서는 이러한 문제에 대한 가이드라인 마련이 필요한 상태이다.[30]\n",
    "\n",
    "기업 경영[편집]\n",
    "대규모의 다양한 데이터를 활용한 '빅데이터 경영'이 주목받으면서 데이터 품질을 높이고 방대한 데이터의 처리를 돕는 데이터 통합(Data Integration)의 중요성이 부각되고 있다.\n",
    "\n",
    "데이터 통합(DI)은 데이터의 추출, 변환, 적재를 위한 ETL 솔루션이 핵심인데 ETL 솔루션을 활용하면 일일이 수많은 데이터를 기업 데이터 포맷으로 코딩하지 않아도 되고 데이터 품질을 제고할 수 있기 때문에 DI는 빅데이터 환경에 꼭 필요한 데이터 솔루션으로 평가받고 있는 단계까지 진입되었다.\n",
    "\n",
    "한편 비즈니스 인텔리전스(Business Intelligence, BI)보다 진일보한 빅데이터 분석 방법이 비즈니스 애널리틱스(Business analytics, BA)인데 고급분석 범주에 있는 BA는 기본적으로 BI를 포함하면서도 미래 예측 기능과 통계분석, 확률 분석 등을 포함해 최적의 데이터 기반 의사결정을 가능케 하는 것으로 평가받고 있기도 하다.[31]\n",
    "\n",
    "마케팅[편집]\n",
    "인터넷으로 시작해서 인터넷으로 마감하는 생활, 스마트폰을 이용해 정보를 검색하고 쇼핑도하고 SNS를 이용해서 실시간으로 글을 남기는 등의 다양하게 인터넷을 이용하는 동안 남는 흔적같은 모인 데이터들을 분석하면 개인의 생활 패턴, 소비성향 등을 예측할 수 있고 기업들은 이런 데이터를 통해서 소비자가 원하는 것들을 미리 예측할 수 있다. 빅 데이터가 마케팅 자료로 활용되는 사례이다.[31]\n",
    "\n",
    "기상정보[편집]\n",
    "한반도 전역의 기상관측정보를 활용해 일기예보와 각종 기상특보 등 국가 기상서비스를 제공하고 있는 기상청은 정밀한 기상예측을 위한 분석 과정에서 발생하는 데이터 폭증에 대응하고자 빅데이터 저장시스템의 도입을 추진하였다.\n",
    "\n",
    "대다수 스토리지 기업들의 솔루션을 검토한 끝에 한국 IBM의 고성능 대용량 파일공유시스템(General Parallel File System, 이하 GPFS)을 적용한 스토리지 시스템을 선택하였다고 밝혔다.\n",
    "\n",
    "한국IBM이 기상청에 제공한 GPFS 기반의 빅데이터 저장시스템은 IBM 시스템 스토리지 제품군, 시스템 x서버 제품군과 고속 네트워킹 랙스위치(RackSwitch) 등이 통합돼 있는 시스템이다.[31]\n",
    "\n",
    "보안관리[편집]\n",
    "보안관리는 빅데이터 환경을 이용해 성장과 기술 발전을 동시에 이루는 분야로 분리한다. 클라우드 및 모바일 환경으로 접어들면서 물리/가상화 IT 시스템의 복잡성이 더욱 높아지고 있어 유무선 네트워크, 프라이빗/퍼블릭 클라우드, 모바일 애플리케이션과 기기관리 등 IT 시스템 전반에서 대대적인 변화가 예상되고 있어 막대한 양의 보안관리가 중요한 요소로 현실화되고 있다.[32]\n",
    "\n",
    "구글 번역[편집]\n",
    "구글에서 제공하는 자동 번역 서비스인 구글 번역은 빅 데이터를 활용한다. 지난 40년 간 컴퓨터 회사 IBM의 자동 번역 프로그램 개발은 컴퓨터가 명사, 형용사, 동사 등"
   ]
  },
  {
   "cell_type": "markdown",
   "id": "28bafa18",
   "metadata": {},
   "source": [
    "### 불용어 라이브러리"
   ]
  },
  {
   "cell_type": "code",
   "execution_count": 50,
   "id": "fbd9817a",
   "metadata": {},
   "outputs": [],
   "source": [
    "# Python nltk 라이브러리에서 제공하는 불용어를 사용하거나\n",
    "\n",
    "# from nltk.corpus import stopwords\n",
    "# englishStops = set(stopwords.words('english'))\n",
    "\n"
   ]
  },
  {
   "cell_type": "code",
   "execution_count": 51,
   "id": "6439c623",
   "metadata": {},
   "outputs": [
    {
     "data": {
      "text/plain": [
       "True"
      ]
     },
     "execution_count": 51,
     "metadata": {},
     "output_type": "execute_result"
    }
   ],
   "source": [
    "# 또는 skleran 라이브러리를 활용해도 된다.\n",
    "from sklearn.feature_extraction.text import ENGLISH_STOP_WORDS\n",
    "'the' in ENGLISH_STOP_WORDS # true"
   ]
  },
  {
   "cell_type": "markdown",
   "id": "449d9b47",
   "metadata": {},
   "source": [
    "### 파이썬으로 단어빈도 세어보기"
   ]
  },
  {
   "cell_type": "code",
   "execution_count": 52,
   "id": "ad5113ac",
   "metadata": {},
   "outputs": [],
   "source": [
    "# 한글 불용어는 불행히도 아직 제공되고 있지 못하여, 우리 스스로 임의로 만들어 쓰도록 하자\n",
    "stopwords = set(['및','이를','등','이','이런','그와','또는','두', '이와', '전', '간'])"
   ]
  },
  {
   "cell_type": "code",
   "execution_count": 57,
   "id": "8adb8d46",
   "metadata": {},
   "outputs": [],
   "source": [
    "import os\n",
    "\n",
    "d = dict()\n",
    "\n",
    "# 인코딩 지정\n",
    "with open(os.path.join(\"data\", \"ds_bigdata_wiki.txt\"), 'r', encoding='utf-8') as f:\n",
    "    for sent in f.readlines():\n",
    "        _words = sent.split()  # split into words\n",
    "        for word in _words:\n",
    "            if word not in stopwords: # remove stopwords\n",
    "                if word not in d:\n",
    "                    d[word]=1\n",
    "                else:\n",
    "                    d[word]=d[word]+1"
   ]
  },
  {
   "cell_type": "code",
   "execution_count": 58,
   "id": "7e1592f8",
   "metadata": {},
   "outputs": [
    {
     "data": {
      "text/plain": [
       "{'Big': 1,\n",
       " 'data': 1,\n",
       " '활용사례': 1,\n",
       " '의의[편집]': 1,\n",
       " '정치': 1,\n",
       " '사회[편집]': 1,\n",
       " '2008년': 2,\n",
       " '미국': 7,\n",
       " '대통령': 3,\n",
       " '선거[편집]': 1,\n",
       " '선거에서': 1,\n",
       " '버락': 1,\n",
       " '오바마': 4,\n",
       " '후보는': 1,\n",
       " '다양한': 2,\n",
       " '형태의': 1,\n",
       " '유권자': 6,\n",
       " '데이터베이스를': 2,\n",
       " '확보하여': 1,\n",
       " '분석,': 3,\n",
       " '활용한': 5,\n",
       " \"'유권자\": 1,\n",
       " '맞춤형': 4,\n",
       " '선거': 6,\n",
       " \"전략'을\": 1,\n",
       " '전개했다.': 1,\n",
       " '당시': 1,\n",
       " '캠프는': 2,\n",
       " '인종,': 1,\n",
       " '종교,': 1,\n",
       " '나이,': 1,\n",
       " '가구형태,': 1,\n",
       " '소비수준과': 1,\n",
       " '같은': 4,\n",
       " '기본': 1,\n",
       " '인적': 1,\n",
       " '사항으로': 1,\n",
       " '유권자를': 1,\n",
       " '분류하는': 1,\n",
       " '것을': 2,\n",
       " '넘어서서': 1,\n",
       " '과거': 1,\n",
       " '투표': 2,\n",
       " '여부,': 1,\n",
       " '구독하는': 1,\n",
       " '잡지,': 1,\n",
       " '마시는': 1,\n",
       " '음료': 1,\n",
       " '성향까지': 1,\n",
       " '전화나': 1,\n",
       " '개별': 1,\n",
       " '방문을': 1,\n",
       " '소셜': 5,\n",
       " '미디어를': 1,\n",
       " '통해': 7,\n",
       " '정보를': 2,\n",
       " '수집하였다.': 1,\n",
       " '수집된': 1,\n",
       " '데이터는': 3,\n",
       " '캠프': 1,\n",
       " '본부로': 1,\n",
       " '전송되어': 1,\n",
       " '온라인으로': 1,\n",
       " '통합관리하는': 1,\n",
       " '‘보트빌더(VoteBuilder.com)’시스템의': 1,\n",
       " '도움으로': 1,\n",
       " '성향': 1,\n",
       " '미결정': 1,\n",
       " '선별': 1,\n",
       " ',': 1,\n",
       " '유권자에': 1,\n",
       " '대한': 6,\n",
       " '예측을': 1,\n",
       " '해나갔다.': 1,\n",
       " '바탕으로‘유권자': 1,\n",
       " '지도’를': 1,\n",
       " '작성한': 1,\n",
       " '뒤': 1,\n",
       " '‘유권자': 1,\n",
       " '전략’을': 1,\n",
       " '전개하는': 1,\n",
       " '비용': 3,\n",
       " '대비': 1,\n",
       " '효과적인': 2,\n",
       " '선거를': 1,\n",
       " '치를': 1,\n",
       " '수': 7,\n",
       " '있었다.': 2,\n",
       " '대한민국': 5,\n",
       " '제19대': 3,\n",
       " '총선[편집]': 1,\n",
       " '중앙선거관리위원회는': 1,\n",
       " '총선부터': 1,\n",
       " '네트워크': 3,\n",
       " '인터넷': 1,\n",
       " '상의': 1,\n",
       " '운동을': 1,\n",
       " '상시': 1,\n",
       " '허용하였다.[15]': 1,\n",
       " '이에': 2,\n",
       " '미디어': 1,\n",
       " '상에서': 1,\n",
       " '관련': 1,\n",
       " '증폭되었으며,': 1,\n",
       " '2010년': 2,\n",
       " '제5회': 2,\n",
       " '지방': 2,\n",
       " '2011년': 2,\n",
       " '재보궐선거에서': 1,\n",
       " '서비스의': 1,\n",
       " '중요성을': 1,\n",
       " '확인한': 1,\n",
       " '정당들': 1,\n",
       " '또한': 1,\n",
       " 'SNS': 4,\n",
       " '역량': 1,\n",
       " '지수를': 1,\n",
       " '공천': 1,\n",
       " '심사에': 1,\n",
       " '반영하는': 1,\n",
       " '등[16]': 1,\n",
       " '활용에': 2,\n",
       " '주목했다.': 1,\n",
       " '가운데': 2,\n",
       " '여론': 2,\n",
       " '조사': 1,\n",
       " '기관들은': 1,\n",
       " '기존': 2,\n",
       " '여론조사': 2,\n",
       " '방식으로': 2,\n",
       " '예측한': 1,\n",
       " '재보궐선거의': 1,\n",
       " '결과와': 1,\n",
       " '실제': 1,\n",
       " '결과와의': 1,\n",
       " '큰': 2,\n",
       " '차이를': 1,\n",
       " '보완하고자': 1,\n",
       " '빅': 14,\n",
       " '데이터': 20,\n",
       " '기술을': 2,\n",
       " '분석을': 2,\n",
       " '시행했다.': 1,\n",
       " '그러나': 2,\n",
       " '이용자의': 2,\n",
       " '대다수가': 1,\n",
       " '수도권': 1,\n",
       " '20~30대에': 1,\n",
       " '쏠려': 1,\n",
       " '있기에[17],': 1,\n",
       " '데이터를': 17,\n",
       " '이용한': 1,\n",
       " '총선에': 1,\n",
       " '분석은': 2,\n",
       " '수도권으로': 1,\n",
       " '한정되어': 1,\n",
       " '일치하는': 1,\n",
       " '한계를': 1,\n",
       " '드러내기도': 1,\n",
       " '하였다.': 1,\n",
       " '경제': 1,\n",
       " '경영[편집]': 2,\n",
       " '아마존닷컴의': 2,\n",
       " '추천': 2,\n",
       " '상품': 2,\n",
       " '표시': 1,\n",
       " '/': 1,\n",
       " '구글': 4,\n",
       " '페이스북의': 1,\n",
       " '광고[편집]': 1,\n",
       " '아마존닷컴은': 1,\n",
       " '모든': 2,\n",
       " '고객들의': 1,\n",
       " '구매': 1,\n",
       " '내역을': 1,\n",
       " '데이터베이스에': 1,\n",
       " '기록하고,': 1,\n",
       " '기록을': 1,\n",
       " '분석해': 3,\n",
       " '소비자의': 1,\n",
       " '소비': 1,\n",
       " '취향과': 1,\n",
       " '관심사를': 1,\n",
       " '파악한다.[18]': 1,\n",
       " '데이터의': 8,\n",
       " '활용을': 3,\n",
       " '아마존은': 1,\n",
       " '고객별로': 1,\n",
       " \"'추천\": 1,\n",
       " \"상품(레코멘데이션)'을\": 1,\n",
       " '표시한다.': 1,\n",
       " '고객': 2,\n",
       " '한사람': 2,\n",
       " '한사람의': 1,\n",
       " '취미나': 1,\n",
       " '독서': 1,\n",
       " '경향을': 1,\n",
       " '찾아': 1,\n",
       " '일치한다고': 1,\n",
       " '생각되는': 1,\n",
       " '상품을': 1,\n",
       " '메일,': 1,\n",
       " '홈': 1,\n",
       " '페이지상에서': 1,\n",
       " '중점적으로': 1,\n",
       " '한사람에게': 1,\n",
       " '자동적으로': 1,\n",
       " '제시하는': 2,\n",
       " '것이다.[19]': 1,\n",
       " '표시와': 1,\n",
       " '페이스북도': 1,\n",
       " '검색': 1,\n",
       " '조건,': 1,\n",
       " '나아가': 1,\n",
       " '사진과': 1,\n",
       " '동영상': 1,\n",
       " '비정형': 4,\n",
       " '사용을': 1,\n",
       " '즉각': 1,\n",
       " '처리하여': 1,\n",
       " '이용자에게': 1,\n",
       " '광고를': 1,\n",
       " '제공하는': 2,\n",
       " '빅데이터의': 1,\n",
       " '증대시키고': 1,\n",
       " '있다.': 9,\n",
       " '문화[편집]': 1,\n",
       " 'MLB': 1,\n",
       " '(메이저': 1,\n",
       " '리그': 4,\n",
       " '베이스볼)의': 1,\n",
       " '머니볼': 3,\n",
       " '이론': 1,\n",
       " '야구[편집]': 1,\n",
       " '이론이란': 1,\n",
       " '경기': 1,\n",
       " '철저하게': 1,\n",
       " '오직': 1,\n",
       " '기반으로': 2,\n",
       " '적재적소에': 1,\n",
       " '선수들을': 1,\n",
       " '배치해': 1,\n",
       " '승률을': 1,\n",
       " '높인다는': 1,\n",
       " '게임': 1,\n",
       " '이론이다.[20]': 1,\n",
       " '이는': 1,\n",
       " '메이저': 2,\n",
       " '베이스볼': 1,\n",
       " '오클랜드': 1,\n",
       " '어슬레틱스의': 1,\n",
       " '구단장': 1,\n",
       " '빌리': 3,\n",
       " '빈이': 1,\n",
       " '전체': 1,\n",
       " '25위에': 1,\n",
       " '해당하는': 2,\n",
       " '낮은': 1,\n",
       " '구단': 1,\n",
       " '지원금': 1,\n",
       " '속에서도': 1,\n",
       " '최소비용으로': 1,\n",
       " '최대효과를': 1,\n",
       " '거둔': 1,\n",
       " '상황에서': 1,\n",
       " '유래되었다.': 1,\n",
       " '빈은': 1,\n",
       " '하치해': 1,\n",
       " '최하위에': 1,\n",
       " '그치던': 1,\n",
       " '팀을': 1,\n",
       " '4년': 1,\n",
       " '연속': 1,\n",
       " '포스트시즌에': 1,\n",
       " '진출시키고': 1,\n",
       " '최초로': 1,\n",
       " '20연승이라는': 1,\n",
       " '신기록을': 1,\n",
       " '세우도록': 1,\n",
       " '탈바꿈': 1,\n",
       " '시켰다.': 1,\n",
       " '월스트리트': 1,\n",
       " '저널은': 1,\n",
       " '경제에': 1,\n",
       " '영향을': 1,\n",
       " '끼치는': 1,\n",
       " '파워': 1,\n",
       " '엘리트': 1,\n",
       " '30인에': 1,\n",
       " '워렌': 1,\n",
       " '버핏,': 1,\n",
       " '앨런': 1,\n",
       " '그린스펀과': 1,\n",
       " '함께': 1,\n",
       " '빈을': 1,\n",
       " '선정[21]': 1,\n",
       " '하는': 2,\n",
       " '이론은': 1,\n",
       " '경영,': 1,\n",
       " '금융': 1,\n",
       " '분야에서도': 1,\n",
       " '주목받았다.': 1,\n",
       " '최근': 3,\n",
       " '들어서': 1,\n",
       " '과학기술': 2,\n",
       " '카메라': 1,\n",
       " '기술의': 1,\n",
       " '발달로': 1,\n",
       " '더욱': 3,\n",
       " '정교한': 1,\n",
       " '수집이': 2,\n",
       " '가능해졌으며': 1,\n",
       " '투구의': 1,\n",
       " '궤적': 1,\n",
       " '투수의': 1,\n",
       " '그립,': 1,\n",
       " '타구': 1,\n",
       " '방향,': 1,\n",
       " '야수의': 1,\n",
       " '움직임까지': 1,\n",
       " '잡아낼': 1,\n",
       " '있게': 1,\n",
       " '되었다.': 1,\n",
       " '이처럼': 2,\n",
       " '기존의': 1,\n",
       " '정형': 2,\n",
       " '데이터뿐만': 1,\n",
       " '아닌': 1,\n",
       " '수집과': 1,\n",
       " '야구경기에서': 1,\n",
       " '중요성은': 1,\n",
       " '커지고': 2,\n",
       " '선수의': 3,\n",
       " '인기만을': 1,\n",
       " '쫓는': 1,\n",
       " '것이': 1,\n",
       " '아니라': 3,\n",
       " '팀별': 1,\n",
       " '승률이나': 1,\n",
       " '성적을': 2,\n",
       " '나타내는': 2,\n",
       " '수치와': 1,\n",
       " '야구를': 2,\n",
       " '관전한다면': 1,\n",
       " '그': 1,\n",
       " '재미는': 1,\n",
       " '배가된다.': 1,\n",
       " \"'출루율'은\": 1,\n",
       " '타율로': 1,\n",
       " '인정되지': 1,\n",
       " '않는': 1,\n",
       " '볼넷을': 1,\n",
       " '포함하여': 1,\n",
       " '타자가': 1,\n",
       " '성공적으로': 1,\n",
       " '베이스를': 2,\n",
       " '밟은': 2,\n",
       " '횟수의': 1,\n",
       " '비율,': 1,\n",
       " \"'장타율'은\": 1,\n",
       " '타수마다': 1,\n",
       " '총': 2,\n",
       " '계산해서': 1,\n",
       " '타격력이': 1,\n",
       " '얼마나': 1,\n",
       " '강한지를': 1,\n",
       " '비율이다.': 1,\n",
       " '출루율과': 1,\n",
       " '장타율': 1,\n",
       " '못지': 1,\n",
       " '않게': 1,\n",
       " \"'타수'는\": 1,\n",
       " '한두': 1,\n",
       " '경기에서': 1,\n",
       " '낸': 1,\n",
       " '성적이': 1,\n",
       " '아닌,': 1,\n",
       " '수천': 1,\n",
       " '번의': 1,\n",
       " '타석에': 1,\n",
       " '들어': 1,\n",
       " '좋은': 1,\n",
       " '만들어낸': 1,\n",
       " '선수를': 1,\n",
       " '선별하기': 1,\n",
       " '위한': 5,\n",
       " '기초': 1,\n",
       " '통계자료이다.': 1,\n",
       " '한': 2,\n",
       " '타율에서': 1,\n",
       " '팀의': 1,\n",
       " '역대': 1,\n",
       " '시리즈': 1,\n",
       " '전적까지': 1,\n",
       " '숫자로': 2,\n",
       " '표현할': 1,\n",
       " '있다고': 1,\n",
       " '해서': 1,\n",
       " \"'통계의\": 1,\n",
       " \"스포츠'라고\": 1,\n",
       " '부르기도': 1,\n",
       " '한다.': 1,\n",
       " '야구뿐만': 1,\n",
       " '생활': 2,\n",
       " '곳곳에서': 1,\n",
       " '활용되는': 2,\n",
       " '통계는': 1,\n",
       " '복잡한': 1,\n",
       " '상황과': 1,\n",
       " '설명을': 1,\n",
       " '간단한': 1,\n",
       " '바꿔주는': 1,\n",
       " '매우': 1,\n",
       " '강력한': 1,\n",
       " '도구이다.[22]': 1,\n",
       " \"'프로파일링'과\": 1,\n",
       " \"'빅데이터'\": 2,\n",
       " '기법을': 1,\n",
       " '프로그램': 2,\n",
       " 'MBC': 1,\n",
       " '<프로파일링>[편집]': 1,\n",
       " '방송에는': 1,\n",
       " '19세': 1,\n",
       " '소년의': 1,\n",
       " '살인': 1,\n",
       " '심리를': 1,\n",
       " '파헤친': 1,\n",
       " \"'용인살인사건의\": 1,\n",
       " \"재구성',\": 1,\n",
       " '강남': 1,\n",
       " '3구': 1,\n",
       " '초등학교': 1,\n",
       " '85곳의': 1,\n",
       " '학업성취도평가': 1,\n",
       " '성적과': 1,\n",
       " '주변': 1,\n",
       " '아파트': 1,\n",
       " '매매가의': 1,\n",
       " '상관관계를': 1,\n",
       " '빅데이터(디지털': 1,\n",
       " '환경에서': 1,\n",
       " '발생한': 1,\n",
       " '방대한': 4,\n",
       " '규모의': 1,\n",
       " '데이터)를': 1,\n",
       " '분석한': 2,\n",
       " \"'강남,\": 1,\n",
       " '부자일수록': 1,\n",
       " '공부를': 1,\n",
       " \"잘할까'[23]\": 1,\n",
       " '2014년': 2,\n",
       " 'FIFA': 2,\n",
       " '월드컵': 1,\n",
       " '독일': 4,\n",
       " '우승과': 1,\n",
       " \"'빅데이터'[편집]\": 1,\n",
       " '브라질에서': 1,\n",
       " '개최된': 1,\n",
       " '월드컵에서': 1,\n",
       " '독일은': 1,\n",
       " '준결승에서': 1,\n",
       " '개최국인': 1,\n",
       " '브라질을': 1,\n",
       " '7:1로': 1,\n",
       " '꺾고,': 1,\n",
       " '결승에서': 1,\n",
       " '아르헨티나와': 1,\n",
       " '연장전까지': 1,\n",
       " '가는': 1,\n",
       " '접전': 1,\n",
       " '끝에': 2,\n",
       " '1:0으로': 1,\n",
       " '승리를': 1,\n",
       " '거두었다.': 1,\n",
       " '무패행진으로': 1,\n",
       " '우승을': 1,\n",
       " '차지한': 1,\n",
       " '국가대표팀의': 1,\n",
       " '우승의': 1,\n",
       " '배경에는': 1,\n",
       " \"'빅데이터'가\": 1,\n",
       " '국가대표팀은': 2,\n",
       " 'SAP와': 1,\n",
       " '협업하여': 1,\n",
       " '훈련과': 1,\n",
       " '실전': 1,\n",
       " '경기에': 1,\n",
       " \"'SAP\": 1,\n",
       " '매치': 3,\n",
       " \"인사이트'를\": 1,\n",
       " '도입했다.': 1,\n",
       " 'SAP': 2,\n",
       " '인사이트란': 1,\n",
       " '선수들에게': 1,\n",
       " '부착된': 1,\n",
       " '센서를': 2,\n",
       " '운동량,': 1,\n",
       " '순간속도,': 1,\n",
       " '심박수,': 1,\n",
       " '슈팅동작': 1,\n",
       " '수집,': 2,\n",
       " '결과를': 3,\n",
       " '감독과': 1,\n",
       " '코치의': 1,\n",
       " '태블릿PC로': 1,\n",
       " '전송하여': 1,\n",
       " '그들이': 1,\n",
       " '전술을': 1,\n",
       " '짜도록': 1,\n",
       " '도와주는': 1,\n",
       " '솔루션이다.': 1,\n",
       " '기존에': 1,\n",
       " '감독의': 1,\n",
       " '경험이나': 1,\n",
       " '주관적': 1,\n",
       " '판단으로': 1,\n",
       " '결정되는': 1,\n",
       " '전략과는': 1,\n",
       " '달리,': 1,\n",
       " '인사이트를': 1,\n",
       " '이루어지는': 1,\n",
       " '선수들에': 1,\n",
       " '분석': 4,\n",
       " '뿐만': 1,\n",
       " '상대팀': 1,\n",
       " '전력,': 1,\n",
       " '강점,': 1,\n",
       " '약점': 1,\n",
       " '종합적인': 1,\n",
       " '좀': 1,\n",
       " '더': 2,\n",
       " '과학적인': 1,\n",
       " '전략을': 1,\n",
       " '수립할': 1,\n",
       " '정보': 2,\n",
       " '수집에': 1,\n",
       " '쓰이는': 1,\n",
       " '센서': 1,\n",
       " '1개가': 1,\n",
       " '1분에': 1,\n",
       " '만들어내는': 1,\n",
       " '12000여개로': 1,\n",
       " '선수당': 2,\n",
       " '4개(골키퍼는': 1,\n",
       " '양': 1,\n",
       " '손목을': 1,\n",
       " '포함해': 2,\n",
       " '6개)의': 1,\n",
       " '부착했고,': 1,\n",
       " '90분': 1,\n",
       " '경기동안': 1,\n",
       " '약': 3,\n",
       " '432만개,': 1,\n",
       " '팀': 1,\n",
       " '전체로': 1,\n",
       " '4968만개의': 1,\n",
       " '수집했다고': 1,\n",
       " '한다.월드컵8강': 1,\n",
       " '獨': 1,\n",
       " '전차군단': 1,\n",
       " '비밀병기는': 1,\n",
       " '활용[편집]': 1,\n",
       " '통계학[편집]': 1,\n",
       " '마이닝이란': 1,\n",
       " '데이터베이스': 1,\n",
       " '관리도구의': 1,\n",
       " '저장,': 1,\n",
       " '관리,': 1,\n",
       " '분석의': 1,\n",
       " '역량을': 1,\n",
       " '넘어서는': 1,\n",
       " '대량의': 2,\n",
       " '집합': 1,\n",
       " '이러한': 2,\n",
       " '데이터로부터': 1,\n",
       " '가치를': 1,\n",
       " '추출하고': 1,\n",
       " '분석하는': 1,\n",
       " '기술로,': 1,\n",
       " '수집되는': 1,\n",
       " '‘빅': 1,\n",
       " '데이터’를': 1,\n",
       " '보완하고': 1,\n",
       " '마케팅,': 1,\n",
       " '시청률조사,': 1,\n",
       " '경영': 1,\n",
       " '등으로부터': 1,\n",
       " '체계화돼': 1,\n",
       " '분류,': 1,\n",
       " '예측,': 1,\n",
       " '연관분석': 1,\n",
       " '등의': 3,\n",
       " '마이닝을': 1,\n",
       " '거쳐': 1,\n",
       " '통계학적으로': 1,\n",
       " '도출해': 1,\n",
       " '내고': 1,\n",
       " '있다.[24][25]': 1,\n",
       " '대한민국에서는': 1,\n",
       " '2000년부터': 1,\n",
       " '정보통신부의': 1,\n",
       " '산하단체로': 1,\n",
       " '사단법인': 1,\n",
       " '한국BI데이터마이닝학회가': 1,\n",
       " '설립되어': 1,\n",
       " '마이닝에': 1,\n",
       " '관한': 2,\n",
       " '학술과': 1,\n",
       " '발전,': 1,\n",
       " '보급,': 1,\n",
       " '응용하고': 1,\n",
       " '\\u200e또한': 1,\n",
       " '국내ㆍ외': 1,\n",
       " '통계분야에서': 1,\n",
       " '서서히': 1,\n",
       " '관심과': 1,\n",
       " '필요성이': 1,\n",
       " '있는': 5,\n",
       " '국가통계': 1,\n",
       " '업무를': 1,\n",
       " '계획하고': 1,\n",
       " '통계자료를': 1,\n",
       " '처리하는': 1,\n",
       " '국가기관인': 1,\n",
       " '통계청이': 1,\n",
       " '연구하고': 1,\n",
       " '활용방안을': 1,\n",
       " '모색하기': 1,\n",
       " \"'빅\": 1,\n",
       " \"연구회'를\": 1,\n",
       " '발족하였다.[26]': 1,\n",
       " '하지만': 1,\n",
       " '업계에': 1,\n",
       " '따르면,': 1,\n",
       " '미국과': 1,\n",
       " '영국,': 1,\n",
       " '일본': 1,\n",
       " '선진국들은': 1,\n",
       " '이미': 1,\n",
       " '다각적으로': 1,\n",
       " '조직의': 1,\n",
       " '전략방향을': 1,\n",
       " '데이터과학자': 2,\n",
       " '양성에': 1,\n",
       " '사활을': 1,\n",
       " '걸고': 1,\n",
       " '한국은': 1,\n",
       " '정부와': 1,\n",
       " '일부': 1,\n",
       " '기업이': 1,\n",
       " '양성을': 1,\n",
       " '프로그램을': 1,\n",
       " '진행': 1,\n",
       " '중에': 1,\n",
       " '있어': 3,\n",
       " '아직': 1,\n",
       " '걸음마': 1,\n",
       " '단계인': 1,\n",
       " '것으로': 3,\n",
       " '알려져': 1,\n",
       " '있다.[27]': 1,\n",
       " '생물정보학[편집]': 1,\n",
       " '생물학에서': 1,\n",
       " 'DNA,': 1,\n",
       " 'RNA,': 1,\n",
       " '단백질': 1,\n",
       " '서열': 1,\n",
       " '유전자들의': 1,\n",
       " '발현과': 1,\n",
       " '조절에': 1,\n",
       " '양이': 1,\n",
       " '급격히': 1,\n",
       " '증가했고': 1,\n",
       " '따라': 1,\n",
       " '생명의': 1,\n",
       " '이해에': 1,\n",
       " '논의가': 1,\n",
       " '진행되고': 1,\n",
       " '보건의료[편집]': 1,\n",
       " '국민건강보험공단은': 1,\n",
       " '가입자의': 1,\n",
       " '자격·보험료,': 1,\n",
       " '진료·투약내용,': 1,\n",
       " '건강검진': 1,\n",
       " '결과': 1,\n",
       " '생활습관': 1,\n",
       " '2조1천억건,': 1,\n",
       " '92테라바이트의': 1,\n",
       " '빅데이터를': 3,\n",
       " '보유하고': 2,\n",
       " '있고,': 1,\n",
       " '한편,': 2,\n",
       " '건강보험심사평가원은': 1,\n",
       " '진료내역,': 1,\n",
       " '투약내용(의약품': 1,\n",
       " '안심서비스),': 1,\n",
       " '의약품': 1,\n",
       " '유통': 1,\n",
       " '2조2천억건,': 1,\n",
       " '89테라바이트의': 1,\n",
       " '있으며,': 1,\n",
       " '경제협력개발기구(OECD)는': 1,\n",
       " '한국의': 1,\n",
       " '건강보험': 1,\n",
       " '빅데이터': 6,\n",
       " '순위가': 1,\n",
       " '2위라고': 1,\n",
       " '발표했었다.': 1,\n",
       " '건보공단과': 1,\n",
       " '심평원은': 1,\n",
       " '민간에': 1,\n",
       " '널리': 1,\n",
       " '알리고': 1,\n",
       " '많이': 1,\n",
       " '개방하고': 1,\n",
       " '(연합뉴스': 1,\n",
       " '2016.6.14': 1,\n",
       " '인터넷뉴스': 1,\n",
       " '참조)': 1,\n",
       " '활용하면': 2,\n",
       " '의료부문은': 1,\n",
       " '연간': 1,\n",
       " '3,300': 1,\n",
       " '억': 1,\n",
       " '달러(미': 1,\n",
       " '정부': 1,\n",
       " '의료': 4,\n",
       " '예산의': 1,\n",
       " '8%에': 1,\n",
       " '규모)의': 1,\n",
       " '직간접적인': 1,\n",
       " '절감': 1,\n",
       " '효과를': 3,\n",
       " '보일': 1,\n",
       " '전망된다.[28]': 1,\n",
       " '특히': 1,\n",
       " '임상분야에서는': 1,\n",
       " '의료기관': 1,\n",
       " '별': 1,\n",
       " '진료방법,': 1,\n",
       " '효능,': 1,\n",
       " '분석하여': 1,\n",
       " '보다': 1,\n",
       " '진료방법을': 1,\n",
       " '파악하고': 1,\n",
       " '환자': 1,\n",
       " '온라인': 1,\n",
       " '플랫폼화하여': 1,\n",
       " '의료협회': 1,\n",
       " '공유로': 1,\n",
       " '치료': 1,\n",
       " '제고하며': 1,\n",
       " '공중보건': 1,\n",
       " '영역에선': 1,\n",
       " '전국의': 1,\n",
       " '연계하여': 1,\n",
       " '전염병': 1,\n",
       " '발생과': 1,\n",
       " '긴박한': 1,\n",
       " '순간에': 1,\n",
       " '빠른': 1,\n",
       " '의사결정을': 2,\n",
       " '가능케': 2,\n",
       " '할': 1,\n",
       " '전망이다.[29]': 1,\n",
       " '분야에서': 2,\n",
       " '데이터가': 2,\n",
       " '발휘하기': 1,\n",
       " '위해서는': 2,\n",
       " '의료정보': 1,\n",
       " '필수적이기': 1,\n",
       " '때문에,': 1,\n",
       " '개인정보의': 1,\n",
       " '보호와': 1,\n",
       " '활용이라는': 1,\n",
       " '가지': 1,\n",
       " '가치가': 1,\n",
       " '상충하게': 1,\n",
       " '되된다.': 1,\n",
       " '따라서,': 1,\n",
       " '활용과': 1,\n",
       " '보급을': 1,\n",
       " '문제에': 1,\n",
       " '가이드라인': 1,\n",
       " '마련이': 1,\n",
       " '필요한': 2,\n",
       " '상태이다.[30]': 1,\n",
       " '기업': 2,\n",
       " '대규모의': 1,\n",
       " \"'빅데이터\": 1,\n",
       " \"경영'이\": 1,\n",
       " '주목받으면서': 1,\n",
       " '품질을': 2,\n",
       " '높이고': 1,\n",
       " '처리를': 1,\n",
       " '돕는': 1,\n",
       " '통합(Data': 1,\n",
       " 'Integration)의': 1,\n",
       " '중요성이': 1,\n",
       " '부각되고': 1,\n",
       " '통합(DI)은': 1,\n",
       " '추출,': 1,\n",
       " '변환,': 1,\n",
       " '적재를': 1,\n",
       " 'ETL': 2,\n",
       " '솔루션이': 1,\n",
       " '핵심인데': 1,\n",
       " '솔루션을': 2,\n",
       " '일일이': 1,\n",
       " '수많은': 1,\n",
       " '포맷으로': 1,\n",
       " '코딩하지': 1,\n",
       " '않아도': 1,\n",
       " '되고': 1,\n",
       " '제고할': 1,\n",
       " '있기': 1,\n",
       " '때문에': 1,\n",
       " 'DI는': 1,\n",
       " '환경에': 1,\n",
       " '꼭': 1,\n",
       " '솔루션으로': 1,\n",
       " '평가받고': 2,\n",
       " '단계까지': 1,\n",
       " '진입되었다.': 1,\n",
       " '한편': 1,\n",
       " '비즈니스': 2,\n",
       " '인텔리전스(Business': 1,\n",
       " 'Intelligence,': 1,\n",
       " 'BI)보다': 1,\n",
       " '진일보한': 1,\n",
       " '방법이': 1,\n",
       " '애널리틱스(Business': 1,\n",
       " 'analytics,': 1,\n",
       " 'BA)인데': 1,\n",
       " '고급분석': 1,\n",
       " '범주에': 1,\n",
       " 'BA는': 1,\n",
       " '기본적으로': 1,\n",
       " 'BI를': 1,\n",
       " '포함하면서도': 1,\n",
       " '미래': 1,\n",
       " '예측': 1,\n",
       " '기능과': 1,\n",
       " '통계분석,': 1,\n",
       " '확률': 1,\n",
       " '등을': 2,\n",
       " '최적의': 1,\n",
       " '기반': 1,\n",
       " '있기도': 1,\n",
       " '하다.[31]': 1,\n",
       " '마케팅[편집]': 1,\n",
       " '인터넷으로': 2,\n",
       " '시작해서': 1,\n",
       " '마감하는': 1,\n",
       " '생활,': 1,\n",
       " '스마트폰을': 1,\n",
       " '이용해': 2,\n",
       " '검색하고': 1,\n",
       " '쇼핑도하고': 1,\n",
       " 'SNS를': 1,\n",
       " '이용해서': 1,\n",
       " '실시간으로': 1,\n",
       " '글을': 1,\n",
       " '남기는': 1,\n",
       " '다양하게': 1,\n",
       " '인터넷을': 1,\n",
       " '이용하는': 1,\n",
       " '동안': 1,\n",
       " '남는': 1,\n",
       " '흔적같은': 1,\n",
       " '모인': 1,\n",
       " '데이터들을': 1,\n",
       " '분석하면': 1,\n",
       " '개인의': 1,\n",
       " '패턴,': 1,\n",
       " '소비성향': 1,\n",
       " '예측할': 2,\n",
       " '있고': 1,\n",
       " '기업들은': 1,\n",
       " '통해서': 1,\n",
       " '소비자가': 1,\n",
       " '원하는': 1,\n",
       " '것들을': 1,\n",
       " '미리': 1,\n",
       " '마케팅': 1,\n",
       " '자료로': 1,\n",
       " '사례이다.[31]': 1,\n",
       " '기상정보[편집]': 1,\n",
       " '한반도': 1,\n",
       " '전역의': 1,\n",
       " '기상관측정보를': 1,\n",
       " '활용해': 1,\n",
       " '일기예보와': 1,\n",
       " '각종': 1,\n",
       " '기상특보': 1,\n",
       " '국가': 1,\n",
       " '기상서비스를': 1,\n",
       " '제공하고': 1,\n",
       " '기상청은': 1,\n",
       " '정밀한': 1,\n",
       " '기상예측을': 1,\n",
       " '과정에서': 1,\n",
       " '발생하는': 1,\n",
       " '폭증에': 1,\n",
       " '대응하고자': 1,\n",
       " '저장시스템의': 1,\n",
       " '도입을': 1,\n",
       " '추진하였다.': 1,\n",
       " '대다수': 1,\n",
       " '스토리지': 3,\n",
       " '기업들의': 1,\n",
       " '검토한': 1,\n",
       " '한국': 1,\n",
       " 'IBM의': 2,\n",
       " '고성능': 1,\n",
       " '대용량': 1,\n",
       " '파일공유시스템(General': 1,\n",
       " 'Parallel': 1,\n",
       " 'File': 1,\n",
       " 'System,': 1,\n",
       " '이하': 1,\n",
       " 'GPFS)을': 1,\n",
       " '적용한': 1,\n",
       " '시스템을': 1,\n",
       " '선택하였다고': 1,\n",
       " '밝혔다.': 1,\n",
       " '한국IBM이': 1,\n",
       " '기상청에': 1,\n",
       " '제공한': 1,\n",
       " 'GPFS': 1,\n",
       " '기반의': 1,\n",
       " '저장시스템은': 1,\n",
       " 'IBM': 1,\n",
       " '시스템': 3,\n",
       " '제품군,': 1,\n",
       " 'x서버': 1,\n",
       " '제품군과': 1,\n",
       " '고속': 1,\n",
       " '네트워킹': 1,\n",
       " '랙스위치(RackSwitch)': 1,\n",
       " '등이': 1,\n",
       " '통합돼': 1,\n",
       " '시스템이다.[31]': 1,\n",
       " '보안관리[편집]': 1,\n",
       " '보안관리는': 1,\n",
       " '환경을': 1,\n",
       " '성장과': 1,\n",
       " '기술': 1,\n",
       " '발전을': 1,\n",
       " '동시에': 1,\n",
       " '이루는': 1,\n",
       " '분야로': 1,\n",
       " '분리한다.': 1,\n",
       " '클라우드': 1,\n",
       " '모바일': 2,\n",
       " '환경으로': 1,\n",
       " '접어들면서': 1,\n",
       " '물리/가상화': 1,\n",
       " 'IT': 2,\n",
       " '시스템의': 1,\n",
       " '복잡성이': 1,\n",
       " '높아지고': 1,\n",
       " '유무선': 1,\n",
       " '네트워크,': 1,\n",
       " '프라이빗/퍼블릭': 1,\n",
       " '클라우드,': 1,\n",
       " '애플리케이션과': 1,\n",
       " '기기관리': 1,\n",
       " '전반에서': 1,\n",
       " '대대적인': 1,\n",
       " '변화가': 1,\n",
       " '예상되고': 1,\n",
       " '막대한': 1,\n",
       " '양의': 1,\n",
       " '보안관리가': 1,\n",
       " '중요한': 1,\n",
       " '요소로': 1,\n",
       " '현실화되고': 1,\n",
       " '있다.[32]': 1,\n",
       " '번역[편집]': 1,\n",
       " '구글에서': 1,\n",
       " '자동': 2,\n",
       " '번역': 2,\n",
       " '서비스인': 1,\n",
       " '번역은': 1,\n",
       " '활용한다.': 1,\n",
       " '지난': 1,\n",
       " '40년': 1,\n",
       " '컴퓨터': 1,\n",
       " '회사': 1,\n",
       " '개발은': 1,\n",
       " '컴퓨터가': 1,\n",
       " '명사,': 1,\n",
       " '형용사,': 1,\n",
       " '동사': 1}"
      ]
     },
     "execution_count": 58,
     "metadata": {},
     "output_type": "execute_result"
    }
   ],
   "source": [
    "d"
   ]
  },
  {
   "cell_type": "markdown",
   "id": "550c2c3e",
   "metadata": {},
   "source": [
    "## PySpark로 단어빈도 세어보기"
   ]
  },
  {
   "cell_type": "code",
   "execution_count": 59,
   "id": "67bad225",
   "metadata": {},
   "outputs": [],
   "source": [
    "myRdd3=spark.sparkContext\\\n",
    "    .textFile(os.path.join(\"data\",\"ds_bigdata_wiki.txt\"))"
   ]
  },
  {
   "cell_type": "markdown",
   "id": "f4e8694f",
   "metadata": {},
   "source": [
    "### flatMap vs map\n",
    "flatMap()은 리스트안에 또 리스트가 있는 경우 이를 하나의 리스트로 만든다. 반면에 map()은 리스트 안에 또 리스트가 있는 구조를 보존하고 처리한다. 다음에서 보듯이 flatMap()은 모든 단어를 하나의 리스트로 만들고 있다. 그러나 map() 파일의 줄마다 리스트를 만든다."
   ]
  },
  {
   "cell_type": "code",
   "execution_count": 60,
   "id": "60fc6e10",
   "metadata": {},
   "outputs": [],
   "source": [
    "wc3=myRdd3\\\n",
    "    .flatMap(lambda x:x.split())\\\n",
    "    .take(10)"
   ]
  },
  {
   "cell_type": "code",
   "execution_count": 61,
   "id": "c80b36b7",
   "metadata": {},
   "outputs": [
    {
     "name": "stdout",
     "output_type": "stream",
     "text": [
      "Big/data/활용사례/및/의의[편집]/정치/및/사회[편집]/2008년/미국/"
     ]
    }
   ],
   "source": [
    "for i in wc3:\n",
    "    print (i, end='/')"
   ]
  },
  {
   "cell_type": "code",
   "execution_count": 63,
   "id": "f5771490",
   "metadata": {},
   "outputs": [],
   "source": [
    "# 불용어 제거\n",
    "stopwords = set(['및','이를','등','이','이런','그와','또는','두', '이와', '전', '간'])\n",
    "wc3_stop1 = myRdd3\\\n",
    "    .flatMap(lambda x: x.split())\\\n",
    "    .filter(lambda x: x.lower() not in stopwords)\\\n",
    "    .take(10)"
   ]
  },
  {
   "cell_type": "code",
   "execution_count": 64,
   "id": "0828cf04",
   "metadata": {},
   "outputs": [
    {
     "name": "stdout",
     "output_type": "stream",
     "text": [
      "Big/data/활용사례/의의[편집]/정치/사회[편집]/2008년/미국/대통령/선거[편집]/"
     ]
    }
   ],
   "source": [
    "for i in wc3_stop1:\n",
    "    print (i, end='/')"
   ]
  },
  {
   "cell_type": "code",
   "execution_count": 65,
   "id": "b946f017",
   "metadata": {},
   "outputs": [
    {
     "name": "stdout",
     "output_type": "stream",
     "text": [
      "('Big data', 1)/('활용사례 및 의의[편집]', 1)/('정치 및 사회[편집]', 1)/"
     ]
    }
   ],
   "source": [
    "# Map\n",
    "wc3=myRdd3\\\n",
    "    .map(lambda x:(x,1))\\\n",
    "    .take(3)\n",
    "for i in wc3:\n",
    "    print (i, end='/')"
   ]
  },
  {
   "cell_type": "code",
   "execution_count": 66,
   "id": "c57427a4",
   "metadata": {},
   "outputs": [
    {
     "name": "stdout",
     "output_type": "stream",
     "text": [
      "('Big', 1)/('data', 1)/('활용사례', 1)/('및', 1)/('의의[편집]', 1)/('정치', 1)/('및', 1)/('사회[편집]', 1)/('2008년', 1)/('미국', 1)/"
     ]
    }
   ],
   "source": [
    "# FlatMap\n",
    "# 파일 전체를 (flat해서) map. flat하지 않으면 줄바꿈으로 구분함.\n",
    "wc3=myRdd3\\\n",
    "    .flatMap(lambda x:x.split())\\\n",
    "    .map(lambda x:(x,1))\\\n",
    "    .take(10)\n",
    "for i in wc3:\n",
    "    print (i, end='/')"
   ]
  },
  {
   "cell_type": "code",
   "execution_count": 67,
   "id": "4a59c5b8",
   "metadata": {},
   "outputs": [],
   "source": [
    "wc3=myRdd3\\\n",
    "    .flatMap(lambda x:x.split())\\\n",
    "    .filter(lambda x: x.lower() not in stopwords)\\\n",
    "    .map(lambda x:(x,1))\\\n",
    "    .reduceByKey(lambda x,y:x+y)\\\n",
    "    .map(lambda x:(x[1],x[0]))\\\n",
    "    .sortByKey(False)\\\n",
    "    .take(15)"
   ]
  },
  {
   "cell_type": "code",
   "execution_count": 68,
   "id": "ef134434",
   "metadata": {},
   "outputs": [
    {
     "data": {
      "text/plain": [
       "[(20, '데이터'),\n",
       " (17, '데이터를'),\n",
       " (14, '빅'),\n",
       " (9, '있다.'),\n",
       " (8, '데이터의'),\n",
       " (7, '미국'),\n",
       " (7, '통해'),\n",
       " (7, '수'),\n",
       " (6, '유권자'),\n",
       " (6, '선거'),\n",
       " (6, '대한'),\n",
       " (6, '빅데이터'),\n",
       " (5, '활용한'),\n",
       " (5, '소셜'),\n",
       " (5, '대한민국')]"
      ]
     },
     "execution_count": 68,
     "metadata": {},
     "output_type": "execute_result"
    }
   ],
   "source": [
    "wc3"
   ]
  },
  {
   "cell_type": "markdown",
   "id": "a91e3f8b",
   "metadata": {},
   "source": [
    "## 시각화"
   ]
  },
  {
   "cell_type": "code",
   "execution_count": 69,
   "id": "2b353dc5",
   "metadata": {},
   "outputs": [],
   "source": [
    "k=list()\n",
    "v=list()\n",
    "for i in wc3:\n",
    "    v.append(i[0])\n",
    "    k.append(i[1])"
   ]
  },
  {
   "cell_type": "code",
   "execution_count": 75,
   "id": "6d50a16d",
   "metadata": {},
   "outputs": [
    {
     "name": "stderr",
     "output_type": "stream",
     "text": [
      "findfont: Font family ['San Francisco'] not found. Falling back to DejaVu Sans.\n"
     ]
    },
    {
     "data": {
      "image/png": "[encoded data removed]",
      "text/plain": [
       "<Figure size 640x480 with 1 Axes>"
      ]
     },
     "metadata": {},
     "output_type": "display_data"
    }
   ],
   "source": [
    "import matplotlib.pyplot as plt\n",
    "plt.rc('font', family='San Francisco')\n",
    "plt.barh(range(len(v)), v, color = 'black')  # x <- from (v)alues\n",
    "plt.yticks(range(len(v)), k)                 # y <- from (k)eys\n",
    "plt.show()"
   ]
  },
  {
   "cell_type": "markdown",
   "id": "94e03b8f",
   "metadata": {},
   "source": [
    "### CombineByKey \n",
    "sum과 count를 구하기 위해서 사용한다.\n",
    "combiner, merge values, merge combiner의 인자\n",
    "\n",
    "createCombiner: 첫 번째 함수는 각 키에 대한 초기 값 또는 \"초기 결합 요소\"를 생성하는 데 사용됩니다. 즉, 새로운 키가 나타날 때 초기 값을 설정하는 함수입니다. 이 함수는 각 요소에 대해 딱 한 번 호출됩니다.\n",
    "\n",
    "mergeValue: 두 번째 함수는 기존 값과 새로운 값을 병합하는 데 사용됩니다. 같은 키에 대해 여러 값이 있을 때 호출되며, 해당 키의 중간 결과를 업데이트하고자 할 때 유용합니다.\n",
    "\n",
    "mergeCombiners: 세 번째 함수는 서로 다른 파티션에서 나온 중간 결과를 병합하는 데 사용됩니다. 즉, 여러 파티션에서 계산된 중간 결과를 하나로 합치는 함수입니다."
   ]
  },
  {
   "cell_type": "code",
   "execution_count": 76,
   "id": "ee98fc19",
   "metadata": {},
   "outputs": [],
   "source": [
    "_list1=[(\"key1\",1),(\"key1\",3),(\"key2\",2),(\"key1\",2),(\"key2\",4),\n",
    "           (\"key1\",5),(\"key2\",6),\n",
    "           (\"key1\",7),(\"key1\",8),(\"key2\",9),(\"key2\",3)]"
   ]
  },
  {
   "cell_type": "code",
   "execution_count": 77,
   "id": "f0761d33",
   "metadata": {},
   "outputs": [],
   "source": [
    "_testRdd1=spark.sparkContext.parallelize(_list1)"
   ]
  },
  {
   "cell_type": "code",
   "execution_count": 78,
   "id": "256d445e",
   "metadata": {},
   "outputs": [
    {
     "data": {
      "text/plain": [
       "[('key1', '1*#3#2#5#7#8'), ('key2', '2*#4#6#9#3')]"
      ]
     },
     "execution_count": 78,
     "metadata": {},
     "output_type": "execute_result"
    }
   ],
   "source": [
    "# key1의 첫째 값은 1이다. 이경우 combiner (*표기), 다음은 merge values (# 표기)로 계산이 된다. \n",
    "# 따라서 1*#3#2#5#7#8가 출력된다.\n",
    "_testRdd1.combineByKey(lambda v : str(v)+\"*\", lambda c, v : c+\"#\"+str(v), lambda c1, c2 : c1+'&'+c2).collect()"
   ]
  },
  {
   "cell_type": "code",
   "execution_count": 79,
   "id": "f67965d8",
   "metadata": {},
   "outputs": [
    {
     "name": "stdout",
     "output_type": "stream",
     "text": [
      "Partitions 0 -> [('key1', 1), ('key1', 3), ('key2', 2), ('key1', 2), ('key2', 4)]\n",
      "Partitions 1 -> [('key1', 5), ('key2', 6), ('key1', 7), ('key1', 8), ('key2', 9), ('key2', 3)]\n"
     ]
    }
   ],
   "source": [
    "# partition이 복수인 경우에는 mergeCombiner가 작동한다. 먼저 partition을 2개로 해서 Rdd를 생성하자.\n",
    "_testRdd2=spark.sparkContext.parallelize(_list1, 2)\n",
    "partitions = _testRdd2.glom().collect()\n",
    "for num, partition in enumerate(partitions):\n",
    "    print(f'Partitions {num} -> {partition}')"
   ]
  },
  {
   "cell_type": "code",
   "execution_count": 80,
   "id": "064df68a",
   "metadata": {},
   "outputs": [
    {
     "data": {
      "text/plain": [
       "[('key1', '1*#3#2&5*#7#8'), ('key2', '2*#4&6*#9#3')]"
      ]
     },
     "execution_count": 80,
     "metadata": {},
     "output_type": "execute_result"
    }
   ],
   "source": [
    "# merge combiner(&)로 표기된다.\n",
    "_testRdd2.combineByKey(lambda v : str(v)+\"*\", lambda c, v : c+\"#\"+str(v), lambda c1, c2 : c1+'&'+c2).collect()"
   ]
  },
  {
   "cell_type": "markdown",
   "id": "27c4b3bb",
   "metadata": {},
   "source": [
    "## 직접 해보기"
   ]
  },
  {
   "cell_type": "code",
   "execution_count": 81,
   "id": "2d9cfd97",
   "metadata": {},
   "outputs": [
    {
     "data": {
      "text/plain": [
       "[('key1', (26, 6)), ('key2', (24, 5))]"
      ]
     },
     "execution_count": 81,
     "metadata": {},
     "output_type": "execute_result"
    }
   ],
   "source": [
    "_testRdd1.combineByKey(lambda value: (value,1),\n",
    "                     lambda x,value: (x[0]+value, x[1]+1),\n",
    "                     lambda x,y: (x[0]+y[0], x[1]+y[1])) \\\n",
    "        .collect()"
   ]
  },
  {
   "cell_type": "code",
   "execution_count": 82,
   "id": "28f50b1f",
   "metadata": {},
   "outputs": [],
   "source": [
    "# 평균 계산\n",
    "\n",
    "_testCbkRdd=_testRdd1.combineByKey(lambda value: (value,1),\n",
    "                     lambda x,value: (x[0]+value, x[1]+1),                      \n",
    "                     lambda x,y: (x[0]+y[0], x[1]+y[1]))"
   ]
  },
  {
   "cell_type": "code",
   "execution_count": 83,
   "id": "96e6e557",
   "metadata": {},
   "outputs": [
    {
     "data": {
      "text/plain": [
       "{'key1': 4.333333333333333, 'key2': 4.8}"
      ]
     },
     "execution_count": 83,
     "metadata": {},
     "output_type": "execute_result"
    }
   ],
   "source": [
    "averageByKey = _testCbkRdd.map(lambda x:(x[0],x[1][0]/x[1][1]))\n",
    "averageByKey.collectAsMap()"
   ]
  },
  {
   "cell_type": "markdown",
   "id": "b5c2c5c1",
   "metadata": {},
   "source": [
    "# 문제 S-3: 성적 합계 및 평균.\n",
    "\n",
    "아래 데이터를 RDD로 만들고, 성적의 합계 및 평균을 계산하세요. 하위 문제별로 RDD를 생성하지 말고, 원본데이터에서 하나의 RDD만을 생성하고, 이를 변형해서 문제를 푸세요."
   ]
  },
  {
   "cell_type": "code",
   "execution_count": 87,
   "id": "211257ae",
   "metadata": {},
   "outputs": [],
   "source": [
    "marks=[\n",
    "    \"'김하나','English', 100\",\n",
    "    \"'김하나','Math', 80\",\n",
    "    \"'임하나','English', 70\",\n",
    "    \"'임하나','Math', 100\",\n",
    "    \"'김갑돌','English', 82.3\",\n",
    "    \"'김갑돌','Math', 98.5\"\n",
    "]"
   ]
  },
  {
   "cell_type": "code",
   "execution_count": 91,
   "id": "01ca6fb4",
   "metadata": {},
   "outputs": [
    {
     "data": {
      "text/plain": [
       "[\"'김하나','English', 100\",\n",
       " \"'김하나','Math', 80\",\n",
       " \"'임하나','English', 70\",\n",
       " \"'임하나','Math', 100\",\n",
       " \"'김갑돌','English', 82.3\",\n",
       " \"'김갑돌','Math', 98.5\"]"
      ]
     },
     "execution_count": 91,
     "metadata": {},
     "output_type": "execute_result"
    }
   ],
   "source": [
    "_marksRdd=spark.sparkContext.parallelize(marks)\n",
    "_marksRdd.collect()"
   ]
  },
  {
   "cell_type": "markdown",
   "id": "dcb30028",
   "metadata": {},
   "source": [
    "# 문제 3-1\n",
    "\n",
    "개인별 데이터를 컴마로 분리하고, 이름 x[0]과 성적 x[2]만 꺼내어 reduceBykey()를 구하면 합계를 구할 수 있다. 여기서 중요한 것은 기존 데이터에서 필요한 이름, 성적만을 꺼내어 처리한다는 점이다.\n",
    "\n",
    "문제 3-1: 이름으로 합계를 구해보자. 올바른 출력은 다음과 같다.\n",
    "이름과 점수로 데이터를 추출하고, 이름별로 (이름을 키로) 합계를 계산한다."
   ]
  },
  {
   "cell_type": "code",
   "execution_count": 94,
   "id": "75161d74",
   "metadata": {},
   "outputs": [
    {
     "data": {
      "text/plain": [
       "[(\"'김하나'\", 180.0), (\"'임하나'\", 170.0), (\"'김갑돌'\", 180.8)]"
      ]
     },
     "execution_count": 94,
     "metadata": {},
     "output_type": "execute_result"
    }
   ],
   "source": [
    "_marksbyname=_marksRdd\\\n",
    "    .map(lambda x:x.split(','))\\\n",
    "    .map(lambda x: (x[0],float(x[2])))\\\n",
    "    .reduceByKey(lambda x,y:x+y)\\\n",
    "    .collect()\n",
    "\n",
    "#분리 -> 0번째, 2번째만 취함 -> reduceByKey로 key에 따른 연산 수행\n",
    "\n",
    "_marksbyname"
   ]
  },
  {
   "cell_type": "markdown",
   "id": "709c3e78",
   "metadata": {},
   "source": [
    "# 문제 3-2\n",
    "\n",
    "과목과 점수로 데이터를 추출하여, 과목별로 (과목을 키로) 합계를 계산한다.\n",
    "\n",
    "개인별 데이터를 컴마로 분리하고, 과목 x[1]과 성적 x[2]만 꺼내어 reduceBykey()를 구하면 합계를 구할 수 있다."
   ]
  },
  {
   "cell_type": "code",
   "execution_count": 95,
   "id": "59d419eb",
   "metadata": {},
   "outputs": [
    {
     "data": {
      "text/plain": [
       "[[\"'김하나'\", \"'English'\", ' 100'],\n",
       " [\"'김하나'\", \"'Math'\", ' 80'],\n",
       " [\"'임하나'\", \"'English'\", ' 70'],\n",
       " [\"'임하나'\", \"'Math'\", ' 100'],\n",
       " [\"'김갑돌'\", \"'English'\", ' 82.3'],\n",
       " [\"'김갑돌'\", \"'Math'\", ' 98.5']]"
      ]
     },
     "execution_count": 95,
     "metadata": {},
     "output_type": "execute_result"
    }
   ],
   "source": [
    "# 컴마로 분리하기\n",
    "\n",
    "_marksRdd\\\n",
    "    .map(lambda x:x.split(','))\\\n",
    "    .collect()"
   ]
  },
  {
   "cell_type": "code",
   "execution_count": 97,
   "id": "4cbd6571",
   "metadata": {},
   "outputs": [
    {
     "data": {
      "text/plain": [
       "[(\"'English'\", 100.0),\n",
       " (\"'Math'\", 80.0),\n",
       " (\"'English'\", 70.0),\n",
       " (\"'Math'\", 100.0),\n",
       " (\"'English'\", 82.3),\n",
       " (\"'Math'\", 98.5)]"
      ]
     },
     "execution_count": 97,
     "metadata": {},
     "output_type": "execute_result"
    }
   ],
   "source": [
    "# 과목과 점수만 분리하기\n",
    "\n",
    "_marksRdd\\\n",
    "    .map(lambda x:x.split(','))\\\n",
    "    .map(lambda x: (x[1],float(x[2])))\\\n",
    "    .collect()"
   ]
  },
  {
   "cell_type": "code",
   "execution_count": 134,
   "id": "cb158878",
   "metadata": {},
   "outputs": [
    {
     "data": {
      "text/plain": [
       "[(\"'English'\", '  82.3'), (\"'Math'\", '  98.5')]"
      ]
     },
     "execution_count": 134,
     "metadata": {},
     "output_type": "execute_result"
    }
   ],
   "source": [
    "# CombineByKey 적용\n",
    "\n",
    "# 다음으로 어떤 함수를 적용하면 될까? 과목별 합계는 reduce를 하면된다. \n",
    "# 합계, 개수를 구한다고 combineByKey를 적용하면 어떻게 될까? \n",
    "# float 타입으로 combineByKey를 하면 'float' object is not subscriptable 오류가 발생한다. \n",
    "# 그렇다고 str으로 한다고 해서 문제가 풀리는 것은 아니다.  combineByKey 함수는 합계를 계산할 수 없기 때문에 최종 값만 남기게 된다.\n",
    "marks = _marksRdd\\\n",
    "    .map(lambda x:x.split(','))\\\n",
    "    .map(lambda x: (x[1],str(x[2])))\n",
    "\n",
    "    \n",
    "marks.combineByKey(lambda value: (value,1),\n",
    "                  lambda x, value: str(x[0]) + str(value),\n",
    "                  lambda x, y: x+y)\\\n",
    "    .collect()\n",
    "    \n"
   ]
  },
  {
   "cell_type": "code",
   "execution_count": 105,
   "id": "5ffbd3f1",
   "metadata": {},
   "outputs": [
    {
     "data": {
      "text/plain": [
       "[(\"'English'\", 252.3), (\"'Math'\", 278.5)]"
      ]
     },
     "execution_count": 105,
     "metadata": {},
     "output_type": "execute_result"
    }
   ],
   "source": [
    "# ReduceByKey\n",
    "\n",
    "# _marksRdd\\\n",
    "#     .map(lambda x:x.split(','))\\\n",
    "#     .map(lambda x: (x[1],str(x[2])))\\\n",
    "#     .collect()\n",
    "\n",
    "_marksRdd\\\n",
    "    .map(lambda x:x.split(','))\\\n",
    "    .map(lambda x: (x[1],float(x[2])))\\\n",
    "    .reduceByKey(lambda x,y:x+y)\\\n",
    "    .collect()"
   ]
  },
  {
   "cell_type": "markdown",
   "id": "b8bbf925",
   "metadata": {},
   "source": [
    "# 문제 3-3\n",
    "합계, 개수를 계산해 보자. combineByKey()를 이용해서 계산해야 한다. 먼저 데이터를 이름, 과목, 데이터 -> 이름, 점수로 변경한다.\n",
    "\n",
    "이름으로 합계과 개수를 구해보자. 출력은 다음과 같이 계산된다.\n",
    "이름과 점수로 데이터를 추출하여, 이름별로 (이름을 키로) 합계와 개수를 계산한다."
   ]
  },
  {
   "cell_type": "code",
   "execution_count": 101,
   "id": "b0507222",
   "metadata": {},
   "outputs": [
    {
     "name": "stdout",
     "output_type": "stream",
     "text": [
      "'김하나' (180.0, 2) \n",
      "'임하나' (170.0, 2) \n",
      "'김갑돌' (180.8, 2) \n"
     ]
    }
   ],
   "source": [
    "_marksbyname2=_marksRdd\\\n",
    "    .map(lambda x:x.split(','))\\\n",
    "    .map(lambda x: (x[0],float(x[2])))\n",
    "\n",
    "sum_counts = _marksbyname2.combineByKey(\n",
    "    (lambda x: (x, 1)), # the initial value, with value x and count 1\n",
    "    (lambda acc, value: (acc[0]+value, acc[1]+1)), # how to combine a pair value with the accumulator: sum value, and increment count\n",
    "    (lambda acc1, acc2: (acc1[0]+acc2[0], acc1[1]+acc2[1])) # combine accumulators\n",
    ")\n",
    "\n",
    "for i in sum_counts.collect():\n",
    "    for each in i:\n",
    "        print (each, end=' ')\n",
    "    print()"
   ]
  },
  {
   "cell_type": "markdown",
   "id": "7e88c4cd",
   "metadata": {},
   "source": [
    "# 문제 3-4\n",
    "\n",
    "개인별 평균은 3-3에서 구했던 합계, 개수를 사용하여 계산한다. 평균을 계산하기 위해 float() 형변환을 해주었다.\n",
    "\n",
    "이름으로 평균을 계산해 보자. 앞서 3-3에서 사용했던 결과를 활용하고, 올바른 출력은 다음과 같다."
   ]
  },
  {
   "cell_type": "code",
   "execution_count": 102,
   "id": "d189dc81",
   "metadata": {},
   "outputs": [
    {
     "name": "stdout",
     "output_type": "stream",
     "text": [
      "'김하나' 90.0 \n",
      "'임하나' 85.0 \n",
      "'김갑돌' 90.4 \n"
     ]
    }
   ],
   "source": [
    "averageByKey = sum_counts\\\n",
    "    .map(lambda x: (x[0],x[1][0]/x[1][1]))\\\n",
    "    .collect()\n",
    "for i in averageByKey:\n",
    "    for j in i:\n",
    "        print (j, end=' ')\n",
    "    print()"
   ]
  }
 ],
 "metadata": {
  "kernelspec": {
   "display_name": "Python 3 (ipykernel)",
   "language": "python",
   "name": "python3"
  },
  "language_info": {
   "codemirror_mode": {
    "name": "ipython",
    "version": 3
   },
   "file_extension": ".py",
   "mimetype": "text/x-python",
   "name": "python",
   "nbconvert_exporter": "python",
   "pygments_lexer": "ipython3",
   "version": "3.9.13"
  }
 },
 "nbformat": 4,
 "nbformat_minor": 5
}
