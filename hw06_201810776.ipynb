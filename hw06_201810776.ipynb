{
 "cells": [
  {
   "cell_type": "code",
   "execution_count": 2,
   "id": "1ddd7bba",
   "metadata": {},
   "outputs": [
    {
     "name": "stderr",
     "output_type": "stream",
     "text": [
      "23/10/22 06:27:09 WARN Utils: Your hostname, sojaehwiui-MacBookPro.local resolves to a loopback address: 127.0.0.1; using 172.30.1.29 instead (on interface en0)\n",
      "23/10/22 06:27:09 WARN Utils: Set SPARK_LOCAL_IP if you need to bind to another address\n",
      "Setting default log level to \"WARN\".\n",
      "To adjust logging level use sc.setLogLevel(newLevel). For SparkR, use setLogLevel(newLevel).\n",
      "23/10/22 06:27:10 WARN NativeCodeLoader: Unable to load native-hadoop library for your platform... using builtin-java classes where applicable\n",
      "23/10/22 06:27:11 WARN Utils: Service 'SparkUI' could not bind on port 4040. Attempting port 4041.\n"
     ]
    }
   ],
   "source": [
    "import os, sys\n",
    "import pyspark\n",
    "\n",
    "# os.environ[\"PYSPARK_PYTHON\"]=\"/usr/bin/python3\"          \n",
    "# os.environ[\"PYSPARK_DRIVER_PYTHON\"]=\"/usr/bin/python3\"   \n",
    "spark = pyspark.sql.SparkSession\\\n",
    "    .builder\\\n",
    "    .master(\"local\")\\\n",
    "    .appName(\"myApp\")\\\n",
    "    .getOrCreate() #Singleton Create"
   ]
  },
  {
   "cell_type": "markdown",
   "id": "0cda801f",
   "metadata": {},
   "source": [
    "### CSV Load"
   ]
  },
  {
   "cell_type": "code",
   "execution_count": 3,
   "id": "974fa9d3",
   "metadata": {},
   "outputs": [],
   "source": [
    "rdd = spark.sparkContext\\\n",
    "    .textFile(os.path.join(\"data\",\"경기도 의정부시_인구현황_20230831.csv\"), use_unicode=True)\n",
    "\n"
   ]
  },
  {
   "cell_type": "code",
   "execution_count": 12,
   "id": "bcf17287",
   "metadata": {},
   "outputs": [
    {
     "data": {
      "text/plain": [
       "PythonRDD[8] at RDD at PythonRDD.scala:53"
      ]
     },
     "execution_count": 12,
     "metadata": {},
     "output_type": "execute_result"
    }
   ],
   "source": [
    "# ,를 기준으로 데이터를 쪼갬\n",
    "plitRdd = rdd.map(lambda x : x.split(',')) \n",
    "splitRdd\n"
   ]
  },
  {
   "cell_type": "code",
   "execution_count": 8,
   "id": "e3ce7c72",
   "metadata": {},
   "outputs": [
    {
     "data": {
      "text/plain": [
       "[['������1��',\n",
       "  '37557 ',\n",
       "  '19039 ',\n",
       "  '18518 ',\n",
       "  '8.08',\n",
       "  '4.1',\n",
       "  '3.98',\n",
       "  '102.81',\n",
       "  '22514 ',\n",
       "  '1.67',\n",
       "  '��\\u2d75 �����ν�û',\n",
       "  '�ο����ǰ�',\n",
       "  '031-828-2466',\n",
       "  '2023-06-30'],\n",
       " ['������2��',\n",
       "  '29729 ',\n",
       "  '14817 ',\n",
       "  '14912 ',\n",
       "  '6.4',\n",
       "  '3.19',\n",
       "  '3.21',\n",
       "  '99.36',\n",
       "  '16007 ',\n",
       "  '1.86',\n",
       "  '��\\u2d75 �����ν�û',\n",
       "  '�ο����ǰ�',\n",
       "  '031-828-2466',\n",
       "  '2023-06-30'],\n",
       " ['ȣ��1��',\n",
       "  '34658 ',\n",
       "  '16762 ',\n",
       "  '17896 ',\n",
       "  '7.46',\n",
       "  '3.61',\n",
       "  '3.85',\n",
       "  '93.66',\n",
       "  '15296 ',\n",
       "  '2.27',\n",
       "  '��\\u2d75 �����ν�û',\n",
       "  '�ο����ǰ�',\n",
       "  '031-828-2466',\n",
       "  '2023-06-30'],\n",
       " ['ȣ��2��',\n",
       "  '33400 ',\n",
       "  '16088 ',\n",
       "  '17312 ',\n",
       "  '7.19',\n",
       "  '3.46',\n",
       "  '3.72',\n",
       "  '92.93',\n",
       "  '13422 ',\n",
       "  '2.49',\n",
       "  '��\\u2d75 �����ν�û',\n",
       "  '�ο����ǰ�',\n",
       "  '031-828-2466',\n",
       "  '2023-06-30'],\n",
       " ['��ϵ�',\n",
       "  '19197 ',\n",
       "  '9156 ',\n",
       "  '10041 ',\n",
       "  '4.13',\n",
       "  '1.97',\n",
       "  '2.16',\n",
       "  '91.19',\n",
       "  '8324 ',\n",
       "  '2.31',\n",
       "  '��\\u2d75 �����ν�û',\n",
       "  '�ο����ǰ�',\n",
       "  '031-828-2466',\n",
       "  '2023-06-30'],\n",
       " ['�Ű�1��',\n",
       "  '39848 ',\n",
       "  '19475 ',\n",
       "  '20373 ',\n",
       "  '8.57',\n",
       "  '4.19',\n",
       "  '4.38',\n",
       "  '95.59',\n",
       "  '17028 ',\n",
       "  '2.34',\n",
       "  '��\\u2d75 �����ν�û',\n",
       "  '�ο����ǰ�',\n",
       "  '031-828-2466',\n",
       "  '2023-06-30'],\n",
       " ['�Ű�2��',\n",
       "  '45593 ',\n",
       "  '22018 ',\n",
       "  '23575 ',\n",
       "  '9.81',\n",
       "  '4.74',\n",
       "  '5.07',\n",
       "  '93.4',\n",
       "  '19005 ',\n",
       "  '2.4',\n",
       "  '��\\u2d75 �����ν�û',\n",
       "  '�ο����ǰ�',\n",
       "  '031-828-2466',\n",
       "  '2023-06-30'],\n",
       " ['�ۻ�1��',\n",
       "  '56595 ',\n",
       "  '28012 ',\n",
       "  '28583 ',\n",
       "  '12.18',\n",
       "  '6.03',\n",
       "  '6.15',\n",
       "  '98',\n",
       "  '23887 ',\n",
       "  '2.37',\n",
       "  '��\\u2d75 �����ν�û',\n",
       "  '�ο����ǰ�',\n",
       "  '031-828-2466',\n",
       "  '2023-06-30'],\n",
       " ['�ۻ�2��',\n",
       "  '32054 ',\n",
       "  '15897 ',\n",
       "  '16157 ',\n",
       "  '6.9',\n",
       "  '3.42',\n",
       "  '3.48',\n",
       "  '98.39',\n",
       "  '13103 ',\n",
       "  '2.45',\n",
       "  '��\\u2d75 �����ν�û',\n",
       "  '�ο����ǰ�',\n",
       "  '031-828-2466',\n",
       "  '2023-06-30'],\n",
       " ['�ۻ�3��',\n",
       "  '45618 ',\n",
       "  '22119 ',\n",
       "  '23499 ',\n",
       "  '9.82',\n",
       "  '4.76',\n",
       "  '5.06',\n",
       "  '94.13',\n",
       "  '18032 ',\n",
       "  '2.53',\n",
       "  '��\\u2d75 �����ν�û',\n",
       "  '�ο����ǰ�',\n",
       "  '031-828-2466',\n",
       "  '2023-06-30'],\n",
       " ['�ڱݵ�',\n",
       "  '26064 ',\n",
       "  '12780 ',\n",
       "  '13284 ',\n",
       "  '5.61',\n",
       "  '2.75',\n",
       "  '2.86',\n",
       "  '96.21',\n",
       "  '11901 ',\n",
       "  '2.19',\n",
       "  '��\\u2d75 �����ν�û',\n",
       "  '�ο����ǰ�',\n",
       "  '031-828-2466',\n",
       "  '2023-06-30'],\n",
       " ['���ɵ�',\n",
       "  '24476 ',\n",
       "  '12238 ',\n",
       "  '12238 ',\n",
       "  '5.27',\n",
       "  '2.63',\n",
       "  '2.63',\n",
       "  '100',\n",
       "  '12165 ',\n",
       "  '2.01',\n",
       "  '��\\u2d75 �����ν�û',\n",
       "  '�ο����ǰ�',\n",
       "  '031-828-2466',\n",
       "  '2023-06-30'],\n",
       " ['�Ｑ��',\n",
       "  '19543 ',\n",
       "  '9935 ',\n",
       "  '9608 ',\n",
       "  '4.2',\n",
       "  '2.14',\n",
       "  '2.07',\n",
       "  '103.4',\n",
       "  '9735 ',\n",
       "  '2.01',\n",
       "  '��\\u2d75 �����ν�û',\n",
       "  '�ο����ǰ�',\n",
       "  '031-828-2466',\n",
       "  '2023-06-30'],\n",
       " ['��絿',\n",
       "  '20446 ',\n",
       "  '10148 ',\n",
       "  '10298 ',\n",
       "  '4.4',\n",
       "  '2.18',\n",
       "  '2.22',\n",
       "  '98.54',\n",
       "  '9356 ',\n",
       "  '2.19',\n",
       "  '��\\u2d75 �����ν�û',\n",
       "  '�ο����ǰ�',\n",
       "  '031-828-2466',\n",
       "  '2023-06-30']]"
      ]
     },
     "execution_count": 8,
     "metadata": {},
     "output_type": "execute_result"
    }
   ],
   "source": [
    "# 헤더 및 이상원소를 제외하기 위해 x[1]이 정수형태인지 판단하고, 그렇지 않으면 제외시킴\n",
    "def is_integer(x):\n",
    "    try:\n",
    "        int(x[1])\n",
    "        return True\n",
    "    except ValueError:\n",
    "        return False\n",
    "    \n",
    "deleteFirstRowRdd = splitRdd.filter(is_integer)\n",
    "deleteFirstRowRdd.collect()\n"
   ]
  },
  {
   "cell_type": "markdown",
   "id": "b8dd897d",
   "metadata": {},
   "source": [
    "#  (1) 데이터는 한 줄씩 구성되어 있는데, 이 중에 컬럼2만을 추출해서 출력 (아래와 같은 출력이다)"
   ]
  },
  {
   "cell_type": "code",
   "execution_count": 10,
   "id": "7c7ebbdb",
   "metadata": {},
   "outputs": [
    {
     "data": {
      "text/plain": [
       "['37557',\n",
       " '29729',\n",
       " '34658',\n",
       " '33400',\n",
       " '19197',\n",
       " '39848',\n",
       " '45593',\n",
       " '56595',\n",
       " '32054',\n",
       " '45618',\n",
       " '26064',\n",
       " '24476',\n",
       " '19543',\n",
       " '20446']"
      ]
     },
     "execution_count": 10,
     "metadata": {},
     "output_type": "execute_result"
    }
   ],
   "source": [
    "getSecColumn = deleteFirstRowRdd.map(lambda x: x[1].strip())\n",
    "getSecColumn.collect()"
   ]
  },
  {
   "cell_type": "markdown",
   "id": "63429ece",
   "metadata": {},
   "source": [
    "# (2) 컬럼2를 map-reduce 합계해서 출력 (헤더를 제외하고, 문자-->숫자로 형변환해야 합산이 된다)."
   ]
  },
  {
   "cell_type": "code",
   "execution_count": 11,
   "id": "2d1dd6e9",
   "metadata": {},
   "outputs": [
    {
     "data": {
      "text/plain": [
       "464778"
      ]
     },
     "execution_count": 11,
     "metadata": {},
     "output_type": "execute_result"
    }
   ],
   "source": [
    "resultRdd = getSecColumn.map(lambda x: int(x)) #형 변환\n",
    "\n",
    "\n",
    "result = resultRdd.reduce(lambda tot, x: tot + x) #합산\n",
    "result"
   ]
  }
 ],
 "metadata": {
  "kernelspec": {
   "display_name": "Python 3 (ipykernel)",
   "language": "python",
   "name": "python3"
  },
  "language_info": {
   "codemirror_mode": {
    "name": "ipython",
    "version": 3
   },
   "file_extension": ".py",
   "mimetype": "text/x-python",
   "name": "python",
   "nbconvert_exporter": "python",
   "pygments_lexer": "ipython3",
   "version": "3.9.13"
  }
 },
 "nbformat": 4,
 "nbformat_minor": 5
}
