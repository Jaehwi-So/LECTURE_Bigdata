{
 "cells": [
  {
   "cell_type": "markdown",
   "id": "c96443d4",
   "metadata": {},
   "source": [
    "# 20181776 소재휘"
   ]
  },
  {
   "cell_type": "markdown",
   "id": "88243a72",
   "metadata": {},
   "source": [
    "### Pyspark 환경 설정과 데이터분석 입문"
   ]
  },
  {
   "cell_type": "code",
   "execution_count": 12,
   "id": "c7968878",
   "metadata": {},
   "outputs": [],
   "source": [
    "import pyspark"
   ]
  },
  {
   "cell_type": "code",
   "execution_count": 13,
   "id": "775617e7",
   "metadata": {},
   "outputs": [
    {
     "name": "stdout",
     "output_type": "stream",
     "text": [
      "Success\n"
     ]
    }
   ],
   "source": [
    "print(\"Success\")"
   ]
  },
  {
   "cell_type": "code",
   "execution_count": 14,
   "id": "c4b92184",
   "metadata": {},
   "outputs": [
    {
     "name": "stdout",
     "output_type": "stream",
     "text": [
      "openjdk version \"11.0.11\" 2021-04-20\r\n",
      "OpenJDK Runtime Environment AdoptOpenJDK-11.0.11+9 (build 11.0.11+9)\r\n",
      "OpenJDK 64-Bit Server VM AdoptOpenJDK-11.0.11+9 (build 11.0.11+9, mixed mode)\r\n"
     ]
    }
   ],
   "source": [
    "!java -version"
   ]
  },
  {
   "cell_type": "code",
   "execution_count": 15,
   "id": "2e16e155",
   "metadata": {},
   "outputs": [
    {
     "name": "stdout",
     "output_type": "stream",
     "text": [
      "/Users/sojaehwi/opt/anaconda3/bin/python\n",
      "3.9.13 (main, Aug 25 2022, 18:29:29) \n",
      "[Clang 12.0.0 ]\n"
     ]
    }
   ],
   "source": [
    "import sys\n",
    "print(sys.executable)\n",
    "print(sys.version)"
   ]
  },
  {
   "cell_type": "code",
   "execution_count": 17,
   "id": "345f573b",
   "metadata": {},
   "outputs": [
    {
     "name": "stdout",
     "output_type": "stream",
     "text": [
      "True\n",
      "True\n"
     ]
    }
   ],
   "source": [
    "import os\n",
    "print(os.environ['PYSPARK_PYTHON']==sys.executable)\n",
    "print(os.environ['PYSPARK_DRIVER_PYTHON']==sys.executable)\n",
    "os.environ['PYSPARK_PYTHON']=sys.executable\n",
    "os.environ['PYSPARK_DRIVER_PYTHON']=sys.executable\n"
   ]
  },
  {
   "cell_type": "markdown",
   "id": "6fe6cca7",
   "metadata": {},
   "source": [
    "### 모듈이 설치된 곳 확인"
   ]
  },
  {
   "cell_type": "code",
   "execution_count": 18,
   "id": "dd548ab4",
   "metadata": {},
   "outputs": [
    {
     "data": {
      "text/plain": [
       "['/Users/sojaehwi/Documents/GitHub/LECTURE_Bigdata',\n",
       " '/Users/sojaehwi/opt/anaconda3/lib/python39.zip',\n",
       " '/Users/sojaehwi/opt/anaconda3/lib/python3.9',\n",
       " '/Users/sojaehwi/opt/anaconda3/lib/python3.9/lib-dynload',\n",
       " '',\n",
       " '/Users/sojaehwi/opt/anaconda3/lib/python3.9/site-packages',\n",
       " '/Users/sojaehwi/opt/anaconda3/lib/python3.9/site-packages/aeosa',\n",
       " '/Users/sojaehwi/opt/anaconda3/lib/python3.9/site-packages/IPython/extensions',\n",
       " '/Users/sojaehwi/.ipython']"
      ]
     },
     "execution_count": 18,
     "metadata": {},
     "output_type": "execute_result"
    }
   ],
   "source": [
    "import site\n",
    "sys.path  #모듈이 설치된 곳"
   ]
  },
  {
   "cell_type": "code",
   "execution_count": 21,
   "id": "86668a45",
   "metadata": {},
   "outputs": [],
   "source": [
    "sparkHome=sys.path[6]"
   ]
  },
  {
   "cell_type": "code",
   "execution_count": 22,
   "id": "52a3d814",
   "metadata": {},
   "outputs": [
    {
     "data": {
      "text/plain": [
       "'SPARK_HOME: /Users/sojaehwi/opt/anaconda3/lib/python3.9/site-packages/aeosa\\\\pyspark'"
      ]
     },
     "execution_count": 22,
     "metadata": {},
     "output_type": "execute_result"
    }
   ],
   "source": [
    "f\"SPARK_HOME: {sparkHome}\\pyspark\"    #printf보다 간편한 fstring"
   ]
  },
  {
   "cell_type": "code",
   "execution_count": null,
   "id": "d05fb148",
   "metadata": {},
   "outputs": [],
   "source": [
    "# 스파크 실행방식 : Batch : 일괄 실행(여러 명령어를 묶어서), interactive : 대화식. 우리는 Interactive로 한다."
   ]
  },
  {
   "cell_type": "code",
   "execution_count": 24,
   "id": "98249c86",
   "metadata": {},
   "outputs": [],
   "source": [
    "home=os.path.expanduser('~') #home = 루트경로"
   ]
  },
  {
   "cell_type": "code",
   "execution_count": 26,
   "id": "11deb7d3",
   "metadata": {},
   "outputs": [
    {
     "name": "stderr",
     "output_type": "stream",
     "text": [
      "Setting default log level to \"WARN\".\n",
      "To adjust logging level use sc.setLogLevel(newLevel). For SparkR, use setLogLevel(newLevel).\n",
      "23/09/15 16:48:40 WARN NativeCodeLoader: Unable to load native-hadoop library for your platform... using builtin-java classes where applicable\n"
     ]
    }
   ],
   "source": [
    "import pyspark\n",
    "myConf=pyspark.SparkConf()\n",
    "spark = pyspark.sql.SparkSession.builder\\\n",
    "    .master(\"local\")\\\n",
    "    .appName(\"myApp\")\\\n",
    "    .config(conf=myConf)\\\n",
    "    .getOrCreate()"
   ]
  },
  {
   "cell_type": "code",
   "execution_count": 27,
   "id": "eda4d838",
   "metadata": {},
   "outputs": [
    {
     "data": {
      "text/plain": [
       "'3.4.1'"
      ]
     },
     "execution_count": 27,
     "metadata": {},
     "output_type": "execute_result"
    }
   ],
   "source": [
    "spark.version"
   ]
  },
  {
   "cell_type": "code",
   "execution_count": 28,
   "id": "eded3e95",
   "metadata": {},
   "outputs": [
    {
     "name": "stdout",
     "output_type": "stream",
     "text": [
      "진동벨 좀 만들었으면 좋겠다 2층 매장이라 결국 손님 어딨는지는 몰라서 그저 열심히 목터져가며 소리지르는게 전부임 넘 안쓰럽다 그리고 픽업 장소 옆은 시장통임 북적북적 옆 동네 스타벅스 왔다,,, 무려 노트북 들고,,,,! 스타벅스 있다가 나오면 머리카락 커피향기 배는데 안에 있을 땐 모르겠다가 밖에 나와서 머리카락 흔들릴 때마다 느껴지는 거 너무 좋아 저도...마싯는 커피 마시고 싶어여...훌젹 ㅋㅋㅋ 막 요즘 로스팅 전문 하는 데 가서 마시구 싶고 그러네요 근데 어떤데 있는질 몰라서... 합정 상수 부근 쪽 찾아볼가여? 예전에는 스타벅스 비싸다는 인식 있었는데 카페 가격 다 똑같은듯 저도 그렇게 섬세한 입맛 아니라서 ㅋㅋ 가격 맛 찾아낼 수 있을지는 의문이네요...ㅋㅋㅋ 평범한 곳 가도 갠찬아여! 엄청 맛 없는 것만 아니라면야 ㅋㅋㅋ "
     ]
    }
   ],
   "source": [
    "sent = u\"\"\"진동벨 좀 만들었으면 좋겠다 2층 매장이라 결국 손님 어딨는지는 몰라서 그저 열심히 목터져가며 소리지르는게 전부임 넘 안쓰럽다 그리고 픽업 장소 옆은 시장통임 북적북적\n",
    "옆 동네 스타벅스 왔다,,, 무려 노트북 들고,,,,!\n",
    "스타벅스 있다가 나오면 머리카락 커피향기 배는데 안에 있을 땐 모르겠다가 밖에 나와서 머리카락 흔들릴 때마다 느껴지는 거 너무 좋아\n",
    "저도...마싯는 커피 마시고 싶어여...훌젹 ㅋㅋㅋ 막 요즘 로스팅 전문 하는 데 가서 마시구 싶고 그러네요 근데 어떤데 있는질 몰라서... 합정 상수 부근 쪽 찾아볼가여?\n",
    "예전에는 스타벅스 비싸다는 인식 있었는데 카페 가격 다 똑같은듯\n",
    "저도 그렇게 섬세한 입맛 아니라서 ㅋㅋ 가격 맛 찾아낼 수 있을지는 의문이네요...ㅋㅋㅋ 평범한  곳 가도 갠찬아여! 엄청 맛 없는 것만 아니라면야 ㅋㅋㅋ\"\"\"\n",
    "\n",
    "for c in sent.split():\n",
    "    print(c, end=\" \")"
   ]
  },
  {
   "cell_type": "code",
   "execution_count": 29,
   "id": "409554db",
   "metadata": {},
   "outputs": [],
   "source": [
    "d = dict()\n",
    "for c in sent.split():\n",
    "    if c not in d:\n",
    "        d[c]=1\n",
    "    else:\n",
    "        d[c]=d[c]+1"
   ]
  },
  {
   "cell_type": "code",
   "execution_count": 42,
   "id": "8bff02a1",
   "metadata": {},
   "outputs": [
    {
     "name": "stdout",
     "output_type": "stream",
     "text": [
      "스타벅스 3\n",
      "머리카락 2\n",
      "ㅋㅋㅋ 2\n",
      "가격 2\n",
      "맛 2\n"
     ]
    }
   ],
   "source": [
    "# 두 번 이상 등장한 단어만\n",
    "d1 = dict()\n",
    "for key, value in d.items():\n",
    "    if value>1:\n",
    "        d1[key]=value\n",
    "        print(key, value)"
   ]
  },
  {
   "cell_type": "code",
   "execution_count": 41,
   "id": "45ccf0c3",
   "metadata": {},
   "outputs": [
    {
     "data": {
      "image/png": "[encoded data removed]",
      "text/plain": [
       "<Figure size 640x480 with 1 Axes>"
      ]
     },
     "metadata": {},
     "output_type": "display_data"
    }
   ],
   "source": [
    "%matplotlib inline # %:jupter notebook에서 제공. 그래프를 연달아 제공.\n",
    "\n",
    "import matplotlib # 아나콘다를 설치하면 기본 제공\n",
    "import matplotlib.pyplot as plt\n",
    "\n",
    "plt.rcParams[\"font.family\"] = \"AppleGothic\"\n",
    "#plt.rc('font', family='Malgun Gothic')\n",
    "plt.bar(range(len(d1)), d1.values(), align='center')\n",
    "plt.xticks(range(len(d1)), list(d1.keys()))\n",
    "plt.show()"
   ]
  },
  {
   "cell_type": "code",
   "execution_count": 43,
   "id": "756d1790",
   "metadata": {},
   "outputs": [
    {
     "name": "stdout",
     "output_type": "stream",
     "text": [
      "Writing src/ds1_1_wordcount.py\n"
     ]
    }
   ],
   "source": [
    "%%writefile src/ds1_1_wordcount.py\n",
    "import matplotlib\n",
    "import matplotlib.pyplot as plt \n",
    "\n",
    "sent = u\"\"\"진동벨 좀 만들었으면 좋겠다 2층 매장이라 결국 손님 어딨는지는 몰라서 그저 열심히 목터져가며 소리지르는게 전부임 넘 안쓰럽다 그리고 픽업 장소 옆은 시장통임 북적북적\n",
    "옆 동네 스타벅스 왔다,,, 무려 노트북 들고,,,,!\n",
    "스타벅스 있다가 나오면 머리카락 커피향기 배는데 안에 있을 땐 모르겠다가 밖에 나와서 머리카락 흔들릴 때마다 느껴지는 거 너무 좋아\n",
    "저도...마싯는 커피 마시고 싶어여...훌젹 ㅋㅋㅋ 막 요즘 로스팅 전문 하는 데 가서 마시구 싶고 그러네요 근데 어떤데 있는질 몰라서... 합정 상수 부근 쪽 찾아볼가여?\n",
    "예전에는 스타벅스 비싸다는 인식 있었는데 카페 가격 다 똑같은듯\n",
    "저도 그렇게 섬세한 입맛 아니라서 ㅋㅋ 가격 맛 찾아낼 수 있을지는 의문이네요...ㅋㅋㅋ 평범한  곳 가도 갠찬아여! 엄청 맛 없는 것만 아니라면야 ㅋㅋㅋ\"\"\"\n",
    "\n",
    "def do():\n",
    "    d = dict()\n",
    "    for c in sent.split():\n",
    "        if c not in d:\n",
    "            d[c]=1\n",
    "        else:\n",
    "            d[c]=d[c]+1\n",
    "    d1 = dict()\n",
    "    for key, value in d.items():\n",
    "        if value>1:\n",
    "            d1[key]=value\n",
    "            print(key, value)\n",
    "    plt.bar(range(len(d1)), d1.values(), align='center')\n",
    "    plt.xticks(range(len(d1)), list(d1.keys()))\n",
    "    plt.show()\n",
    "\n",
    "def main():\n",
    "    do()\n",
    "\n",
    "if __name__==\"__main__\":\n",
    "    main()"
   ]
  },
  {
   "cell_type": "code",
   "execution_count": null,
   "id": "15592200",
   "metadata": {},
   "outputs": [],
   "source": []
  }
 ],
 "metadata": {
  "kernelspec": {
   "display_name": "Python 3 (ipykernel)",
   "language": "python",
   "name": "python3"
  },
  "language_info": {
   "codemirror_mode": {
    "name": "ipython",
    "version": 3
   },
   "file_extension": ".py",
   "mimetype": "text/x-python",
   "name": "python",
   "nbconvert_exporter": "python",
   "pygments_lexer": "ipython3",
   "version": "3.9.13"
  }
 },
 "nbformat": 4,
 "nbformat_minor": 5
}
