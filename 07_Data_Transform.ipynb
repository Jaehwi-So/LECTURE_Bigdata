{
 "cells": [
  {
   "cell_type": "markdown",
   "id": "0b96bccf",
   "metadata": {},
   "source": [
    "# 데이터 변환 \n",
    "\n",
    "ML을 위해서는 원천데이터는 그대로는 사용하기 어렵고, 타겟으로 하는 모델의 입력으로 어떻게든 변환되어야 한다.   \n",
    "Label과 features를 가지고 있는 Labeled Point로 구성해보자\n",
    "\n",
    "해당 Jupyter Notebook에서는 다음 내용들을 다룬다.\n",
    "1. Vector와 Metrix\n",
    "2. Label Point(Label과 Features)\n",
    "3. Dataframe 단어 빈도(TF-IDF)\n",
    "4. 연속데이터의 변환\n",
    "5. VectorAssembler와 Pipeline\n"
   ]
  },
  {
   "cell_type": "code",
   "execution_count": 2,
   "id": "5cd2e25e",
   "metadata": {},
   "outputs": [
    {
     "name": "stderr",
     "output_type": "stream",
     "text": [
      "23/12/20 12:45:41 WARN Utils: Your hostname, sojaehwiui-MacBookPro.local resolves to a loopback address: 127.0.0.1; using 172.30.1.29 instead (on interface en0)\n",
      "23/12/20 12:45:41 WARN Utils: Set SPARK_LOCAL_IP if you need to bind to another address\n",
      "Setting default log level to \"WARN\".\n",
      "To adjust logging level use sc.setLogLevel(newLevel). For SparkR, use setLogLevel(newLevel).\n",
      "23/12/20 12:45:41 WARN NativeCodeLoader: Unable to load native-hadoop library for your platform... using builtin-java classes where applicable\n",
      "23/12/20 12:45:42 WARN Utils: Service 'SparkUI' could not bind on port 4040. Attempting port 4041.\n",
      "23/12/20 12:45:42 WARN Utils: Service 'SparkUI' could not bind on port 4041. Attempting port 4042.\n",
      "23/12/20 12:45:42 WARN Utils: Service 'SparkUI' could not bind on port 4042. Attempting port 4043.\n"
     ]
    }
   ],
   "source": [
    "import os, sys\n",
    "import pyspark\n",
    "myConf=pyspark.SparkConf()\n",
    "spark = pyspark.sql.SparkSession.builder\\\n",
    "    .master(\"local\")\\\n",
    "    .appName(\"myApp\")\\\n",
    "    .config(conf=myConf)\\\n",
    "    .getOrCreate()"
   ]
  },
  {
   "cell_type": "markdown",
   "id": "8bfe606f",
   "metadata": {},
   "source": [
    "# Vectors\n",
    "행렬 Vector는 dense와 sparse로 구분할 수 있다.\n",
    "\n",
    "밀집벡터 dense vector : 빈 값이 별로 없이 모든 행렬이 값을 가지고 있다. dense vectors는 numpy array와 같은 특징을 가진다   \n",
    "희소벡터 sparse vector : 빈 값이 많아서, 값이 있는 경우 그 값이 있는 인덱스로 표현해 배열을 축약하게 된다."
   ]
  },
  {
   "cell_type": "code",
   "execution_count": 3,
   "id": "f74aa06a",
   "metadata": {},
   "outputs": [],
   "source": [
    "# Dense Vectors 밀집벡터\n",
    "\n",
    "import numpy as np\n",
    "dv = np.array([1.0, 2.1, 3])\n",
    "\n",
    "from pyspark.mllib.linalg import Vectors\n",
    "dv1mllib=Vectors.dense([1.0, 2.1, 3])"
   ]
  },
  {
   "cell_type": "code",
   "execution_count": 4,
   "id": "72d1c129",
   "metadata": {},
   "outputs": [
    {
     "name": "stdout",
     "output_type": "stream",
     "text": [
      "Dense vector: [1.0,2.1,3.0]\n",
      "Type: <class 'pyspark.mllib.linalg.DenseVector'>\n"
     ]
    }
   ],
   "source": [
    "print (\"Dense vector: {}\\nType: {}\".format(dv1mllib, type(dv1mllib)))"
   ]
  },
  {
   "cell_type": "code",
   "execution_count": 5,
   "id": "aa3606df",
   "metadata": {},
   "outputs": [],
   "source": [
    "from pyspark.ml.linalg import Vectors\n",
    "\n",
    "dv1ml=Vectors.dense([1.0, 2.1, 3])"
   ]
  },
  {
   "cell_type": "code",
   "execution_count": 6,
   "id": "9ad19a73",
   "metadata": {},
   "outputs": [
    {
     "name": "stdout",
     "output_type": "stream",
     "text": [
      "ml의 dense vector: [1.0,2.1,3.0]\n"
     ]
    }
   ],
   "source": [
    "print (\"ml의 dense vector: {}\".format(dv1ml))"
   ]
  },
  {
   "cell_type": "markdown",
   "id": "93876135",
   "metadata": {},
   "source": [
    "### 벡터 연산"
   ]
  },
  {
   "cell_type": "code",
   "execution_count": 7,
   "id": "542c42a7",
   "metadata": {},
   "outputs": [
    {
     "data": {
      "text/plain": [
       "14.41"
      ]
     },
     "execution_count": 7,
     "metadata": {},
     "output_type": "execute_result"
    }
   ],
   "source": [
    "dv1mllib.dot(dv1mllib)\n",
    "# np.dot(dv,dv)"
   ]
  },
  {
   "cell_type": "code",
   "execution_count": 8,
   "id": "80e63b9d",
   "metadata": {},
   "outputs": [
    {
     "data": {
      "text/plain": [
       "DenseVector([1.0, 4.41, 9.0])"
      ]
     },
     "execution_count": 8,
     "metadata": {},
     "output_type": "execute_result"
    }
   ],
   "source": [
    "dv1mllib*dv1mllib"
   ]
  },
  {
   "cell_type": "code",
   "execution_count": 9,
   "id": "1315ce4b",
   "metadata": {},
   "outputs": [
    {
     "data": {
      "text/plain": [
       "array([160.,  69.,   0.,   0.,  24.])"
      ]
     },
     "execution_count": 9,
     "metadata": {},
     "output_type": "execute_result"
    }
   ],
   "source": [
    "# Sparse Vectors 희소행렬\n",
    "# sparse는 실제 값이 없는 요소, '0'을 제거하여 만든 vector\n",
    "\n",
    "# 5는 컬럼 갯수, 0, 1, 4는 값이 있는 컬럼, [160.0, 69.0, 24.0]는 실제 값을 의미한다.\n",
    "sv1 = Vectors.sparse(5, [0,1,4],[160.0, 69.0, 24.0]) \n",
    "\n",
    "type(sv1)\n",
    "sv1.toArray()"
   ]
  },
  {
   "cell_type": "markdown",
   "id": "2628cda3",
   "metadata": {},
   "source": [
    "# Matrix (2차원 Vector)"
   ]
  },
  {
   "cell_type": "code",
   "execution_count": 10,
   "id": "6efa79b1",
   "metadata": {},
   "outputs": [
    {
     "data": {
      "text/plain": [
       "DenseMatrix(3, 2, [1.0, 2.0, 3.0, 4.0, 5.0, 6.0], False)"
      ]
     },
     "execution_count": 10,
     "metadata": {},
     "output_type": "execute_result"
    }
   ],
   "source": [
    "from pyspark.mllib.linalg import Matrices\n",
    "\n",
    "Matrices.dense(3, 2, [1,2,3,4,5,6])"
   ]
  },
  {
   "cell_type": "code",
   "execution_count": 11,
   "id": "bf80ed07",
   "metadata": {},
   "outputs": [
    {
     "data": {
      "text/plain": [
       "array([[1., 4.],\n",
       "       [2., 5.],\n",
       "       [3., 6.]])"
      ]
     },
     "execution_count": 11,
     "metadata": {},
     "output_type": "execute_result"
    }
   ],
   "source": [
    "Matrices.dense(3, 2, [1,2,3,4,5,6]).toArray()"
   ]
  },
  {
   "cell_type": "code",
   "execution_count": 12,
   "id": "ef9f8fda",
   "metadata": {},
   "outputs": [
    {
     "name": "stdout",
     "output_type": "stream",
     "text": [
      "  (0, 0)\t1\n",
      "  (2, 0)\t4\n",
      "  (2, 1)\t5\n",
      "  (0, 2)\t2\n",
      "  (1, 2)\t3\n",
      "  (2, 2)\t6\n"
     ]
    }
   ],
   "source": [
    "# 밀집행렬 -> 열기반 희소행렬\n",
    "from scipy.sparse import csc_matrix #csc : 컬럼 별로\n",
    "\n",
    "sparse_csc = csc_matrix([[1, 0, 2],\n",
    "                         [0, 0, 3],\n",
    "                         [4, 5, 6]])\n",
    "print(sparse_csc)"
   ]
  },
  {
   "cell_type": "code",
   "execution_count": 13,
   "id": "996c2895",
   "metadata": {},
   "outputs": [
    {
     "name": "stdout",
     "output_type": "stream",
     "text": [
      "  (0, 0)\t1\n",
      "  (0, 2)\t2\n",
      "  (1, 2)\t3\n",
      "  (2, 0)\t4\n",
      "  (2, 1)\t5\n",
      "  (2, 2)\t6\n"
     ]
    }
   ],
   "source": [
    "from scipy.sparse import csr_matrix #csr : Row 별로\n",
    "\n",
    "sparse_csr = csr_matrix([[1, 0, 2],\n",
    "                         [0, 0, 3],\n",
    "                         [4, 5, 6]])\n",
    "print(sparse_csr)"
   ]
  },
  {
   "cell_type": "markdown",
   "id": "59bd2825",
   "metadata": {},
   "source": [
    "# 분산 Matrix\n",
    " \n",
    "매트릭스 역시 로컬과 분산으로 구분할 수 있다"
   ]
  },
  {
   "cell_type": "code",
   "execution_count": 14,
   "id": "72cdb974",
   "metadata": {},
   "outputs": [],
   "source": [
    "p = [[1.0,2.0,3.0],[1.1,2.1,3.1],[1.2,2.2,3.3]]\n",
    "\n",
    "my=spark.sparkContext.parallelize(p)"
   ]
  },
  {
   "cell_type": "code",
   "execution_count": 15,
   "id": "20d480a1",
   "metadata": {},
   "outputs": [
    {
     "name": "stderr",
     "output_type": "stream",
     "text": [
      "                                                                                \r"
     ]
    },
    {
     "data": {
      "text/plain": [
       "[DenseVector([1.0, 2.0, 3.0]),\n",
       " DenseVector([1.1, 2.1, 3.1]),\n",
       " DenseVector([1.2, 2.2, 3.3])]"
      ]
     },
     "execution_count": 15,
     "metadata": {},
     "output_type": "execute_result"
    }
   ],
   "source": [
    "from pyspark.mllib.linalg.distributed import RowMatrix\n",
    "rm=RowMatrix(my)\n",
    "rm.rows.collect()"
   ]
  },
  {
   "cell_type": "markdown",
   "id": "06bed7b1",
   "metadata": {},
   "source": [
    "# Indexed Row Matrix\n",
    "계열 데이터와 같이 순서가 있는 데이터를 저장하기에 적합.  \n",
    "Row Matrix과 유사하지만, 파티션으로 나누어, 그러나 순서를 지켜서 저장"
   ]
  },
  {
   "cell_type": "code",
   "execution_count": 16,
   "id": "2005086b",
   "metadata": {},
   "outputs": [],
   "source": [
    "from pyspark.mllib.linalg.distributed import IndexedRow\n",
    "\n",
    "irRdd = spark.sparkContext.parallelize([\n",
    "    IndexedRow(1, [3, 1, 2]),\n",
    "    IndexedRow(2, [1, 3, 2]),\n",
    "    IndexedRow(3, [5, 4, 3]),\n",
    "    IndexedRow(4, [6, 7, 4]),\n",
    "    IndexedRow(5, [8, 9, 2]),\n",
    "])"
   ]
  },
  {
   "cell_type": "code",
   "execution_count": 114,
   "id": "f8cd4aaa",
   "metadata": {},
   "outputs": [
    {
     "name": "stderr",
     "output_type": "stream",
     "text": [
      "\r",
      "[Stage 91:>                                                         (0 + 1) / 1]\r",
      "\r",
      "                                                                                \r"
     ]
    },
    {
     "name": "stdout",
     "output_type": "stream",
     "text": [
      "6\n",
      "3\n"
     ]
    },
    {
     "name": "stderr",
     "output_type": "stream",
     "text": [
      "\r",
      "[Stage 94:>                                                         (0 + 1) / 1]\r"
     ]
    },
    {
     "name": "stdout",
     "output_type": "stream",
     "text": [
      "[IndexedRow(1, [3.0,1.0,2.0]), IndexedRow(2, [1.0,3.0,2.0]), IndexedRow(3, [5.0,4.0,3.0]), IndexedRow(4, [6.0,7.0,4.0]), IndexedRow(5, [8.0,9.0,2.0])]\n"
     ]
    },
    {
     "name": "stderr",
     "output_type": "stream",
     "text": [
      "\r",
      "                                                                                \r"
     ]
    }
   ],
   "source": [
    "from pyspark.mllib.linalg.distributed import IndexedRowMatrix\n",
    "\n",
    "irm = IndexedRowMatrix(irRdd)\n",
    "print(irm.numRows())\n",
    "print(irm.numCols())\n",
    "print(irm.rows.collect())"
   ]
  },
  {
   "cell_type": "markdown",
   "id": "25976186",
   "metadata": {},
   "source": [
    "# Matrix to Dataframe"
   ]
  },
  {
   "cell_type": "code",
   "execution_count": 18,
   "id": "3e003acb",
   "metadata": {},
   "outputs": [],
   "source": [
    "from pyspark.mllib.linalg import Matrices\n",
    "\n",
    "my = Matrices.dense(3, 2, [1,2,3,4,5,6])"
   ]
  },
  {
   "cell_type": "code",
   "execution_count": 19,
   "id": "7913bcc4",
   "metadata": {},
   "outputs": [
    {
     "name": "stdout",
     "output_type": "stream",
     "text": [
      "+---+---+\n",
      "| c1| c2|\n",
      "+---+---+\n",
      "|1.0|4.0|\n",
      "|2.0|5.0|\n",
      "|3.0|6.0|\n",
      "+---+---+\n",
      "\n"
     ]
    }
   ],
   "source": [
    "my = Matrices.dense(3, 2, [1,2,3,4,5,6]).toArray().tolist()\n",
    "df = spark.createDataFrame(my, ['c1','c2'])\n",
    "df.show()"
   ]
  },
  {
   "cell_type": "markdown",
   "id": "9cf1002d",
   "metadata": {},
   "source": [
    "<br><hr><br>\n",
    "# Labeled point\n",
    "\n",
    "label, features로 구성\n",
    "분류 및 회귀분석에 사용되는 데이터 타잎이다. 'label'과 'features'로 구성된다.\n",
    "   \n",
    "Labeled Point는 로컬벡터로 레이블을 가지고 있는 밀집 또는 희소 행렬을 말한다. 레이블이 있으므로, supervised learning에 요구되는 형식이다. 레이블은 double형식으로 저장되어야 한다. 분류에 사용되려면 예를 들어 긍정, 부정인 경우 정수 1, 0으로 하지 않고 double 형식으로 저장"
   ]
  },
  {
   "cell_type": "code",
   "execution_count": 20,
   "id": "a64b3d79",
   "metadata": {},
   "outputs": [
    {
     "data": {
      "text/plain": [
       "LabeledPoint(1.0, [1.0,2.0,3.0])"
      ]
     },
     "execution_count": 20,
     "metadata": {},
     "output_type": "execute_result"
    }
   ],
   "source": [
    "from pyspark.mllib.regression import LabeledPoint\n",
    "\n",
    "LabeledPoint(1.0, [1.0, 2.0, 3.0]) #Label, [Features]"
   ]
  },
  {
   "cell_type": "code",
   "execution_count": 21,
   "id": "e1ff9b11",
   "metadata": {},
   "outputs": [
    {
     "data": {
      "text/plain": [
       "LabeledPoint(1992.0, (10,[0,1,2],[3.0,5.5,10.0]))"
      ]
     },
     "execution_count": 21,
     "metadata": {},
     "output_type": "execute_result"
    }
   ],
   "source": [
    "#희소 행렬 -> Features\n",
    "from pyspark.mllib.regression import LabeledPoint\n",
    "from pyspark.mllib.linalg import Vectors\n",
    "\n",
    "LabeledPoint(1992, Vectors.sparse(10, {0: 3.0, 1:5.5, 2: 10.0}))"
   ]
  },
  {
   "cell_type": "markdown",
   "id": "17710008",
   "metadata": {},
   "source": [
    "### ML Vector to mllib Labled Point"
   ]
  },
  {
   "cell_type": "code",
   "execution_count": 22,
   "id": "f16a6c69",
   "metadata": {},
   "outputs": [
    {
     "data": {
      "text/plain": [
       "LabeledPoint(1.0, [1.0,2.1,3.0])"
      ]
     },
     "execution_count": 22,
     "metadata": {},
     "output_type": "execute_result"
    }
   ],
   "source": [
    "from pyspark.mllib.regression import LabeledPoint\n",
    "from pyspark.mllib.linalg import Vectors\n",
    "\n",
    "LabeledPoint(1.0, Vectors.fromML(dv1ml))"
   ]
  },
  {
   "cell_type": "markdown",
   "id": "923a422c",
   "metadata": {},
   "source": [
    "# 문제 S-1: RDD 데이터를 LabeledPoint로 변환하기\n",
    "\n",
    "머신러닝은 사람이 경험을 통해 배우는 것과 비슷하게 과거 데이터로부터 학습을 한다. 학습이란 어렵게 생각할 필요 없이, 과거 데이터에서 수학적이나 알고리즘을 활용하여 어떤 패턴을 찾아내는 것이다. spark에서 제공한 데이터 파일 data/mllib/sample_svm_data.txt을 읽어서 훈련데이터를 만들어 보자.\n",
    "\n",
    "데이터를 읽어 보면, 맨 처음 값은 label에 해당하고, 다음은 일련의 수로 구성된다. 이로부터 RDD를 생성하고, label, features를 구성하여 Labeled Point로 만든다.\n",
    "\n",
    "1 0 2.52078447201548 0 0 0 2.004684436494304 2.000347299268466 0 2.228387042742021 2.228387042742023 0 0 0 0 0 0\n",
    "...\n"
   ]
  },
  {
   "cell_type": "code",
   "execution_count": 23,
   "id": "28498061",
   "metadata": {},
   "outputs": [],
   "source": [
    "import os\n",
    "_fsvm=os.path.join(os.getcwd(),'data','sample_svm_data.txt')\n",
    "# try:\n",
    "#     _f=open(_fsvm,'r')\n",
    "#     _lines=_f.readlines()\n",
    "#     _f.close()\n",
    "# except:\n",
    "#     print(\"An exception occurred\")\n",
    "\n",
    "# _lines[0] "
   ]
  },
  {
   "cell_type": "markdown",
   "id": "2eea49ee",
   "metadata": {},
   "source": [
    "### Spark에서 RDD 생성"
   ]
  },
  {
   "cell_type": "code",
   "execution_count": 24,
   "id": "0ee9f4b0",
   "metadata": {},
   "outputs": [
    {
     "data": {
      "text/plain": [
       "[1.0,\n",
       " 0.0,\n",
       " 2.52078447201548,\n",
       " 0.0,\n",
       " 0.0,\n",
       " 0.0,\n",
       " 2.004684436494304,\n",
       " 2.000347299268466,\n",
       " 0.0,\n",
       " 2.228387042742021,\n",
       " 2.228387042742023,\n",
       " 0.0,\n",
       " 0.0,\n",
       " 0.0,\n",
       " 0.0,\n",
       " 0.0,\n",
       " 0.0]"
      ]
     },
     "execution_count": 24,
     "metadata": {},
     "output_type": "execute_result"
    }
   ],
   "source": [
    "_rdd=spark.sparkContext.textFile(_fsvm)\\\n",
    "    .map(lambda line: [float(x) for x in line.split()])\n",
    "\n",
    "_rdd.take(2)[0]"
   ]
  },
  {
   "cell_type": "markdown",
   "id": "a00df63f",
   "metadata": {},
   "source": [
    "### LabeledPoint 생성"
   ]
  },
  {
   "cell_type": "code",
   "execution_count": 25,
   "id": "666d654c",
   "metadata": {},
   "outputs": [
    {
     "data": {
      "text/plain": [
       "[LabeledPoint(1.0, [0.0,2.52078447201548,0.0,0.0,0.0,2.004684436494304,2.000347299268466,0.0,2.228387042742021,2.228387042742023,0.0,0.0,0.0,0.0,0.0,0.0])]"
      ]
     },
     "execution_count": 25,
     "metadata": {},
     "output_type": "execute_result"
    }
   ],
   "source": [
    "from pyspark.mllib.regression import LabeledPoint\n",
    "\n",
    "_trainRdd0=_rdd.map(lambda line:LabeledPoint(line[0], line[1:]))\n",
    "_trainRdd0.take(1)"
   ]
  },
  {
   "cell_type": "code",
   "execution_count": 26,
   "id": "d38f4552",
   "metadata": {},
   "outputs": [
    {
     "data": {
      "text/plain": [
       "[LabeledPoint(1.0, [0.0,2.52078447201548,0.0,0.0,0.0,2.004684436494304,2.000347299268466,0.0,2.228387042742021,2.228387042742023,0.0,0.0,0.0,0.0,0.0,0.0])]"
      ]
     },
     "execution_count": 26,
     "metadata": {},
     "output_type": "execute_result"
    }
   ],
   "source": [
    "_trainRdd=spark.sparkContext.textFile(_fsvm)\\\n",
    "    .map(lambda line: [float(x) for x in line.split()])\\\n",
    "    .map(lambda p:LabeledPoint(p[0], p[1:]))\n",
    "\n",
    "_trainRdd.take(1)"
   ]
  },
  {
   "cell_type": "markdown",
   "id": "1b389514",
   "metadata": {},
   "source": [
    "# TF ( Term Frequency)\n",
    "단어 빈도를 분석해주는 라이브러리이다."
   ]
  },
  {
   "cell_type": "code",
   "execution_count": 27,
   "id": "9591c84b",
   "metadata": {},
   "outputs": [],
   "source": [
    "wikiRdd3 = spark.sparkContext\\\n",
    "    .textFile(os.path.join(\"data\",\"ds_spark_wiki.txt\"))\\\n",
    "    .map(lambda line: line.split())"
   ]
  },
  {
   "cell_type": "code",
   "execution_count": 28,
   "id": "30487ac9",
   "metadata": {},
   "outputs": [
    {
     "data": {
      "text/plain": [
       "[['Wikipedia'],\n",
       " ['Apache',\n",
       "  'Spark',\n",
       "  'is',\n",
       "  'an',\n",
       "  'open',\n",
       "  'source',\n",
       "  'cluster',\n",
       "  'computing',\n",
       "  'framework.'],\n",
       " ['아파치', '스파크는', '오픈', '소스', '클러스터', '컴퓨팅', '프레임워크이다.']]"
      ]
     },
     "execution_count": 28,
     "metadata": {},
     "output_type": "execute_result"
    }
   ],
   "source": [
    "wikiRdd3.take(3)"
   ]
  },
  {
   "cell_type": "code",
   "execution_count": 29,
   "id": "8abf13c2",
   "metadata": {},
   "outputs": [
    {
     "data": {
      "text/plain": [
       "[SparseVector(1048576, {1026674: 1.0}),\n",
       " SparseVector(1048576, {148618: 1.0, 183975: 1.0, 216207: 1.0, 261052: 1.0, 617454: 1.0, 696349: 1.0, 721336: 1.0, 816618: 1.0, 897662: 1.0}),\n",
       " SparseVector(1048576, {60386: 1.0, 177421: 1.0, 568609: 1.0, 569458: 1.0, 847171: 1.0, 850510: 1.0, 1040679: 1.0}),\n",
       " SparseVector(1048576, {261052: 4.0, 816618: 4.0}),\n",
       " SparseVector(1048576, {60386: 4.0, 594754: 4.0}),\n",
       " SparseVector(1048576, {21980: 1.0, 70882: 1.0, 274690: 1.0, 357784: 1.0, 549790: 1.0, 597434: 1.0, 804583: 1.0, 829803: 1.0, 935701: 1.0}),\n",
       " SparseVector(1048576, {154253: 1.0, 261052: 1.0, 438276: 1.0, 460085: 1.0, 585459: 1.0, 664288: 1.0, 816618: 1.0, 935701: 2.0, 948143: 1.0, 1017889: 1.0}),\n",
       " SparseVector(1048576, {270017: 1.0, 472985: 1.0, 511771: 1.0, 718483: 1.0, 820917: 1.0}),\n",
       " SparseVector(1048576, {34116: 1.0, 87407: 1.0, 276491: 1.0, 348943: 1.0, 482882: 1.0, 549350: 1.0, 721336: 1.0, 816618: 1.0, 1025622: 1.0}),\n",
       " SparseVector(1048576, {1769: 1.0, 151357: 1.0, 500659: 1.0, 547760: 1.0, 979482: 1.0})]"
      ]
     },
     "execution_count": 29,
     "metadata": {},
     "output_type": "execute_result"
    }
   ],
   "source": [
    "from pyspark.mllib.feature import HashingTF\n",
    "\n",
    "hashingTF = HashingTF()\n",
    "tf = hashingTF.transform(wikiRdd3)\n",
    "tf.collect()\n",
    "\n",
    "# tf는 Value가 1 또는 2 따위의 정수이다."
   ]
  },
  {
   "cell_type": "code",
   "execution_count": 30,
   "id": "4223bb89",
   "metadata": {},
   "outputs": [
    {
     "name": "stderr",
     "output_type": "stream",
     "text": [
      "                                                                                \r"
     ]
    },
    {
     "data": {
      "text/plain": [
       "[SparseVector(1048576, {1026674: 1.7047}),\n",
       " SparseVector(1048576, {148618: 1.7047, 183975: 1.7047, 216207: 1.7047, 261052: 1.0116, 617454: 1.7047, 696349: 1.7047, 721336: 1.2993, 816618: 0.7885, 897662: 1.7047}),\n",
       " SparseVector(1048576, {60386: 1.2993, 177421: 1.7047, 568609: 1.7047, 569458: 1.7047, 847171: 1.7047, 850510: 1.7047, 1040679: 1.7047}),\n",
       " SparseVector(1048576, {261052: 4.0464, 816618: 3.1538}),\n",
       " SparseVector(1048576, {60386: 5.1971, 594754: 6.819}),\n",
       " SparseVector(1048576, {21980: 1.7047, 70882: 1.7047, 274690: 1.7047, 357784: 1.7047, 549790: 1.7047, 597434: 1.7047, 804583: 1.7047, 829803: 1.7047, 935701: 1.2993}),\n",
       " SparseVector(1048576, {154253: 1.7047, 261052: 1.0116, 438276: 1.7047, 460085: 1.7047, 585459: 1.7047, 664288: 1.7047, 816618: 0.7885, 935701: 2.5986, 948143: 1.7047, 1017889: 1.7047}),\n",
       " SparseVector(1048576, {270017: 1.7047, 472985: 1.7047, 511771: 1.7047, 718483: 1.7047, 820917: 1.7047}),\n",
       " SparseVector(1048576, {34116: 1.7047, 87407: 1.7047, 276491: 1.7047, 348943: 1.7047, 482882: 1.7047, 549350: 1.7047, 721336: 1.2993, 816618: 0.7885, 1025622: 1.7047}),\n",
       " SparseVector(1048576, {1769: 1.7047, 151357: 1.7047, 500659: 1.7047, 547760: 1.7047, 979482: 1.7047})]"
      ]
     },
     "execution_count": 30,
     "metadata": {},
     "output_type": "execute_result"
    }
   ],
   "source": [
    "# TF-IDF : IDF는 전체에서 몇 개의 문서에 씌였는지를 반대로 계산한 값\n",
    "\n",
    "from pyspark.mllib.feature import HashingTF, IDF\n",
    "\n",
    "idf = IDF().fit(tf)\n",
    "tfidf = idf.transform(tf)\n",
    "tfidf.collect()\n",
    "\n",
    "#idf는 Value가 소수점이다. 주요도에 따라서 가중치를 부여하기 때문"
   ]
  },
  {
   "cell_type": "code",
   "execution_count": 31,
   "id": "2c665986",
   "metadata": {},
   "outputs": [
    {
     "data": {
      "text/plain": [
       "[['1', '65.78', '112.99']]"
      ]
     },
     "execution_count": 31,
     "metadata": {},
     "output_type": "execute_result"
    }
   ],
   "source": [
    "# StandardScaler -> 스케일을 표준화해주는 수단( (ex) 키와 몸무게의 스케일이 다를 때 )\n",
    "# 데이터를 표준화하려면 1) 평균과 표준편차를 계산하고, 2) 측정값에서 평균을 빼고, 표준편차로 나누어 주면 된다. 즉 zscore를 계산하는 것과 같다.\n",
    "\n",
    "tRdd = spark.sparkContext\\\n",
    "    .textFile(os.path.join('data', 'ds_spark_heightweight.txt'))\n",
    "\n",
    "tRdd.map(lambda x: x.split('\\t')).take(1)"
   ]
  },
  {
   "cell_type": "code",
   "execution_count": 32,
   "id": "f3911a10",
   "metadata": {},
   "outputs": [
    {
     "data": {
      "text/plain": [
       "[['1', 65.78, 112.99]]"
      ]
     },
     "execution_count": 32,
     "metadata": {},
     "output_type": "execute_result"
    }
   ],
   "source": [
    "tRdd.map(lambda x: x.split('\\t')).map(lambda x: [str(x[0]), float(x[1]), float(x[2])]).take(1)"
   ]
  },
  {
   "cell_type": "code",
   "execution_count": 33,
   "id": "85ee70e9",
   "metadata": {},
   "outputs": [
    {
     "data": {
      "text/plain": [
       "[['1', 65.78, 112.99]]"
      ]
     },
     "execution_count": 33,
     "metadata": {},
     "output_type": "execute_result"
    }
   ],
   "source": [
    "tRdd.map(lambda x: x.split('\\t'))\\\n",
    "    .map(lambda x: [str(x[0]), float(x[1]), float(x[2])])\\\n",
    "    .take(1)"
   ]
  },
  {
   "cell_type": "code",
   "execution_count": 34,
   "id": "19c8adcd",
   "metadata": {},
   "outputs": [],
   "source": [
    "# Dense Vectors에 별도로 저장하기\n",
    "from pyspark.mllib.linalg import Vectors\n",
    "\n",
    "_tRdd =tRdd\\\n",
    "    .map(lambda x: x.split('\\t'))\\\n",
    "    .map(lambda x: [str(x[0]), float(x[1]), float(x[2])])\\\n",
    "    .map(lambda x: Vectors.dense([x[1], x[2]]))"
   ]
  },
  {
   "cell_type": "code",
   "execution_count": 35,
   "id": "45882ddf",
   "metadata": {},
   "outputs": [],
   "source": [
    "# 리스트로 저장하기\n",
    "from pyspark.mllib.linalg import Vectors\n",
    "\n",
    "_tRdd =tRdd\\\n",
    "    .map(lambda x: x.split('\\t'))\\\n",
    "    .map(lambda x: [str(x[0]), float(x[1]), float(x[2])])\\\n",
    "    .map(lambda x: [x[1], x[2]])"
   ]
  },
  {
   "cell_type": "code",
   "execution_count": 36,
   "id": "b5702bc0",
   "metadata": {},
   "outputs": [
    {
     "data": {
      "text/plain": [
       "[DenseVector([-1.2458, -1.2299]),\n",
       " DenseVector([1.9011, 0.5934]),\n",
       " DenseVector([0.7388, 1.8767]),\n",
       " DenseVector([0.0919, 1.0473]),\n",
       " DenseVector([-0.1439, 1.1993])]"
      ]
     },
     "execution_count": 36,
     "metadata": {},
     "output_type": "execute_result"
    }
   ],
   "source": [
    "# 표준화\n",
    "from pyspark.mllib.feature import StandardScaler\n",
    "scaler1 = StandardScaler().fit(_tRdd)\n",
    "scaler2 = StandardScaler(withMean=True, withStd=True).fit(_tRdd)\n",
    "\n",
    "scaler2.transform(_tRdd).take(5)"
   ]
  },
  {
   "cell_type": "markdown",
   "id": "3f2ea0e2",
   "metadata": {},
   "source": [
    "<br><hr>\n",
    "# DataFrame 변환\n",
    "\n",
    "기계학습에 넘겨줄 입력데이터를 형식에 맞추어야 한다.   \n",
    "데이터로부터 특징을 추출하여 feature vectors를 구성한다. 지도학습을 하는 경우에는 class 또는 label 값이 필요"
   ]
  },
  {
   "cell_type": "code",
   "execution_count": 37,
   "id": "a5cf9cce",
   "metadata": {},
   "outputs": [
    {
     "data": {
      "text/plain": [
       "[Row(_1=1, _2=[1.0, 2.0, 3.0]),\n",
       " Row(_1=1, _2=[1.1, 2.1, 3.1]),\n",
       " Row(_1=0, _2=[1.2, 2.2, 3.3])]"
      ]
     },
     "execution_count": 37,
     "metadata": {},
     "output_type": "execute_result"
    }
   ],
   "source": [
    "# 레이블이 있는 Python List에서 DataFrame 생성\n",
    "\n",
    "p = [[1, [1.0, 2.0, 3.0]], [1, [1.1, 2.1, 3.1]], [0, [1.2, 2.2, 3.3]]]\n",
    "trainDf=spark.createDataFrame(p)\n",
    "trainDf.collect() \n",
    "\n",
    "#컬럼이 자동 명명되어서 만족스럽지 못함(_1, _2)"
   ]
  },
  {
   "cell_type": "markdown",
   "id": "fe6430a1",
   "metadata": {},
   "source": [
    "### LabeledPoint에서 DataFrame 생성\n",
    "LabeledPoint는 RDD에서 사용하는 구조"
   ]
  },
  {
   "cell_type": "code",
   "execution_count": 38,
   "id": "e8745781",
   "metadata": {},
   "outputs": [
    {
     "data": {
      "text/plain": [
       "[Row(features=DenseVector([1.0, 2.0, 3.0]), label=1.0),\n",
       " Row(features=DenseVector([1.1, 2.1, 3.1]), label=1.0),\n",
       " Row(features=DenseVector([1.2, 2.2, 3.3]), label=0.0)]"
      ]
     },
     "execution_count": 38,
     "metadata": {},
     "output_type": "execute_result"
    }
   ],
   "source": [
    "from pyspark.mllib.regression import LabeledPoint\n",
    "p = [LabeledPoint(1, [1.0,2.0,3.0]),\n",
    "     LabeledPoint(1, [1.1,2.1,3.1]),\n",
    "     LabeledPoint(0, [1.2,2.2,3.3])]\n",
    "\n",
    "trainDf=spark.createDataFrame(p)\n",
    "trainDf.collect()"
   ]
  },
  {
   "cell_type": "markdown",
   "id": "de11e26a",
   "metadata": {},
   "source": [
    "### mllib Vectors를 사용하여 DataFrame을 생성"
   ]
  },
  {
   "cell_type": "code",
   "execution_count": 39,
   "id": "0eb5ea67",
   "metadata": {},
   "outputs": [
    {
     "data": {
      "text/plain": [
       "[Row(label=1.0, features=DenseVector([0.0, 1.1, 0.1])),\n",
       " Row(label=0.0, features=DenseVector([2.0, 1.0, 1.0])),\n",
       " Row(label=0.0, features=DenseVector([2.0, 1.3, 1.0])),\n",
       " Row(label=1.0, features=DenseVector([0.0, 1.2, 0.5]))]"
      ]
     },
     "execution_count": 39,
     "metadata": {},
     "output_type": "execute_result"
    }
   ],
   "source": [
    "from pyspark.mllib.linalg import Vectors\n",
    "\n",
    "trainDf = spark.createDataFrame([\n",
    "    (1.0, Vectors.dense([0.0, 1.1, 0.1])),\n",
    "    (0.0, Vectors.dense([2.0, 1.0, 1.0])),\n",
    "    (0.0, Vectors.dense([2.0, 1.3, 1.0])),\n",
    "    (1.0, Vectors.dense([0.0, 1.2, 0.5]))], [\"label\", \"features\"])\n",
    "\n",
    "trainDf.collect()"
   ]
  },
  {
   "cell_type": "markdown",
   "id": "f31134af",
   "metadata": {},
   "source": [
    "### RDD에서 DataFrame 생성\n",
    "rdd에서 DataFrame을 생성하면 labe, features이 당연히 생성이 되지 않는다."
   ]
  },
  {
   "cell_type": "code",
   "execution_count": 40,
   "id": "16582458",
   "metadata": {},
   "outputs": [
    {
     "name": "stdout",
     "output_type": "stream",
     "text": [
      "+-----+--------------------+\n",
      "|label|            features|\n",
      "+-----+--------------------+\n",
      "|  0.0| (4,[1,3],[1.0,5.5])|\n",
      "|  1.0|(4,[0,2],[-1.0,0.5])|\n",
      "+-----+--------------------+\n",
      "\n"
     ]
    }
   ],
   "source": [
    "from pyspark.ml.linalg import SparseVector # ml ok\n",
    "\n",
    "_rdd = spark.sparkContext.parallelize([\n",
    "    (0.0, SparseVector(4, {1: 1.0, 3: 5.5})),\n",
    "    (1.0, SparseVector(4, {0: -1.0, 2: 0.5}))])\n",
    "\n",
    "_df=_rdd.toDF()\n",
    "_df=_df.withColumnRenamed('_1', 'label').withColumnRenamed('_2', 'features')\n",
    "_df.show()"
   ]
  },
  {
   "cell_type": "markdown",
   "id": "021824b8",
   "metadata": {},
   "source": [
    "# Dataframe 단어 빈도\n",
    "\n",
    "\n",
    "### Bag of Words 모델 : 자연어처리 NLP에서 사용하는 모델로, 텍스트를 단어의 집합(Set!)\n",
    "\n",
    "### 텍스트 변환 단계\n",
    "텍스트를 변환하는 단계를 보자. 순서는 변경될 수 있다.\n",
    "\n",
    "#### 1단계 : 단어로 분할 Tokenization\n",
    "- 그, 영화는, 매우, 강렬했다, 그냥, 좋았다, 영화관에서, 보는, 동안, 긴장을, 늦출, 수, 없었다, 갑돌이가, 분장한, 악당의, 케릭터가, 만들어지는, 과정은, 흥미롭지, 않을, 수가, 없었다, 무비의, 이야기, 전개는, 빠르고, 무엇이, 진실이고, 거짓인지, 판단할, 수, 없었다, 누가, 이런, 영화를, 좋아, 하지, 않을, 수가, 있겠는가, 이모티콘\n",
    "\n",
    "#### 2단계 : 정리\n",
    "- 불필요, 오타 등\n",
    "\n",
    "#### 3단계 : 불용어 stopwords 제거\n",
    "- 그, 수, 수가, 수, 이런, 하지, 수가 등\n",
    "\n",
    "#### 4단계 : 어간 추출 \n",
    "- stemming 영화는, 영화의는 다른 단어지만 조사를 제거하면 동일한 단어\n",
    "- 좋았다, 좋아 단어들은 어근을 판별하면 동일한 단어이다.\n",
    "- 영화, 무비의 단어는 이음동의\n",
    "\n",
    "#### 5단계 : 계량화\n",
    "- word vector로 만든다.\n",
    "- 있다-없다, 단어빈도, TF-IDF 사용할 수 있다.\n",
    "- dense, sparse 모두 가능하다.\n",
    "\n",
    "```\n",
    "[0 0 0 0 1 0 0 1 0 0 0 0 0 0 0 1 1 0 0 0 0 1 0 1 1 0 0 0]\n",
    "[0 0 1 0 0 0 0 0 0 0 0 1 1 1 0 0 0 0 0 0 0 0 1 0 0 0 0 0]\n",
    "[0 1 0 0 0 0 0 0 0 1 1 0 0 0 0 0 1 0 0 1 0 0 0 0 0 0 1 1]\n",
    "[1 0 0 1 0 0 1 1 0 0 0 0 0 0 1 0 1 0 0 0 0 0 0 0 0 0 0 0]\n",
    "[0 0 0 0 0 1 0 1 1 0 0 0 1 0 0 0 1 1 1 0 1 0 0 0 0 0 0 0]\n",
    "[0 1 0 0 0 0 0 0 0 1 1 0 0 0 0 0 1 0 0 1 0 0 0 0 0 0 1 1]\n",
    "[0 1 0 0 0 0 0 0 0 1 1 0 0 0 0 0 0 0 0 0 0 0 0 0 0 0 0 0]\n",
    "[0 1 0 0 0 0 0 0 0 1 1 0 0 0 0 0 0 0 0 0 0 0 0 0 0 0 0 0]\n",
    "[0 1 0 0 0 0 0 0 0 1 1 0 0 0 0 0 0 0 0 0 0 0 0 0 0 0 0 0]\n",
    "[0 1 0 0 0 0 0 0 0 1 1 0 0 0 0 0 0 0 0 0 0 0 0 0 0 0 0 0]\n",
    "[0 1 0 0 0 0 0 0 0 1 1 0 0 0 0 0 1 0 0 0 0 0 0 0 0 1 1 1]\n",
    "```"
   ]
  },
  {
   "cell_type": "code",
   "execution_count": 41,
   "id": "5e5ad6f8",
   "metadata": {},
   "outputs": [],
   "source": [
    "doc2d=[\n",
    "    [\"When I find myself in times of trouble\"],\n",
    "    [\"Mother Mary comes to me\"],\n",
    "    [\"Speaking words of wisdom, let it be\"],\n",
    "    [\"And in my hour of darkness\"],\n",
    "    [\"She is standing right in front of me\"],\n",
    "    [\"Speaking words of wisdom, let it be\"],\n",
    "    [u\"우리 Let it be\"],\n",
    "    [u\"나 Let it be\"],\n",
    "    [u\"너 Let it be\"],\n",
    "    [\"Let it be\"],\n",
    "    [\"Whisper words of wisdom, let it be\"]\n",
    "]"
   ]
  },
  {
   "cell_type": "markdown",
   "id": "2b853b95",
   "metadata": {},
   "source": [
    "## Spark의 transformer, estimator -> RDD의 map-reduce!\n",
    "### Dataframe에서는 Map-Reduce를 사용할 수 없다!\n",
    "RDD를 만들고 나서도 데이터를 변환하기 위해 map-reduce와 같은 함수 또는 transform(), fit()을 사용하는 것과 같이, DataFrame도 역시 Transformer, Estimator를 사용할 수 있다\n",
    "\n",
    "1. Estimator: fit() 함수를 제공하는 객체이다. Estimator.fit()함수는 DataFrame에 적용되는 알고리즘을 적용하여, 모델인 Transformer를 생성\n",
    "2. Transformer: transform() 함수를 통해 위 모델을 적용하여 데이터를 변환하여 DataFrame을 생성\n",
    "3. Evaluator: 모델의 정확성을 측정"
   ]
  },
  {
   "cell_type": "code",
   "execution_count": 42,
   "id": "3a56e690",
   "metadata": {},
   "outputs": [
    {
     "name": "stdout",
     "output_type": "stream",
     "text": [
      "+--------------------+\n",
      "|                sent|\n",
      "+--------------------+\n",
      "|When I find mysel...|\n",
      "|Mother Mary comes...|\n",
      "|Speaking words of...|\n",
      "|And in my hour of...|\n",
      "|She is standing r...|\n",
      "|Speaking words of...|\n",
      "|      우리 Let it be|\n",
      "|        나 Let it be|\n",
      "|        너 Let it be|\n",
      "|           Let it be|\n",
      "|Whisper words of ...|\n",
      "+--------------------+\n",
      "\n"
     ]
    }
   ],
   "source": [
    "myDf=spark.createDataFrame(doc2d, ['sent']) # DataFrame을 생성. schema는 만들어 주지 않고 컬럼명을 sent로 한다.\n",
    "myDf.show(truncate=True) # truncate : 출력을 줄임"
   ]
  },
  {
   "cell_type": "markdown",
   "id": "44cc528c",
   "metadata": {},
   "source": [
    "### 1-1. Tokenizer\n",
    "white space로 단어를 분리"
   ]
  },
  {
   "cell_type": "code",
   "execution_count": 43,
   "id": "99344dd8",
   "metadata": {},
   "outputs": [
    {
     "name": "stdout",
     "output_type": "stream",
     "text": [
      "+--------------------+--------------------+\n",
      "|                sent|               words|\n",
      "+--------------------+--------------------+\n",
      "|When I find mysel...|[when, i, find, m...|\n",
      "|Mother Mary comes...|[mother, mary, co...|\n",
      "|Speaking words of...|[speaking, words,...|\n",
      "+--------------------+--------------------+\n",
      "only showing top 3 rows\n",
      "\n"
     ]
    }
   ],
   "source": [
    "from pyspark.ml.feature import Tokenizer\n",
    "tokenizer = Tokenizer(inputCol=\"sent\", outputCol=\"words\") #입력 컬럼/출력 컬럼 지정\n",
    "\n",
    "\n",
    "tokDf = tokenizer.transform(myDf) #Transform\n",
    "\n",
    "tokDf.show(3)"
   ]
  },
  {
   "cell_type": "code",
   "execution_count": 44,
   "id": "c0ff1de4",
   "metadata": {},
   "outputs": [
    {
     "name": "stdout",
     "output_type": "stream",
     "text": [
      "Row(sent='When I find myself in times of trouble', words=['when', 'i', 'find', 'myself', 'in', 'times', 'of', 'trouble'])\n",
      "Row(sent='Mother Mary comes to me', words=['mother', 'mary', 'comes', 'to', 'me'])\n",
      "Row(sent='Speaking words of wisdom, let it be', words=['speaking', 'words', 'of', 'wisdom,', 'let', 'it', 'be'])\n"
     ]
    }
   ],
   "source": [
    "for r in tokDf.select(\"sent\", \"words\").take(3):\n",
    "    print (r)"
   ]
  },
  {
   "cell_type": "markdown",
   "id": "0bd9fd01",
   "metadata": {},
   "source": [
    "### 1-2. RegTokenizer\n",
    "Tokenizer는 white space로 분리하지만, RegexTokenizer는 단어를 분리하기 위해 정규표현식을 적용할 수 있다."
   ]
  },
  {
   "cell_type": "code",
   "execution_count": 45,
   "id": "0c96b228",
   "metadata": {},
   "outputs": [
    {
     "name": "stdout",
     "output_type": "stream",
     "text": [
      "+--------------------+--------------------+\n",
      "|                sent|            wordsReg|\n",
      "+--------------------+--------------------+\n",
      "|When I find mysel...|[when, i, find, m...|\n",
      "|Mother Mary comes...|[mother, mary, co...|\n",
      "|Speaking words of...|[speaking, words,...|\n",
      "|And in my hour of...|[and, in, my, hou...|\n",
      "|She is standing r...|[she, is, standin...|\n",
      "|Speaking words of...|[speaking, words,...|\n",
      "|      우리 Let it be| [우리, let, it, be]|\n",
      "|        나 Let it be|   [나, let, it, be]|\n",
      "|        너 Let it be|   [너, let, it, be]|\n",
      "|           Let it be|       [let, it, be]|\n",
      "|Whisper words of ...|[whisper, words, ...|\n",
      "+--------------------+--------------------+\n",
      "\n"
     ]
    }
   ],
   "source": [
    "from pyspark.ml.feature import RegexTokenizer\n",
    "\n",
    "re = RegexTokenizer(inputCol=\"sent\", outputCol=\"wordsReg\", pattern=\"\\\\s+\")\n",
    "reDf=re.transform(myDf)\n",
    "reDf.show()"
   ]
  },
  {
   "cell_type": "markdown",
   "id": "e6f6f36a",
   "metadata": {},
   "source": [
    "### 2. 불용어 제거(Stopwords)\n",
    "별 의미가 없거나 쓸모가 없는 단어들이 존재한다.  \n",
    "예를 들어 이, 그, 저와 같은 한 단어 또는 있다 등과 같은 일부 동사, 그래서, 그러나 등과 같은 접속사 등"
   ]
  },
  {
   "cell_type": "code",
   "execution_count": 46,
   "id": "cb45b415",
   "metadata": {},
   "outputs": [],
   "source": [
    "from pyspark.ml.feature import StopWordsRemover\n",
    "stop = StopWordsRemover(inputCol=\"wordsReg\", outputCol=\"nostops\")"
   ]
  },
  {
   "cell_type": "code",
   "execution_count": 47,
   "id": "496ea826",
   "metadata": {},
   "outputs": [
    {
     "data": {
      "text/plain": [
       "StopWordsRemover_ccd7e9a257e2"
      ]
     },
     "execution_count": 47,
     "metadata": {},
     "output_type": "execute_result"
    }
   ],
   "source": [
    "# 불용어 리스트 가져오기\n",
    "stopwords=list()\n",
    "\n",
    "_stopwords=stop.getStopWords()\n",
    "for e in _stopwords:\n",
    "    stopwords.append(e)\n",
    "\n",
    "# 자신의 불용어 리스트 추가\n",
    "_mystopwords=[u\"나\",u\"너\", u\"우리\"] #u는 유니코드(Python3에서는 안적어도 된다)\n",
    "for e in _mystopwords:\n",
    "    stopwords.append(e)\n",
    "    \n",
    "stop.setStopWords(stopwords)"
   ]
  },
  {
   "cell_type": "code",
   "execution_count": 48,
   "id": "bc8f74e9",
   "metadata": {},
   "outputs": [
    {
     "name": "stdout",
     "output_type": "stream",
     "text": [
      "i/me/my/myself/we/our/ours/ourselves/you/your/yours/yourself/yourselves/he/him/his/himself/she/her/hers/herself/it/its/itself/they/them/their/theirs/themselves/what/which/who/whom/this/that/these/those/am/is/are/was/were/be/been/being/have/has/had/having/do/does/did/doing/a/an/the/and/but/if/or/because/as/until/while/of/at/by/for/with/about/against/between/into/through/during/before/after/above/below/to/from/up/down/in/out/on/off/over/under/again/further/then/once/here/there/when/where/why/how/all/any/both/each/few/more/most/other/some/such/no/nor/not/only/own/same/so/than/too/very/s/t/can/will/just/don/should/now/i'll/you'll/he'll/she'll/we'll/they'll/i'd/you'd/he'd/she'd/we'd/they'd/i'm/you're/he's/she's/it's/we're/they're/i've/we've/you've/they've/isn't/aren't/wasn't/weren't/haven't/hasn't/hadn't/don't/doesn't/didn't/won't/wouldn't/shan't/shouldn't/mustn't/can't/couldn't/cannot/could/here's/how's/let's/ought/that's/there's/what's/when's/where's/who's/why's/would/나/너/우리/"
     ]
    }
   ],
   "source": [
    "for e in stop.getStopWords():\n",
    "    print (e, end=\"/\")"
   ]
  },
  {
   "cell_type": "code",
   "execution_count": 49,
   "id": "aeae1cb8",
   "metadata": {},
   "outputs": [
    {
     "name": "stdout",
     "output_type": "stream",
     "text": [
      "+--------------------+--------------------+--------------------+\n",
      "|                sent|            wordsReg|             nostops|\n",
      "+--------------------+--------------------+--------------------+\n",
      "|When I find mysel...|[when, i, find, m...|[find, times, tro...|\n",
      "|Mother Mary comes...|[mother, mary, co...|[mother, mary, co...|\n",
      "|Speaking words of...|[speaking, words,...|[speaking, words,...|\n",
      "|And in my hour of...|[and, in, my, hou...|    [hour, darkness]|\n",
      "|She is standing r...|[she, is, standin...|[standing, right,...|\n",
      "|Speaking words of...|[speaking, words,...|[speaking, words,...|\n",
      "|      우리 Let it be| [우리, let, it, be]|               [let]|\n",
      "|        나 Let it be|   [나, let, it, be]|               [let]|\n",
      "|        너 Let it be|   [너, let, it, be]|               [let]|\n",
      "|           Let it be|       [let, it, be]|               [let]|\n",
      "|Whisper words of ...|[whisper, words, ...|[whisper, words, ...|\n",
      "+--------------------+--------------------+--------------------+\n",
      "\n"
     ]
    }
   ],
   "source": [
    "# Tokenizer한 단어들에서 불용어 제거하기\n",
    "stopDf=stop.transform(reDf)\n",
    "stopDf.show()"
   ]
  },
  {
   "cell_type": "markdown",
   "id": "5c3ce133",
   "metadata": {},
   "source": [
    "### 3. 빈도 계산 (CountVectorizer)\n",
    "단어 빈도를 ML을 위해서 Word Vector로 표현해야 한다."
   ]
  },
  {
   "cell_type": "markdown",
   "id": "0e2ee997",
   "metadata": {},
   "source": [
    "### 3-1. ScikitLearn 사용"
   ]
  },
  {
   "cell_type": "code",
   "execution_count": 50,
   "id": "0fb08bc3",
   "metadata": {},
   "outputs": [],
   "source": [
    "# 2차원 -> 1차원\n",
    "from functools import reduce\n",
    "doc = reduce(lambda x,y: x+y, doc2d)"
   ]
  },
  {
   "cell_type": "code",
   "execution_count": 51,
   "id": "f55e364f",
   "metadata": {},
   "outputs": [
    {
     "name": "stdout",
     "output_type": "stream",
     "text": [
      "  (0, 9)\t1\n",
      "  (0, 10)\t1\n",
      "  (1, 5)\t1\n",
      "  (1, 4)\t1\n",
      "  (1, 0)\t1\n",
      "  (2, 7)\t1\n",
      "  (2, 13)\t1\n",
      "  (2, 12)\t1\n",
      "  (2, 3)\t1\n",
      "  (3, 2)\t1\n",
      "  (3, 1)\t1\n",
      "  (4, 8)\t1\n",
      "  (4, 6)\t1\n",
      "  (5, 7)\t1\n",
      "  (5, 13)\t1\n",
      "  (5, 12)\t1\n",
      "  (5, 3)\t1\n",
      "  (6, 3)\t1\n",
      "  (6, 14)\t1\n",
      "  (7, 3)\t1\n",
      "  (8, 3)\t1\n",
      "  (9, 3)\t1\n",
      "  (10, 13)\t1\n",
      "  (10, 12)\t1\n",
      "  (10, 3)\t1\n",
      "  (10, 11)\t1\n"
     ]
    }
   ],
   "source": [
    "from sklearn.feature_extraction.text import CountVectorizer\n",
    "\n",
    "vectorizer = CountVectorizer(stop_words='english')\n",
    "\n",
    "print (vectorizer.fit_transform(doc)) # 괄호(문서번호, 단어번호)의 빈도"
   ]
  },
  {
   "cell_type": "code",
   "execution_count": 52,
   "id": "5724d73d",
   "metadata": {},
   "outputs": [
    {
     "name": "stdout",
     "output_type": "stream",
     "text": [
      "  (0, 9)\t1\n",
      "  (0, 10)\t1\n",
      "  (1, 5)\t1\n",
      "  (1, 4)\t1\n",
      "  (1, 0)\t1\n",
      "  (2, 7)\t1\n",
      "  (2, 13)\t1\n",
      "  (2, 12)\t1\n",
      "  (2, 3)\t1\n",
      "  (3, 2)\t1\n",
      "  (3, 1)\t1\n",
      "  (4, 8)\t1\n",
      "  (4, 6)\t1\n",
      "  (5, 7)\t1\n",
      "  (5, 13)\t1\n",
      "  (5, 12)\t1\n",
      "  (5, 3)\t1\n",
      "  (6, 3)\t1\n",
      "  (6, 14)\t1\n",
      "  (7, 3)\t1\n",
      "  (8, 3)\t1\n",
      "  (9, 3)\t1\n",
      "  (10, 13)\t1\n",
      "  (10, 12)\t1\n",
      "  (10, 3)\t1\n",
      "  (10, 11)\t1\n"
     ]
    }
   ],
   "source": [
    "print (vectorizer.fit_transform(doc))"
   ]
  },
  {
   "cell_type": "code",
   "execution_count": 53,
   "id": "077a815d",
   "metadata": {},
   "outputs": [
    {
     "data": {
      "text/plain": [
       "{'times': 9,\n",
       " 'trouble': 10,\n",
       " 'mother': 5,\n",
       " 'mary': 4,\n",
       " 'comes': 0,\n",
       " 'speaking': 7,\n",
       " 'words': 13,\n",
       " 'wisdom': 12,\n",
       " 'let': 3,\n",
       " 'hour': 2,\n",
       " 'darkness': 1,\n",
       " 'standing': 8,\n",
       " 'right': 6,\n",
       " '우리': 14,\n",
       " 'whisper': 11}"
      ]
     },
     "execution_count": 53,
     "metadata": {},
     "output_type": "execute_result"
    }
   ],
   "source": [
    "vectorizer.vocabulary_"
   ]
  },
  {
   "cell_type": "code",
   "execution_count": 54,
   "id": "2c8691b2",
   "metadata": {},
   "outputs": [
    {
     "data": {
      "text/plain": [
       "matrix([[0, 0, 0, 0, 0, 0, 0, 0, 0, 1, 1, 0, 0, 0, 0],\n",
       "        [1, 0, 0, 0, 1, 1, 0, 0, 0, 0, 0, 0, 0, 0, 0],\n",
       "        [0, 0, 0, 1, 0, 0, 0, 1, 0, 0, 0, 0, 1, 1, 0],\n",
       "        [0, 1, 1, 0, 0, 0, 0, 0, 0, 0, 0, 0, 0, 0, 0],\n",
       "        [0, 0, 0, 0, 0, 0, 1, 0, 1, 0, 0, 0, 0, 0, 0],\n",
       "        [0, 0, 0, 1, 0, 0, 0, 1, 0, 0, 0, 0, 1, 1, 0],\n",
       "        [0, 0, 0, 1, 0, 0, 0, 0, 0, 0, 0, 0, 0, 0, 1],\n",
       "        [0, 0, 0, 1, 0, 0, 0, 0, 0, 0, 0, 0, 0, 0, 0],\n",
       "        [0, 0, 0, 1, 0, 0, 0, 0, 0, 0, 0, 0, 0, 0, 0],\n",
       "        [0, 0, 0, 1, 0, 0, 0, 0, 0, 0, 0, 0, 0, 0, 0],\n",
       "        [0, 0, 0, 1, 0, 0, 0, 0, 0, 0, 0, 1, 1, 1, 0]])"
      ]
     },
     "execution_count": 54,
     "metadata": {},
     "output_type": "execute_result"
    }
   ],
   "source": [
    "vectorizer.fit_transform(doc).todense()"
   ]
  },
  {
   "cell_type": "markdown",
   "id": "8fb2496d",
   "metadata": {},
   "source": [
    "### 3-2 Spark CountVectorizer"
   ]
  },
  {
   "cell_type": "code",
   "execution_count": 55,
   "id": "62646c29",
   "metadata": {},
   "outputs": [],
   "source": [
    "from pyspark.ml.feature import CountVectorizer\n",
    "cv = CountVectorizer(inputCol=\"nostops\", outputCol=\"cv\", vocabSize=30, minDF=1.0) #vocabSize : 최대 단어 수 지정"
   ]
  },
  {
   "cell_type": "code",
   "execution_count": 56,
   "id": "e658cc78",
   "metadata": {},
   "outputs": [
    {
     "name": "stdout",
     "output_type": "stream",
     "text": [
      "+--------------------+--------------------+--------------------+--------------------+\n",
      "|                sent|            wordsReg|             nostops|                  cv|\n",
      "+--------------------+--------------------+--------------------+--------------------+\n",
      "|When I find mysel...|[when, i, find, m...|[find, times, tro...|(16,[5,7,9],[1.0,...|\n",
      "|Mother Mary comes...|[mother, mary, co...|[mother, mary, co...|(16,[6,12,13],[1....|\n",
      "|Speaking words of...|[speaking, words,...|[speaking, words,...|(16,[0,1,2,3],[1....|\n",
      "+--------------------+--------------------+--------------------+--------------------+\n",
      "only showing top 3 rows\n",
      "\n"
     ]
    }
   ],
   "source": [
    "# CountVectorizerModel은 fit()하고 나면 얻어진다. 다음에 사용하는 HashingTF는 fit()하지 않는다는 점에서 차이\n",
    "cvModel = cv.fit(stopDf)\n",
    "\n",
    "cvDf = cvModel.transform(stopDf)\n",
    "\n",
    "cvDf.show(3) #희소벡터(Sparse Vectors) 형태"
   ]
  },
  {
   "cell_type": "code",
   "execution_count": 57,
   "id": "8cb2c2d3",
   "metadata": {},
   "outputs": [
    {
     "name": "stdout",
     "output_type": "stream",
     "text": [
      "+--------------------+--------------------+--------------------+\n",
      "|                sent|             nostops|                  cv|\n",
      "+--------------------+--------------------+--------------------+\n",
      "|When I find mysel...|[find, times, tro...|(16,[5,7,9],[1.0,...|\n",
      "|Mother Mary comes...|[mother, mary, co...|(16,[6,12,13],[1....|\n",
      "|Speaking words of...|[speaking, words,...|(16,[0,1,2,3],[1....|\n",
      "|And in my hour of...|    [hour, darkness]|(16,[8,11],[1.0,1...|\n",
      "|She is standing r...|[standing, right,...|(16,[4,10,14],[1....|\n",
      "|Speaking words of...|[speaking, words,...|(16,[0,1,2,3],[1....|\n",
      "|      우리 Let it be|               [let]|      (16,[0],[1.0])|\n",
      "|        나 Let it be|               [let]|      (16,[0],[1.0])|\n",
      "|        너 Let it be|               [let]|      (16,[0],[1.0])|\n",
      "|           Let it be|               [let]|      (16,[0],[1.0])|\n",
      "|Whisper words of ...|[whisper, words, ...|(16,[0,1,2,15],[1...|\n",
      "+--------------------+--------------------+--------------------+\n",
      "\n"
     ]
    }
   ],
   "source": [
    "cvDf.select('sent','nostops','cv').show()"
   ]
  },
  {
   "cell_type": "code",
   "execution_count": 58,
   "id": "b78478fc",
   "metadata": {},
   "outputs": [
    {
     "data": {
      "text/plain": [
       "['let',\n",
       " 'wisdom,',\n",
       " 'words',\n",
       " 'speaking',\n",
       " 'right',\n",
       " 'find',\n",
       " 'mother',\n",
       " 'trouble',\n",
       " 'hour',\n",
       " 'times',\n",
       " 'front',\n",
       " 'darkness',\n",
       " 'mary',\n",
       " 'comes',\n",
       " 'standing',\n",
       " 'whisper']"
      ]
     },
     "execution_count": 58,
     "metadata": {},
     "output_type": "execute_result"
    }
   ],
   "source": [
    "cvModel.vocabulary #CountVectorizer에서 사용된 단어 목록"
   ]
  },
  {
   "cell_type": "markdown",
   "id": "3c402761",
   "metadata": {},
   "source": [
    "###  4. TF-IDF (단어 빈도 분석)\n",
    "CountVectorizer는 텍스트를 단어의 빈도로 변환해주어, 문서 x 단어 표를 출력할 수 있다   \n",
    "그 다음으로, TF-IDF를 계산할 수 있다. 이 때 (문서id, 단어id) 별로 결과가 출력된다."
   ]
  },
  {
   "cell_type": "markdown",
   "id": "f5d157ed",
   "metadata": {},
   "source": [
    "### 4-1. ScikitLearn에서의 TF-IDF 분석"
   ]
  },
  {
   "cell_type": "code",
   "execution_count": 59,
   "id": "589c8107",
   "metadata": {},
   "outputs": [],
   "source": [
    "from sklearn.feature_extraction.text import TfidfVectorizer\n",
    "\n",
    "vectorizer = TfidfVectorizer(max_df=1.0, stop_words='english',norm = None)"
   ]
  },
  {
   "cell_type": "code",
   "execution_count": 60,
   "id": "793442dd",
   "metadata": {},
   "outputs": [
    {
     "name": "stdout",
     "output_type": "stream",
     "text": [
      "  (0, 10)\t2.791759469228055\n",
      "  (0, 9)\t2.791759469228055\n",
      "  (1, 0)\t2.791759469228055\n",
      "  (1, 4)\t2.791759469228055\n",
      "  (1, 5)\t2.791759469228055\n",
      "  (2, 3)\t1.4054651081081644\n",
      "  (2, 12)\t2.09861228866811\n",
      "  (2, 13)\t2.09861228866811\n",
      "  (2, 7)\t2.386294361119891\n",
      "  (3, 1)\t2.791759469228055\n",
      "  (3, 2)\t2.791759469228055\n",
      "  (4, 6)\t2.791759469228055\n",
      "  (4, 8)\t2.791759469228055\n",
      "  (5, 3)\t1.4054651081081644\n",
      "  (5, 12)\t2.09861228866811\n",
      "  (5, 13)\t2.09861228866811\n",
      "  (5, 7)\t2.386294361119891\n",
      "  (6, 14)\t2.791759469228055\n",
      "  (6, 3)\t1.4054651081081644\n",
      "  (7, 3)\t1.4054651081081644\n",
      "  (8, 3)\t1.4054651081081644\n",
      "  (9, 3)\t1.4054651081081644\n",
      "  (10, 11)\t2.791759469228055\n",
      "  (10, 3)\t1.4054651081081644\n",
      "  (10, 12)\t2.09861228866811\n",
      "  (10, 13)\t2.09861228866811\n"
     ]
    }
   ],
   "source": [
    "print (vectorizer.fit_transform(doc)) # (Doc Index, Word Index) : TF-IDF"
   ]
  },
  {
   "cell_type": "code",
   "execution_count": 61,
   "id": "528c74a2",
   "metadata": {},
   "outputs": [
    {
     "data": {
      "text/plain": [
       "{'times': 9,\n",
       " 'trouble': 10,\n",
       " 'mother': 5,\n",
       " 'mary': 4,\n",
       " 'comes': 0,\n",
       " 'speaking': 7,\n",
       " 'words': 13,\n",
       " 'wisdom': 12,\n",
       " 'let': 3,\n",
       " 'hour': 2,\n",
       " 'darkness': 1,\n",
       " 'standing': 8,\n",
       " 'right': 6,\n",
       " '우리': 14,\n",
       " 'whisper': 11}"
      ]
     },
     "execution_count": 61,
     "metadata": {},
     "output_type": "execute_result"
    }
   ],
   "source": [
    "vectorizer.vocabulary_"
   ]
  },
  {
   "cell_type": "code",
   "execution_count": 62,
   "id": "d2aec3da",
   "metadata": {},
   "outputs": [
    {
     "data": {
      "text/plain": [
       "array([2.79175947, 2.79175947, 2.79175947, 1.40546511, 2.79175947,\n",
       "       2.79175947, 2.79175947, 2.38629436, 2.79175947, 2.79175947,\n",
       "       2.79175947, 2.79175947, 2.09861229, 2.09861229, 2.79175947])"
      ]
     },
     "execution_count": 62,
     "metadata": {},
     "output_type": "execute_result"
    }
   ],
   "source": [
    "vectorizer.idf_"
   ]
  },
  {
   "cell_type": "markdown",
   "id": "dc7ee76f",
   "metadata": {},
   "source": [
    "### 4-2.  Spark를 사용한 TF-IDF"
   ]
  },
  {
   "cell_type": "code",
   "execution_count": 63,
   "id": "8f0504cb",
   "metadata": {},
   "outputs": [],
   "source": [
    "from pyspark.ml.feature import HashingTF, IDF\n",
    "\n",
    "hashTF = HashingTF(inputCol=\"nostops\", outputCol=\"hash\")"
   ]
  },
  {
   "cell_type": "code",
   "execution_count": 64,
   "id": "2edcf192",
   "metadata": {},
   "outputs": [],
   "source": [
    "hashDf = hashTF.transform(stopDf) #fit() 대신 transform()을 사용"
   ]
  },
  {
   "cell_type": "code",
   "execution_count": 65,
   "id": "530194c7",
   "metadata": {},
   "outputs": [
    {
     "name": "stdout",
     "output_type": "stream",
     "text": [
      "+-------------------------------+--------------------------------------------------------+\n",
      "|nostops                        |hash                                                    |\n",
      "+-------------------------------+--------------------------------------------------------+\n",
      "|[find, times, trouble]         |(262144,[64317,91878,152481],[1.0,1.0,1.0])             |\n",
      "|[mother, mary, comes]          |(262144,[24657,63767,245426],[1.0,1.0,1.0])             |\n",
      "|[speaking, words, wisdom,, let]|(262144,[27556,151864,173339,175131],[1.0,1.0,1.0,1.0]) |\n",
      "|[hour, darkness]               |(262144,[74517,98431],[1.0,1.0])                        |\n",
      "|[standing, right, front]       |(262144,[84798,218360,229166],[1.0,1.0,1.0])            |\n",
      "|[speaking, words, wisdom,, let]|(262144,[27556,151864,173339,175131],[1.0,1.0,1.0,1.0]) |\n",
      "|[let]                          |(262144,[173339],[1.0])                                 |\n",
      "|[let]                          |(262144,[173339],[1.0])                                 |\n",
      "|[let]                          |(262144,[173339],[1.0])                                 |\n",
      "|[let]                          |(262144,[173339],[1.0])                                 |\n",
      "|[whisper, words, wisdom,, let] |(262144,[151864,173339,175131,188139],[1.0,1.0,1.0,1.0])|\n",
      "+-------------------------------+--------------------------------------------------------+\n",
      "\n"
     ]
    }
   ],
   "source": [
    "hashDf.select(\"nostops\", \"hash\").show(truncate=False)\n",
    "\n",
    "# 262144는 해시 개수 (앞서 CountVectorizer의 경우에서와 같이 전체 단어의 개수가 아니다), \n",
    "# 그리고 다음 [64317,91878,152481]은 값이 있는 해시 컬럼 번호, 1.0,1.0,1.0은 그 값"
   ]
  },
  {
   "cell_type": "markdown",
   "id": "cf3c760e",
   "metadata": {},
   "source": [
    "### 4-3. Word2Vec\n",
    "\n",
    "Word2Vec은 단어의 문맥을 표현하는 방법.   \n",
    "Word2Vec은 2013년 구글 Tomas Mikolov가 고안한 방법으로, 단어를 벡터로 변환하는 방법을 말하고, 그 벡터에 따라 단어 간의 의미적 유사성을 계산할 수 있다.\n",
    "\n",
    "단어가 주변의 단어들과 어떻게 관련되어 있는지 서로의 맥락 또는 연관성 Word Embedding을 신경망으로 학습하여 Word2Vec을 계산\n",
    "\n",
    "비슷한 의미를 가진 단어들의 벡터는 유사한 방향으로 향하게 되고, 벡터 간의 내적이나 코사인 유사도를 통해 단어 간의 유사성을 계산할 수 있다.\n",
    "\n",
    "벡터('king') - 벡터('man') + 벡터('woman') = 벡터('queen) 이런 연산이 가능해진다. 즉 king 단어벡터에서 man 단어백터를 빼고, woman 단어백터를 더하면, queen 단어백터를 구할 수 있다는 의미이다."
   ]
  },
  {
   "cell_type": "code",
   "execution_count": 66,
   "id": "4a3355f1",
   "metadata": {},
   "outputs": [],
   "source": [
    "_tigerDf=spark.createDataFrame([[\"호랑이는 매우 용맹하다\"], [\"호랑이는 무섭다고 하더라\"], [\"호랑이는 사납고 날쌔다\"]], ['sent'])"
   ]
  },
  {
   "cell_type": "code",
   "execution_count": 67,
   "id": "fba52a20",
   "metadata": {},
   "outputs": [],
   "source": [
    "from pyspark.ml.feature import Tokenizer\n",
    "tigerTokenizer = Tokenizer(inputCol=\"sent\", outputCol=\"words\")"
   ]
  },
  {
   "cell_type": "code",
   "execution_count": 68,
   "id": "51cc9acf",
   "metadata": {},
   "outputs": [],
   "source": [
    "tigerDf=tigerTokenizer.transform(_tigerDf)"
   ]
  },
  {
   "cell_type": "code",
   "execution_count": 69,
   "id": "daf5b5dd",
   "metadata": {},
   "outputs": [],
   "source": [
    "from pyspark.ml.feature import Word2Vec\n",
    "\n",
    "word2Vec = Word2Vec(vectorSize=3, minCount=0, inputCol=\"words\", outputCol=\"w2v\")"
   ]
  },
  {
   "cell_type": "code",
   "execution_count": 70,
   "id": "76f9e7b0",
   "metadata": {},
   "outputs": [
    {
     "name": "stderr",
     "output_type": "stream",
     "text": [
      "23/12/20 12:45:55 WARN InstanceBuilder: Failed to load implementation from:dev.ludovic.netlib.blas.JNIBLAS\n",
      "23/12/20 12:45:55 WARN InstanceBuilder: Failed to load implementation from:dev.ludovic.netlib.blas.VectorBLAS\n"
     ]
    }
   ],
   "source": [
    "model=word2Vec.fit(tigerDf) #모델 학습"
   ]
  },
  {
   "cell_type": "code",
   "execution_count": 71,
   "id": "380a2726",
   "metadata": {},
   "outputs": [],
   "source": [
    "w2vDf = model.transform(tigerDf) #모델 돌려서 결과 얻어냄"
   ]
  },
  {
   "cell_type": "code",
   "execution_count": 72,
   "id": "3b4690b2",
   "metadata": {},
   "outputs": [
    {
     "name": "stdout",
     "output_type": "stream",
     "text": [
      "Row(w2v=DenseVector([-0.0498, 0.0245, 0.0924]))\n",
      "Row(w2v=DenseVector([-0.1594, 0.0053, 0.0547]))\n",
      "Row(w2v=DenseVector([-0.1166, -0.0009, 0.021]))\n"
     ]
    }
   ],
   "source": [
    "for e in w2vDf.select(\"w2v\").take(3):\n",
    "    print(e)"
   ]
  },
  {
   "cell_type": "code",
   "execution_count": 73,
   "id": "45cb9b6d",
   "metadata": {},
   "outputs": [
    {
     "name": "stdout",
     "output_type": "stream",
     "text": [
      "+--------+-----------------------------------------------------------------+\n",
      "|word    |vector                                                           |\n",
      "+--------+-----------------------------------------------------------------+\n",
      "|무섭다고|[-0.16658440232276917,0.14524580538272858,-0.05602681636810303]  |\n",
      "|용맹하다|[-0.027605753391981125,-0.037912942469120026,0.14706382155418396]|\n",
      "|매우    |[0.027643119916319847,0.07871874421834946,0.03055230900645256]   |\n",
      "|사납고  |[-0.08473973721265793,-0.04772188514471054,0.0029143476858735085]|\n",
      "|하더라  |[-0.16238440573215485,-0.16205385327339172,0.12059701234102249]  |\n",
      "|날쌔다  |[-0.11577261984348297,0.012463564053177834,-0.03944210335612297] |\n",
      "|호랑이는|[-0.14930878579616547,0.032565854489803314,0.09943961352109909]  |\n",
      "+--------+-----------------------------------------------------------------+\n",
      "\n"
     ]
    }
   ],
   "source": [
    "model.getVectors().show(truncate=False)"
   ]
  },
  {
   "cell_type": "code",
   "execution_count": 74,
   "id": "4c193b9e",
   "metadata": {},
   "outputs": [
    {
     "name": "stdout",
     "output_type": "stream",
     "text": [
      "+--------+------------------+\n",
      "|    word|        similarity|\n",
      "+--------+------------------+\n",
      "|  하더라|0.7089282274246216|\n",
      "|호랑이는|0.6222048401832581|\n",
      "+--------+------------------+\n",
      "\n"
     ]
    }
   ],
   "source": [
    "model.findSynonyms(\"용맹하다\", 2).show() #Word Token을 유사도 순 출력"
   ]
  },
  {
   "cell_type": "markdown",
   "id": "bf84303b",
   "metadata": {},
   "source": [
    "### 4-4. N-gram\n",
    "텍스트를 대상으로 하면, n-gram은 연속된 n개의 토큰으로 구성된 순열을 말한다. unigram은 한 단어로, bigram은 두 단어로 구성한다."
   ]
  },
  {
   "cell_type": "code",
   "execution_count": 75,
   "id": "5b4efa38",
   "metadata": {},
   "outputs": [
    {
     "name": "stdout",
     "output_type": "stream",
     "text": [
      "+--------------------+--------------------+----------------------+\n",
      "|                sent|               words|                ngrams|\n",
      "+--------------------+--------------------+----------------------+\n",
      "|When I find mysel...|[when, i, find, m...|  [when i, i find, ...|\n",
      "|Mother Mary comes...|[mother, mary, co...|  [mother mary, mar...|\n",
      "|Speaking words of...|[speaking, words,...|  [speaking words, ...|\n",
      "|And in my hour of...|[and, in, my, hou...|  [and in, in my, m...|\n",
      "|She is standing r...|[she, is, standin...|  [she is, is stand...|\n",
      "|Speaking words of...|[speaking, words,...|  [speaking words, ...|\n",
      "|      우리 Let it be| [우리, let, it, be]|[우리 let, let it, ...|\n",
      "|        나 Let it be|   [나, let, it, be]| [나 let, let it, i...|\n",
      "|        너 Let it be|   [너, let, it, be]| [너 let, let it, i...|\n",
      "|           Let it be|       [let, it, be]|       [let it, it be]|\n",
      "|Whisper words of ...|[whisper, words, ...|  [whisper words, w...|\n",
      "+--------------------+--------------------+----------------------+\n",
      "\n"
     ]
    }
   ],
   "source": [
    "from pyspark.ml.feature import NGram\n",
    "\n",
    "ngram = NGram(n=2, inputCol=\"words\", outputCol=\"ngrams\")\n",
    "\n",
    "ngramDf = ngram.transform(tokDf)\n",
    "\n",
    "ngramDf.show()"
   ]
  },
  {
   "cell_type": "code",
   "execution_count": 76,
   "id": "627b5147",
   "metadata": {},
   "outputs": [
    {
     "name": "stdout",
     "output_type": "stream",
     "text": [
      "Row(words=['when', 'i', 'find', 'myself', 'in', 'times', 'of', 'trouble'], ngrams=['when i', 'i find', 'find myself', 'myself in', 'in times', 'times of', 'of trouble'])\n",
      "Row(words=['mother', 'mary', 'comes', 'to', 'me'], ngrams=['mother mary', 'mary comes', 'comes to', 'to me'])\n",
      "Row(words=['speaking', 'words', 'of', 'wisdom,', 'let', 'it', 'be'], ngrams=['speaking words', 'words of', 'of wisdom,', 'wisdom, let', 'let it', 'it be'])\n"
     ]
    }
   ],
   "source": [
    "for e in ngramDf.select(\"words\",\"ngrams\").take(3):\n",
    "    print (e)"
   ]
  },
  {
   "cell_type": "markdown",
   "id": "f2f4518d",
   "metadata": {},
   "source": [
    "### 4-5. StringIndexer\n",
    "문자열 컬럼을 인덱스 컬럼으로 변환한다. 빈도가 제일 높은 순서로 0.0부터 인덱스 값이 주어진다"
   ]
  },
  {
   "cell_type": "code",
   "execution_count": 77,
   "id": "cf1c5fb1",
   "metadata": {},
   "outputs": [],
   "source": [
    "from pyspark.ml.feature import StringIndexer\n",
    "\n",
    "labelIndexer = StringIndexer(inputCol=\"sent\", outputCol=\"sentLabel\")"
   ]
  },
  {
   "cell_type": "code",
   "execution_count": 78,
   "id": "d7b4345c",
   "metadata": {},
   "outputs": [
    {
     "name": "stdout",
     "output_type": "stream",
     "text": [
      "+--------------------+---------+\n",
      "|                sent|sentLabel|\n",
      "+--------------------+---------+\n",
      "|Speaking words of...|      0.0|\n",
      "|Speaking words of...|      0.0|\n",
      "|And in my hour of...|      1.0|\n",
      "|           Let it be|      2.0|\n",
      "|Mother Mary comes...|      3.0|\n",
      "|She is standing r...|      4.0|\n",
      "|When I find mysel...|      5.0|\n",
      "|Whisper words of ...|      6.0|\n",
      "|        나 Let it be|      7.0|\n",
      "|        너 Let it be|      8.0|\n",
      "|      우리 Let it be|      9.0|\n",
      "+--------------------+---------+\n",
      "\n"
     ]
    }
   ],
   "source": [
    "model=labelIndexer.fit(myDf)\n",
    "siDf=model.transform(myDf)\n",
    "siDf.orderBy('sentLabel').show()"
   ]
  },
  {
   "cell_type": "markdown",
   "id": "00bacc64",
   "metadata": {},
   "source": [
    "### 4-6. One-Hot Encoding\n",
    "Dummy 변수. 명목변수는 ML을 수행할 수 없으므로 변환하는 방법   \n",
    "One-Hot Encoding은 명목변수 인덱스를 이진벡터로 변환하여, 서로 순서가 없도록 한다.   \n",
    "사자, 호랑이, 사람에게 인덱스 0, 1, 2가 배정되었다고 하자. 그렇다고 해서 사자가 호랑이보다 실제로는 그런 순서가 있지 않다.   \n",
    "ex) 사자 -> 10, 호랑이 -> 01, 사람 -> 00.."
   ]
  },
  {
   "cell_type": "code",
   "execution_count": 79,
   "id": "6f3fb5bf",
   "metadata": {},
   "outputs": [],
   "source": [
    "df = spark.createDataFrame([\n",
    "    (1, \"B\"),\n",
    "    (2, \"C\"),\n",
    "    (3, \"A\"),\n",
    "    (4, \"B\"),\n",
    "    (5, \"C\"),\n",
    "    (6, \"A\")\n",
    "], [\"id\", \"grade\"])"
   ]
  },
  {
   "cell_type": "code",
   "execution_count": 80,
   "id": "f729c488",
   "metadata": {},
   "outputs": [],
   "source": [
    "from pyspark.ml.feature import StringIndexer\n",
    "\n",
    "stringIndexer = StringIndexer(inputCol=\"grade\", outputCol=\"gradeIndex\")\n",
    "model = stringIndexer.fit(df)\n",
    "indexed = model.transform(df)"
   ]
  },
  {
   "cell_type": "code",
   "execution_count": 81,
   "id": "6de6fcb6",
   "metadata": {},
   "outputs": [],
   "source": [
    "from pyspark.ml.feature import OneHotEncoder\n",
    "\n",
    "encoder = OneHotEncoder(inputCol=\"gradeIndex\", outputCol=\"gradeVec\")\n",
    "encoded = encoder.fit(indexed)"
   ]
  },
  {
   "cell_type": "code",
   "execution_count": 82,
   "id": "f49189dd",
   "metadata": {},
   "outputs": [
    {
     "name": "stdout",
     "output_type": "stream",
     "text": [
      "+---+-----+----------+-------------+\n",
      "| id|grade|gradeIndex|     gradeVec|\n",
      "+---+-----+----------+-------------+\n",
      "|  1|    B|       1.0|(2,[1],[1.0])|\n",
      "|  2|    C|       2.0|    (2,[],[])|\n",
      "|  3|    A|       0.0|(2,[0],[1.0])|\n",
      "|  4|    B|       1.0|(2,[1],[1.0])|\n",
      "|  5|    C|       2.0|    (2,[],[])|\n",
      "|  6|    A|       0.0|(2,[0],[1.0])|\n",
      "+---+-----+----------+-------------+\n",
      "\n"
     ]
    }
   ],
   "source": [
    "encoded.transform(indexed).show()"
   ]
  },
  {
   "cell_type": "markdown",
   "id": "84e328b8",
   "metadata": {},
   "source": [
    "<br><hr>\n",
    "# 연속데이터 변환\n",
    "연속변수일 경우 스케일 변환을 항상 고려해두자"
   ]
  },
  {
   "cell_type": "code",
   "execution_count": 83,
   "id": "ad401b2d",
   "metadata": {},
   "outputs": [],
   "source": [
    "from pyspark.sql.types import *\n",
    "\n",
    "rdd=spark.sparkContext\\\n",
    "    .textFile(os.path.join('data','ds_spark_heightweight.txt'))"
   ]
  },
  {
   "cell_type": "code",
   "execution_count": 84,
   "id": "9939ea6c",
   "metadata": {},
   "outputs": [],
   "source": [
    "myRdd=rdd.map(lambda line:[float(x) for x in line.split('\\t')])"
   ]
  },
  {
   "cell_type": "code",
   "execution_count": 85,
   "id": "913fb4a8",
   "metadata": {},
   "outputs": [],
   "source": [
    "myDf=spark.createDataFrame(myRdd,[\"id\",\"weight\",\"height\"])"
   ]
  },
  {
   "cell_type": "code",
   "execution_count": 86,
   "id": "ee60ed82",
   "metadata": {},
   "outputs": [
    {
     "name": "stdout",
     "output_type": "stream",
     "text": [
      "root\n",
      " |-- id: double (nullable = true)\n",
      " |-- weight: double (nullable = true)\n",
      " |-- height: double (nullable = true)\n",
      "\n"
     ]
    }
   ],
   "source": [
    "myDf.printSchema()"
   ]
  },
  {
   "cell_type": "code",
   "execution_count": 87,
   "id": "a73254d4",
   "metadata": {},
   "outputs": [
    {
     "name": "stdout",
     "output_type": "stream",
     "text": [
      "+----+------+------+-------+\n",
      "|  id|weight|height|weight2|\n",
      "+----+------+------+-------+\n",
      "| 1.0| 65.78|112.99|    0.0|\n",
      "| 2.0| 71.52|136.49|    1.0|\n",
      "| 3.0|  69.4|153.03|    1.0|\n",
      "| 4.0| 68.22|142.34|    1.0|\n",
      "| 5.0| 67.79| 144.3|    0.0|\n",
      "| 6.0|  68.7| 123.3|    1.0|\n",
      "| 7.0|  69.8|141.49|    1.0|\n",
      "| 8.0| 70.01|136.46|    1.0|\n",
      "| 9.0|  67.9|112.37|    0.0|\n",
      "|10.0| 66.78|120.67|    0.0|\n",
      "+----+------+------+-------+\n",
      "only showing top 10 rows\n",
      "\n"
     ]
    }
   ],
   "source": [
    "from pyspark.ml.feature import Binarizer\n",
    "\n",
    "binarizer = Binarizer(threshold=68.0, inputCol=\"weight\", outputCol=\"weight2\") # 68을 임계값으로 두고 이진분류\n",
    "binDf = binarizer.transform(myDf)\n",
    "binDf.show(10)"
   ]
  },
  {
   "cell_type": "code",
   "execution_count": 88,
   "id": "52d9c25a",
   "metadata": {},
   "outputs": [
    {
     "name": "stdout",
     "output_type": "stream",
     "text": [
      "+----+------+------+-------+-------+\n",
      "|  id|weight|height|weight2|height3|\n",
      "+----+------+------+-------+-------+\n",
      "| 1.0| 65.78|112.99|    0.0|    0.0|\n",
      "| 2.0| 71.52|136.49|    1.0|    1.0|\n",
      "| 3.0|  69.4|153.03|    1.0|    2.0|\n",
      "| 4.0| 68.22|142.34|    1.0|    2.0|\n",
      "| 5.0| 67.79| 144.3|    0.0|    2.0|\n",
      "| 6.0|  68.7| 123.3|    1.0|    0.0|\n",
      "| 7.0|  69.8|141.49|    1.0|    2.0|\n",
      "| 8.0| 70.01|136.46|    1.0|    1.0|\n",
      "| 9.0|  67.9|112.37|    0.0|    0.0|\n",
      "|10.0| 66.78|120.67|    0.0|    0.0|\n",
      "+----+------+------+-------+-------+\n",
      "only showing top 10 rows\n",
      "\n"
     ]
    }
   ],
   "source": [
    "from pyspark.ml.feature import QuantileDiscretizer\n",
    "\n",
    "discretizer = QuantileDiscretizer(numBuckets=3, inputCol=\"height\", outputCol=\"height3\") #3분위로 키를 분류\n",
    "qdDf = discretizer.fit(binDf).transform(binDf)\n",
    "qdDf.show(10)"
   ]
  },
  {
   "cell_type": "markdown",
   "id": "ff079006",
   "metadata": {},
   "source": [
    "# VectorAssembler\n",
    "열을 묶어서 Vector열로 만든다. features 컬럼을 생성할 경우에 사용한다. 단 문자열 string은 묶을 수 없다."
   ]
  },
  {
   "cell_type": "code",
   "execution_count": 89,
   "id": "001f8273",
   "metadata": {},
   "outputs": [
    {
     "name": "stdout",
     "output_type": "stream",
     "text": [
      "root\n",
      " |-- id: double (nullable = true)\n",
      " |-- weight: double (nullable = true)\n",
      " |-- height: double (nullable = true)\n",
      " |-- weight2: double (nullable = true)\n",
      " |-- height3: double (nullable = true)\n",
      " |-- features: vector (nullable = true)\n",
      "\n",
      "+---+------+------+-------+-------+---------+\n",
      "| id|weight|height|weight2|height3| features|\n",
      "+---+------+------+-------+-------+---------+\n",
      "|1.0| 65.78|112.99|    0.0|    0.0|(2,[],[])|\n",
      "|2.0| 71.52|136.49|    1.0|    1.0|[1.0,1.0]|\n",
      "|3.0|  69.4|153.03|    1.0|    2.0|[1.0,2.0]|\n",
      "|4.0| 68.22|142.34|    1.0|    2.0|[1.0,2.0]|\n",
      "|5.0| 67.79| 144.3|    0.0|    2.0|[0.0,2.0]|\n",
      "+---+------+------+-------+-------+---------+\n",
      "only showing top 5 rows\n",
      "\n"
     ]
    }
   ],
   "source": [
    "from pyspark.ml.feature import VectorAssembler\n",
    "\n",
    "va = VectorAssembler(inputCols=[\"weight2\",\"height3\"],outputCol=\"features\")\n",
    "vaDf = va.transform(qdDf)\n",
    "vaDf.printSchema()\n",
    "vaDf.show(5)"
   ]
  },
  {
   "cell_type": "markdown",
   "id": "506072b7",
   "metadata": {},
   "source": [
    "# Pipeline\n",
    "Pipeline은 여러 Estimator를 묶은 Estimator를 반환한다. \n",
    "Pipeline은 여러 작업을 묶어, 순서대로 단계적으로 Estimator를 적용하기 위해 사용한다."
   ]
  },
  {
   "cell_type": "code",
   "execution_count": 90,
   "id": "94c82388",
   "metadata": {},
   "outputs": [],
   "source": [
    "df = spark.createDataFrame([\n",
    "        (0, \"a b c d e spark\", 1.0),\n",
    "        (1, \"b d\", 0.0),\n",
    "        (2, \"spark f g h\", 1.0),\n",
    "        (3, \"hadoop mapreduce\", 0.0),\n",
    "        (4, \"my dog has flea problems. help please.\",0.0)\n",
    "    ], [\"id\", \"text\", \"label\"])"
   ]
  },
  {
   "cell_type": "code",
   "execution_count": 91,
   "id": "8f511c48",
   "metadata": {},
   "outputs": [],
   "source": [
    "from pyspark.ml.feature import HashingTF, Tokenizer\n",
    "from pyspark.ml.classification import LogisticRegression\n",
    "\n",
    "tokenizer = Tokenizer(inputCol=\"text\", outputCol=\"words\")\n",
    "hashingTF = HashingTF(inputCol=tokenizer.getOutputCol(), outputCol=\"features\")\n",
    "lr = LogisticRegression(maxIter=10, regParam=0.01)"
   ]
  },
  {
   "cell_type": "code",
   "execution_count": 92,
   "id": "f88e6dca",
   "metadata": {},
   "outputs": [],
   "source": [
    "from pyspark.ml import Pipeline\n",
    "\n",
    "pipeline = Pipeline(stages=[tokenizer, hashingTF, lr]) #Tokenizer, HashingTF, 선형회귀를 함께 적용\n",
    "model = pipeline.fit(df)\n",
    "myDf = model.transform(df)"
   ]
  },
  {
   "cell_type": "code",
   "execution_count": 93,
   "id": "ebbd6ad6",
   "metadata": {},
   "outputs": [
    {
     "name": "stdout",
     "output_type": "stream",
     "text": [
      "+-----+--------------------+\n",
      "|label|            features|\n",
      "+-----+--------------------+\n",
      "|  1.0|(262144,[74920,89...|\n",
      "|  0.0|(262144,[89530,14...|\n",
      "|  1.0|(262144,[36803,17...|\n",
      "|  0.0|(262144,[132966,1...|\n",
      "|  0.0|(262144,[1074,389...|\n",
      "+-----+--------------------+\n",
      "\n"
     ]
    }
   ],
   "source": [
    "myDf.select('label', 'features').show()"
   ]
  },
  {
   "cell_type": "markdown",
   "id": "18bfecaa",
   "metadata": {},
   "source": [
    "<hr>\n",
    "\n",
    "# 문제 S-4: 연설문을 기계학습하기 위해 변환\n",
    "\n",
    "2019.10.21일 '제74주년 경찰의 날 기념식 축사' 전문을 변환하세요. 전문은 http://www.korea.kr/archive/speechView.do?newsId=132031636 에서 읽을 수 있고, 해당 사이트에서 텍스트만 파일로 저장해서 사용한다.   \n",
    "\n",
    "1. DataFrame 생성\n",
    "2. 단어로 분리해서, 출력\n",
    "3. 정리 strip, replace\n",
    "4. 불용어 구성, 출력 - 축사 전문에서 한글자로 된 단어를 찾아내 스스로 구성\n",
    "5. 불용어 제거하고, 출력\n",
    "6. TF-IDF를 계산하고, 출력\n",
    "7. TF-IDF 컬럼을 features로 구성, 출력"
   ]
  },
  {
   "cell_type": "markdown",
   "id": "d958204f",
   "metadata": {},
   "source": [
    "### 1. Dataframe 생성"
   ]
  },
  {
   "cell_type": "code",
   "execution_count": 94,
   "id": "c1f25034",
   "metadata": {},
   "outputs": [
    {
     "data": {
      "text/plain": [
       "[Row(sent='존경하는 국민 여러분, 경찰관 여러분, 일흔네 돌 ‘경찰의 날’입니다.'),\n",
       " Row(sent=' '),\n",
       " Row(sent='국민의 안전을 위해 밤낮없이 애쓰시는 전국의 15만 경찰관 여러분께 먼저 감사를 드립니다. 전몰·순직 경찰관들의 고귀한 희생에 경의를 표합니다. 유가족 여러분께 위로의 마음을 전합니다.'),\n",
       " Row(sent=' '),\n",
       " Row(sent='오늘 홍조근정훈장을 받으신 중앙경찰학교장 이은정 치안감님, 근정포장을 받으신 광주남부경찰서 김동현 경감님을 비롯한 수상자 여러분께 각별한 축하와 감사를 드립니다. 또한 경찰 영웅으로 추서되신 차일혁, 최중락님께 국민의 사랑을 전해드립니다.')]"
      ]
     },
     "execution_count": 94,
     "metadata": {},
     "output_type": "execute_result"
    }
   ],
   "source": [
    "import os\n",
    "from pyspark.sql.types import StructType, StructField, StringType\n",
    "\n",
    "police=spark.read\\\n",
    "    .options(header=\"true\", delimiter=\" \", inferSchema=\"true\")\\\n",
    "    .schema(\n",
    "        StructType([\n",
    "            StructField(\"sent\",StringType()),\n",
    "        ])\n",
    "    )\\\n",
    "    .text(os.path.join(\"data\", \"20191021_policeAddress.txt\"))\n",
    "\n",
    "police.take(5)"
   ]
  },
  {
   "cell_type": "code",
   "execution_count": 95,
   "id": "fe2bf1d6",
   "metadata": {},
   "outputs": [
    {
     "name": "stdout",
     "output_type": "stream",
     "text": [
      "+----------------------------------+\n",
      "|                              sent|\n",
      "+----------------------------------+\n",
      "|  존경하는 국민 여러분, 경찰관 ...|\n",
      "| 국민의 안전을 위해 밤낮없이 애...|\n",
      "|오늘 홍조근정훈장을 받으신 중앙...|\n",
      "+----------------------------------+\n",
      "only showing top 3 rows\n",
      "\n"
     ]
    }
   ],
   "source": [
    "_police=police.filter(\"sent != ' '\") #빈 줄 제거\n",
    "_police.show(3)"
   ]
  },
  {
   "cell_type": "markdown",
   "id": "5459a6f2",
   "metadata": {},
   "source": [
    "### 2. 단어 분리"
   ]
  },
  {
   "cell_type": "code",
   "execution_count": 96,
   "id": "47d81296",
   "metadata": {},
   "outputs": [
    {
     "name": "stdout",
     "output_type": "stream",
     "text": [
      "+---------------------------------+------------------------------+\n",
      "|                             sent|                        tokens|\n",
      "+---------------------------------+------------------------------+\n",
      "| 존경하는 국민 여러분, 경찰관 ...| [존경하는, 국민, 여러분,, ...|\n",
      "|                                 |                            []|\n",
      "|국민의 안전을 위해 밤낮없이 애...|[국민의, 안전을, 위해, 밤낮...|\n",
      "+---------------------------------+------------------------------+\n",
      "only showing top 3 rows\n",
      "\n"
     ]
    }
   ],
   "source": [
    "from pyspark.ml.feature import Tokenizer\n",
    "tokenizer = Tokenizer(inputCol=\"sent\", outputCol=\"tokens\")\n",
    "tokDf = tokenizer.transform(police)\n",
    "\n",
    "tokDf.show(3)"
   ]
  },
  {
   "cell_type": "code",
   "execution_count": 97,
   "id": "bc40abae",
   "metadata": {},
   "outputs": [
    {
     "name": "stdout",
     "output_type": "stream",
     "text": [
      "존경하는 국민 여러분, 경찰관 여러분, 일흔네 돌 ‘경찰의 날’입니다.\n",
      " \n",
      "국민의 안전을 위해 밤낮없이 애쓰시는 전국의 15만 경찰관 여러분께 먼저 감사를 드립니다. 전몰·순직 경찰관들의 고귀한 희생에 경의를 표합니다. 유가족 여러분께 위로의 마음을 전합니다.\n"
     ]
    }
   ],
   "source": [
    "for r in tokDf.select(\"sent\").take(3):\n",
    "    print (r[0])"
   ]
  },
  {
   "cell_type": "markdown",
   "id": "a2b9da75",
   "metadata": {},
   "source": [
    "### 3. 텍스트 정리\n",
    "컴마, 따옴표, 마침표, 숫자 등을 제거하자."
   ]
  },
  {
   "cell_type": "code",
   "execution_count": 98,
   "id": "30f935c8",
   "metadata": {},
   "outputs": [
    {
     "data": {
      "text/plain": [
       "['존경하는', '국민', '여러분', '경찰관', '여러분', '일흔네', '경찰의', '날입니다']"
      ]
     },
     "execution_count": 98,
     "metadata": {},
     "output_type": "execute_result"
    }
   ],
   "source": [
    "wordList=['존경하는', '국민', '여러분,', '경찰관', '여러분,', '일흔네', '‘경찰의', '날’입니다.']\n",
    "cleaned=list()\n",
    "for w in wordList:\n",
    "    cleaned.append(w.lstrip('‘').rstrip(\"’\").rstrip(',').rstrip('.').replace(\"’\",\"\").replace(\"”\",\"\"))\n",
    "cleaned"
   ]
  },
  {
   "cell_type": "markdown",
   "id": "69e96b73",
   "metadata": {},
   "source": [
    "### 3-1. udf 함수\n",
    "컴마, 따옴표, 마침표, 숫자 제거"
   ]
  },
  {
   "cell_type": "code",
   "execution_count": 99,
   "id": "3c7ceb0f",
   "metadata": {},
   "outputs": [],
   "source": [
    "import re\n",
    "\n",
    "def trim(wordList):\n",
    "    regex = re.compile('\\d+') #숫자가 하나 이상 있는 경우의 정규식 패턴\n",
    "    cleaned=list()\n",
    "    for w in wordList:\n",
    "        if not regex.match(w):\n",
    "            cleaned.append(w.lstrip('‘').rstrip(\"’\").rstrip(',').rstrip('.').replace(\"’\",\"\").replace(\"”\",\"\"))\n",
    "    return cleaned"
   ]
  },
  {
   "cell_type": "code",
   "execution_count": 100,
   "id": "115be463",
   "metadata": {},
   "outputs": [
    {
     "data": {
      "text/plain": [
       "['Seoul1', 'Seoul']"
      ]
     },
     "execution_count": 100,
     "metadata": {},
     "output_type": "execute_result"
    }
   ],
   "source": [
    "myList=[\"1\", \"123\", \"15만\", \"2015년에\", \"15.1%\", \"74.5점\", \"8,572명을\", \"Seoul1\", \"Seoul\"]\n",
    "trim(myList)"
   ]
  },
  {
   "cell_type": "code",
   "execution_count": 101,
   "id": "446e5c2f",
   "metadata": {},
   "outputs": [],
   "source": [
    "from pyspark.sql import functions as f\n",
    "from pyspark.sql.types import ArrayType, StringType\n",
    "\n",
    "trimUdf=f.udf(trim, ArrayType(StringType()))\n",
    "wordsDf = tokDf.withColumn('words', trimUdf(f.col('tokens')))"
   ]
  },
  {
   "cell_type": "code",
   "execution_count": 102,
   "id": "711c17b9",
   "metadata": {},
   "outputs": [
    {
     "name": "stderr",
     "output_type": "stream",
     "text": [
      "\r",
      "[Stage 74:>                                                         (0 + 1) / 1]\r"
     ]
    },
    {
     "name": "stdout",
     "output_type": "stream",
     "text": [
      "+-----------------------------------------------------------------+---------------------------------------------------------------------------+----------------------------------------------------------------------+\n",
      "|sent                                                             |tokens                                                                     |words                                                                 |\n",
      "+-----------------------------------------------------------------+---------------------------------------------------------------------------+----------------------------------------------------------------------+\n",
      "|존경하는 국민 여러분, 경찰관 여러분, 일흔네 돌 ‘경찰의 날’입니다.|[존경하는, 국민, 여러분,, 경찰관, 여러분,, 일흔네, 돌, ‘경찰의, 날’입니다.]|[존경하는, 국민, 여러분, 경찰관, 여러분, 일흔네, 돌, 경찰의, 날입니다]|\n",
      "+-----------------------------------------------------------------+---------------------------------------------------------------------------+----------------------------------------------------------------------+\n",
      "only showing top 1 row\n",
      "\n"
     ]
    },
    {
     "name": "stderr",
     "output_type": "stream",
     "text": [
      "\r",
      "                                                                                \r"
     ]
    }
   ],
   "source": [
    "wordsDf.show(1, False)"
   ]
  },
  {
   "cell_type": "markdown",
   "id": "54b56d72",
   "metadata": {},
   "source": [
    "### 4. 불용어 제거"
   ]
  },
  {
   "cell_type": "code",
   "execution_count": 103,
   "id": "77a9d921",
   "metadata": {},
   "outputs": [
    {
     "name": "stdout",
     "output_type": "stream",
     "text": [
      "+-----------------------------------------------------------------+---------------------------------------------------------------------------+----------------------------------------------------------------------+------------------------------------------------------------------+\n",
      "|sent                                                             |tokens                                                                     |words                                                                 |nostops                                                           |\n",
      "+-----------------------------------------------------------------+---------------------------------------------------------------------------+----------------------------------------------------------------------+------------------------------------------------------------------+\n",
      "|존경하는 국민 여러분, 경찰관 여러분, 일흔네 돌 ‘경찰의 날’입니다.|[존경하는, 국민, 여러분,, 경찰관, 여러분,, 일흔네, 돌, ‘경찰의, 날’입니다.]|[존경하는, 국민, 여러분, 경찰관, 여러분, 일흔네, 돌, 경찰의, 날입니다]|[존경하는, 국민, 여러분, 경찰관, 여러분, 일흔네, 경찰의, 날입니다]|\n",
      "+-----------------------------------------------------------------+---------------------------------------------------------------------------+----------------------------------------------------------------------+------------------------------------------------------------------+\n",
      "only showing top 1 row\n",
      "\n"
     ]
    }
   ],
   "source": [
    "from pyspark.ml.feature import StopWordsRemover\n",
    "\n",
    "#stop = StopWordsRemover(inputCol=\"tokens\", outputCol=\"nostops\")\n",
    "stop = StopWordsRemover(inputCol=\"words\", outputCol=\"nostops\")\n",
    "stop.setStopWords([u\"돌\", u\"너\", u\"우리\", u'있습니다', u'더', u'합니다', u'그', u'드립니다', u'것입니다'])\n",
    "\n",
    "stopDf=stop.transform(wordsDf)\n",
    "stopDf.show(1, False)"
   ]
  },
  {
   "cell_type": "markdown",
   "id": "d48bc535",
   "metadata": {},
   "source": [
    "### 5. 전체 단어빈도\n",
    "Row 단위 연산 -> RDD로 변환해야 한다."
   ]
  },
  {
   "cell_type": "code",
   "execution_count": 104,
   "id": "2bc96168",
   "metadata": {},
   "outputs": [
    {
     "data": {
      "text/plain": [
       "[Row(nostops=['존경하는', '국민', '여러분', '경찰관', '여러분', '일흔네', '경찰의', '날입니다']),\n",
       " Row(nostops=[]),\n",
       " Row(nostops=['국민의', '안전을', '위해', '밤낮없이', '애쓰시는', '전국의', '경찰관', '여러분께', '먼저', '감사를', '전몰·순직', '경찰관들의', '고귀한', '희생에', '경의를', '표합니다', '유가족', '여러분께', '위로의', '마음을', '전합니다'])]"
      ]
     },
     "execution_count": 104,
     "metadata": {},
     "output_type": "execute_result"
    }
   ],
   "source": [
    "stopDf.select(\"nostops\").rdd.take(3)"
   ]
  },
  {
   "cell_type": "code",
   "execution_count": 105,
   "id": "141b50ee",
   "metadata": {},
   "outputs": [
    {
     "data": {
      "text/plain": [
       "[['존경하는', '국민', '여러분', '경찰관', '여러분', '일흔네', '경찰의', '날입니다'], []]"
      ]
     },
     "execution_count": 105,
     "metadata": {},
     "output_type": "execute_result"
    }
   ],
   "source": [
    "stopDf.select(\"nostops\").rdd.flatMap(lambda x:x).take(2) #RDD 변환 -> Flatmap(Row 제거)"
   ]
  },
  {
   "cell_type": "code",
   "execution_count": 106,
   "id": "ae86108e",
   "metadata": {},
   "outputs": [
    {
     "data": {
      "text/plain": [
       "['존경하는', '국민', '여러분']"
      ]
     },
     "execution_count": 106,
     "metadata": {},
     "output_type": "execute_result"
    }
   ],
   "source": [
    "stopDf.select(\"nostops\").rdd.flatMap(lambda x:x).flatMap(lambda x:x).take(3) #Flatmap 한번 더 -> 1차원"
   ]
  },
  {
   "cell_type": "code",
   "execution_count": 107,
   "id": "4d059e67",
   "metadata": {},
   "outputs": [
    {
     "data": {
      "text/plain": [
       "[(18, '경찰'),\n",
       " (7, '국민의'),\n",
       " (6, '여러분'),\n",
       " (5, '경찰관'),\n",
       " (4, '우리의'),\n",
       " (3, '여러분께'),\n",
       " (3, '역대'),\n",
       " (3, '가장'),\n",
       " (3, '함께'),\n",
       " (2, '안전을'),\n",
       " (2, '위해'),\n",
       " (2, '먼저'),\n",
       " (2, '감사를'),\n",
       " (2, '받으신'),\n",
       " (2, '비롯한'),\n",
       " (2, '또한'),\n",
       " (2, '외국'),\n",
       " (2, '경찰을'),\n",
       " (2, '경찰헌장은'),\n",
       " (2, '겨레를')]"
      ]
     },
     "execution_count": 107,
     "metadata": {},
     "output_type": "execute_result"
    }
   ],
   "source": [
    "stopDf.select(\"nostops\").rdd\\\n",
    "    .flatMap(lambda x:x).flatMap(lambda x:x)\\\n",
    "    .map(lambda x: x.replace(\"경찰은\",\"경찰\"))\\\n",
    "    .map(lambda x: x.replace(\"경찰의\",\"경찰\"))\\\n",
    "    .map(lambda x:(x,1))\\\n",
    "    .reduceByKey(lambda x,y:x+y)\\\n",
    "    .map(lambda x:(x[1],x[0]))\\\n",
    "    .sortByKey(False)\\\n",
    "    .take(20)\n",
    "\n",
    "#경찰은, 경찰의 -> 이음동의어 처리"
   ]
  },
  {
   "cell_type": "markdown",
   "id": "db9d0378",
   "metadata": {},
   "source": [
    "### 6. TF-IDF 계산, features로 구성"
   ]
  },
  {
   "cell_type": "code",
   "execution_count": 108,
   "id": "fe3f7883",
   "metadata": {},
   "outputs": [],
   "source": [
    "from pyspark.ml.feature import HashingTF, IDF\n",
    "\n",
    "hashTF = HashingTF(inputCol=\"nostops\", outputCol=\"hash\")\n",
    "\n",
    "hashDf = hashTF.transform(stopDf)"
   ]
  },
  {
   "cell_type": "code",
   "execution_count": 109,
   "id": "6860b303",
   "metadata": {},
   "outputs": [],
   "source": [
    "idf = IDF(inputCol=\"hash\", outputCol=\"idf\")\n",
    "\n",
    "idfModel = idf.fit(hashDf)\n",
    "idfDf = idfModel.transform(hashDf)"
   ]
  },
  {
   "cell_type": "code",
   "execution_count": 110,
   "id": "c8e95dbc",
   "metadata": {},
   "outputs": [
    {
     "name": "stdout",
     "output_type": "stream",
     "text": [
      "+------------------------------------------------------------------+----------------------------------------------------------------------------------+\n",
      "|nostops                                                           |hash                                                                              |\n",
      "+------------------------------------------------------------------+----------------------------------------------------------------------------------+\n",
      "|[존경하는, 국민, 여러분, 경찰관, 여러분, 일흔네, 경찰의, 날입니다]|(262144,[162,62257,80697,80732,89874,127225,160086],[1.0,1.0,1.0,1.0,2.0,1.0,1.0])|\n",
      "+------------------------------------------------------------------+----------------------------------------------------------------------------------+\n",
      "only showing top 1 row\n",
      "\n"
     ]
    }
   ],
   "source": [
    "idfDf.select(\"nostops\", \"hash\").show(1, truncate=False)"
   ]
  },
  {
   "cell_type": "markdown",
   "id": "8f555645",
   "metadata": {},
   "source": [
    "### 7. Word2Vec"
   ]
  },
  {
   "cell_type": "code",
   "execution_count": 111,
   "id": "6a88b3cd",
   "metadata": {},
   "outputs": [
    {
     "name": "stdout",
     "output_type": "stream",
     "text": [
      "+--------+----------------------------------------------------------------------------------------------------------------------------------------------------------------------------------------------------------------------------------------------------------------------------------------------------------------------------------------------------------------------------------------------------------------------------------------------+\n",
      "|word    |vector                                                                                                                                                                                                                                                                                                                                                                                                                                        |\n",
      "+--------+----------------------------------------------------------------------------------------------------------------------------------------------------------------------------------------------------------------------------------------------------------------------------------------------------------------------------------------------------------------------------------------------------------------------------------------------+\n",
      "|공정해야|[0.00914848130196333,-0.016886720433831215,-0.006619544699788094,-0.010087245143949986,-0.007846644148230553,-0.020566700026392937,0.024165349081158638,-0.007920094765722752,0.022425495088100433,-0.0029738033190369606,0.014662348665297031,0.01732100173830986,-0.017258305102586746,-0.008982984349131584,0.006310200318694115,0.014133486896753311,-0.00215858849696815,0.004804850555956364,-0.02151719108223915,-0.023807846009731293]|\n",
      "+--------+----------------------------------------------------------------------------------------------------------------------------------------------------------------------------------------------------------------------------------------------------------------------------------------------------------------------------------------------------------------------------------------------------------------------------------------------+\n",
      "only showing top 1 row\n",
      "\n"
     ]
    }
   ],
   "source": [
    "from pyspark.ml.feature import Word2Vec\n",
    "\n",
    "word2Vec = Word2Vec(vectorSize=20, minCount=1, inputCol=\"tokens\", outputCol=\"w2v\")\n",
    "model = word2Vec.fit(tokDf)\n",
    "w2vDf = model.transform(tokDf)\n",
    "\n",
    "\n",
    "model.getVectors().show(1, truncate=False)"
   ]
  },
  {
   "cell_type": "code",
   "execution_count": 112,
   "id": "2a7202b4",
   "metadata": {},
   "outputs": [
    {
     "name": "stdout",
     "output_type": "stream",
     "text": [
      "+-------------+------------------+\n",
      "|         word|        similarity|\n",
      "+-------------+------------------+\n",
      "|       국민이|0.6197648644447327|\n",
      "|       감사의|0.5400314331054688|\n",
      "|경찰위원장님,|0.5180076956748962|\n",
      "|       갖추고|0.5122513771057129|\n",
      "|       국민께|0.5062524080276489|\n",
      "+-------------+------------------+\n",
      "\n"
     ]
    }
   ],
   "source": [
    "model.findSynonyms(\"치안이\", 5).show()"
   ]
  }
 ],
 "metadata": {
  "kernelspec": {
   "display_name": "Python 3 (ipykernel)",
   "language": "python",
   "name": "python3"
  },
  "language_info": {
   "codemirror_mode": {
    "name": "ipython",
    "version": 3
   },
   "file_extension": ".py",
   "mimetype": "text/x-python",
   "name": "python",
   "nbconvert_exporter": "python",
   "pygments_lexer": "ipython3",
   "version": "3.9.13"
  }
 },
 "nbformat": 4,
 "nbformat_minor": 5
}
