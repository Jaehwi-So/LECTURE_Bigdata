{
 "cells": [
  {
   "cell_type": "markdown",
   "id": "023c1005",
   "metadata": {},
   "source": [
    "# 통계\n",
    "\n",
    "해당 Jupyter Notebook에서는 데이터를 분석하기 위한 기초적인 통계에 대해서 다룬다.   \n",
    "\n",
    "1. 변수의 성격\n",
    "2. 샘플링, 히스토그램\n",
    "3. 평균, 분산, 표준편차, Z-score, CDF(누적확률), 중심극한정리\n",
    "4. Windows Function\n",
    "5. 추론, 빈도 분석, 상관관계 분석"
   ]
  },
  {
   "cell_type": "markdown",
   "id": "922cbc60",
   "metadata": {},
   "source": [
    "# 통계 이론\n",
    "\n",
    "1. 평균 (Mean):\n",
    "- 데이터 집합의 평균은 모든 관측값의 합을 데이터 포인트의 수로 나눈 값\n",
    "- 중심 경향성을 측정하고 데이터 집합의 대표값을 제공\n",
    "\n",
    "2. 분산 (Variance) 및 표준편차 (Standard Deviation)\n",
    "- 분산은 각 데이터 포인트가 평균에서 얼마나 멀리 떨어져 있는지를 측정\n",
    "- 표준편차는 분산의 제곱근으로, 데이터의 변동성을 더 직관적으로 나타냄\n",
    "\n",
    "3. Z-score (Z-값):\n",
    "- 특정 데이터 포인트가 평균으로부터 몇 표준편차만큼 떨어져 있는지를 나타냄\n",
    "- 표준화된 값으로, 서로 다른 분포를 가진 데이터를 정규화(표준화) 할 때 사용하는 지표\n",
    "\n",
    "4. CDF (누적분포함수, Cumulative Distribution Function)\n",
    "- 특정 값보다 작거나 같은 확률 변수의 확률을 나타내는 함수\n",
    "- 누적확률을 계산하여 확률 분포를 시각화하고 분석하는 데 사용\n",
    "\n",
    "5. 중심극한정리 (Central Limit Theorem, CLT)\n",
    "- 여러 독립적이고 동일한 분포를 가진 확률 변수의 합이 정규 분포에 가까워지는 현상을 설명\n",
    "- 대표적으로 표본 평균의 분포가 표본 크기가 충분히 크다면 정규 분포에 근사하는 특성을 활용하여 통계 추론을 수행\n",
    "\n",
    "6. Kolmogorov-Smirnov 검정\n",
    "- 역할: 두 표본 분포가 동일한 분포에서 추출되었는지를 검정하는 데 사용.\n",
    "- 활용: 분포의 형태나 특성을 비교하여 데이터의 유사성을 평가하는 데 유용.\n",
    "\n",
    "7. 카이제곱 검정 (Chi Square Test)\n",
    "- 역할: 범주형 자료의 독립성을 검정하거나, 예상 빈도와 실제 빈도 간의 차이를 검정하는 데 사용.\n",
    "- 활용: 범주형 데이터 분석에서 두 변수 간의 관계를 평가하거나 독립성을 확인하는 데 사용.\n",
    "\n",
    "8. 공분산 (Covariance)\n",
    "- 역할: 두 변수 간의 상관된 정도 및 방향을 측정하는 데 사용.\n",
    "- 활용: 두 변수 간의 관계를 이해하고, 변수들이 어떻게 함께 움직이는지를 파악하는 데 사용.\n",
    "\n",
    "9. 상관관계 (Correlation)\n",
    "- 공분산을 각 변수의 표준편차로 나눈 것\n",
    "- 역할: 두 변수 간의 상대적인 강도와 방향을 모두 고려하여 두 변수 간의 관계를 더 정확하게 측정\n",
    "- 활용: 두 변수 간의 관계를 정량화하고, 한 변수가 다른 변수를 어떻게 예측할 수 있는지를 평가하는 데 사용."
   ]
  },
  {
   "cell_type": "code",
   "execution_count": 1,
   "id": "609f7e0c",
   "metadata": {},
   "outputs": [
    {
     "name": "stderr",
     "output_type": "stream",
     "text": [
      "23/12/20 12:18:48 WARN Utils: Your hostname, sojaehwiui-MacBookPro.local resolves to a loopback address: 127.0.0.1; using 172.30.1.29 instead (on interface en0)\n",
      "23/12/20 12:18:48 WARN Utils: Set SPARK_LOCAL_IP if you need to bind to another address\n",
      "Setting default log level to \"WARN\".\n",
      "To adjust logging level use sc.setLogLevel(newLevel). For SparkR, use setLogLevel(newLevel).\n",
      "23/12/20 12:18:49 WARN NativeCodeLoader: Unable to load native-hadoop library for your platform... using builtin-java classes where applicable\n",
      "23/12/20 12:18:49 WARN Utils: Service 'SparkUI' could not bind on port 4040. Attempting port 4041.\n",
      "23/12/20 12:18:49 WARN Utils: Service 'SparkUI' could not bind on port 4041. Attempting port 4042.\n"
     ]
    }
   ],
   "source": [
    "import os, sys\n",
    "import pyspark\n",
    "\n",
    "myConf=pyspark.SparkConf()\n",
    "spark = pyspark.sql.SparkSession\\\n",
    "    .builder\\\n",
    "    .master(\"local\")\\\n",
    "    .appName(\"myApp\")\\\n",
    "    .config(conf=myConf)\\\n",
    "    .getOrCreate()"
   ]
  },
  {
   "cell_type": "markdown",
   "id": "5fce0383",
   "metadata": {},
   "source": [
    "# 변수의 성격\n",
    "\n",
    "빅데이터는 통계와 같은 이전의 방식으로 분석하기에는 잘 맞지 않는 대규모이거나 복잡한 성격의 데이터를 말한다.\n",
    "\n",
    "데이터는 숫자, 텍스트로 구분할 수 있다. 숫자 값은 정수나 소수로 표현되고, 년봉, 매출액, 관객수와 같이 '크다' 또는 '작다' 하는 의미가 있다. 반면에 텍스트는 분석하기 어려울 수 밖에 없고, 어떻게든 정량화하기 위해 단어의 빈도로 변환하고 있다.\n",
    "\n",
    "측정하는 변수는 크게 나누면 다음과 같다.\n",
    "\n",
    "(1) 명목변수(Nominal varaible)는 남녀 성별과 같이 순서가 없이 이름이 있는 변수를 말한다. 검은색, 흰색, 파란색 등의 색이나 종로구, 영등포구 등 지역구가 명목변수의 예가 된다.\n",
    "\n",
    "(2) 순위변수(Ordinal variable): 어떤 순서가 있는 범주에 속하여 그 범주의 이름을 말한다. '초등학고', '중학교', '고등학교', '대학교'와 같이 구분하여 붙인 이름이 예가 되고, 하위 학교를 마치고 나면 다음 등급으로 진학하는 순서가 있다. 소득수준을 '차상위', '중위', '상위'로 구분하면 순위변수에 해당된다.\n",
    "\n",
    "(3) 간격변수(Interval variable): 범주를 등간격으로 자신의 느낌을 '좋다', '보통', '안좋다' 로 범주화하는 경우이다.\n",
    "\n",
    "(4) 연속 변수(Continuous variable): 키, 몸무게\n",
    "\n",
    "통계에서는 변수의 성격에 따라 적용되는 분석의 방법이 다를 수 밖에 없다.    \n",
    "\n",
    "예를 들어:\n",
    "이산 값인 경우 이산분포 (주사위를 던져서 나오는 수)\n",
    "빈도인 경우 포아송분포 (이산분포의 한 종류로 볼 수 있고, 단위 시간 또는 단위 공간에서 발생하는 횟수를 나타낸다. 예를 들면 특정시간에 도착하는 버스 수)\n",
    "연속 값인 경우 정규분포로 모델링하여 평균, 표준편차, 확률 등의 통계량을 계산할 수 있다."
   ]
  },
  {
   "cell_type": "markdown",
   "id": "d8319cdc",
   "metadata": {},
   "source": [
    "# 샘플링\n",
    "\n",
    "### 무작위 수\n",
    "통계에 무작위 수는 빼놓을 수 없는데, 분포는 무작위 수로부터 만들어 지고, 확률이 계산된다."
   ]
  },
  {
   "cell_type": "code",
   "execution_count": 2,
   "id": "b3262c83",
   "metadata": {},
   "outputs": [
    {
     "name": "stdout",
     "output_type": "stream",
     "text": [
      "1st random number on the basis of the seed 0.23796462709189137\n",
      "2nd random number on the basis of the seed 0.5442292252959519\n"
     ]
    }
   ],
   "source": [
    "import random\n",
    "\n",
    "random.seed(3) #시드수를 지정하면 무작위 숫자가 정해짐. 시드를 지정안하면 운영체제의 시간을 가져가 진짜 무작위 수가 만들어진다.\n",
    "print(\"1st random number on the basis of the seed {}\".format(random.random()))\n",
    "print(\"2nd random number on the basis of the seed {}\".format(random.random()))"
   ]
  },
  {
   "cell_type": "code",
   "execution_count": 3,
   "id": "f1f1daef",
   "metadata": {},
   "outputs": [
    {
     "name": "stdout",
     "output_type": "stream",
     "text": [
      "1st random number on the basis of the seed 0.6518115623688636\n",
      "2nd random number on the basis of the seed 0.9367416506063756\n"
     ]
    }
   ],
   "source": [
    "#random.seed()\n",
    "random.seed()\n",
    "print(\"1st random number on the basis of the seed {}\".format(random.random()))\n",
    "print(\"2nd random number on the basis of the seed {}\".format(random.random()))"
   ]
  },
  {
   "cell_type": "code",
   "execution_count": 4,
   "id": "58087615",
   "metadata": {},
   "outputs": [
    {
     "name": "stdout",
     "output_type": "stream",
     "text": [
      "[[0.21207025 0.15341969]\n",
      " [0.27954884 0.62218145]\n",
      " [0.76412877 0.95165212]]\n"
     ]
    }
   ],
   "source": [
    "# Numpy\n",
    "\n",
    "import numpy as np\n",
    "\n",
    "# 균등분포 상에서 무작위 숫자 만들기\n",
    "print (np.random.random((3,2)))"
   ]
  },
  {
   "cell_type": "code",
   "execution_count": 5,
   "id": "9d265aeb",
   "metadata": {},
   "outputs": [
    {
     "data": {
      "text/plain": [
       "0.3245735627969031"
      ]
     },
     "execution_count": 5,
     "metadata": {},
     "output_type": "execute_result"
    }
   ],
   "source": [
    "# 정규분포 상에서 무작위 숫자 만들기\n",
    "np.random.randn()"
   ]
  },
  {
   "cell_type": "code",
   "execution_count": 6,
   "id": "13b18ca5",
   "metadata": {},
   "outputs": [],
   "source": [
    "# 평균 0, 표준편차 1을 가지는 정규분포에서 200개 샘플\n",
    "comp1=np.random.normal(0, 1, size=200)\n",
    "\n",
    "# 평균 10, 표준편차 2, 샘플은 200의 정규분포를 생성\n",
    "comp2=np.random.normal(10, 2, size=200)"
   ]
  },
  {
   "cell_type": "code",
   "execution_count": 7,
   "id": "844ed059",
   "metadata": {},
   "outputs": [
    {
     "data": {
      "image/png": "[encoded data removed]",
      "text/plain": [
       "<Figure size 640x480 with 1 Axes>"
      ]
     },
     "metadata": {},
     "output_type": "display_data"
    }
   ],
   "source": [
    "dice=[]\n",
    "for i in range(100):\n",
    "   dice.append(random.randrange(1,6+1))\n",
    "\n",
    "import matplotlib.pyplot as plt\n",
    "plt.hist(dice)\n",
    "plt.show()"
   ]
  },
  {
   "cell_type": "code",
   "execution_count": 8,
   "id": "1a218bfb",
   "metadata": {},
   "outputs": [
    {
     "data": {
      "image/png": "[encoded data removed]",
      "text/plain": [
       "<Figure size 640x480 with 1 Axes>"
      ]
     },
     "metadata": {},
     "output_type": "display_data"
    }
   ],
   "source": [
    "plt.hist(dice, bins = np.arange(0.5, 7))\n",
    "plt.show()"
   ]
  },
  {
   "cell_type": "code",
   "execution_count": 9,
   "id": "52bd2219",
   "metadata": {},
   "outputs": [
    {
     "data": {
      "text/plain": [
       "<AxesSubplot:>"
      ]
     },
     "execution_count": 9,
     "metadata": {},
     "output_type": "execute_result"
    },
    {
     "data": {
      "image/png": "[encoded data removed]",
      "text/plain": [
       "<Figure size 640x480 with 1 Axes>"
      ]
     },
     "metadata": {},
     "output_type": "display_data"
    }
   ],
   "source": [
    "# Pandas로 그리기\n",
    "\n",
    "import pandas as pd\n",
    "pd.Series(dice).hist(bins = np.arange(0.5, 7))"
   ]
  },
  {
   "cell_type": "markdown",
   "id": "66a67032",
   "metadata": {},
   "source": [
    "# 히스토그램\n",
    "\n",
    "정규분포에서 무작위 샘플을 추출하는 randn()을 사용해서 histogram 그래프를 그려보자. 정규분포 샘플을 무작위로 100개 생성해보자."
   ]
  },
  {
   "cell_type": "code",
   "execution_count": 10,
   "id": "b5210bc3",
   "metadata": {},
   "outputs": [
    {
     "name": "stdout",
     "output_type": "stream",
     "text": [
      "[ 2  6 12 16 19 22 17  2  2  2]\n",
      "[-2.51119959 -1.9908459  -1.47049221 -0.95013852 -0.42978483  0.09056886\n",
      "  0.61092255  1.13127624  1.65162993  2.17198362  2.69233731]\n"
     ]
    }
   ],
   "source": [
    "x=np.random.randn(100)\n",
    "count, binends = np.histogram(x)\n",
    "print(count)\n",
    "print(binends)"
   ]
  },
  {
   "cell_type": "code",
   "execution_count": 11,
   "id": "e7c56ac4",
   "metadata": {},
   "outputs": [
    {
     "data": {
      "text/plain": [
       "(array([ 2.,  6., 12., 16., 19., 22., 17.,  2.,  2.,  2.]),\n",
       " array([-2.51119959, -1.9908459 , -1.47049221, -0.95013852, -0.42978483,\n",
       "         0.09056886,  0.61092255,  1.13127624,  1.65162993,  2.17198362,\n",
       "         2.69233731]),\n",
       " <BarContainer object of 10 artists>)"
      ]
     },
     "execution_count": 11,
     "metadata": {},
     "output_type": "execute_result"
    },
    {
     "data": {
      "image/png": "[encoded data removed]",
      "text/plain": [
       "<Figure size 640x480 with 1 Axes>"
      ]
     },
     "metadata": {},
     "output_type": "display_data"
    }
   ],
   "source": [
    "%matplotlib inline\n",
    "import matplotlib.pyplot as plt\n",
    "plt.hist(x)"
   ]
  },
  {
   "cell_type": "code",
   "execution_count": 12,
   "id": "e991dd32",
   "metadata": {},
   "outputs": [
    {
     "data": {
      "text/plain": [
       "<AxesSubplot:>"
      ]
     },
     "execution_count": 12,
     "metadata": {},
     "output_type": "execute_result"
    },
    {
     "data": {
      "image/png": "[encoded data removed]",
      "text/plain": [
       "<Figure size 640x480 with 1 Axes>"
      ]
     },
     "metadata": {},
     "output_type": "display_data"
    }
   ],
   "source": [
    "# 정규분포 두개를 Series로 만들어 만들기\n",
    "\n",
    "values=pd.Series(np.concatenate( [comp1,comp2]))\n",
    "values.hist()"
   ]
  },
  {
   "cell_type": "code",
   "execution_count": 13,
   "id": "bbb4af7d",
   "metadata": {},
   "outputs": [
    {
     "data": {
      "image/png": "[encoded data removed]",
      "text/plain": [
       "<Figure size 640x480 with 1 Axes>"
      ]
     },
     "metadata": {},
     "output_type": "display_data"
    }
   ],
   "source": [
    "values.plot()\n",
    "plt.show()"
   ]
  },
  {
   "cell_type": "markdown",
   "id": "5f0d5bea",
   "metadata": {},
   "source": [
    "# 문제 S-1: 년도별 빈도 히스토그램\n",
    "빈도와 날자가 저장된 데이터에서 막대그래프를 그려보자. 아래 데이터의 첫 컬럼은 빈도, 둘째 컬럼은 날자이다. 막대그래프는 histogram, barchart를 선택할 수 있다.\n",
    "\n",
    "histogram은 한 변수(컬럼)의 빈도수.\n",
    "barchart는 두 변수간의 그래프."
   ]
  },
  {
   "cell_type": "code",
   "execution_count": 14,
   "id": "27270672",
   "metadata": {},
   "outputs": [],
   "source": [
    "data = \"\"\"30 14-11-2003\n",
    "10 15-03-2004\n",
    "12 04-12-2012\n",
    "33 09-05-2007\n",
    "44 16-08-2005\n",
    "55 25-07-2001\n",
    "76 31-12-2011\n",
    "87 25-06-2009\n",
    "118 16-02-2006\n",
    "119 10-02-2000\n",
    "145 03-05-2014\"\"\""
   ]
  },
  {
   "cell_type": "code",
   "execution_count": 15,
   "id": "8770c4e0",
   "metadata": {},
   "outputs": [],
   "source": [
    "import datetime\n",
    "\n",
    "yvalues = []\n",
    "xdates = []\n",
    "for line in data.split(\"\\n\"):\n",
    "    x, y = line.split()\n",
    "    yvalues.append(int(x))\n",
    "    xdates.append(datetime.datetime.strptime(y, \"%d-%m-%Y\").date())"
   ]
  },
  {
   "cell_type": "code",
   "execution_count": 16,
   "id": "f7ab6bee",
   "metadata": {},
   "outputs": [
    {
     "data": {
      "text/plain": [
       "<BarContainer object of 11 artists>"
      ]
     },
     "execution_count": 16,
     "metadata": {},
     "output_type": "execute_result"
    },
    {
     "data": {
      "image/png": "[encoded data removed]",
      "text/plain": [
       "<Figure size 640x480 with 1 Axes>"
      ]
     },
     "metadata": {},
     "output_type": "display_data"
    }
   ],
   "source": [
    "import matplotlib.pyplot as plt\n",
    "\n",
    "fig = plt.figure()\n",
    "ax = plt.subplot(111) #3개의 숫자\n",
    "ax.bar(xdates, yvalues, width=30)"
   ]
  },
  {
   "cell_type": "markdown",
   "id": "1428ca4a",
   "metadata": {},
   "source": [
    "### boxplot\n",
    "전체 관측값을 정렬하고, 전체를 4분위로 나누면 IQR Interquatile Range을 구할 수 있다. \n",
    "Boxplot은 IQR의 Q1~Q3을 사각형으로 표시한다. pandas를 이용하거나, matplotlib으로 Boxplot을 그릴 수 있다. \n",
    "사각형의 주황색 선은 평균을 말한다."
   ]
  },
  {
   "cell_type": "code",
   "execution_count": 17,
   "id": "53bcd40c",
   "metadata": {},
   "outputs": [
    {
     "data": {
      "image/png": "[encoded data removed]",
      "text/plain": [
       "<Figure size 640x480 with 1 Axes>"
      ]
     },
     "metadata": {},
     "output_type": "display_data"
    }
   ],
   "source": [
    "import matplotlib.pyplot as plt\n",
    "\n",
    "x1 = np.random.normal(0,1,50) # mu=0, sigma=1, n=50\n",
    "x2 = np.random.normal(1,1,50)\n",
    "x3 = np.random.normal(2,1,50)\n",
    "plt.boxplot([x1,x2,x3])\n",
    "plt.show()"
   ]
  },
  {
   "cell_type": "markdown",
   "id": "6f75c6f8",
   "metadata": {},
   "source": [
    "# 중심극한정리\n",
    "무작위로 평균 , 표준편차, 모집단이 있다고 하자. 모집단의 평균과 표준편차는 계산할 방법이 없어서 알 수가 없다. 표본을 추출하면, 모집단의 평균을 구할 수 있고, 모집단의 표준편차는 표본의 표준편차를 크기로 나누어 계산할 수 있다"
   ]
  },
  {
   "cell_type": "code",
   "execution_count": 18,
   "id": "17c6d565",
   "metadata": {},
   "outputs": [
    {
     "name": "stdout",
     "output_type": "stream",
     "text": [
      "mean\t: 0.004994726238266123\n",
      "median\t: 0.11064711671856806\n"
     ]
    }
   ],
   "source": [
    "x=np.random.randn(100)\n",
    "print (\"mean\\t: {}\".format(np.mean(x)))\n",
    "print (\"median\\t: {}\".format(np.median(x)))\n",
    "\n",
    "# 정규분포는 평균, 모드, 최빈값이 같아야 한다. \n",
    "# 아래는 평균은 0에 가깝고, 최빈값과 다소 차이가 있다. 정규분포의 솟거나, 퍼진 모양이 다르기 때문이다."
   ]
  },
  {
   "cell_type": "markdown",
   "id": "dc456675",
   "metadata": {},
   "source": [
    "### skewness\n",
    "분포의 대칭성을 설명하는 지표로 skewness를 계산한다.  \n",
    "= 0 : 정규분포  \n",
    "&lt; 0 : +이면 +방향으로 꼬리가 있다. 왼쪽으로 피크가 있다.  \n",
    "&gt; 0 : -이면 -방향으로 꼬리가 있다. 오른쪽으로 피크가 있다.  "
   ]
  },
  {
   "cell_type": "code",
   "execution_count": 19,
   "id": "762a3cfd",
   "metadata": {},
   "outputs": [
    {
     "name": "stdout",
     "output_type": "stream",
     "text": [
      "skewness\t: -0.48030131078975674\n"
     ]
    }
   ],
   "source": [
    "from scipy.stats import skew\n",
    "\n",
    "print (\"skewness\\t: {}\".format(skew(x)))"
   ]
  },
  {
   "cell_type": "markdown",
   "id": "d5d6d8e9",
   "metadata": {},
   "source": [
    "### kurtosis\n",
    "kurtosis는 분포의 뾰족한 정도를 설명한다.\n",
    "= 0 : 정규분포  \n",
    "&lt; 0 : 뾰족, 꼬리가 두툼\n",
    "&gt; 0 : 편평, 꼬리가 얇음"
   ]
  },
  {
   "cell_type": "code",
   "execution_count": 20,
   "id": "78907cb3",
   "metadata": {},
   "outputs": [
    {
     "name": "stdout",
     "output_type": "stream",
     "text": [
      "kurtosis\t: 0.5034795030076222\n"
     ]
    }
   ],
   "source": [
    "from scipy.stats import kurtosis\n",
    "\n",
    "print (\"kurtosis\\t: {}\".format(kurtosis(x)))"
   ]
  },
  {
   "cell_type": "markdown",
   "id": "8e498f43",
   "metadata": {},
   "source": [
    "## Spark DF with numpy array"
   ]
  },
  {
   "cell_type": "code",
   "execution_count": 21,
   "id": "882e95d5",
   "metadata": {},
   "outputs": [],
   "source": [
    "import pandas as pd\n",
    "\n",
    "x=np.random.randn(100)\n",
    "xPd=pd.DataFrame(x, columns=['x'], dtype=float)\n"
   ]
  },
  {
   "cell_type": "code",
   "execution_count": 22,
   "id": "2a079d41",
   "metadata": {},
   "outputs": [
    {
     "name": "stderr",
     "output_type": "stream",
     "text": [
      "\r",
      "[Stage 0:>                                                          (0 + 1) / 1]\r"
     ]
    },
    {
     "name": "stdout",
     "output_type": "stream",
     "text": [
      "+--------------------+-------------------+\n",
      "|         skewness(x)|        kurtosis(x)|\n",
      "+--------------------+-------------------+\n",
      "|-0.10441576689279046|-0.6406915928984955|\n",
      "+--------------------+-------------------+\n",
      "\n"
     ]
    },
    {
     "name": "stderr",
     "output_type": "stream",
     "text": [
      "\r",
      "                                                                                \r"
     ]
    }
   ],
   "source": [
    "from pyspark.sql import functions as f\n",
    "\n",
    "df=spark.createDataFrame(xPd)\n",
    "\n",
    "df.select(f.skewness(df['x']), f.kurtosis(df['x'])).show()"
   ]
  },
  {
   "cell_type": "markdown",
   "id": "38e3dc53",
   "metadata": {},
   "source": [
    "### 평균"
   ]
  },
  {
   "cell_type": "code",
   "execution_count": 23,
   "id": "7a00d4b3",
   "metadata": {},
   "outputs": [
    {
     "name": "stdout",
     "output_type": "stream",
     "text": [
      "simple mean of x = -0.022\n",
      "numpy mean of X = -0.022\n"
     ]
    }
   ],
   "source": [
    "X=x\n",
    "\n",
    "print (\"simple mean of x = {:.3f}\".format(float(sum(X))/len(X)))\n",
    "\n",
    "xbar=np.mean(X)\n",
    "print (\"numpy mean of X = {:.3f}\".format(xbar))"
   ]
  },
  {
   "cell_type": "markdown",
   "id": "fe6d189c",
   "metadata": {},
   "source": [
    "### 분산\n",
    "\n",
    "분산 variance나 표준편차 Standard Deviation은 평균으로부터 얼마나 멀리 떨어져 또는 흩어져 분포하는지 알려주는 값이다.\n",
    "\n",
    "- 분산은 평균에서 관측값을 뺀 차이값을 제곱한 후, n으로 나누어 평균을 계산한다. 제곱을 하지 않고 차이값을 더하면 0이 나오므로 제곱을 한다.\n",
    "- 분산을 제곱근하면 표준편차가 된다.\n",
    "- 분산보다는 표준편차가 더 자주 사용된다."
   ]
  },
  {
   "cell_type": "code",
   "execution_count": 24,
   "id": "c8cf434c",
   "metadata": {},
   "outputs": [
    {
     "name": "stdout",
     "output_type": "stream",
     "text": [
      "0.9949887261237833\n"
     ]
    }
   ],
   "source": [
    "X=x\n",
    "\n",
    "#식으로 표현하기\n",
    "print(np.sqrt(sum( [ (x-xbar)**2 for x in X ] )/len(X))) # ddof=0"
   ]
  },
  {
   "cell_type": "code",
   "execution_count": 25,
   "id": "5e45bb8d",
   "metadata": {},
   "outputs": [
    {
     "name": "stdout",
     "output_type": "stream",
     "text": [
      "1.0000012955109936\n"
     ]
    }
   ],
   "source": [
    "# 자유도 반영\n",
    "print(np.sqrt(sum( [ (x-xbar)**2 for x in X ] )/(len(X)-1))) # ddof=1"
   ]
  },
  {
   "cell_type": "code",
   "execution_count": 26,
   "id": "884fa1f5",
   "metadata": {},
   "outputs": [
    {
     "name": "stdout",
     "output_type": "stream",
     "text": [
      "0.994988726123783\n",
      "1.0000012955109934\n"
     ]
    }
   ],
   "source": [
    "# Numpy로 계산하기\n",
    "\n",
    "print(np.std(X)) # ddof=0\n",
    "print(np.std(X, ddof=1))"
   ]
  },
  {
   "cell_type": "markdown",
   "id": "760d27ad",
   "metadata": {},
   "source": [
    "### Z-Score (Nomalization)\n",
    "\n",
    "표준편차의 배수로 떨어진 정도를 정규화(표준화) 할 때 사용하는 지표"
   ]
  },
  {
   "cell_type": "code",
   "execution_count": 27,
   "id": "30dbca33",
   "metadata": {},
   "outputs": [
    {
     "name": "stdout",
     "output_type": "stream",
     "text": [
      "1.5934529163139606 -0.7926067405898912 0.23425406515577438 0.28355916328864406 0.9223215836745644 0.6107287108999505 -0.21188059494205802 0.22769255061551813 0.44832042266163585 -0.07140781699846352 0.8137730579491924 -1.363308999636134 0.6331612974078552 -1.886253721049721 1.2687259344856452 -0.09916402952607492 0.8913521043443318 -0.7413414927402544 -0.41181840990394153 0.014851063873426008 0.4716672889687434 1.0859018474849793 -2.426206291800436 -0.11662502170469671 0.31259687438303513 -0.4984219474717191 -0.23310743975082734 -0.24851738994124747 -0.8662251068620725 2.059405887617503 1.0319304656835047 1.0504885213044586 -0.861922750010493 -0.18267702687017923 0.03732056950194152 -0.23668049757121024 -1.0742402247027243 -0.17545031081238233 1.3168423996052645 0.06833395975113794 0.9277990290043489 1.5047482661742158 -1.786840079786012 1.6760003468317104 0.8143882865289019 -0.4963960873596839 -0.43634521317060065 0.7251363783037053 0.12439357655620524 0.1380648486731307 -0.7742851403354961 1.860800110076091 -1.5505576757165094 0.9561856300515389 -0.0322642952191573 1.165208799243855 -1.6110227318549393 -0.9314938287972088 0.6432836574968611 -1.824753039585977 -1.044928121894334 -0.3579661645704777 -0.6151809481928431 0.780880204521396 -0.3184679119965707 -1.283839899189144 -0.2570815894557773 -1.2330975024160742 -0.5914295327404521 -0.8030884811801711 -1.455746794748827 -1.386257112792711 -0.8559577659034587 1.5149639705210893 0.9545159246966631 -1.575983444805588 0.17905695244983497 -1.0453750898563898 -1.6289457480129306 0.9522199222098641 0.43301021606331314 -0.36785705675815755 -0.49254337322388314 1.1206858849614052 1.530864774215088 0.27078995581827453 0.6409138083312612 0.39663229598409533 -0.033493110637960684 0.14758736884434337 -1.8352784136881004 -0.1071928540960154 0.8618934155683667 1.4679310768311085 -0.03241524644493481 0.5111400094838945 -1.040207655766098 1.2392670249592415 2.0182017455465084 -0.6290964418363668 "
     ]
    }
   ],
   "source": [
    "# 계산식\n",
    "\n",
    "import numpy as np\n",
    "\n",
    "xbar=np.mean(X)\n",
    "sigmax=np.std(X) #ddof=0\n",
    "sx=np.std(X,ddof=1)\n",
    "for x in X:\n",
    "    #zscore=(x-xbar)/sx\n",
    "    zscore=(x-xbar)/sigmax\n",
    "    print (zscore, end= ' ')"
   ]
  },
  {
   "cell_type": "code",
   "execution_count": 28,
   "id": "4220097e",
   "metadata": {},
   "outputs": [
    {
     "data": {
      "text/plain": [
       "array([ 1.59345292, -0.79260674,  0.23425407,  0.28355916,  0.92232158,\n",
       "        0.61072871, -0.21188059,  0.22769255,  0.44832042, -0.07140782,\n",
       "        0.81377306, -1.363309  ,  0.6331613 , -1.88625372,  1.26872593,\n",
       "       -0.09916403,  0.8913521 , -0.74134149, -0.41181841,  0.01485106,\n",
       "        0.47166729,  1.08590185, -2.42620629, -0.11662502,  0.31259687,\n",
       "       -0.49842195, -0.23310744, -0.24851739, -0.86622511,  2.05940589,\n",
       "        1.03193047,  1.05048852, -0.86192275, -0.18267703,  0.03732057,\n",
       "       -0.2366805 , -1.07424022, -0.17545031,  1.3168424 ,  0.06833396,\n",
       "        0.92779903,  1.50474827, -1.78684008,  1.67600035,  0.81438829,\n",
       "       -0.49639609, -0.43634521,  0.72513638,  0.12439358,  0.13806485,\n",
       "       -0.77428514,  1.86080011, -1.55055768,  0.95618563, -0.0322643 ,\n",
       "        1.1652088 , -1.61102273, -0.93149383,  0.64328366, -1.82475304,\n",
       "       -1.04492812, -0.35796616, -0.61518095,  0.7808802 , -0.31846791,\n",
       "       -1.2838399 , -0.25708159, -1.2330975 , -0.59142953, -0.80308848,\n",
       "       -1.45574679, -1.38625711, -0.85595777,  1.51496397,  0.95451592,\n",
       "       -1.57598344,  0.17905695, -1.04537509, -1.62894575,  0.95221992,\n",
       "        0.43301022, -0.36785706, -0.49254337,  1.12068588,  1.53086477,\n",
       "        0.27078996,  0.64091381,  0.3966323 , -0.03349311,  0.14758737,\n",
       "       -1.83527841, -0.10719285,  0.86189342,  1.46793108, -0.03241525,\n",
       "        0.51114001, -1.04020766,  1.23926702,  2.01820175, -0.62909644])"
      ]
     },
     "execution_count": 28,
     "metadata": {},
     "output_type": "execute_result"
    }
   ],
   "source": [
    "# zscore()는 scipy.stats에서 제공하고 있다.\n",
    "\n",
    "from scipy import stats\n",
    "stats.zscore(X)"
   ]
  },
  {
   "cell_type": "markdown",
   "id": "e80a707c",
   "metadata": {},
   "source": [
    "### cdf - 누적확률계산\n",
    "추론통계에서 확률을 계산하는 것은 중요하다. p-value와 신뢰구간의 계산에 필요하다. \n",
    "cdf Cumulative Distribution Function은 누적확률을 의미한다. \n",
    "정규분포에서 평균 loc=0, 표준편차 scale=1을 기본 값으로, cdf(0)은 '0'또는 그 이하의 값을 누적한 확률을 말한다."
   ]
  },
  {
   "cell_type": "code",
   "execution_count": 29,
   "id": "849421f0",
   "metadata": {},
   "outputs": [
    {
     "data": {
      "text/plain": [
       "0.5"
      ]
     },
     "execution_count": 29,
     "metadata": {},
     "output_type": "execute_result"
    }
   ],
   "source": [
    "from scipy.stats import norm\n",
    "\n",
    "norm.cdf(0, loc=0, scale=1)"
   ]
  },
  {
   "cell_type": "code",
   "execution_count": 30,
   "id": "44f5a4f1",
   "metadata": {},
   "outputs": [
    {
     "data": {
      "text/plain": [
       "0.6826894921370859"
      ]
     },
     "execution_count": 30,
     "metadata": {},
     "output_type": "execute_result"
    }
   ],
   "source": [
    " norm.cdf(1) - norm.cdf(-1) #모집단의 68.27"
   ]
  },
  {
   "cell_type": "code",
   "execution_count": 31,
   "id": "ab62895f",
   "metadata": {},
   "outputs": [
    {
     "data": {
      "text/plain": [
       "0.9544997361036416"
      ]
     },
     "execution_count": 31,
     "metadata": {},
     "output_type": "execute_result"
    }
   ],
   "source": [
    "norm.cdf(2) - norm.cdf(-2) #모집단 95%"
   ]
  },
  {
   "cell_type": "markdown",
   "id": "e2813314",
   "metadata": {},
   "source": [
    "### tscore\n",
    "표본의 크기가 크면 모집단과 차이가 없는데, 표본이 작으면 어떻게 될까? 이 경우 사용하는 것이 t분포이다.   \n",
    "t분포는 정규분포와 유사한 모양을 가지고 있지만, 꼬리가 두툼한 특징을 가지고 있다.    \n",
    "따라서 평균에서 멀어진 값을 샘플링할 확률이 높아지게 된다. n이 일정 규모로 커지면 t분포와 정규분포와 유사하게 된다.   "
   ]
  },
  {
   "cell_type": "code",
   "execution_count": 32,
   "id": "a90f420e",
   "metadata": {},
   "outputs": [
    {
     "data": {
      "text/plain": [
       "0.7500000000000002"
      ]
     },
     "execution_count": 32,
     "metadata": {},
     "output_type": "execute_result"
    }
   ],
   "source": [
    "from scipy.stats import t\n",
    "\n",
    "t.cdf(1, 1) # dof 1"
   ]
  },
  {
   "cell_type": "markdown",
   "id": "d8ce3f05",
   "metadata": {},
   "source": [
    "# Outlier\n",
    "\n",
    "정규분포를 따른다고 했을 경우, 분포의 표준편차 범위 -3 ~ 3안에 99.7%가 포함되고 그 밖의 값은 0.3%에 불과하여 발생하기 극히 어렵다. 이러한 일정 범위를 넘어선 값은 이상값이다.   \n",
    "\n",
    "이상값은 분석에 영향을 미치며, 몸무게-키의 회귀분석선을 생각해보면 이상 몸무게는 선을 틀어지게 한다."
   ]
  },
  {
   "cell_type": "code",
   "execution_count": 33,
   "id": "fa8a1ff4",
   "metadata": {},
   "outputs": [
    {
     "name": "stdout",
     "output_type": "stream",
     "text": [
      "[2, 4, 5, 1, 6, 5]\n"
     ]
    }
   ],
   "source": [
    "import numpy as np\n",
    "\n",
    "def filterOutliers(data):\n",
    "    m = np.mean(data)\n",
    "    s = np.std(data)\n",
    "    filtered = [d for d in data if (m - 2 * s < d < m + 2 * s)]\n",
    "    return filtered\n",
    "\n",
    "d = [2,4,5,1,6,5,40]\n",
    "filtered_d = filterOutliers(d)\n",
    "print (filtered_d)\n",
    "\n",
    "\n",
    "# 40은 Outlier로 판단하여 전처리하여 제외한다."
   ]
  },
  {
   "cell_type": "markdown",
   "id": "ef687c32",
   "metadata": {},
   "source": [
    "# Window functions\n",
    "window 함수는 윈도우를 정의하고 윈도우 함수를 적용하는 데 사용된다.\n",
    "\n",
    "윈도우 함수는 윈도우별 일종의 집단으로 구분하고 (partitionBy) 그 범위 내에서 계산을 할 때 사용한다. 이 때 over() 함수로 적용되는 그룹의 윈도우를 구분하게 된다.\n",
    "\n",
    "'''groupBy는 컬럼별 연산이고 컬럼데이터 그룹화와 집계에 사용되며 범주형 데이터를 처리하는 데 유용하다.'''<br>\n",
    "'''window는 행 별로 연산을 수행하고 시간적 또는 순서적 데이터에 적합하다. 순위를 매길 때에 유용'''\n",
    "\n",
    "- 순위 함수 ranking functions: rank, dense_rank, percent_rank, ntile, row_number\n",
    "- 분석 함수 analytic functions: cume_dist, first_value, last_value, lag, lead\n",
    "- 집합 함수 aggregate functions: sum, avg, min, max, count와 같이 앞서 배웠던 집합 함수를 윈도우에 대해 적용."
   ]
  },
  {
   "cell_type": "markdown",
   "id": "167311ef",
   "metadata": {},
   "source": [
    "### GroupBy 사용 케이스"
   ]
  },
  {
   "cell_type": "code",
   "execution_count": 34,
   "id": "e140827d",
   "metadata": {},
   "outputs": [
    {
     "name": "stdout",
     "output_type": "stream",
     "text": [
      "+------+--------+-----+\n",
      "|  name| subject| mark|\n",
      "+------+--------+-----+\n",
      "|김하나| English|  100|\n",
      "|김하나|    Math|   80|\n",
      "|임하나| English|   70|\n",
      "|임하나|    Math|  100|\n",
      "|김갑돌| English| 82.3|\n",
      "|김갑돌|    Math| 98.5|\n",
      "+------+--------+-----+\n",
      "\n",
      "+--------+-----+\n",
      "| subject|count|\n",
      "+--------+-----+\n",
      "|    Math|    3|\n",
      "| English|    3|\n",
      "+--------+-----+\n",
      "\n"
     ]
    }
   ],
   "source": [
    "\n",
    "marks=[\n",
    "    \"김하나, English, 100\",\n",
    "    \"김하나, Math, 80\",\n",
    "    \"임하나, English, 70\",\n",
    "    \"임하나, Math, 100\",\n",
    "    \"김갑돌, English, 82.3\",\n",
    "    \"김갑돌, Math, 98.5\",\n",
    "#     \"김갑순, Math, 90\"\n",
    "]\n",
    "\n",
    "_marksRdd=spark.sparkContext.parallelize(marks).map(lambda x:x.split(','))\n",
    "_marksDf=spark.createDataFrame(_marksRdd, schema=[\"name\", \"subject\", \"mark\"])\n",
    "_marksDf.show()\n",
    "_marksDf.groupBy('subject').count().show()"
   ]
  },
  {
   "cell_type": "markdown",
   "id": "46b8bc76",
   "metadata": {},
   "source": [
    "# window 함수 사용\n",
    "컬럼에 대해 그룹, 즉 윈도우를 만드는 함수를 보자."
   ]
  },
  {
   "cell_type": "code",
   "execution_count": 35,
   "id": "341d3de0",
   "metadata": {},
   "outputs": [
    {
     "data": {
      "text/plain": [
       "<pyspark.sql.window.WindowSpec at 0x7f8820dd8700>"
      ]
     },
     "execution_count": 35,
     "metadata": {},
     "output_type": "execute_result"
    }
   ],
   "source": [
    "from pyspark.sql.window import Window\n",
    "\n",
    "# Window 스펙 정의 및 생성\n",
    "\n",
    "win = Window.partitionBy(\"subject\").orderBy(\"mark\") \n",
    "# (한글일 경우) Window().partitionBy(['호선명']).orderBy(F.desc('유임승차인원'))\n",
    "\n",
    "# PartitionBy : 컬럼별로 구분\n",
    "# orderBy : partion 내에서 컬럼에 대한 행의 순서 결정\n",
    "# Dataframe의 subject(과목)별 mark(점수)로 학생들(Row)들의 순위를 매긴다.\n",
    "\n",
    "win"
   ]
  },
  {
   "cell_type": "code",
   "execution_count": 36,
   "id": "4789d3bb",
   "metadata": {},
   "outputs": [
    {
     "name": "stdout",
     "output_type": "stream",
     "text": [
      "+------+--------+-----+----------+\n",
      "|  name| subject| mark|row_number|\n",
      "+------+--------+-----+----------+\n",
      "|김하나| English|  100|         1|\n",
      "|임하나| English|   70|         2|\n",
      "|김갑돌| English| 82.3|         3|\n",
      "|임하나|    Math|  100|         1|\n",
      "|김하나|    Math|   80|         2|\n",
      "|김갑돌|    Math| 98.5|         3|\n",
      "+------+--------+-----+----------+\n",
      "\n"
     ]
    }
   ],
   "source": [
    "from pyspark.sql.functions import row_number\n",
    "\n",
    "# 순위 함수 : row_number() 그룹별로 일련번호를 생성\n",
    "_marksDf.withColumn(\"row_number\", row_number().over(win)).show()"
   ]
  },
  {
   "cell_type": "markdown",
   "id": "33a2a615",
   "metadata": {},
   "source": [
    "### 형 변환 -> OrderBy를 사용하기 위해서"
   ]
  },
  {
   "cell_type": "code",
   "execution_count": 37,
   "id": "e36f4116",
   "metadata": {},
   "outputs": [
    {
     "name": "stdout",
     "output_type": "stream",
     "text": [
      "+------+--------+-----+-----+----------+\n",
      "|  name| subject| mark|markF|row_number|\n",
      "+------+--------+-----+-----+----------+\n",
      "|김하나| English|  100|100.0|         1|\n",
      "|김갑돌| English| 82.3| 82.3|         2|\n",
      "|임하나| English|   70| 70.0|         3|\n",
      "|임하나|    Math|  100|100.0|         1|\n",
      "|김갑돌|    Math| 98.5| 98.5|         2|\n",
      "|김하나|    Math|   80| 80.0|         3|\n",
      "+------+--------+-----+-----+----------+\n",
      "\n"
     ]
    }
   ],
   "source": [
    "from pyspark.sql.types import FloatType\n",
    "from pyspark.sql import functions as F\n",
    "from pyspark.sql.functions import row_number\n",
    "\n",
    "# mark(String) 형변환 -> markF(Float)\n",
    "_marksDf = _marksDf.withColumn('markF', _marksDf['mark'].cast(FloatType()))\n",
    "\n",
    "# 형변환한 컬럼으로 정렬하는 Window Function 생성\n",
    "winF = Window.partitionBy(\"subject\").orderBy(F.col(\"markF\").desc()) # orderby 'float markF'\n",
    "\n",
    "\n",
    "_marksDf.withColumn(\"row_number\", row_number().over(winF)).show()"
   ]
  },
  {
   "cell_type": "code",
   "execution_count": 38,
   "id": "7df3570c",
   "metadata": {},
   "outputs": [
    {
     "name": "stdout",
     "output_type": "stream",
     "text": [
      "+------+--------+-----+-----+----+\n",
      "|  name| subject| mark|markF|rank|\n",
      "+------+--------+-----+-----+----+\n",
      "|김하나| English|  100|100.0|   1|\n",
      "|김갑돌| English| 82.3| 82.3|   2|\n",
      "|임하나| English|   70| 70.0|   3|\n",
      "|임하나|    Math|  100|100.0|   1|\n",
      "|김갑돌|    Math| 98.5| 98.5|   2|\n",
      "|김하나|    Math|   80| 80.0|   3|\n",
      "+------+--------+-----+-----+----+\n",
      "\n"
     ]
    }
   ],
   "source": [
    "# rank() 윈도우 함수는 각 그룹별로 등위를 계산\n",
    "from pyspark.sql.functions import rank\n",
    "\n",
    "_marksDf.withColumn(\"rank\", rank().over(winF)).show()"
   ]
  },
  {
   "cell_type": "code",
   "execution_count": 39,
   "id": "a4886724",
   "metadata": {},
   "outputs": [
    {
     "name": "stdout",
     "output_type": "stream",
     "text": [
      "+------+--------+-----+-----+------------------+\n",
      "|  name| subject| mark|markF|         cume_dist|\n",
      "+------+--------+-----+-----+------------------+\n",
      "|김하나| English|  100|100.0|0.3333333333333333|\n",
      "|김갑돌| English| 82.3| 82.3|0.6666666666666666|\n",
      "|임하나| English|   70| 70.0|               1.0|\n",
      "|임하나|    Math|  100|100.0|0.3333333333333333|\n",
      "|김갑돌|    Math| 98.5| 98.5|0.6666666666666666|\n",
      "|김하나|    Math|   80| 80.0|               1.0|\n",
      "+------+--------+-----+-----+------------------+\n",
      "\n"
     ]
    }
   ],
   "source": [
    "# 누적분포 출력\n",
    "from pyspark.sql.functions import cume_dist\n",
    "\n",
    "_marksDf.withColumn(\"cume_dist\", cume_dist().over(winF)).show()"
   ]
  },
  {
   "cell_type": "code",
   "execution_count": 40,
   "id": "a2e19469",
   "metadata": {},
   "outputs": [
    {
     "name": "stdout",
     "output_type": "stream",
     "text": [
      "+------+--------+-----+-----+-----+\n",
      "|  name| subject| mark|markF|  lag|\n",
      "+------+--------+-----+-----+-----+\n",
      "|김하나| English|  100|100.0| null|\n",
      "|김갑돌| English| 82.3| 82.3|  100|\n",
      "|임하나| English|   70| 70.0| 82.3|\n",
      "|임하나|    Math|  100|100.0| null|\n",
      "|김갑돌|    Math| 98.5| 98.5|  100|\n",
      "|김하나|    Math|   80| 80.0| 98.5|\n",
      "+------+--------+-----+-----+-----+\n",
      "\n"
     ]
    }
   ],
   "source": [
    "from pyspark.sql.functions import lag\n",
    "\n",
    "_marksDf.withColumn(\"lag\", lag('mark', 1).over(winF)).show()"
   ]
  },
  {
   "cell_type": "code",
   "execution_count": 41,
   "id": "42ee4264",
   "metadata": {},
   "outputs": [
    {
     "name": "stdout",
     "output_type": "stream",
     "text": [
      "+------+--------+-----+-----+-----+\n",
      "|  name| subject| mark|markF| lead|\n",
      "+------+--------+-----+-----+-----+\n",
      "|김하나| English|  100|100.0| 82.3|\n",
      "|김갑돌| English| 82.3| 82.3|   70|\n",
      "|임하나| English|   70| 70.0| null|\n",
      "|임하나|    Math|  100|100.0| 98.5|\n",
      "|김갑돌|    Math| 98.5| 98.5|   80|\n",
      "|김하나|    Math|   80| 80.0| null|\n",
      "+------+--------+-----+-----+-----+\n",
      "\n"
     ]
    }
   ],
   "source": [
    "from pyspark.sql.functions import lead\n",
    "\n",
    "_marksDf.withColumn(\"lead\", lead('mark', 1).over(winF)).show()"
   ]
  },
  {
   "cell_type": "markdown",
   "id": "a66c9a09",
   "metadata": {},
   "source": [
    "# Aggregate Functions\n",
    "합계, 최대, 최소와 같은 그룹으로 묶어 계산하는 경우, 정렬할 필요가 없다. 즉 partitionBy() 하면서, orderBy()는 하지 않는다.\n",
    "\n",
    "mark가 string으로 설정되어 있다고 평균, 합계, 최소, 최대 함수가 어떻게 출력될까? 문제 없이 실행되지만, 결과는 올바르지 않다. 데이터타입은 항상 주의해야 한다."
   ]
  },
  {
   "cell_type": "code",
   "execution_count": 42,
   "id": "98d080c7",
   "metadata": {},
   "outputs": [
    {
     "name": "stdout",
     "output_type": "stream",
     "text": [
      "+------+--------+-----+-----+-----------------+-----------------+----+-----+\n",
      "|  name| subject| mark|markF|              avg|              sum| min|  max|\n",
      "+------+--------+-----+-----+-----------------+-----------------+----+-----+\n",
      "|김하나| English|  100|100.0|84.10000101725261|252.3000030517578|70.0|100.0|\n",
      "|임하나| English|   70| 70.0|84.10000101725261|252.3000030517578|70.0|100.0|\n",
      "|김갑돌| English| 82.3| 82.3|84.10000101725261|252.3000030517578|70.0|100.0|\n",
      "|김하나|    Math|   80| 80.0|92.83333333333333|            278.5|80.0|100.0|\n",
      "|임하나|    Math|  100|100.0|92.83333333333333|            278.5|80.0|100.0|\n",
      "|김갑돌|    Math| 98.5| 98.5|92.83333333333333|            278.5|80.0|100.0|\n",
      "+------+--------+-----+-----+-----------------+-----------------+----+-----+\n",
      "\n"
     ]
    }
   ],
   "source": [
    "winAgg  = Window.partitionBy(\"subject\")\n",
    "from pyspark.sql import functions as F\n",
    "_marksDf.withColumn(\"avg\", F.avg(F.col(\"markF\")).over(winAgg))\\\n",
    "    .withColumn(\"sum\", F.sum(F.col(\"markF\")).over(winAgg))\\\n",
    "    .withColumn(\"min\", F.min(F.col(\"markF\")).over(winAgg))\\\n",
    "    .withColumn(\"max\", F.max(F.col(\"markF\")).over(winAgg))\\\n",
    "    .show()"
   ]
  },
  {
   "cell_type": "markdown",
   "id": "a7582e6a",
   "metadata": {},
   "source": [
    "# 문제: zscore, cdf 계산\n",
    "성적데이터는 n이 적지만, 정규분포를 이룬다고 가정하자.\n",
    "\n",
    "- 성적데이터로 DataFrame을 생성.\n",
    "- zscore 컬럼을 생성.\n",
    "\n",
    "zscore를 계산하려면, 평균과 표준편차를 알아야 한다. 계산식에 F함수를 직접 사용하면 오류가 발생한다. 따로 평균과 표준편차를 구해서 계산식에서 사용해야 한다.\n",
    "\n",
    "- cdf 컬럼을 생성.\n",
    "scipy.stats.norm.cdf() 함수는 데이터타입을 float로 맞추어 주어야 한다. cdf는 평균=0, 표준편차=1을 기본 값으로 누적확률을 계산한다."
   ]
  },
  {
   "cell_type": "markdown",
   "id": "e531218a",
   "metadata": {},
   "source": [
    "### 1. 평균과 표준편차 구하기"
   ]
  },
  {
   "cell_type": "code",
   "execution_count": 43,
   "id": "9cd46ea2",
   "metadata": {},
   "outputs": [
    {
     "name": "stdout",
     "output_type": "stream",
     "text": [
      "88.46666717529297 12.786190172956093\n"
     ]
    }
   ],
   "source": [
    "from pyspark.sql import functions as F\n",
    "\n",
    "_markStats = _marksDf.select(\n",
    "    F.mean('markF').alias('mean'),\n",
    "    F.stddev('markF').alias('std')\n",
    ").collect()\n",
    "\n",
    "meanMark = _markStats[0]['mean']\n",
    "stdMark = _markStats[0]['std']\n",
    "print(meanMark, stdMark)"
   ]
  },
  {
   "cell_type": "markdown",
   "id": "25582142",
   "metadata": {},
   "source": [
    "### 2. z-score 계산"
   ]
  },
  {
   "cell_type": "code",
   "execution_count": 44,
   "id": "a616342f",
   "metadata": {},
   "outputs": [
    {
     "name": "stderr",
     "output_type": "stream",
     "text": [
      "\r",
      "[Stage 32:>                                                         (0 + 1) / 1]\r"
     ]
    },
    {
     "name": "stdout",
     "output_type": "stream",
     "text": [
      "+------+--------+-----+-----+-----------+\n",
      "|  name| subject| mark|markF|     zscore|\n",
      "+------+--------+-----+-----+-----------+\n",
      "|김하나| English|  100|100.0|  0.9020148|\n",
      "|김하나|    Math|   80| 80.0| -0.6621728|\n",
      "|임하나| English|   70| 70.0| -1.4442666|\n",
      "|임하나|    Math|  100|100.0|  0.9020148|\n",
      "|김갑돌| English| 82.3| 82.3|-0.48229098|\n",
      "|김갑돌|    Math| 98.5| 98.5| 0.78470075|\n",
      "+------+--------+-----+-----+-----------+\n",
      "\n"
     ]
    },
    {
     "name": "stderr",
     "output_type": "stream",
     "text": [
      "\r",
      "                                                                                \r"
     ]
    }
   ],
   "source": [
    "from pyspark.sql import functions as F\n",
    "from pyspark.sql.types import FloatType\n",
    "\n",
    "#UDF 함수 정의 -> FloatType 형변환\n",
    "zscoreUdf = F.udf(lambda x: (x-meanMark)/stdMark, FloatType()) # return as FloatType \n",
    "\n",
    "_marksDf=_marksDf.withColumn(\"zscore\", zscoreUdf(_marksDf['markF']))\n",
    "_marksDf.show()"
   ]
  },
  {
   "cell_type": "markdown",
   "id": "d9a86b08",
   "metadata": {},
   "source": [
    "### 3. CDF 계산 (zscore 이용)"
   ]
  },
  {
   "cell_type": "code",
   "execution_count": 45,
   "id": "4c8dfa47",
   "metadata": {},
   "outputs": [
    {
     "name": "stdout",
     "output_type": "stream",
     "text": [
      "+------+--------+-----+-----+-----------+-------------------+\n",
      "|  name| subject| mark|markF|     zscore|                cdf|\n",
      "+------+--------+-----+-----+-----------+-------------------+\n",
      "|김하나| English|  100|100.0|  0.9020148| 0.8164754981807292|\n",
      "|김하나|    Math|   80| 80.0| -0.6621728| 0.2539302463290559|\n",
      "|임하나| English|   70| 70.0| -1.4442666| 0.0743320011235712|\n",
      "|임하나|    Math|  100|100.0|  0.9020148| 0.8164754981807292|\n",
      "|김갑돌| English| 82.3| 82.3|-0.48229098|0.31479962882028223|\n",
      "|김갑돌|    Math| 98.5| 98.5| 0.78470075| 0.7836854740814176|\n",
      "+------+--------+-----+-----+-----------+-------------------+\n",
      "\n"
     ]
    }
   ],
   "source": [
    "from scipy.stats import norm\n",
    "from pyspark.sql import functions as F\n",
    "from pyspark.sql.types import FloatType\n",
    "type(norm.cdf(1)) #정규분포\n",
    "\n",
    "\n",
    "#UDF 함수 정의\n",
    "#bad_norm_cdf = F.udf(lambda x: norm.cdf(x), FloatType()) # FloatType() does not work\n",
    "normCdf = F.udf(lambda x: float(norm.cdf(x))) # FloatType() does not work\n",
    "\n",
    "_marksDf=_marksDf.withColumn(\"cdf\", normCdf(_marksDf['zscore']))\n",
    "_marksDf.show()"
   ]
  },
  {
   "cell_type": "markdown",
   "id": "dc69131a",
   "metadata": {},
   "source": [
    "### Window 함수를 이용한 Z-score 계산"
   ]
  },
  {
   "cell_type": "code",
   "execution_count": 46,
   "id": "9d341430",
   "metadata": {},
   "outputs": [
    {
     "name": "stdout",
     "output_type": "stream",
     "text": [
      "+------+--------+-----+-----+-----------+-------------------+-----------------+------------------+-----------------+\n",
      "|name  |subject |mark |markF|zscore     |cdf                |mean             |stddev            |meanBySubject    |\n",
      "+------+--------+-----+-----+-----------+-------------------+-----------------+------------------+-----------------+\n",
      "|김하나| English| 100 |100.0|0.9020148  |0.8164754981807292 |88.46666717529297|12.786190172956093|84.10000101725261|\n",
      "|임하나| English| 70  |70.0 |-1.4442666 |0.0743320011235712 |88.46666717529297|12.786190172956093|84.10000101725261|\n",
      "|김갑돌| English| 82.3|82.3 |-0.48229098|0.31479962882028223|88.46666717529297|12.786190172956093|84.10000101725261|\n",
      "|김하나| Math   | 80  |80.0 |-0.6621728 |0.2539302463290559 |88.46666717529297|12.786190172956093|92.83333333333333|\n",
      "|임하나| Math   | 100 |100.0|0.9020148  |0.8164754981807292 |88.46666717529297|12.786190172956093|92.83333333333333|\n",
      "|김갑돌| Math   | 98.5|98.5 |0.78470075 |0.7836854740814176 |88.46666717529297|12.786190172956093|92.83333333333333|\n",
      "+------+--------+-----+-----+-----------+-------------------+-----------------+------------------+-----------------+\n",
      "\n"
     ]
    },
    {
     "name": "stderr",
     "output_type": "stream",
     "text": [
      "23/12/20 12:18:58 WARN WindowExec: No Partition Defined for Window operation! Moving all data to a single partition, this can cause serious performance degradation.\n",
      "23/12/20 12:18:58 WARN WindowExec: No Partition Defined for Window operation! Moving all data to a single partition, this can cause serious performance degradation.\n",
      "23/12/20 12:18:58 WARN WindowExec: No Partition Defined for Window operation! Moving all data to a single partition, this can cause serious performance degradation.\n",
      "23/12/20 12:18:58 WARN WindowExec: No Partition Defined for Window operation! Moving all data to a single partition, this can cause serious performance degradation.\n",
      "23/12/20 12:18:59 WARN WindowExec: No Partition Defined for Window operation! Moving all data to a single partition, this can cause serious performance degradation.\n",
      "23/12/20 12:18:59 WARN WindowExec: No Partition Defined for Window operation! Moving all data to a single partition, this can cause serious performance degradation.\n",
      "23/12/20 12:18:59 WARN WindowExec: No Partition Defined for Window operation! Moving all data to a single partition, this can cause serious performance degradation.\n",
      "23/12/20 12:18:59 WARN WindowExec: No Partition Defined for Window operation! Moving all data to a single partition, this can cause serious performance degradation.\n"
     ]
    }
   ],
   "source": [
    "import sys\n",
    "from pyspark.sql import functions as F\n",
    "from pyspark.sql.window import Window\n",
    "\n",
    "\n",
    "byAll = Window.rowsBetween(-sys.maxsize, sys.maxsize) #최대, 최소 값의 윈도우\n",
    "\n",
    "\n",
    "# 평균, 표준편차\n",
    "_marksDf = _marksDf.withColumn(\"mean\", F.avg(_marksDf['markF']).over(byAll))\n",
    "_marksDf = _marksDf.withColumn(\"stddev\", F.stddev(_marksDf['markF']).over(byAll))\n",
    "\n",
    "bySubject = Window.partitionBy('subject')\n",
    "_marksDf = _marksDf.withColumn(\"meanBySubject\", F.avg(_marksDf['markF']).over(bySubject))\n",
    "\n",
    "_marksDf.show(_marksDf.count(), truncate=False)"
   ]
  },
  {
   "cell_type": "code",
   "execution_count": 47,
   "id": "4441c43a",
   "metadata": {},
   "outputs": [
    {
     "name": "stdout",
     "output_type": "stream",
     "text": [
      "+-----------+-------------------+\n",
      "|     zscore|            zscore1|\n",
      "+-----------+-------------------+\n",
      "|  0.9020148|  0.902014804151829|\n",
      "| -0.6621728| -0.662172786480269|\n",
      "| -1.4442666| -1.444266581796318|\n",
      "|  0.9020148|  0.902014804151829|\n",
      "|-0.48229098|-0.4822909748814927|\n",
      "| 0.78470075| 0.7847007348544217|\n",
      "+-----------+-------------------+\n",
      "\n"
     ]
    },
    {
     "name": "stderr",
     "output_type": "stream",
     "text": [
      "23/12/20 12:18:59 WARN WindowExec: No Partition Defined for Window operation! Moving all data to a single partition, this can cause serious performance degradation.\n",
      "23/12/20 12:18:59 WARN WindowExec: No Partition Defined for Window operation! Moving all data to a single partition, this can cause serious performance degradation.\n",
      "23/12/20 12:18:59 WARN WindowExec: No Partition Defined for Window operation! Moving all data to a single partition, this can cause serious performance degradation.\n",
      "23/12/20 12:18:59 WARN WindowExec: No Partition Defined for Window operation! Moving all data to a single partition, this can cause serious performance degradation.\n",
      "23/12/20 12:18:59 WARN WindowExec: No Partition Defined for Window operation! Moving all data to a single partition, this can cause serious performance degradation.\n",
      "23/12/20 12:18:59 WARN WindowExec: No Partition Defined for Window operation! Moving all data to a single partition, this can cause serious performance degradation.\n",
      "23/12/20 12:18:59 WARN WindowExec: No Partition Defined for Window operation! Moving all data to a single partition, this can cause serious performance degradation.\n",
      "23/12/20 12:18:59 WARN WindowExec: No Partition Defined for Window operation! Moving all data to a single partition, this can cause serious performance degradation.\n",
      "23/12/20 12:18:59 WARN WindowExec: No Partition Defined for Window operation! Moving all data to a single partition, this can cause serious performance degradation.\n"
     ]
    }
   ],
   "source": [
    "_marksDf = _marksDf.withColumn(\"zscore1\", (F.col('markF')-F.col('mean'))/F.col('stddev'))\n",
    "_marksDf.select('zscore', 'zscore1').show(_marksDf.count())"
   ]
  },
  {
   "cell_type": "markdown",
   "id": "dc34eead",
   "metadata": {},
   "source": [
    "### 전체의 평균, 표준편차 컬럼을 만들지 않고 계산\n",
    "\n",
    "또는 직접 Window 함수를 직접 사용하여 zscore를 계산할 수도 있다."
   ]
  },
  {
   "cell_type": "code",
   "execution_count": 48,
   "id": "0c140519",
   "metadata": {},
   "outputs": [
    {
     "name": "stderr",
     "output_type": "stream",
     "text": [
      "23/12/20 12:18:59 WARN WindowExec: No Partition Defined for Window operation! Moving all data to a single partition, this can cause serious performance degradation.\n",
      "23/12/20 12:18:59 WARN WindowExec: No Partition Defined for Window operation! Moving all data to a single partition, this can cause serious performance degradation.\n",
      "23/12/20 12:18:59 WARN WindowExec: No Partition Defined for Window operation! Moving all data to a single partition, this can cause serious performance degradation.\n",
      "23/12/20 12:18:59 WARN WindowExec: No Partition Defined for Window operation! Moving all data to a single partition, this can cause serious performance degradation.\n",
      "23/12/20 12:18:59 WARN WindowExec: No Partition Defined for Window operation! Moving all data to a single partition, this can cause serious performance degradation.\n",
      "23/12/20 12:18:59 WARN WindowExec: No Partition Defined for Window operation! Moving all data to a single partition, this can cause serious performance degradation.\n",
      "23/12/20 12:18:59 WARN WindowExec: No Partition Defined for Window operation! Moving all data to a single partition, this can cause serious performance degradation.\n",
      "23/12/20 12:18:59 WARN WindowExec: No Partition Defined for Window operation! Moving all data to a single partition, this can cause serious performance degradation.\n",
      "23/12/20 12:18:59 WARN WindowExec: No Partition Defined for Window operation! Moving all data to a single partition, this can cause serious performance degradation.\n",
      "23/12/20 12:18:59 WARN WindowExec: No Partition Defined for Window operation! Moving all data to a single partition, this can cause serious performance degradation.\n",
      "23/12/20 12:18:59 WARN WindowExec: No Partition Defined for Window operation! Moving all data to a single partition, this can cause serious performance degradation.\n",
      "23/12/20 12:18:59 WARN WindowExec: No Partition Defined for Window operation! Moving all data to a single partition, this can cause serious performance degradation.\n",
      "23/12/20 12:18:59 WARN WindowExec: No Partition Defined for Window operation! Moving all data to a single partition, this can cause serious performance degradation.\n"
     ]
    },
    {
     "name": "stdout",
     "output_type": "stream",
     "text": [
      "+-----------+-------------------+-------------------+\n",
      "|     zscore|            zscore1|            zscore2|\n",
      "+-----------+-------------------+-------------------+\n",
      "|  0.9020148|  0.902014804151829|  0.902014804151829|\n",
      "| -0.6621728| -0.662172786480269| -0.662172786480269|\n",
      "| -1.4442666| -1.444266581796318| -1.444266581796318|\n",
      "|  0.9020148|  0.902014804151829|  0.902014804151829|\n",
      "|-0.48229098|-0.4822909748814927|-0.4822909748814927|\n",
      "| 0.78470075| 0.7847007348544217| 0.7847007348544217|\n",
      "+-----------+-------------------+-------------------+\n",
      "\n"
     ]
    }
   ],
   "source": [
    "_marksDf = _marksDf.withColumn(\"zscore2\", (F.col('markF')-F.avg('markF').over(byAll))/F.stddev('markF').over(byAll))\n",
    "_marksDf.select('zscore', 'zscore1', 'zscore2').show()"
   ]
  },
  {
   "cell_type": "markdown",
   "id": "46c6aad0",
   "metadata": {},
   "source": [
    "# 문제: 2020년 8월 서울시 지하철호선별 역별 승하차 인원 정보\n",
    "'서울시 지하철호선별 역별 승하차 인원 정보'를 검색하거나, https://data.seoul.go.kr/dataList/OA-12914/S/1/datasetView.do 사이트를 방문한다. 분석할 파일은 'CARD_SUBWAY_MONTH_202008.csv'이다. 문제를 풀고 결과 출력을 예시해 놓았다. 동일하지 않아도 유사하게 출력하면 된다.\n",
    "\n",
    "DataFrame 생성하고, 스키마는 자동인식하여 출력\n",
    "컬럼명을 변경하고, 스키마 출력"
   ]
  },
  {
   "cell_type": "code",
   "execution_count": 49,
   "id": "115bcc35",
   "metadata": {},
   "outputs": [],
   "source": [
    "_subDf = spark\\\n",
    "    .read\\\n",
    "    .options(header='true', inferschema='true', delimiter=',')\\\n",
    "    .csv(os.path.join('data', 'CARD_SUBWAY_MONTH_202310.csv'))"
   ]
  },
  {
   "cell_type": "code",
   "execution_count": 50,
   "id": "d705192d",
   "metadata": {},
   "outputs": [
    {
     "name": "stdout",
     "output_type": "stream",
     "text": [
      "root\n",
      " |-- 사용일자: integer (nullable = true)\n",
      " |-- 노선명: string (nullable = true)\n",
      " |-- 역명: string (nullable = true)\n",
      " |-- 승차총승객수: integer (nullable = true)\n",
      " |-- 하차총승객수: integer (nullable = true)\n",
      " |-- 등록일자: integer (nullable = true)\n",
      "\n"
     ]
    }
   ],
   "source": [
    "_subDf.printSchema()"
   ]
  },
  {
   "cell_type": "code",
   "execution_count": 51,
   "id": "1b208fcf",
   "metadata": {},
   "outputs": [
    {
     "name": "stdout",
     "output_type": "stream",
     "text": [
      "root\n",
      " |-- dateUse: integer (nullable = true)\n",
      " |-- line: string (nullable = true)\n",
      " |-- station: string (nullable = true)\n",
      " |-- NInPassengers: integer (nullable = true)\n",
      " |-- NOutPassengers: integer (nullable = true)\n",
      " |-- dateRegi: integer (nullable = true)\n",
      "\n"
     ]
    }
   ],
   "source": [
    "# 컬럼 명 변경\n",
    "_subDf=_subDf\\\n",
    "    .withColumnRenamed(\"사용일자\", \"dateUse\")\\\n",
    "    .withColumnRenamed(\"노선명\", \"line\")\\\n",
    "    .withColumnRenamed(\"역명\", \"station\")\\\n",
    "    .withColumnRenamed(\"승차총승객수\", \"NInPassengers\")\\\n",
    "    .withColumnRenamed(\"하차총승객수\", \"NOutPassengers\")\\\n",
    "    .withColumnRenamed(\"등록일자\", \"dateRegi\")\n",
    "_subDf.printSchema()"
   ]
  },
  {
   "cell_type": "code",
   "execution_count": 52,
   "id": "36b38782",
   "metadata": {},
   "outputs": [
    {
     "name": "stdout",
     "output_type": "stream",
     "text": [
      "+--------+------+--------------+-------------+--------------+--------+--------+----------+\n",
      "| dateUse|  line|       station|NInPassengers|NOutPassengers|dateRegi| dateStr|      Date|\n",
      "+--------+------+--------------+-------------+--------------+--------+--------+----------+\n",
      "|20231001|장항선|신창(순천향대)|         1239|          1223|20231004|20231001|2023-10-01|\n",
      "|20231001|중앙선|          용문|         2594|          2176|20231004|20231001|2023-10-01|\n",
      "|20231001|중앙선|          지평|           79|            73|20231004|20231001|2023-10-01|\n",
      "+--------+------+--------------+-------------+--------------+--------+--------+----------+\n",
      "only showing top 3 rows\n",
      "\n"
     ]
    }
   ],
   "source": [
    "# 일자 형변환\n",
    "from pyspark.sql import functions as F\n",
    "from pyspark.sql.types import DateType, StringType\n",
    "from pyspark.sql import functions as functions\n",
    "\n",
    "_subDf=_subDf.withColumn(\"dateStr\", F.col('dateUse').cast(StringType()))\n",
    "_subDf=_subDf.withColumn(\"Date\", F.to_date('dateStr', 'yyyyMMdd'))\n",
    "_subDf.show(3)"
   ]
  },
  {
   "cell_type": "code",
   "execution_count": 53,
   "id": "263262fa",
   "metadata": {},
   "outputs": [
    {
     "name": "stdout",
     "output_type": "stream",
     "text": [
      "+--------+------+--------------+-------------+--------------+--------+--------+----------+\n",
      "| dateUse|  line|       station|NInPassengers|NOutPassengers|dateRegi| dateStr|      Date|\n",
      "+--------+------+--------------+-------------+--------------+--------+--------+----------+\n",
      "|20231001|장항선|신창(순천향대)|         1239|          1223|20231004|20231001|2023-10-01|\n",
      "|20231001|중앙선|          용문|         2594|          2176|20231004|20231001|2023-10-01|\n",
      "|20231001|중앙선|          지평|           79|            73|20231004|20231001|2023-10-01|\n",
      "+--------+------+--------------+-------------+--------------+--------+--------+----------+\n",
      "only showing top 3 rows\n",
      "\n"
     ]
    }
   ],
   "source": [
    "# Timestamp로 변환\n",
    "\n",
    "from pyspark.sql import functions as F\n",
    "\n",
    "_subDf.withColumn(\"Date\", F.to_date(F.from_unixtime(F.unix_timestamp('dateStr', 'yyyyMMdd')))).show(3)"
   ]
  },
  {
   "cell_type": "markdown",
   "id": "ffe73156",
   "metadata": {},
   "source": [
    "### 4) 노선명별 승하차총승객수"
   ]
  },
  {
   "cell_type": "code",
   "execution_count": 54,
   "id": "fa137013",
   "metadata": {},
   "outputs": [
    {
     "name": "stdout",
     "output_type": "stream",
     "text": [
      "+------+------------------+\n",
      "|  line|sum(NInPassengers)|\n",
      "+------+------------------+\n",
      "|일산선|           3355783|\n",
      "|장항선|            592001|\n",
      "|경부선|          14149336|\n",
      "+------+------------------+\n",
      "only showing top 3 rows\n",
      "\n",
      "+------+-------------------+\n",
      "|  line|sum(NOutPassengers)|\n",
      "+------+-------------------+\n",
      "|일산선|            3221699|\n",
      "|장항선|             561132|\n",
      "|경부선|           13949276|\n",
      "+------+-------------------+\n",
      "only showing top 3 rows\n",
      "\n",
      "+------+------------+------------+\n",
      "|  line|승차인원합계|하차인원합계|\n",
      "+------+------------+------------+\n",
      "|일산선|     3355783|     3221699|\n",
      "|장항선|      592001|      561132|\n",
      "|경부선|    14149336|    13949276|\n",
      "+------+------------+------------+\n",
      "only showing top 3 rows\n",
      "\n"
     ]
    }
   ],
   "source": [
    "_subDf.groupBy('line').agg({\"NInPassengers\":\"sum\"}).show(3)\n",
    "_subDf.groupBy('line').agg(F.sum(\"NOutPassengers\")).show(3)\n",
    "\n",
    "#나란히 출력\n",
    "_subDf.groupBy('line').agg(F.sum(\"NInPassengers\")\\\n",
    "                           .alias(\"승차인원합계\"), F.sum(\"NOutPassengers\").alias(\"하차인원합계\")).show(3)"
   ]
  },
  {
   "cell_type": "markdown",
   "id": "0e768b54",
   "metadata": {},
   "source": [
    "### 5) 노선별 승하차합계가 가장 높은 역을 출력 (모든 노선 출력)"
   ]
  },
  {
   "cell_type": "code",
   "execution_count": 55,
   "id": "4e5db7a7",
   "metadata": {},
   "outputs": [
    {
     "name": "stdout",
     "output_type": "stream",
     "text": [
      "+--------+------+--------------+-------------+--------------+--------+--------+----------+--------+\n",
      "| dateUse|  line|       station|NInPassengers|NOutPassengers|dateRegi| dateStr|      Date|SumInOut|\n",
      "+--------+------+--------------+-------------+--------------+--------+--------+----------+--------+\n",
      "|20231001|장항선|신창(순천향대)|         1239|          1223|20231004|20231001|2023-10-01|    2462|\n",
      "|20231001|중앙선|          용문|         2594|          2176|20231004|20231001|2023-10-01|    4770|\n",
      "|20231001|중앙선|          지평|           79|            73|20231004|20231001|2023-10-01|     152|\n",
      "+--------+------+--------------+-------------+--------------+--------+--------+----------+--------+\n",
      "only showing top 3 rows\n",
      "\n"
     ]
    }
   ],
   "source": [
    "_subDf=_subDf.withColumn(\"SumInOut\", F.col(\"NInPassengers\") +F.col(\"NOutPassengers\"))\n",
    "_subDf.show(3)"
   ]
  },
  {
   "cell_type": "code",
   "execution_count": 56,
   "id": "d445d56b",
   "metadata": {},
   "outputs": [
    {
     "name": "stdout",
     "output_type": "stream",
     "text": [
      "+--------+-----+-------+-------------+--------------+--------+--------+----------+--------+------+\n",
      "| dateUse| line|station|NInPassengers|NOutPassengers|dateRegi| dateStr|      Date|SumInOut|sumNIn|\n",
      "+--------+-----+-------+-------------+--------------+--------+--------+----------+--------+------+\n",
      "|20231027|1호선| 서울역|        65841|         64141|20231030|20231027|2023-10-27|  129982|     1|\n",
      "|20231020|1호선| 서울역|        65770|         62621|20231023|20231020|2023-10-20|  128391|     2|\n",
      "|20231013|1호선| 서울역|        64439|         60869|20231016|20231013|2023-10-13|  125308|     3|\n",
      "+--------+-----+-------+-------------+--------------+--------+--------+----------+--------+------+\n",
      "only showing top 3 rows\n",
      "\n"
     ]
    }
   ],
   "source": [
    "# 승하차인원 순위\n",
    "from pyspark.sql.window import Window\n",
    "from pyspark.sql import functions as F\n",
    "\n",
    "_subDf.withColumn(\"sumNIn\", F.rank()\\\n",
    "                  .over(Window().partitionBy(['line']).orderBy(F.col(\"SumInOut\").desc()))).show(3)"
   ]
  },
  {
   "cell_type": "code",
   "execution_count": 57,
   "id": "edf08a75",
   "metadata": {},
   "outputs": [
    {
     "name": "stdout",
     "output_type": "stream",
     "text": [
      "+--------+-----+----------+-------------+--------------+--------+----------+--------+---------+\n",
      "| dateUse| line|   station|NInPassengers|NOutPassengers|dateRegi|      Date|SumInOut|rankByNIn|\n",
      "+--------+-----+----------+-------------+--------------+--------+----------+--------+---------+\n",
      "|20231027|1호선|    서울역|        65841|         64141|20231030|2023-10-27|  129982|        1|\n",
      "|20231028|2호선|  홍대입구|        85176|        102119|20231031|2023-10-28|  187295|        1|\n",
      "|20231007|3호선|고속터미널|        62810|         60242|20231010|2023-10-07|  123052|        1|\n",
      "+--------+-----+----------+-------------+--------------+--------+----------+--------+---------+\n",
      "only showing top 3 rows\n",
      "\n"
     ]
    }
   ],
   "source": [
    "# 노선별 순위 1만 출력\n",
    "from pyspark.sql.window import Window\n",
    "from pyspark.sql import functions as F\n",
    "\n",
    "_subDf.withColumn(\"rankByNIn\", F.rank().over(Window().partitionBy(['line']).orderBy(F.col(\"SumInOut\").desc())))\\\n",
    "    .filter(F.col(\"rankByNIn\")==1)\\\n",
    "    .drop('dateStr')\\\n",
    "    .show(3)"
   ]
  },
  {
   "cell_type": "markdown",
   "id": "85baa334",
   "metadata": {},
   "source": [
    "###  6) 요일별 승하차인원 합계"
   ]
  },
  {
   "cell_type": "code",
   "execution_count": 58,
   "id": "93697b87",
   "metadata": {},
   "outputs": [
    {
     "name": "stdout",
     "output_type": "stream",
     "text": [
      "+--------+------+--------------+-------------+--------------+--------+--------+----------+--------+---------+\n",
      "| dateUse|  line|       station|NInPassengers|NOutPassengers|dateRegi| dateStr|      Date|SumInOut|dayOfWeek|\n",
      "+--------+------+--------------+-------------+--------------+--------+--------+----------+--------+---------+\n",
      "|20231001|장항선|신창(순천향대)|         1239|          1223|20231004|20231001|2023-10-01|    2462|        1|\n",
      "|20231001|중앙선|          용문|         2594|          2176|20231004|20231001|2023-10-01|    4770|        1|\n",
      "|20231001|중앙선|          지평|           79|            73|20231004|20231001|2023-10-01|     152|        1|\n",
      "+--------+------+--------------+-------------+--------------+--------+--------+----------+--------+---------+\n",
      "only showing top 3 rows\n",
      "\n",
      "+--------+------+--------------------+-------------+--------------+--------+--------+----------+--------+---------+\n",
      "| dateUse|  line|             station|NInPassengers|NOutPassengers|dateRegi| dateStr|      Date|SumInOut|dayOfWeek|\n",
      "+--------+------+--------------------+-------------+--------------+--------+--------+----------+--------+---------+\n",
      "|20231001|장항선|      신창(순천향대)|         1239|          1223|20231004|20231001|2023-10-01|    2462|   Sunday|\n",
      "|20231001|중앙선|                용문|         2594|          2176|20231004|20231001|2023-10-01|    4770|   Sunday|\n",
      "|20231001|중앙선|                지평|           79|            73|20231004|20231001|2023-10-01|     152|   Sunday|\n",
      "|20231001|중앙선|                회기|        14745|         15527|20231004|20231001|2023-10-01|   30272|   Sunday|\n",
      "|20231001|중앙선|                중랑|         3521|          3583|20231004|20231001|2023-10-01|    7104|   Sunday|\n",
      "|20231001|중앙선|상봉(시외버스터미널)|         4188|          4380|20231004|20231001|2023-10-01|    8568|   Sunday|\n",
      "|20231001|중앙선|                망우|         5117|          5021|20231004|20231001|2023-10-01|   10138|   Sunday|\n",
      "|20231001|중앙선|                양원|         1620|          1612|20231004|20231001|2023-10-01|    3232|   Sunday|\n",
      "|20231001|중앙선|                구리|         8250|          8447|20231004|20231001|2023-10-01|   16697|   Sunday|\n",
      "|20231001|중앙선|                도농|         6023|          5926|20231004|20231001|2023-10-01|   11949|   Sunday|\n",
      "|20231001| 8호선|                석촌|         3811|          4970|20231004|20231001|2023-10-01|    8781|   Sunday|\n",
      "|20231001|중앙선|                양정|          508|           470|20231004|20231001|2023-10-01|     978|   Sunday|\n",
      "|20231001|중앙선|                덕소|         3774|          3683|20231004|20231001|2023-10-01|    7457|   Sunday|\n",
      "|20231001|중앙선|                도심|         1364|          1233|20231004|20231001|2023-10-01|    2597|   Sunday|\n",
      "|20231001|중앙선|                팔당|         1554|          1749|20231004|20231001|2023-10-01|    3303|   Sunday|\n",
      "|20231001|중앙선|              운길산|         1921|          1811|20231004|20231001|2023-10-01|    3732|   Sunday|\n",
      "|20231001|중앙선|                양수|         2609|          2348|20231004|20231001|2023-10-01|    4957|   Sunday|\n",
      "|20231001|중앙선|                신원|          394|           274|20231004|20231001|2023-10-01|     668|   Sunday|\n",
      "|20231001|중앙선|                국수|          695|           615|20231004|20231001|2023-10-01|    1310|   Sunday|\n",
      "|20231001|중앙선|                아신|          680|           618|20231004|20231001|2023-10-01|    1298|   Sunday|\n",
      "+--------+------+--------------------+-------------+--------------+--------+--------+----------+--------+---------+\n",
      "only showing top 20 rows\n",
      "\n"
     ]
    }
   ],
   "source": [
    "_subDf.withColumn(\"dayOfWeek\", F.dayofweek(_subDf.Date)).show(3)\n",
    "_subDf=_subDf.withColumn(\"dayOfWeek\", F.date_format(_subDf.Date, \"EEEE\")) #EEEE는 문자열로\n",
    "\n",
    "_subDf.show()"
   ]
  },
  {
   "cell_type": "code",
   "execution_count": 59,
   "id": "42d196f2",
   "metadata": {},
   "outputs": [
    {
     "name": "stdout",
     "output_type": "stream",
     "text": [
      "+---------+-----+\n",
      "|dayOfWeek|count|\n",
      "+---------+-----+\n",
      "|Wednesday| 2439|\n",
      "|  Tuesday| 3047|\n",
      "|   Friday| 2443|\n",
      "| Thursday| 2441|\n",
      "| Saturday| 2444|\n",
      "|   Monday| 3053|\n",
      "|   Sunday| 3044|\n",
      "+---------+-----+\n",
      "\n",
      "+---------+-------------+\n",
      "|dayOfWeek|sum(SumInOut)|\n",
      "+---------+-------------+\n",
      "|Wednesday|     62883465|\n",
      "|  Tuesday|     71034844|\n",
      "|   Friday|     66108092|\n",
      "| Thursday|     62836400|\n",
      "| Saturday|     49144354|\n",
      "|   Monday|     64158046|\n",
      "|   Sunday|     45299001|\n",
      "+---------+-------------+\n",
      "\n"
     ]
    }
   ],
   "source": [
    "# 요일 별 개수\n",
    "_subDf.groupBy(\"dayOfWeek\").count().show()\n",
    "\n",
    "# 요일 별 승하차인원수\n",
    "_subDf.groupBy(\"dayOfWeek\").agg(F.sum('SumInOut')).show()"
   ]
  },
  {
   "cell_type": "markdown",
   "id": "6cf7f1af",
   "metadata": {},
   "source": [
    "### 7) 노선별 요일별 승하차인원 합계 (모든 노선 출력)"
   ]
  },
  {
   "cell_type": "code",
   "execution_count": 60,
   "id": "cfe6802a",
   "metadata": {},
   "outputs": [
    {
     "name": "stdout",
     "output_type": "stream",
     "text": [
      "+------+-------+-------+--------+-------+--------+-------+---------+\n",
      "|  line| Friday| Monday|Saturday| Sunday|Thursday|Tuesday|Wednesday|\n",
      "+------+-------+-------+--------+-------+--------+-------+---------+\n",
      "|일산선|1030223|1007750|  769935| 715312|  974853|1100666|   978743|\n",
      "|장항선| 166348| 183524|  140637| 151078|  162542| 191200|   157804|\n",
      "|경부선|4221850|4296970| 3558895|3423586| 3975737|4632494|  3989080|\n",
      "+------+-------+-------+--------+-------+--------+-------+---------+\n",
      "only showing top 3 rows\n",
      "\n"
     ]
    }
   ],
   "source": [
    "_subDf.groupBy('line').pivot('dayOfWeek').agg(F.sum('SumInOut')).show(3)"
   ]
  },
  {
   "cell_type": "markdown",
   "id": "e55468e5",
   "metadata": {},
   "source": [
    "### 8) 노선별 요일별 승하차인원 그래프"
   ]
  },
  {
   "cell_type": "code",
   "execution_count": 61,
   "id": "94ebdf51",
   "metadata": {},
   "outputs": [
    {
     "data": {
      "text/html": [
       "<div>\n",
       "<style scoped>\n",
       "    .dataframe tbody tr th:only-of-type {\n",
       "        vertical-align: middle;\n",
       "    }\n",
       "\n",
       "    .dataframe tbody tr th {\n",
       "        vertical-align: top;\n",
       "    }\n",
       "\n",
       "    .dataframe thead th {\n",
       "        text-align: right;\n",
       "    }\n",
       "</style>\n",
       "<table border=\"1\" class=\"dataframe\">\n",
       "  <thead>\n",
       "    <tr style=\"text-align: right;\">\n",
       "      <th></th>\n",
       "      <th>line</th>\n",
       "      <th>Friday</th>\n",
       "      <th>Monday</th>\n",
       "      <th>Saturday</th>\n",
       "      <th>Sunday</th>\n",
       "      <th>Thursday</th>\n",
       "      <th>Tuesday</th>\n",
       "      <th>Wednesday</th>\n",
       "    </tr>\n",
       "  </thead>\n",
       "  <tbody>\n",
       "    <tr>\n",
       "      <th>0</th>\n",
       "      <td>일산선</td>\n",
       "      <td>1030223</td>\n",
       "      <td>1007750</td>\n",
       "      <td>769935</td>\n",
       "      <td>715312</td>\n",
       "      <td>974853</td>\n",
       "      <td>1100666</td>\n",
       "      <td>978743</td>\n",
       "    </tr>\n",
       "    <tr>\n",
       "      <th>1</th>\n",
       "      <td>장항선</td>\n",
       "      <td>166348</td>\n",
       "      <td>183524</td>\n",
       "      <td>140637</td>\n",
       "      <td>151078</td>\n",
       "      <td>162542</td>\n",
       "      <td>191200</td>\n",
       "      <td>157804</td>\n",
       "    </tr>\n",
       "    <tr>\n",
       "      <th>2</th>\n",
       "      <td>경부선</td>\n",
       "      <td>4221850</td>\n",
       "      <td>4296970</td>\n",
       "      <td>3558895</td>\n",
       "      <td>3423586</td>\n",
       "      <td>3975737</td>\n",
       "      <td>4632494</td>\n",
       "      <td>3989080</td>\n",
       "    </tr>\n",
       "    <tr>\n",
       "      <th>3</th>\n",
       "      <td>우이신설선</td>\n",
       "      <td>415283</td>\n",
       "      <td>437874</td>\n",
       "      <td>321994</td>\n",
       "      <td>331804</td>\n",
       "      <td>413185</td>\n",
       "      <td>484606</td>\n",
       "      <td>419434</td>\n",
       "    </tr>\n",
       "    <tr>\n",
       "      <th>4</th>\n",
       "      <td>분당선</td>\n",
       "      <td>3590760</td>\n",
       "      <td>3394069</td>\n",
       "      <td>2496628</td>\n",
       "      <td>2170127</td>\n",
       "      <td>3431590</td>\n",
       "      <td>3855469</td>\n",
       "      <td>3454879</td>\n",
       "    </tr>\n",
       "    <tr>\n",
       "      <th>5</th>\n",
       "      <td>7호선</td>\n",
       "      <td>5535180</td>\n",
       "      <td>5251024</td>\n",
       "      <td>3568817</td>\n",
       "      <td>3272054</td>\n",
       "      <td>5338492</td>\n",
       "      <td>5962721</td>\n",
       "      <td>5367079</td>\n",
       "    </tr>\n",
       "    <tr>\n",
       "      <th>6</th>\n",
       "      <td>수인선</td>\n",
       "      <td>582652</td>\n",
       "      <td>600380</td>\n",
       "      <td>436345</td>\n",
       "      <td>432531</td>\n",
       "      <td>560880</td>\n",
       "      <td>651442</td>\n",
       "      <td>571158</td>\n",
       "    </tr>\n",
       "    <tr>\n",
       "      <th>7</th>\n",
       "      <td>안산선</td>\n",
       "      <td>1126904</td>\n",
       "      <td>1153238</td>\n",
       "      <td>897061</td>\n",
       "      <td>892746</td>\n",
       "      <td>1068616</td>\n",
       "      <td>1246793</td>\n",
       "      <td>1092422</td>\n",
       "    </tr>\n",
       "    <tr>\n",
       "      <th>8</th>\n",
       "      <td>4호선</td>\n",
       "      <td>4788871</td>\n",
       "      <td>4761541</td>\n",
       "      <td>3759729</td>\n",
       "      <td>3463438</td>\n",
       "      <td>4564427</td>\n",
       "      <td>5176950</td>\n",
       "      <td>4566075</td>\n",
       "    </tr>\n",
       "    <tr>\n",
       "      <th>9</th>\n",
       "      <td>1호선</td>\n",
       "      <td>2230772</td>\n",
       "      <td>2266697</td>\n",
       "      <td>1813111</td>\n",
       "      <td>1704277</td>\n",
       "      <td>2095747</td>\n",
       "      <td>2401864</td>\n",
       "      <td>2083849</td>\n",
       "    </tr>\n",
       "    <tr>\n",
       "      <th>10</th>\n",
       "      <td>경의선</td>\n",
       "      <td>1100759</td>\n",
       "      <td>1100106</td>\n",
       "      <td>795368</td>\n",
       "      <td>753755</td>\n",
       "      <td>1058300</td>\n",
       "      <td>1217444</td>\n",
       "      <td>1070377</td>\n",
       "    </tr>\n",
       "    <tr>\n",
       "      <th>11</th>\n",
       "      <td>서해선</td>\n",
       "      <td>87007</td>\n",
       "      <td>92452</td>\n",
       "      <td>71898</td>\n",
       "      <td>71910</td>\n",
       "      <td>81413</td>\n",
       "      <td>95778</td>\n",
       "      <td>82727</td>\n",
       "    </tr>\n",
       "    <tr>\n",
       "      <th>12</th>\n",
       "      <td>3호선</td>\n",
       "      <td>5006311</td>\n",
       "      <td>4777266</td>\n",
       "      <td>3773305</td>\n",
       "      <td>3384155</td>\n",
       "      <td>4681360</td>\n",
       "      <td>5258377</td>\n",
       "      <td>4670322</td>\n",
       "    </tr>\n",
       "    <tr>\n",
       "      <th>13</th>\n",
       "      <td>경강선</td>\n",
       "      <td>307435</td>\n",
       "      <td>312630</td>\n",
       "      <td>237653</td>\n",
       "      <td>233829</td>\n",
       "      <td>293221</td>\n",
       "      <td>340934</td>\n",
       "      <td>294613</td>\n",
       "    </tr>\n",
       "    <tr>\n",
       "      <th>14</th>\n",
       "      <td>경춘선</td>\n",
       "      <td>360563</td>\n",
       "      <td>394650</td>\n",
       "      <td>311902</td>\n",
       "      <td>335763</td>\n",
       "      <td>335957</td>\n",
       "      <td>408143</td>\n",
       "      <td>337712</td>\n",
       "    </tr>\n",
       "    <tr>\n",
       "      <th>15</th>\n",
       "      <td>9호선</td>\n",
       "      <td>2658276</td>\n",
       "      <td>2495860</td>\n",
       "      <td>1969529</td>\n",
       "      <td>1653501</td>\n",
       "      <td>2522303</td>\n",
       "      <td>2810985</td>\n",
       "      <td>2509691</td>\n",
       "    </tr>\n",
       "    <tr>\n",
       "      <th>16</th>\n",
       "      <td>신림선</td>\n",
       "      <td>390258</td>\n",
       "      <td>391644</td>\n",
       "      <td>276362</td>\n",
       "      <td>262357</td>\n",
       "      <td>386595</td>\n",
       "      <td>442874</td>\n",
       "      <td>392605</td>\n",
       "    </tr>\n",
       "    <tr>\n",
       "      <th>17</th>\n",
       "      <td>6호선</td>\n",
       "      <td>3230522</td>\n",
       "      <td>3067310</td>\n",
       "      <td>2395504</td>\n",
       "      <td>2289526</td>\n",
       "      <td>3056291</td>\n",
       "      <td>3438675</td>\n",
       "      <td>3047871</td>\n",
       "    </tr>\n",
       "    <tr>\n",
       "      <th>18</th>\n",
       "      <td>5호선</td>\n",
       "      <td>6065666</td>\n",
       "      <td>5847289</td>\n",
       "      <td>4366623</td>\n",
       "      <td>3838792</td>\n",
       "      <td>5858577</td>\n",
       "      <td>6547565</td>\n",
       "      <td>5879339</td>\n",
       "    </tr>\n",
       "    <tr>\n",
       "      <th>19</th>\n",
       "      <td>8호선</td>\n",
       "      <td>1782141</td>\n",
       "      <td>1708729</td>\n",
       "      <td>1222338</td>\n",
       "      <td>1112754</td>\n",
       "      <td>1720810</td>\n",
       "      <td>1924512</td>\n",
       "      <td>1731888</td>\n",
       "    </tr>\n",
       "    <tr>\n",
       "      <th>20</th>\n",
       "      <td>과천선</td>\n",
       "      <td>1028935</td>\n",
       "      <td>945772</td>\n",
       "      <td>776671</td>\n",
       "      <td>755720</td>\n",
       "      <td>918231</td>\n",
       "      <td>1031159</td>\n",
       "      <td>916891</td>\n",
       "    </tr>\n",
       "    <tr>\n",
       "      <th>21</th>\n",
       "      <td>경인선</td>\n",
       "      <td>2476500</td>\n",
       "      <td>2532330</td>\n",
       "      <td>2023514</td>\n",
       "      <td>1919945</td>\n",
       "      <td>2378238</td>\n",
       "      <td>2760681</td>\n",
       "      <td>2414049</td>\n",
       "    </tr>\n",
       "    <tr>\n",
       "      <th>22</th>\n",
       "      <td>중앙선</td>\n",
       "      <td>858636</td>\n",
       "      <td>904591</td>\n",
       "      <td>703470</td>\n",
       "      <td>693547</td>\n",
       "      <td>822954</td>\n",
       "      <td>971387</td>\n",
       "      <td>834114</td>\n",
       "    </tr>\n",
       "    <tr>\n",
       "      <th>23</th>\n",
       "      <td>9호선2~3단계</td>\n",
       "      <td>1034655</td>\n",
       "      <td>927293</td>\n",
       "      <td>731294</td>\n",
       "      <td>649966</td>\n",
       "      <td>964114</td>\n",
       "      <td>1057329</td>\n",
       "      <td>969863</td>\n",
       "    </tr>\n",
       "    <tr>\n",
       "      <th>24</th>\n",
       "      <td>2호선</td>\n",
       "      <td>13052397</td>\n",
       "      <td>12232205</td>\n",
       "      <td>9254124</td>\n",
       "      <td>8291390</td>\n",
       "      <td>12357478</td>\n",
       "      <td>13743581</td>\n",
       "      <td>12232002</td>\n",
       "    </tr>\n",
       "    <tr>\n",
       "      <th>25</th>\n",
       "      <td>공항철도 1호선</td>\n",
       "      <td>1133385</td>\n",
       "      <td>1163975</td>\n",
       "      <td>914544</td>\n",
       "      <td>950377</td>\n",
       "      <td>1056803</td>\n",
       "      <td>1217329</td>\n",
       "      <td>1050130</td>\n",
       "    </tr>\n",
       "    <tr>\n",
       "      <th>26</th>\n",
       "      <td>경원선</td>\n",
       "      <td>1845803</td>\n",
       "      <td>1910877</td>\n",
       "      <td>1557103</td>\n",
       "      <td>1544761</td>\n",
       "      <td>1757686</td>\n",
       "      <td>2063886</td>\n",
       "      <td>1768748</td>\n",
       "    </tr>\n",
       "  </tbody>\n",
       "</table>\n",
       "</div>"
      ],
      "text/plain": [
       "        line    Friday    Monday  Saturday   Sunday  Thursday   Tuesday  \\\n",
       "0        일산선   1030223   1007750    769935   715312    974853   1100666   \n",
       "1        장항선    166348    183524    140637   151078    162542    191200   \n",
       "2        경부선   4221850   4296970   3558895  3423586   3975737   4632494   \n",
       "3      우이신설선    415283    437874    321994   331804    413185    484606   \n",
       "4        분당선   3590760   3394069   2496628  2170127   3431590   3855469   \n",
       "5        7호선   5535180   5251024   3568817  3272054   5338492   5962721   \n",
       "6        수인선    582652    600380    436345   432531    560880    651442   \n",
       "7        안산선   1126904   1153238    897061   892746   1068616   1246793   \n",
       "8        4호선   4788871   4761541   3759729  3463438   4564427   5176950   \n",
       "9        1호선   2230772   2266697   1813111  1704277   2095747   2401864   \n",
       "10       경의선   1100759   1100106    795368   753755   1058300   1217444   \n",
       "11       서해선     87007     92452     71898    71910     81413     95778   \n",
       "12       3호선   5006311   4777266   3773305  3384155   4681360   5258377   \n",
       "13       경강선    307435    312630    237653   233829    293221    340934   \n",
       "14       경춘선    360563    394650    311902   335763    335957    408143   \n",
       "15       9호선   2658276   2495860   1969529  1653501   2522303   2810985   \n",
       "16       신림선    390258    391644    276362   262357    386595    442874   \n",
       "17       6호선   3230522   3067310   2395504  2289526   3056291   3438675   \n",
       "18       5호선   6065666   5847289   4366623  3838792   5858577   6547565   \n",
       "19       8호선   1782141   1708729   1222338  1112754   1720810   1924512   \n",
       "20       과천선   1028935    945772    776671   755720    918231   1031159   \n",
       "21       경인선   2476500   2532330   2023514  1919945   2378238   2760681   \n",
       "22       중앙선    858636    904591    703470   693547    822954    971387   \n",
       "23  9호선2~3단계   1034655    927293    731294   649966    964114   1057329   \n",
       "24       2호선  13052397  12232205   9254124  8291390  12357478  13743581   \n",
       "25  공항철도 1호선   1133385   1163975    914544   950377   1056803   1217329   \n",
       "26       경원선   1845803   1910877   1557103  1544761   1757686   2063886   \n",
       "\n",
       "    Wednesday  \n",
       "0      978743  \n",
       "1      157804  \n",
       "2     3989080  \n",
       "3      419434  \n",
       "4     3454879  \n",
       "5     5367079  \n",
       "6      571158  \n",
       "7     1092422  \n",
       "8     4566075  \n",
       "9     2083849  \n",
       "10    1070377  \n",
       "11      82727  \n",
       "12    4670322  \n",
       "13     294613  \n",
       "14     337712  \n",
       "15    2509691  \n",
       "16     392605  \n",
       "17    3047871  \n",
       "18    5879339  \n",
       "19    1731888  \n",
       "20     916891  \n",
       "21    2414049  \n",
       "22     834114  \n",
       "23     969863  \n",
       "24   12232002  \n",
       "25    1050130  \n",
       "26    1768748  "
      ]
     },
     "execution_count": 61,
     "metadata": {},
     "output_type": "execute_result"
    }
   ],
   "source": [
    "_lineByDoW=_subDf.groupBy('line').pivot('dayOfWeek').agg(F.sum('SumInOut')).toPandas()\n",
    "_lineByDoW"
   ]
  },
  {
   "cell_type": "code",
   "execution_count": 62,
   "id": "121e2eee",
   "metadata": {},
   "outputs": [
    {
     "data": {
      "text/plain": [
       "1030223"
      ]
     },
     "execution_count": 62,
     "metadata": {},
     "output_type": "execute_result"
    }
   ],
   "source": [
    "_lineByDoW.loc[0,'Friday']"
   ]
  },
  {
   "cell_type": "code",
   "execution_count": 63,
   "id": "83b93c34",
   "metadata": {},
   "outputs": [
    {
     "data": {
      "text/plain": [
       "line             일산선\n",
       "Friday       1030223\n",
       "Monday       1007750\n",
       "Saturday      769935\n",
       "Sunday        715312\n",
       "Thursday      974853\n",
       "Tuesday      1100666\n",
       "Wednesday     978743\n",
       "Name: 0, dtype: object"
      ]
     },
     "execution_count": 63,
     "metadata": {},
     "output_type": "execute_result"
    }
   ],
   "source": [
    "# iloc을 사용하면 정수인덱스를 사용하면 행, 열을 조회할 수 있다.\n",
    "_lineByDoW.iloc[0,:]"
   ]
  },
  {
   "cell_type": "code",
   "execution_count": 64,
   "id": "3d8cd3d2",
   "metadata": {},
   "outputs": [
    {
     "data": {
      "text/plain": [
       "<AxesSubplot:>"
      ]
     },
     "execution_count": 64,
     "metadata": {},
     "output_type": "execute_result"
    },
    {
     "data": {
      "image/png": "[encoded data removed]",
      "text/plain": [
       "<Figure size 640x480 with 1 Axes>"
      ]
     },
     "metadata": {},
     "output_type": "display_data"
    }
   ],
   "source": [
    "_lineByDoW.plot()"
   ]
  },
  {
   "cell_type": "code",
   "execution_count": 65,
   "id": "1987af69",
   "metadata": {},
   "outputs": [
    {
     "data": {
      "text/html": [
       "<div>\n",
       "<style scoped>\n",
       "    .dataframe tbody tr th:only-of-type {\n",
       "        vertical-align: middle;\n",
       "    }\n",
       "\n",
       "    .dataframe tbody tr th {\n",
       "        vertical-align: top;\n",
       "    }\n",
       "\n",
       "    .dataframe thead th {\n",
       "        text-align: right;\n",
       "    }\n",
       "</style>\n",
       "<table border=\"1\" class=\"dataframe\">\n",
       "  <thead>\n",
       "    <tr style=\"text-align: right;\">\n",
       "      <th></th>\n",
       "      <th>line</th>\n",
       "      <th>Friday</th>\n",
       "      <th>Monday</th>\n",
       "      <th>Saturday</th>\n",
       "      <th>Sunday</th>\n",
       "      <th>Thursday</th>\n",
       "      <th>Tuesday</th>\n",
       "      <th>Wednesday</th>\n",
       "    </tr>\n",
       "  </thead>\n",
       "  <tbody>\n",
       "    <tr>\n",
       "      <th>0</th>\n",
       "      <td>일산선</td>\n",
       "      <td>1030223</td>\n",
       "      <td>1007750</td>\n",
       "      <td>769935</td>\n",
       "      <td>715312</td>\n",
       "      <td>974853</td>\n",
       "      <td>1100666</td>\n",
       "      <td>978743</td>\n",
       "    </tr>\n",
       "    <tr>\n",
       "      <th>1</th>\n",
       "      <td>장항선</td>\n",
       "      <td>166348</td>\n",
       "      <td>183524</td>\n",
       "      <td>140637</td>\n",
       "      <td>151078</td>\n",
       "      <td>162542</td>\n",
       "      <td>191200</td>\n",
       "      <td>157804</td>\n",
       "    </tr>\n",
       "    <tr>\n",
       "      <th>2</th>\n",
       "      <td>경부선</td>\n",
       "      <td>4221850</td>\n",
       "      <td>4296970</td>\n",
       "      <td>3558895</td>\n",
       "      <td>3423586</td>\n",
       "      <td>3975737</td>\n",
       "      <td>4632494</td>\n",
       "      <td>3989080</td>\n",
       "    </tr>\n",
       "    <tr>\n",
       "      <th>3</th>\n",
       "      <td>우이신설선</td>\n",
       "      <td>415283</td>\n",
       "      <td>437874</td>\n",
       "      <td>321994</td>\n",
       "      <td>331804</td>\n",
       "      <td>413185</td>\n",
       "      <td>484606</td>\n",
       "      <td>419434</td>\n",
       "    </tr>\n",
       "    <tr>\n",
       "      <th>4</th>\n",
       "      <td>분당선</td>\n",
       "      <td>3590760</td>\n",
       "      <td>3394069</td>\n",
       "      <td>2496628</td>\n",
       "      <td>2170127</td>\n",
       "      <td>3431590</td>\n",
       "      <td>3855469</td>\n",
       "      <td>3454879</td>\n",
       "    </tr>\n",
       "  </tbody>\n",
       "</table>\n",
       "</div>"
      ],
      "text/plain": [
       "    line   Friday   Monday  Saturday   Sunday  Thursday  Tuesday  Wednesday\n",
       "0    일산선  1030223  1007750    769935   715312    974853  1100666     978743\n",
       "1    장항선   166348   183524    140637   151078    162542   191200     157804\n",
       "2    경부선  4221850  4296970   3558895  3423586   3975737  4632494    3989080\n",
       "3  우이신설선   415283   437874    321994   331804    413185   484606     419434\n",
       "4    분당선  3590760  3394069   2496628  2170127   3431590  3855469    3454879"
      ]
     },
     "execution_count": 65,
     "metadata": {},
     "output_type": "execute_result"
    }
   ],
   "source": [
    "_lineByDoW.reset_index(drop=True, inplace=True)\n",
    "\n",
    "_lineByDoW.head()"
   ]
  },
  {
   "cell_type": "markdown",
   "id": "240ded37",
   "metadata": {},
   "source": [
    "### 요일별 노선별로 데이터 Transpose (line을 Column으로)"
   ]
  },
  {
   "cell_type": "code",
   "execution_count": 66,
   "id": "4253fdbb",
   "metadata": {},
   "outputs": [
    {
     "data": {
      "text/html": [
       "<div>\n",
       "<style scoped>\n",
       "    .dataframe tbody tr th:only-of-type {\n",
       "        vertical-align: middle;\n",
       "    }\n",
       "\n",
       "    .dataframe tbody tr th {\n",
       "        vertical-align: top;\n",
       "    }\n",
       "\n",
       "    .dataframe thead th {\n",
       "        text-align: right;\n",
       "    }\n",
       "</style>\n",
       "<table border=\"1\" class=\"dataframe\">\n",
       "  <thead>\n",
       "    <tr style=\"text-align: right;\">\n",
       "      <th></th>\n",
       "      <th>0</th>\n",
       "      <th>1</th>\n",
       "      <th>2</th>\n",
       "      <th>3</th>\n",
       "      <th>4</th>\n",
       "      <th>5</th>\n",
       "      <th>6</th>\n",
       "      <th>7</th>\n",
       "      <th>8</th>\n",
       "      <th>9</th>\n",
       "      <th>...</th>\n",
       "      <th>17</th>\n",
       "      <th>18</th>\n",
       "      <th>19</th>\n",
       "      <th>20</th>\n",
       "      <th>21</th>\n",
       "      <th>22</th>\n",
       "      <th>23</th>\n",
       "      <th>24</th>\n",
       "      <th>25</th>\n",
       "      <th>26</th>\n",
       "    </tr>\n",
       "  </thead>\n",
       "  <tbody>\n",
       "    <tr>\n",
       "      <th>Friday</th>\n",
       "      <td>1030223</td>\n",
       "      <td>166348</td>\n",
       "      <td>4221850</td>\n",
       "      <td>415283</td>\n",
       "      <td>3590760</td>\n",
       "      <td>5535180</td>\n",
       "      <td>582652</td>\n",
       "      <td>1126904</td>\n",
       "      <td>4788871</td>\n",
       "      <td>2230772</td>\n",
       "      <td>...</td>\n",
       "      <td>3230522</td>\n",
       "      <td>6065666</td>\n",
       "      <td>1782141</td>\n",
       "      <td>1028935</td>\n",
       "      <td>2476500</td>\n",
       "      <td>858636</td>\n",
       "      <td>1034655</td>\n",
       "      <td>13052397</td>\n",
       "      <td>1133385</td>\n",
       "      <td>1845803</td>\n",
       "    </tr>\n",
       "    <tr>\n",
       "      <th>Monday</th>\n",
       "      <td>1007750</td>\n",
       "      <td>183524</td>\n",
       "      <td>4296970</td>\n",
       "      <td>437874</td>\n",
       "      <td>3394069</td>\n",
       "      <td>5251024</td>\n",
       "      <td>600380</td>\n",
       "      <td>1153238</td>\n",
       "      <td>4761541</td>\n",
       "      <td>2266697</td>\n",
       "      <td>...</td>\n",
       "      <td>3067310</td>\n",
       "      <td>5847289</td>\n",
       "      <td>1708729</td>\n",
       "      <td>945772</td>\n",
       "      <td>2532330</td>\n",
       "      <td>904591</td>\n",
       "      <td>927293</td>\n",
       "      <td>12232205</td>\n",
       "      <td>1163975</td>\n",
       "      <td>1910877</td>\n",
       "    </tr>\n",
       "    <tr>\n",
       "      <th>Saturday</th>\n",
       "      <td>769935</td>\n",
       "      <td>140637</td>\n",
       "      <td>3558895</td>\n",
       "      <td>321994</td>\n",
       "      <td>2496628</td>\n",
       "      <td>3568817</td>\n",
       "      <td>436345</td>\n",
       "      <td>897061</td>\n",
       "      <td>3759729</td>\n",
       "      <td>1813111</td>\n",
       "      <td>...</td>\n",
       "      <td>2395504</td>\n",
       "      <td>4366623</td>\n",
       "      <td>1222338</td>\n",
       "      <td>776671</td>\n",
       "      <td>2023514</td>\n",
       "      <td>703470</td>\n",
       "      <td>731294</td>\n",
       "      <td>9254124</td>\n",
       "      <td>914544</td>\n",
       "      <td>1557103</td>\n",
       "    </tr>\n",
       "    <tr>\n",
       "      <th>Sunday</th>\n",
       "      <td>715312</td>\n",
       "      <td>151078</td>\n",
       "      <td>3423586</td>\n",
       "      <td>331804</td>\n",
       "      <td>2170127</td>\n",
       "      <td>3272054</td>\n",
       "      <td>432531</td>\n",
       "      <td>892746</td>\n",
       "      <td>3463438</td>\n",
       "      <td>1704277</td>\n",
       "      <td>...</td>\n",
       "      <td>2289526</td>\n",
       "      <td>3838792</td>\n",
       "      <td>1112754</td>\n",
       "      <td>755720</td>\n",
       "      <td>1919945</td>\n",
       "      <td>693547</td>\n",
       "      <td>649966</td>\n",
       "      <td>8291390</td>\n",
       "      <td>950377</td>\n",
       "      <td>1544761</td>\n",
       "    </tr>\n",
       "    <tr>\n",
       "      <th>Thursday</th>\n",
       "      <td>974853</td>\n",
       "      <td>162542</td>\n",
       "      <td>3975737</td>\n",
       "      <td>413185</td>\n",
       "      <td>3431590</td>\n",
       "      <td>5338492</td>\n",
       "      <td>560880</td>\n",
       "      <td>1068616</td>\n",
       "      <td>4564427</td>\n",
       "      <td>2095747</td>\n",
       "      <td>...</td>\n",
       "      <td>3056291</td>\n",
       "      <td>5858577</td>\n",
       "      <td>1720810</td>\n",
       "      <td>918231</td>\n",
       "      <td>2378238</td>\n",
       "      <td>822954</td>\n",
       "      <td>964114</td>\n",
       "      <td>12357478</td>\n",
       "      <td>1056803</td>\n",
       "      <td>1757686</td>\n",
       "    </tr>\n",
       "    <tr>\n",
       "      <th>Tuesday</th>\n",
       "      <td>1100666</td>\n",
       "      <td>191200</td>\n",
       "      <td>4632494</td>\n",
       "      <td>484606</td>\n",
       "      <td>3855469</td>\n",
       "      <td>5962721</td>\n",
       "      <td>651442</td>\n",
       "      <td>1246793</td>\n",
       "      <td>5176950</td>\n",
       "      <td>2401864</td>\n",
       "      <td>...</td>\n",
       "      <td>3438675</td>\n",
       "      <td>6547565</td>\n",
       "      <td>1924512</td>\n",
       "      <td>1031159</td>\n",
       "      <td>2760681</td>\n",
       "      <td>971387</td>\n",
       "      <td>1057329</td>\n",
       "      <td>13743581</td>\n",
       "      <td>1217329</td>\n",
       "      <td>2063886</td>\n",
       "    </tr>\n",
       "    <tr>\n",
       "      <th>Wednesday</th>\n",
       "      <td>978743</td>\n",
       "      <td>157804</td>\n",
       "      <td>3989080</td>\n",
       "      <td>419434</td>\n",
       "      <td>3454879</td>\n",
       "      <td>5367079</td>\n",
       "      <td>571158</td>\n",
       "      <td>1092422</td>\n",
       "      <td>4566075</td>\n",
       "      <td>2083849</td>\n",
       "      <td>...</td>\n",
       "      <td>3047871</td>\n",
       "      <td>5879339</td>\n",
       "      <td>1731888</td>\n",
       "      <td>916891</td>\n",
       "      <td>2414049</td>\n",
       "      <td>834114</td>\n",
       "      <td>969863</td>\n",
       "      <td>12232002</td>\n",
       "      <td>1050130</td>\n",
       "      <td>1768748</td>\n",
       "    </tr>\n",
       "  </tbody>\n",
       "</table>\n",
       "<p>7 rows × 27 columns</p>\n",
       "</div>"
      ],
      "text/plain": [
       "                0       1        2       3        4        5       6   \\\n",
       "Friday     1030223  166348  4221850  415283  3590760  5535180  582652   \n",
       "Monday     1007750  183524  4296970  437874  3394069  5251024  600380   \n",
       "Saturday    769935  140637  3558895  321994  2496628  3568817  436345   \n",
       "Sunday      715312  151078  3423586  331804  2170127  3272054  432531   \n",
       "Thursday    974853  162542  3975737  413185  3431590  5338492  560880   \n",
       "Tuesday    1100666  191200  4632494  484606  3855469  5962721  651442   \n",
       "Wednesday   978743  157804  3989080  419434  3454879  5367079  571158   \n",
       "\n",
       "                7        8        9   ...       17       18       19       20  \\\n",
       "Friday     1126904  4788871  2230772  ...  3230522  6065666  1782141  1028935   \n",
       "Monday     1153238  4761541  2266697  ...  3067310  5847289  1708729   945772   \n",
       "Saturday    897061  3759729  1813111  ...  2395504  4366623  1222338   776671   \n",
       "Sunday      892746  3463438  1704277  ...  2289526  3838792  1112754   755720   \n",
       "Thursday   1068616  4564427  2095747  ...  3056291  5858577  1720810   918231   \n",
       "Tuesday    1246793  5176950  2401864  ...  3438675  6547565  1924512  1031159   \n",
       "Wednesday  1092422  4566075  2083849  ...  3047871  5879339  1731888   916891   \n",
       "\n",
       "                21      22       23        24       25       26  \n",
       "Friday     2476500  858636  1034655  13052397  1133385  1845803  \n",
       "Monday     2532330  904591   927293  12232205  1163975  1910877  \n",
       "Saturday   2023514  703470   731294   9254124   914544  1557103  \n",
       "Sunday     1919945  693547   649966   8291390   950377  1544761  \n",
       "Thursday   2378238  822954   964114  12357478  1056803  1757686  \n",
       "Tuesday    2760681  971387  1057329  13743581  1217329  2063886  \n",
       "Wednesday  2414049  834114   969863  12232002  1050130  1768748  \n",
       "\n",
       "[7 rows x 27 columns]"
      ]
     },
     "execution_count": 66,
     "metadata": {},
     "output_type": "execute_result"
    }
   ],
   "source": [
    "_lineByDoW.drop('line', axis=1).transpose()"
   ]
  },
  {
   "cell_type": "code",
   "execution_count": 67,
   "id": "198255cb",
   "metadata": {},
   "outputs": [
    {
     "data": {
      "text/plain": [
       "<AxesSubplot:>"
      ]
     },
     "execution_count": 67,
     "metadata": {},
     "output_type": "execute_result"
    },
    {
     "data": {
      "image/png": "[encoded data removed]",
      "text/plain": [
       "<Figure size 640x480 with 1 Axes>"
      ]
     },
     "metadata": {},
     "output_type": "display_data"
    }
   ],
   "source": [
    "new = _lineByDoW.drop('line', axis=1).transpose()\n",
    "\n",
    "new.plot()"
   ]
  },
  {
   "cell_type": "markdown",
   "id": "9cb64efa",
   "metadata": {},
   "source": [
    "# 문제: 한국의 코로나바이러스\n",
    "데이터는 https://www.kaggle.com/kimjihoo/coronavirusdataset%EB%A5%BC 방문하여 TimeProvince.csv를 다운로드해서 사용한다. (열린데이터에서 제공하는 '서울시 코로나19 확진자 현황' (https://data.seoul.go.kr/dataList/OA-20279/S/1/datasetView.do)) 문제를 풀고 결과 출력을 예시해 놓았다. 동일하지 않아도 유사하게 출력하면 된다.\n",
    "\n",
    "DataFrame 생성하고, 자동인식한 스키마를 출력\n",
    "3월의 데이터만 출력"
   ]
  },
  {
   "cell_type": "markdown",
   "id": "183efcbb",
   "metadata": {},
   "source": [
    "### 1) DataFrame 생성"
   ]
  },
  {
   "cell_type": "code",
   "execution_count": 68,
   "id": "f101a901",
   "metadata": {},
   "outputs": [
    {
     "name": "stdout",
     "output_type": "stream",
     "text": [
      "root\n",
      " |-- date: date (nullable = true)\n",
      " |-- time: integer (nullable = true)\n",
      " |-- province: string (nullable = true)\n",
      " |-- confirmed: integer (nullable = true)\n",
      " |-- released: integer (nullable = true)\n",
      " |-- deceased: integer (nullable = true)\n",
      "\n"
     ]
    }
   ],
   "source": [
    "import os\n",
    "_covidProvinceDf = spark\\\n",
    "    .read\\\n",
    "    .options(header='true', inferschema='true', delimiter=',')\\\n",
    "    .csv(os.path.join('data', 'TimeProvince.csv'))\n",
    "\n",
    "_covidProvinceDf.printSchema()"
   ]
  },
  {
   "cell_type": "markdown",
   "id": "52968a7f",
   "metadata": {},
   "source": [
    "### 2) 일자 형변환"
   ]
  },
  {
   "cell_type": "code",
   "execution_count": 69,
   "id": "0d3b3de8",
   "metadata": {},
   "outputs": [
    {
     "name": "stdout",
     "output_type": "stream",
     "text": [
      "+----------+----+--------+---------+--------+--------+\n",
      "|      Date|time|province|confirmed|released|deceased|\n",
      "+----------+----+--------+---------+--------+--------+\n",
      "|2020-01-20|  16|   Seoul|        0|       0|       0|\n",
      "|2020-01-20|  16|   Busan|        0|       0|       0|\n",
      "|2020-01-20|  16|   Daegu|        0|       0|       0|\n",
      "+----------+----+--------+---------+--------+--------+\n",
      "only showing top 3 rows\n",
      "\n"
     ]
    }
   ],
   "source": [
    "from pyspark.sql.types import DateType\n",
    "\n",
    "_covidProvinceDf = _covidProvinceDf.withColumn('Date', _covidProvinceDf['date'].cast(DateType()))\n",
    "\n",
    "_covidProvinceDf.show(3)"
   ]
  },
  {
   "cell_type": "code",
   "execution_count": 70,
   "id": "88f2deaa",
   "metadata": {},
   "outputs": [
    {
     "name": "stdout",
     "output_type": "stream",
     "text": [
      "+----------+----+--------+---------+--------+--------+\n",
      "|      Date|time|province|confirmed|released|deceased|\n",
      "+----------+----+--------+---------+--------+--------+\n",
      "|2020-03-01|  16|   Seoul|       87|      11|       0|\n",
      "|2020-03-01|  16|   Busan|       83|       0|       0|\n",
      "|2020-03-01|  16|   Daegu|     2704|       6|      11|\n",
      "+----------+----+--------+---------+--------+--------+\n",
      "only showing top 3 rows\n",
      "\n"
     ]
    }
   ],
   "source": [
    "# 3월만 선별\n",
    "import pyspark.sql.functions as F\n",
    "_covidProvinceDf.filter(F.month(_covidProvinceDf[\"Date\"]) == '03').show(3)"
   ]
  },
  {
   "cell_type": "code",
   "execution_count": 71,
   "id": "ffa32a42",
   "metadata": {},
   "outputs": [
    {
     "name": "stdout",
     "output_type": "stream",
     "text": [
      "+----------+----+--------+---------+--------+--------+\n",
      "|      Date|time|province|confirmed|released|deceased|\n",
      "+----------+----+--------+---------+--------+--------+\n",
      "|2020-02-02|  16|   Seoul|        5|       0|       0|\n",
      "|2020-02-02|  16|   Busan|        0|       0|       0|\n",
      "|2020-02-02|  16|   Daegu|        0|       0|       0|\n",
      "+----------+----+--------+---------+--------+--------+\n",
      "only showing top 3 rows\n",
      "\n"
     ]
    }
   ],
   "source": [
    "# 2월 1일 이후만 선별\n",
    "_covidProvinceDf.filter(_covidProvinceDf[\"Date\"] > '2020-02-01').show(3)"
   ]
  },
  {
   "cell_type": "markdown",
   "id": "e16858c5",
   "metadata": {},
   "source": [
    "### 3) 년x월별 건수"
   ]
  },
  {
   "cell_type": "code",
   "execution_count": 72,
   "id": "b45a7134",
   "metadata": {},
   "outputs": [],
   "source": [
    "import pyspark.sql.functions as F\n",
    "\n",
    "_covidProvinceDf=_covidProvinceDf\\\n",
    "    .withColumn(\"year\", F.year(\"Date\"))\\\n",
    "    .withColumn(\"month\", F.month(\"Date\"))"
   ]
  },
  {
   "cell_type": "code",
   "execution_count": 73,
   "id": "c88df32b",
   "metadata": {},
   "outputs": [
    {
     "name": "stdout",
     "output_type": "stream",
     "text": [
      "+----+---+---+---+---+---+---+\n",
      "|year|  1|  2|  3|  4|  5|  6|\n",
      "+----+---+---+---+---+---+---+\n",
      "|2020|204|493|527|510|527|510|\n",
      "+----+---+---+---+---+---+---+\n",
      "\n"
     ]
    }
   ],
   "source": [
    "# year을 행 인덱스로, month를 pivot column으로\n",
    "_covidProvinceDf.groupBy(\"year\").pivot(\"month\").count().show() "
   ]
  },
  {
   "cell_type": "markdown",
   "id": "70b9871a",
   "metadata": {},
   "source": [
    "### 4) 도x월별 건수"
   ]
  },
  {
   "cell_type": "code",
   "execution_count": 74,
   "id": "e5686884",
   "metadata": {},
   "outputs": [
    {
     "name": "stdout",
     "output_type": "stream",
     "text": [
      "+-----------------+---+---+---+---+---+---+\n",
      "|         province|  1|  2|  3|  4|  5|  6|\n",
      "+-----------------+---+---+---+---+---+---+\n",
      "|           Sejong| 12| 29| 31| 30| 31| 30|\n",
      "|            Ulsan| 12| 29| 31| 30| 31| 30|\n",
      "|Chungcheongbuk-do| 12| 29| 31| 30| 31| 30|\n",
      "|       Gangwon-do| 12| 29| 31| 30| 31| 30|\n",
      "|          Gwangju| 12| 29| 31| 30| 31| 30|\n",
      "| Gyeongsangbuk-do| 12| 29| 31| 30| 31| 30|\n",
      "|            Daegu| 12| 29| 31| 30| 31| 30|\n",
      "| Gyeongsangnam-do| 12| 29| 31| 30| 31| 30|\n",
      "|          Incheon| 12| 29| 31| 30| 31| 30|\n",
      "|          Jeju-do| 12| 29| 31| 30| 31| 30|\n",
      "|      Gyeonggi-do| 12| 29| 31| 30| 31| 30|\n",
      "|            Busan| 12| 29| 31| 30| 31| 30|\n",
      "|          Daejeon| 12| 29| 31| 30| 31| 30|\n",
      "|            Seoul| 12| 29| 31| 30| 31| 30|\n",
      "|Chungcheongnam-do| 12| 29| 31| 30| 31| 30|\n",
      "|     Jeollabuk-do| 12| 29| 31| 30| 31| 30|\n",
      "|     Jeollanam-do| 12| 29| 31| 30| 31| 30|\n",
      "+-----------------+---+---+---+---+---+---+\n",
      "\n"
     ]
    }
   ],
   "source": [
    "_covidProvinceDf.groupBy(\"province\").pivot(\"month\").count().show()"
   ]
  },
  {
   "cell_type": "markdown",
   "id": "f5c17fe9",
   "metadata": {},
   "source": [
    "### 5) 도별 확진자 순위"
   ]
  },
  {
   "cell_type": "code",
   "execution_count": 75,
   "id": "ea9b6366",
   "metadata": {},
   "outputs": [
    {
     "name": "stdout",
     "output_type": "stream",
     "text": [
      "+----------+----+--------+---------+--------+--------+----+-----+----+\n",
      "|      Date|time|province|confirmed|released|deceased|year|month|rank|\n",
      "+----------+----+--------+---------+--------+--------+----+-----+----+\n",
      "|2020-06-30|   0|   Busan|      154|     142|       3|2020|    6|   1|\n",
      "|2020-06-29|   0|   Busan|      153|     143|       3|2020|    6|   2|\n",
      "|2020-06-24|   0|   Busan|      152|     142|       3|2020|    6|   3|\n",
      "+----------+----+--------+---------+--------+--------+----+-----+----+\n",
      "only showing top 3 rows\n",
      "\n"
     ]
    }
   ],
   "source": [
    "from pyspark.sql.window import Window\n",
    "from pyspark.sql import functions as F\n",
    "\n",
    "# 순위를 매기기 위해서는 Window가 매우 편하다.\n",
    "confirmedByProvince = Window().partitionBy(['province']).orderBy(F.desc('confirmed'))\n",
    "_covidProvinceDf.withColumn(\"rank\", F.rank().over(confirmedByProvince)).show(3)"
   ]
  },
  {
   "cell_type": "markdown",
   "id": "a7b849da",
   "metadata": {},
   "source": [
    "## 6) 도별 첫 확진자 출현 (모든 도 출력)\n",
    "\n",
    "도별로 확진자가 언제 처음 발생하는지 알아보려면:\n",
    "\n",
    "- confirmed 0을 제외(확진자 0)\n",
    "- groupBy(province) 도별로 구분하고, 일자 정렬 (첫 확진자를 인식하도록)\n",
    "- province window의 row_number 1번만 출력"
   ]
  },
  {
   "cell_type": "code",
   "execution_count": 76,
   "id": "8f2a2f91",
   "metadata": {},
   "outputs": [
    {
     "name": "stdout",
     "output_type": "stream",
     "text": [
      "+----------+----+-----------+---------+--------+--------+----+-----+\n",
      "|      Date|time|   province|confirmed|released|deceased|year|month|\n",
      "+----------+----+-----------+---------+--------+--------+----+-----+\n",
      "|2020-01-20|  16|    Incheon|        1|       0|       0|2020|    1|\n",
      "|2020-01-21|  16|    Incheon|        1|       0|       0|2020|    1|\n",
      "|2020-01-22|  16|    Incheon|        1|       0|       0|2020|    1|\n",
      "|2020-01-23|  16|    Incheon|        1|       0|       0|2020|    1|\n",
      "|2020-01-24|  16|    Incheon|        1|       0|       0|2020|    1|\n",
      "|2020-01-24|  16|Gyeonggi-do|        1|       0|       0|2020|    1|\n",
      "|2020-01-25|  16|    Incheon|        1|       0|       0|2020|    1|\n",
      "|2020-01-25|  16|Gyeonggi-do|        1|       0|       0|2020|    1|\n",
      "|2020-01-26|  16|    Incheon|        1|       0|       0|2020|    1|\n",
      "|2020-01-26|  16|Gyeonggi-do|        2|       0|       0|2020|    1|\n",
      "|2020-01-27|  16|      Seoul|        1|       0|       0|2020|    1|\n",
      "|2020-01-27|  16|    Incheon|        1|       0|       0|2020|    1|\n",
      "|2020-01-27|  16|Gyeonggi-do|        2|       0|       0|2020|    1|\n",
      "|2020-01-28|  16|      Seoul|        1|       0|       0|2020|    1|\n",
      "|2020-01-28|  16|    Incheon|        1|       0|       0|2020|    1|\n",
      "|2020-01-28|  16|Gyeonggi-do|        2|       0|       0|2020|    1|\n",
      "|2020-01-29|  16|      Seoul|        1|       0|       0|2020|    1|\n",
      "|2020-01-29|  16|    Incheon|        1|       0|       0|2020|    1|\n",
      "|2020-01-29|  16|Gyeonggi-do|        2|       0|       0|2020|    1|\n",
      "|2020-01-30|  16|      Seoul|        3|       0|       0|2020|    1|\n",
      "+----------+----+-----------+---------+--------+--------+----+-----+\n",
      "only showing top 20 rows\n",
      "\n"
     ]
    }
   ],
   "source": [
    "_confirmedGt0=_covidProvinceDf.filter(F.col('confirmed') > 0)\n",
    "_confirmedGt0.show()"
   ]
  },
  {
   "cell_type": "code",
   "execution_count": 77,
   "id": "bd8a3991",
   "metadata": {},
   "outputs": [
    {
     "name": "stdout",
     "output_type": "stream",
     "text": [
      "+----------+----+-----------------+---------+--------+--------+----+-----+----------+\n",
      "|      Date|time|         province|confirmed|released|deceased|year|month|row_number|\n",
      "+----------+----+-----------------+---------+--------+--------+----+-----+----------+\n",
      "|2020-02-20|  16|            Busan|        8|       0|       0|2020|    2|         1|\n",
      "|2020-02-21|  16|Chungcheongbuk-do|        1|       0|       0|2020|    2|         1|\n",
      "|2020-02-21|  16|Chungcheongnam-do|        1|       0|       0|2020|    2|         1|\n",
      "|2020-02-18|  16|            Daegu|        1|       0|       0|2020|    2|         1|\n",
      "|2020-02-22|  16|          Daejeon|        2|       0|       0|2020|    2|         1|\n",
      "|2020-02-22|  16|       Gangwon-do|        6|       0|       0|2020|    2|         1|\n",
      "|2020-02-04|  16|          Gwangju|        1|       0|       0|2020|    2|         1|\n",
      "|2020-01-24|  16|      Gyeonggi-do|        1|       0|       0|2020|    1|         1|\n",
      "|2020-02-19|  16| Gyeongsangbuk-do|        2|       1|       0|2020|    2|         1|\n",
      "|2020-02-19|  16| Gyeongsangnam-do|        3|       0|       0|2020|    2|         1|\n",
      "|2020-01-20|  16|          Incheon|        1|       0|       0|2020|    1|         1|\n",
      "|2020-02-21|  16|          Jeju-do|        1|       0|       0|2020|    2|         1|\n",
      "|2020-01-31|  16|     Jeollabuk-do|        1|       0|       0|2020|    1|         1|\n",
      "|2020-02-22|  16|     Jeollanam-do|        1|       0|       0|2020|    2|         1|\n",
      "|2020-02-22|  16|           Sejong|        1|       0|       0|2020|    2|         1|\n",
      "|2020-01-27|  16|            Seoul|        1|       0|       0|2020|    1|         1|\n",
      "|2020-02-22|  16|            Ulsan|        1|       0|       0|2020|    2|         1|\n",
      "+----------+----+-----------------+---------+--------+--------+----+-----+----------+\n",
      "\n"
     ]
    }
   ],
   "source": [
    "from pyspark.sql.functions import row_number\n",
    "\n",
    "dateByProvince = Window().partitionBy(['province']).orderBy('date')\n",
    "_confirmedGt0ByProvince=_confirmedGt0.withColumn(\"row_number\", row_number().over(dateByProvince))\n",
    "\n",
    "_confirmedGt0ByProvince.where(F.col(\"row_number\")==1).show()"
   ]
  },
  {
   "cell_type": "markdown",
   "id": "f82a9001",
   "metadata": {},
   "source": [
    "### 7) 주간단위의 평균\n",
    "현재 시점으로 지난 7일간을 구간으로 설정하여 평균을 계산해보자."
   ]
  },
  {
   "cell_type": "code",
   "execution_count": 78,
   "id": "8d87ed9b",
   "metadata": {},
   "outputs": [
    {
     "name": "stdout",
     "output_type": "stream",
     "text": [
      "+----------+----+--------+---------+--------+--------+----+-----+-----------------+\n",
      "|      Date|time|province|confirmed|released|deceased|year|month| roll_7_confirmed|\n",
      "+----------+----+--------+---------+--------+--------+----+-----+-----------------+\n",
      "|2020-03-11|   0|   Busan|       98|      21|       0|2020|    3|95.57142857142857|\n",
      "|2020-03-12|   0|   Busan|       99|      29|       0|2020|    3|96.57142857142857|\n",
      "|2020-03-13|   0|   Busan|      100|      36|       0|2020|    3|97.28571428571429|\n",
      "+----------+----+--------+---------+--------+--------+----+-----+-----------------+\n",
      "only showing top 3 rows\n",
      "\n"
     ]
    }
   ],
   "source": [
    "from pyspark.sql.window import Window\n",
    "\n",
    "# 도 별로 date로 order하는 윈도우 함수\n",
    "# 현재 행부터 6개의 행 전까지의 범위를 윈도우 프레임으로 지정\n",
    "dateByProvince = Window().partitionBy(['province']).orderBy('date').rowsBetween(-6,0)\n",
    "timeprovinceWithRoll = _covidProvinceDf.withColumn(\"roll_7_confirmed\",F.mean(\"confirmed\").over(dateByProvince))\n",
    "\n",
    "\n",
    "timeprovinceWithRoll.filter(timeprovinceWithRoll.Date>'2020-03-10').show(3)"
   ]
  },
  {
   "cell_type": "markdown",
   "id": "51cb556c",
   "metadata": {},
   "source": [
    "# 문제 S-2: Spark Dataframe으로 균등분포, 정규분포의 기본 통계 값을 계산."
   ]
  },
  {
   "cell_type": "code",
   "execution_count": 79,
   "id": "6d7f96fc",
   "metadata": {},
   "outputs": [
    {
     "name": "stdout",
     "output_type": "stream",
     "text": [
      "+---+\n",
      "| id|\n",
      "+---+\n",
      "|  0|\n",
      "|  1|\n",
      "|  2|\n",
      "|  3|\n",
      "|  4|\n",
      "+---+\n",
      "only showing top 5 rows\n",
      "\n"
     ]
    }
   ],
   "source": [
    "_df = spark.range(0, 30)\n",
    "_df.show(5)"
   ]
  },
  {
   "cell_type": "code",
   "execution_count": 80,
   "id": "ae10851e",
   "metadata": {},
   "outputs": [
    {
     "name": "stdout",
     "output_type": "stream",
     "text": [
      "+---+------------------+-------------------+-------------------+------------------+-------------------+\n",
      "| id|           uniform|             normal|              meanN|           stddevN|            zscoreN|\n",
      "+---+------------------+-------------------+-------------------+------------------+-------------------+\n",
      "|  0|0.1709497137955568|-0.8664700627108758|-0.0526632301286973|1.0637064308067905|-0.7650671360188446|\n",
      "|  1|0.8051143958005459|-0.5970491018333267|-0.0526632301286973|1.0637064308067905|-0.5117820631127786|\n",
      "|  2|0.5775925576589018|0.18267161219540898|-0.0526632301286973|1.0637064308067905| 0.2212404057251131|\n",
      "+---+------------------+-------------------+-------------------+------------------+-------------------+\n",
      "only showing top 3 rows\n",
      "\n"
     ]
    },
    {
     "name": "stderr",
     "output_type": "stream",
     "text": [
      "23/12/20 12:19:04 WARN WindowExec: No Partition Defined for Window operation! Moving all data to a single partition, this can cause serious performance degradation.\n",
      "23/12/20 12:19:04 WARN WindowExec: No Partition Defined for Window operation! Moving all data to a single partition, this can cause serious performance degradation.\n",
      "23/12/20 12:19:04 WARN WindowExec: No Partition Defined for Window operation! Moving all data to a single partition, this can cause serious performance degradation.\n"
     ]
    }
   ],
   "source": [
    "from pyspark.sql.window import Window\n",
    "import sys\n",
    "from pyspark.sql.functions import rand, randn\n",
    "from pyspark.sql import functions as F\n",
    "\n",
    "\n",
    "# 균등, 정규분포 컬럼생성\n",
    "colUniform = rand(seed=10).alias(\"uniform\")\n",
    "colNormal = randn(seed=27).alias(\"normal\")\n",
    "\n",
    "# 묶어서 데이터프레임 생성\n",
    "_df = _df.select(\"id\", colUniform, colNormal)\n",
    "\n",
    "# 통계 계산\n",
    "byAll = Window.rowsBetween(-sys.maxsize, sys.maxsize)\n",
    "_df = _df.withColumn(\"meanN\", F.avg(_df['normal']).over(byAll))\n",
    "_df = _df.withColumn(\"stddevN\", F.stddev(_df['normal']).over(byAll))\n",
    "_df = _df.withColumn(\"zscoreN\", (F.col('normal') - F.col('meanN'))/F.col('stddevN'))\n",
    "_df.show(3)\n"
   ]
  },
  {
   "cell_type": "markdown",
   "id": "bdbfee46",
   "metadata": {},
   "source": [
    "# 기본 통계\n",
    "각 컬럼별로 통계 값을 계산할 수 있다."
   ]
  },
  {
   "cell_type": "code",
   "execution_count": 81,
   "id": "edebaf5f",
   "metadata": {},
   "outputs": [
    {
     "name": "stdout",
     "output_type": "stream",
     "text": [
      "+-------+-----------------+--------------------+-------------------+--------------------+\n",
      "|summary|               id|             uniform|             normal|             zscoreN|\n",
      "+-------+-----------------+--------------------+-------------------+--------------------+\n",
      "|  count|               30|                  30|                 30|                  30|\n",
      "|   mean|             14.5|  0.5003518248858122|-0.0526632301286973|1.850371707708594...|\n",
      "| stddev|8.803408430829505|  0.2879269232019638| 1.0637064308067905|                 1.0|\n",
      "|    min|                0|0.014097110603182639| -2.152050408741013|  -1.973652802888473|\n",
      "|    max|               29|  0.9701253460019921|  1.669616371300714|   1.619130571696471|\n",
      "+-------+-----------------+--------------------+-------------------+--------------------+\n",
      "\n"
     ]
    },
    {
     "name": "stderr",
     "output_type": "stream",
     "text": [
      "23/12/20 12:19:04 WARN WindowExec: No Partition Defined for Window operation! Moving all data to a single partition, this can cause serious performance degradation.\n",
      "23/12/20 12:19:04 WARN WindowExec: No Partition Defined for Window operation! Moving all data to a single partition, this can cause serious performance degradation.\n",
      "23/12/20 12:19:04 WARN package: Truncated the string representation of a plan since it was too large. This behavior can be adjusted by setting 'spark.sql.debug.maxToStringFields'.\n"
     ]
    }
   ],
   "source": [
    "_df.drop(\"meanN\").drop(\"stddevN\").describe().show()"
   ]
  },
  {
   "cell_type": "markdown",
   "id": "3ff47d81",
   "metadata": {},
   "source": [
    "<hr><hr>"
   ]
  },
  {
   "cell_type": "markdown",
   "id": "3186ddac",
   "metadata": {},
   "source": [
    "# <추론>\n",
    "지금까지 평균, 표준편차, zscore, cdf와 같은 통계량을 계산해보았다.\n",
    "통계추론은 이러한 통계량을 통해 1) 모집단의 특성을 추측하거나, 2) 가설을 검증하는 것을 말한다.   \n",
    "ex) 신뢰구간.."
   ]
  },
  {
   "cell_type": "markdown",
   "id": "dc5c8971",
   "metadata": {},
   "source": [
    "## Kolmogorov-Smirnov 검정 -> 비모수추정\n",
    "- 비모수추정 : 모집단의 특성을 모르는 경우\n",
    "- Kolmogorov. : 통계량을 통해 데이터가 정규분포와 차이가 있는지 비교한다."
   ]
  },
  {
   "cell_type": "code",
   "execution_count": 82,
   "id": "27ae28c0",
   "metadata": {},
   "outputs": [
    {
     "name": "stdout",
     "output_type": "stream",
     "text": [
      "Kolmogorov-Smirnov test summary:\n",
      "degrees of freedom = 0 \n",
      "statistic = 0.841344746068543 \n",
      "pValue = 5.06089025353873E-6 \n",
      "Very strong presumption against null hypothesis: Sample follows theoretical distribution.\n"
     ]
    }
   ],
   "source": [
    "from pyspark.mllib.stat import Statistics #RDD는 pyspark.mllib.stat (Dataframe은 ml)\n",
    "\n",
    "xRdd = spark.sparkContext.parallelize([1.0, 2.0, 5.0, 4.0, 3.0, 3.3, 5.5])\n",
    "testResult = Statistics.kolmogorovSmirnovTest(xRdd, \"norm\")\n",
    "print(testResult)\n",
    "\n",
    "# Very strong presumption against null hypothesis : 귀무가설(정규분포를 가질 것이다)를 기각"
   ]
  },
  {
   "cell_type": "markdown",
   "id": "b6226552",
   "metadata": {},
   "source": [
    "### scipy Kolmogorov-Smirnov\n",
    "SciPy는 Python numpy 기반으로 통계,선형대수 연산, 미적분 등 관련 많이 쓰이는 라이브러리"
   ]
  },
  {
   "cell_type": "code",
   "execution_count": 83,
   "id": "b3e116a0",
   "metadata": {},
   "outputs": [
    {
     "data": {
      "text/plain": [
       "KstestResult(statistic=0.8413447460685429, pvalue=5.060890253444183e-06)"
      ]
     },
     "execution_count": 83,
     "metadata": {},
     "output_type": "execute_result"
    }
   ],
   "source": [
    "from scipy.stats import kstest\n",
    "\n",
    "kstest([1.0, 2.0, 5.0, 4.0, 3.0, 3.3, 5.5], 'norm') #정규분포와 비교"
   ]
  },
  {
   "cell_type": "code",
   "execution_count": 84,
   "id": "6ae0f85f",
   "metadata": {},
   "outputs": [
    {
     "data": {
      "text/plain": [
       "KstestResult(statistic=1.0, pvalue=0.0005827505827505828)"
      ]
     },
     "execution_count": 84,
     "metadata": {},
     "output_type": "execute_result"
    }
   ],
   "source": [
    "kstest([1.0, 2.0, 5.0, 4.0, 3.0, 3.3, 5.5], [11.0, 12.0, 15.0, 14.0, 13.0, 13.3, 15.5]) #오른쪽 친구와 비교"
   ]
  },
  {
   "cell_type": "code",
   "execution_count": 85,
   "id": "a328b699",
   "metadata": {},
   "outputs": [
    {
     "data": {
      "text/plain": [
       "KstestResult(statistic=0.14285714285714285, pvalue=0.9999609537692629)"
      ]
     },
     "execution_count": 85,
     "metadata": {},
     "output_type": "execute_result"
    }
   ],
   "source": [
    "kstest(np.array([1.0, 2.0, 5.0, 4.0, 3.0, 3.3, 5.5]), np.array([1.1, 2.1, 5.1, 4.1, 3.1, 3.4, 5.6]))"
   ]
  },
  {
   "cell_type": "markdown",
   "id": "3d98f327",
   "metadata": {},
   "source": [
    "## ANOVA\n",
    "ANOVA one-way analysis of variance는 2개 이상의 독립된 그룹 간의 평균에 통계적으로 유의미한 차이가 있는지 판단하는 기법.    \n",
    "ANOVA는 SPSS, SAS, R 등에서는 지원되고 있지만, Spark에는 ANOVA 모듈이 없다. Python에서는 statsmodel을 사용하면 된다."
   ]
  },
  {
   "cell_type": "code",
   "execution_count": 86,
   "id": "b6d8fc62",
   "metadata": {},
   "outputs": [
    {
     "data": {
      "text/html": [
       "<div>\n",
       "<style scoped>\n",
       "    .dataframe tbody tr th:only-of-type {\n",
       "        vertical-align: middle;\n",
       "    }\n",
       "\n",
       "    .dataframe tbody tr th {\n",
       "        vertical-align: top;\n",
       "    }\n",
       "\n",
       "    .dataframe thead th {\n",
       "        text-align: right;\n",
       "    }\n",
       "</style>\n",
       "<table border=\"1\" class=\"dataframe\">\n",
       "  <thead>\n",
       "    <tr style=\"text-align: right;\">\n",
       "      <th></th>\n",
       "      <th>partner.status</th>\n",
       "      <th>conformity</th>\n",
       "      <th>fcategory</th>\n",
       "      <th>fscore</th>\n",
       "    </tr>\n",
       "  </thead>\n",
       "  <tbody>\n",
       "    <tr>\n",
       "      <th>0</th>\n",
       "      <td>low</td>\n",
       "      <td>8</td>\n",
       "      <td>low</td>\n",
       "      <td>37</td>\n",
       "    </tr>\n",
       "    <tr>\n",
       "      <th>1</th>\n",
       "      <td>low</td>\n",
       "      <td>4</td>\n",
       "      <td>high</td>\n",
       "      <td>57</td>\n",
       "    </tr>\n",
       "    <tr>\n",
       "      <th>2</th>\n",
       "      <td>low</td>\n",
       "      <td>8</td>\n",
       "      <td>high</td>\n",
       "      <td>65</td>\n",
       "    </tr>\n",
       "    <tr>\n",
       "      <th>3</th>\n",
       "      <td>low</td>\n",
       "      <td>7</td>\n",
       "      <td>low</td>\n",
       "      <td>20</td>\n",
       "    </tr>\n",
       "    <tr>\n",
       "      <th>4</th>\n",
       "      <td>low</td>\n",
       "      <td>10</td>\n",
       "      <td>low</td>\n",
       "      <td>36</td>\n",
       "    </tr>\n",
       "  </tbody>\n",
       "</table>\n",
       "</div>"
      ],
      "text/plain": [
       "  partner.status  conformity fcategory  fscore\n",
       "0            low           8       low      37\n",
       "1            low           4      high      57\n",
       "2            low           8      high      65\n",
       "3            low           7       low      20\n",
       "4            low          10       low      36"
      ]
     },
     "execution_count": 86,
     "metadata": {},
     "output_type": "execute_result"
    }
   ],
   "source": [
    "import statsmodels.api as sm\n",
    "\n",
    "moore=sm.datasets.get_rdataset(\"Moore\",\"carData\") #샘플데이터셋\n",
    "moore.data.head()"
   ]
  },
  {
   "cell_type": "code",
   "execution_count": 87,
   "id": "6b3bf487",
   "metadata": {},
   "outputs": [
    {
     "data": {
      "text/plain": [
       "Index(['status', 'conformity', 'fcategory', 'fscore'], dtype='object')"
      ]
     },
     "execution_count": 87,
     "metadata": {},
     "output_type": "execute_result"
    }
   ],
   "source": [
    "moore.data.columns=['status','conformity', 'fcategory', 'fscore'] #컬럼명 리네이밍\n",
    "moore.data.columns"
   ]
  },
  {
   "cell_type": "markdown",
   "id": "252a8b37",
   "metadata": {},
   "source": [
    "#### fit() : 모델 적용"
   ]
  },
  {
   "cell_type": "code",
   "execution_count": 88,
   "id": "d909489e",
   "metadata": {},
   "outputs": [],
   "source": [
    "# R 스타일 모델링\n",
    "# R 스타일에 따라 종속변수 fscore, 독립변수 status, fcategory로 모델링한다. 이때 명목변수는 C() 연산자를 사용한다.\n",
    "from statsmodels.formula.api import ols\n",
    "\n",
    "formula='fscore~C(status)*C(fcategory)'\n",
    "model=ols(formula, data=moore.data).fit()"
   ]
  },
  {
   "cell_type": "markdown",
   "id": "1c2638b1",
   "metadata": {},
   "source": [
    "ANOVA는 2개 이상의 그룹의 평균에 차이가 있는지 비교할 때 사용한다. 독립변수의 수가 1개 이면 one-way, 2개 이면 two-way ANOVA라고 한다.\n",
    "\n",
    "귀무가설은 그룹의 평균에는 서로 차이가 없다.\n",
    "= 대체가설은 그룹의 평균에는 서로 차이가 있다."
   ]
  },
  {
   "cell_type": "code",
   "execution_count": 89,
   "id": "ca0ccb75",
   "metadata": {},
   "outputs": [
    {
     "data": {
      "text/html": [
       "<div>\n",
       "<style scoped>\n",
       "    .dataframe tbody tr th:only-of-type {\n",
       "        vertical-align: middle;\n",
       "    }\n",
       "\n",
       "    .dataframe tbody tr th {\n",
       "        vertical-align: top;\n",
       "    }\n",
       "\n",
       "    .dataframe thead th {\n",
       "        text-align: right;\n",
       "    }\n",
       "</style>\n",
       "<table border=\"1\" class=\"dataframe\">\n",
       "  <thead>\n",
       "    <tr style=\"text-align: right;\">\n",
       "      <th></th>\n",
       "      <th>df</th>\n",
       "      <th>sum_sq</th>\n",
       "      <th>mean_sq</th>\n",
       "      <th>F</th>\n",
       "      <th>PR(&gt;F)</th>\n",
       "    </tr>\n",
       "  </thead>\n",
       "  <tbody>\n",
       "    <tr>\n",
       "      <th>C(status)</th>\n",
       "      <td>1.0</td>\n",
       "      <td>7.932587</td>\n",
       "      <td>7.932587</td>\n",
       "      <td>0.231555</td>\n",
       "      <td>6.330623e-01</td>\n",
       "    </tr>\n",
       "    <tr>\n",
       "      <th>C(fcategory)</th>\n",
       "      <td>2.0</td>\n",
       "      <td>7561.365635</td>\n",
       "      <td>3780.682818</td>\n",
       "      <td>110.359336</td>\n",
       "      <td>8.768957e-17</td>\n",
       "    </tr>\n",
       "    <tr>\n",
       "      <th>C(status):C(fcategory)</th>\n",
       "      <td>2.0</td>\n",
       "      <td>29.086807</td>\n",
       "      <td>14.543403</td>\n",
       "      <td>0.424527</td>\n",
       "      <td>6.570656e-01</td>\n",
       "    </tr>\n",
       "    <tr>\n",
       "      <th>Residual</th>\n",
       "      <td>39.0</td>\n",
       "      <td>1336.059416</td>\n",
       "      <td>34.257934</td>\n",
       "      <td>NaN</td>\n",
       "      <td>NaN</td>\n",
       "    </tr>\n",
       "  </tbody>\n",
       "</table>\n",
       "</div>"
      ],
      "text/plain": [
       "                          df       sum_sq      mean_sq           F  \\\n",
       "C(status)                1.0     7.932587     7.932587    0.231555   \n",
       "C(fcategory)             2.0  7561.365635  3780.682818  110.359336   \n",
       "C(status):C(fcategory)   2.0    29.086807    14.543403    0.424527   \n",
       "Residual                39.0  1336.059416    34.257934         NaN   \n",
       "\n",
       "                              PR(>F)  \n",
       "C(status)               6.330623e-01  \n",
       "C(fcategory)            8.768957e-17  \n",
       "C(status):C(fcategory)  6.570656e-01  \n",
       "Residual                         NaN  "
      ]
     },
     "execution_count": 89,
     "metadata": {},
     "output_type": "execute_result"
    }
   ],
   "source": [
    "from statsmodels.stats.anova import anova_lm\n",
    "\n",
    "result = anova_lm(model)\n",
    "result\n",
    "\n",
    "# fcategory의 PR이 0.05보다 적다. 즉 fcategory high, low, medium의 그룹 간 유의미하게 평균의 차이가 있다는 의미이다. \n",
    "# 그외 status 변인, 그리고 상호작용 status x fcategory는 유의하지 않다.\n"
   ]
  },
  {
   "cell_type": "code",
   "execution_count": 91,
   "id": "b30b47c2",
   "metadata": {},
   "outputs": [],
   "source": [
    "moorePd = moore.data"
   ]
  },
  {
   "cell_type": "code",
   "execution_count": 92,
   "id": "6fd8a4c3",
   "metadata": {},
   "outputs": [
    {
     "data": {
      "text/plain": [
       "fcategory\n",
       "high      58.533333\n",
       "low       26.933333\n",
       "medium    43.866667\n",
       "Name: fscore, dtype: float64"
      ]
     },
     "execution_count": 92,
     "metadata": {},
     "output_type": "execute_result"
    }
   ],
   "source": [
    "moorePd.groupby('fcategory')['fscore'].mean() # 평균 구하기"
   ]
  },
  {
   "cell_type": "code",
   "execution_count": 93,
   "id": "5a4bdf45",
   "metadata": {},
   "outputs": [
    {
     "data": {
      "text/plain": [
       "<AxesSubplot:>"
      ]
     },
     "execution_count": 93,
     "metadata": {},
     "output_type": "execute_result"
    },
    {
     "data": {
      "image/png": "[encoded data removed]",
      "text/plain": [
       "<Figure size 640x480 with 1 Axes>"
      ]
     },
     "metadata": {},
     "output_type": "display_data"
    }
   ],
   "source": [
    "moorePd.boxplot()"
   ]
  },
  {
   "cell_type": "code",
   "execution_count": 94,
   "id": "35288301",
   "metadata": {},
   "outputs": [
    {
     "data": {
      "text/plain": [
       "<AxesSubplot:title={'center':'fscore by fcategory'}, xlabel='fcategory'>"
      ]
     },
     "execution_count": 94,
     "metadata": {},
     "output_type": "execute_result"
    },
    {
     "data": {
      "image/png": "[encoded data removed]",
      "text/plain": [
       "<Figure size 640x480 with 1 Axes>"
      ]
     },
     "metadata": {},
     "output_type": "display_data"
    }
   ],
   "source": [
    "_fscore = moorePd.groupby('fcategory')['fscore'].mean()\n",
    "_fscore.plot(x=\"fcategory\", y=_fscore,  title=\"fscore by fcategory\")"
   ]
  },
  {
   "cell_type": "markdown",
   "id": "4fc5099a",
   "metadata": {},
   "source": [
    "# <빈도 분석>\n",
    "명목변수별로 빈도를 계산하고 차이 계산   \n",
    "명목변수 : 문자로 표현되는 변수, 명목변수에 대해서는 평균, 표준편차와 같은 통계량을 계산하는 것은 의미가 없다."
   ]
  },
  {
   "cell_type": "code",
   "execution_count": 95,
   "id": "960b187a",
   "metadata": {},
   "outputs": [],
   "source": [
    "names = [\"kim\",\"lee\",\"park\",\"lim\"]\n",
    "items = [\"espresso\",\"latte\",\"americano\",\"affocato\",\"long black\",\"macciato\"]\n",
    "\n",
    "# 500개의 데이터 임의로 만들기\n",
    "coffeeDf = spark.createDataFrame([(names[i%4], items[i%6]) for i in range(500)],\\\n",
    "                           [\"name\",\"coffee\"])"
   ]
  },
  {
   "cell_type": "code",
   "execution_count": 96,
   "id": "f5012e0f",
   "metadata": {},
   "outputs": [
    {
     "name": "stdout",
     "output_type": "stream",
     "text": [
      "+-------+----+--------+\n",
      "|summary|name|  coffee|\n",
      "+-------+----+--------+\n",
      "|  count| 500|     500|\n",
      "|   mean|null|    null|\n",
      "| stddev|null|    null|\n",
      "|    min| kim|affocato|\n",
      "|    max|park|macciato|\n",
      "+-------+----+--------+\n",
      "\n"
     ]
    }
   ],
   "source": [
    "#명목변수는 통계량 무의미\n",
    "coffeeDf.describe().show()"
   ]
  },
  {
   "cell_type": "code",
   "execution_count": 97,
   "id": "fb3de4d9",
   "metadata": {},
   "outputs": [
    {
     "name": "stdout",
     "output_type": "stream",
     "text": [
      "+----+--------+---------+--------+-----+----------+--------+\n",
      "|name|affocato|americano|espresso|latte|long black|macciato|\n",
      "+----+--------+---------+--------+-----+----------+--------+\n",
      "|park|    null|       42|      42| null|        41|    null|\n",
      "| lim|      42|     null|    null|   42|      null|      41|\n",
      "| kim|    null|       41|      42| null|        42|    null|\n",
      "| lee|      41|     null|    null|   42|      null|      42|\n",
      "+----+--------+---------+--------+-----+----------+--------+\n",
      "\n",
      "+-----------+--------+---------+--------+-----+----------+--------+\n",
      "|name_coffee|affocato|americano|espresso|latte|long black|macciato|\n",
      "+-----------+--------+---------+--------+-----+----------+--------+\n",
      "|       park|       0|       42|      42|    0|        41|       0|\n",
      "|        lim|      42|        0|       0|   42|         0|      41|\n",
      "|        kim|       0|       41|      42|    0|        42|       0|\n",
      "|        lee|      41|        0|       0|   42|         0|      42|\n",
      "+-----------+--------+---------+--------+-----+----------+--------+\n",
      "\n"
     ]
    }
   ],
   "source": [
    "# crosstab\n",
    "coffeeDf.groupBy('name').pivot('coffee').count().show()\n",
    "coffeeDf.stat.crosstab(\"name\", \"coffee\").show()"
   ]
  },
  {
   "cell_type": "code",
   "execution_count": 98,
   "id": "4fcb6eb4",
   "metadata": {},
   "outputs": [
    {
     "name": "stdout",
     "output_type": "stream",
     "text": [
      "+--------------+-----------------+\n",
      "|name_freqItems| coffee_freqItems|\n",
      "+--------------+-----------------+\n",
      "|   [park, lim]|[latte, espresso]|\n",
      "+--------------+-----------------+\n",
      "\n"
     ]
    }
   ],
   "source": [
    "# freqItems()\n",
    "freq = coffeeDf.stat.freqItems([\"name\",\"coffee\"], 0.5)\n",
    "freq.show()"
   ]
  },
  {
   "cell_type": "markdown",
   "id": "ebbba433",
   "metadata": {},
   "source": [
    "## Chi Square\n",
    "Chi-Square 테스트는 label와 features 서로 상관관계가 있는지 검증하는 비모수 추정방법이다. feature의 발생이 label과 어떤 관련이 있는지 추정하는 것이다. 단 label, features 모두 명목변수이어야 한다."
   ]
  },
  {
   "cell_type": "code",
   "execution_count": 99,
   "id": "1d8c729e",
   "metadata": {},
   "outputs": [
    {
     "name": "stdout",
     "output_type": "stream",
     "text": [
      "root\n",
      " |-- name: string (nullable = true)\n",
      " |-- coffee: string (nullable = true)\n",
      "\n"
     ]
    }
   ],
   "source": [
    "coffeeDf.printSchema()"
   ]
  },
  {
   "cell_type": "markdown",
   "id": "646ff5f7",
   "metadata": {},
   "source": [
    "### 1. label을 수로 변환 (이름 -> Label(실수))\n",
    "label, features 모두 명목변수이지만, 문자가 아니라 수와 벡터로 각 각 변환되어야 한다."
   ]
  },
  {
   "cell_type": "code",
   "execution_count": 100,
   "id": "ffc2bd64",
   "metadata": {},
   "outputs": [
    {
     "name": "stdout",
     "output_type": "stream",
     "text": [
      "root\n",
      " |-- name: string (nullable = true)\n",
      " |-- coffee: string (nullable = true)\n",
      "\n",
      "root\n",
      " |-- name: string (nullable = true)\n",
      " |-- coffee: string (nullable = true)\n",
      " |-- label: double (nullable = false)\n",
      "\n",
      "+----+---------+-----+\n",
      "|name|   coffee|label|\n",
      "+----+---------+-----+\n",
      "| kim| espresso|  0.0|\n",
      "| lee|    latte|  1.0|\n",
      "|park|americano|  3.0|\n",
      "| lim| affocato|  2.0|\n",
      "+----+---------+-----+\n",
      "only showing top 4 rows\n",
      "\n"
     ]
    }
   ],
   "source": [
    "from pyspark.ml.feature import StringIndexer #Dataframe 전용 <-> mllib\n",
    "\n",
    "coffeeDf.printSchema()\n",
    "labelIndexer = StringIndexer(inputCol=\"name\", outputCol=\"label\")\n",
    "model=labelIndexer.fit(coffeeDf) #모델 적용!\n",
    "_coffeeDf=model.transform(coffeeDf) #변환!\n",
    "\n",
    "\n",
    "_coffeeDf.printSchema()\n",
    "_coffeeDf.show(4)"
   ]
  },
  {
   "cell_type": "markdown",
   "id": "01939e09",
   "metadata": {},
   "source": [
    "### 2. Feature를 벡터로 변환"
   ]
  },
  {
   "cell_type": "code",
   "execution_count": 101,
   "id": "6c32f6ab",
   "metadata": {},
   "outputs": [],
   "source": [
    "featureIndexer = StringIndexer(inputCol=\"coffee\", outputCol=\"_features\")\n",
    "model=featureIndexer.fit(_coffeeDf)\n",
    "_coffeeDf=model.transform(_coffeeDf)"
   ]
  },
  {
   "cell_type": "code",
   "execution_count": 102,
   "id": "c0da3e29",
   "metadata": {},
   "outputs": [],
   "source": [
    "from pyspark.ml.feature import VectorAssembler\n",
    "\n",
    "va = VectorAssembler(inputCols=[\"_features\"], outputCol=\"features\")\n",
    "_coffeeDf = va.transform(_coffeeDf)"
   ]
  },
  {
   "cell_type": "code",
   "execution_count": 103,
   "id": "bdbf1797",
   "metadata": {},
   "outputs": [
    {
     "name": "stdout",
     "output_type": "stream",
     "text": [
      "root\n",
      " |-- name: string (nullable = true)\n",
      " |-- coffee: string (nullable = true)\n",
      " |-- label: double (nullable = false)\n",
      " |-- _features: double (nullable = false)\n",
      " |-- features: vector (nullable = true)\n",
      "\n",
      "+----+----------+-----+---------+--------+\n",
      "|name|    coffee|label|_features|features|\n",
      "+----+----------+-----+---------+--------+\n",
      "| kim|  espresso|  0.0|      0.0|   [0.0]|\n",
      "| lee|     latte|  1.0|      1.0|   [1.0]|\n",
      "|park| americano|  3.0|      3.0|   [3.0]|\n",
      "| lim|  affocato|  2.0|      2.0|   [2.0]|\n",
      "| kim|long black|  0.0|      4.0|   [4.0]|\n",
      "+----+----------+-----+---------+--------+\n",
      "only showing top 5 rows\n",
      "\n"
     ]
    }
   ],
   "source": [
    "# 다음은 수를 벡터로 변환한다. inputCols에는 리스트를 적어준다\n",
    "_coffeeDf.printSchema()\n",
    "_coffeeDf.show(5)"
   ]
  },
  {
   "cell_type": "markdown",
   "id": "28447084",
   "metadata": {},
   "source": [
    "### 3. ChiSquateTest"
   ]
  },
  {
   "cell_type": "code",
   "execution_count": 104,
   "id": "6d05e75f",
   "metadata": {},
   "outputs": [
    {
     "name": "stdout",
     "output_type": "stream",
     "text": [
      "+-------+----------------+-------------------+\n",
      "|pValues|degreesOfFreedom|         statistics|\n",
      "+-------+----------------+-------------------+\n",
      "|  [0.0]|            [15]|[500.0963855421687]|\n",
      "+-------+----------------+-------------------+\n",
      "\n"
     ]
    }
   ],
   "source": [
    "from pyspark.ml.stat import ChiSquareTest\n",
    "r = ChiSquareTest.test(_coffeeDf, \"features\", \"label\")\n",
    "\n",
    "r.show()"
   ]
  },
  {
   "cell_type": "markdown",
   "id": "ba6b92d8",
   "metadata": {},
   "source": [
    "# 상관관계\n",
    "상관관계는 변수 간에 서로 어떤 관계가 있는지, 그 변화의 방향, 강도를 나타낸다.\n",
    "\n",
    "연속 변수들이 서로 커지거나 작아지거나 하는 의미를 관계를 표현한다.\n",
    "\n",
    "명목변수와의 상관관계를 계산하는 것은 의미가 있지 않고, 앞서 배웠던 빈도분석을 하는 것이 좋겠다.\n",
    "\n",
    "단, 서로 상관관계가 있다고 해서 인과관계가 있다는 의미는 아니다.\n",
    "\n",
    "키와 몸무게가 서로 상관관계가 있다고 하자. 키가 원인이 되어서 몸무게가 결과로 올라간다고 가정해서는 안된다는 것이다. 담배와 암의 상관관계의 상관관계 높다. 그리고 담배가 암을 유발하는 관계이지만, 이러한 방향을 말해주는 것은 아니다.\n",
    "\n",
    "맥주와 선풍기의 매출은 서로 상관관계가 있다. 그렇다고 해서 선풍기의 매출이 원인이 되어 맥주의 매출을 올린 것은 아니다. 더워져서 선풍기와 맥주의 매출이 올라간 것으로 이해해야 한다. 또 교통상황과 약속지체는 상관관계가 있다. 교통이 막히면 약속이 늦어지는 것은 맞다. 그렇다고 해서 약속이 늦어진다고 교통이 막히는 것은 아니다.\n",
    "\n",
    "- (+)변수가 서로 같은 방향으로 변동, 숫자가 클수록 강도가 크며 반대로 적을수록 적다.\n",
    "- 0 변수가 서로 영향을 주지 않음\n",
    "- (-) 변수가 서로 다른 방향으로 변동\n",
    "\n",
    "### 상관관계는 공분산 covariance를 표준편차의 곱으로 나눈 값으로 계산한다."
   ]
  },
  {
   "cell_type": "code",
   "execution_count": 105,
   "id": "c19c3fc4",
   "metadata": {},
   "outputs": [],
   "source": [
    "X=[10,7,12,12,9,16,12,18,8,12,14,16]\n",
    "Y=[6,4,7,8,10,7,10,15,5,6,11,13]"
   ]
  },
  {
   "cell_type": "code",
   "execution_count": 106,
   "id": "26a43819",
   "metadata": {},
   "outputs": [
    {
     "data": {
      "image/png": "[encoded data removed]",
      "text/plain": [
       "<Figure size 640x480 with 1 Axes>"
      ]
     },
     "metadata": {},
     "output_type": "display_data"
    }
   ],
   "source": [
    "%matplotlib inline\n",
    "\n",
    "from matplotlib import pyplot as plt\n",
    "\n",
    "plt.title('correlation')\n",
    "plt.plot(X, Y, 'go')\n",
    "plt.ylabel('Y')\n",
    "\n",
    "plt.show()"
   ]
  },
  {
   "cell_type": "markdown",
   "id": "82db2a9d",
   "metadata": {},
   "source": [
    "### Scatter\n",
    "X, Y 변수의 상관관계를 산포해보자."
   ]
  },
  {
   "cell_type": "code",
   "execution_count": 107,
   "id": "96cc9fd5",
   "metadata": {},
   "outputs": [
    {
     "data": {
      "image/png": "[encoded data removed]",
      "text/plain": [
       "<Figure size 640x480 with 1 Axes>"
      ]
     },
     "metadata": {},
     "output_type": "display_data"
    }
   ],
   "source": [
    "import matplotlib as mpl\n",
    "import matplotlib.pyplot as plt\n",
    "\n",
    "fig, ax = plt.subplots(1, 1) # 1x1\n",
    "ax.title.set_text('Corelation')\n",
    "ax.scatter(X, Y)\n",
    "ax.get_yaxis().set_minor_locator(mpl.ticker.AutoMinorLocator(1)) #y 보조 눈금 죄소값\n",
    "ax.get_xaxis().set_minor_locator(mpl.ticker.AutoMinorLocator(3)) #x 보조 눈금 최소값\n",
    "ax.grid(which='major', color='y', linewidth=0.5)\n",
    "ax.grid(which='minor', color='b', linewidth=0.5)"
   ]
  },
  {
   "cell_type": "markdown",
   "id": "7fab57e2",
   "metadata": {},
   "source": [
    "### Numpy 공분산 계산\n",
    "공분산의 부호는 두 변수가 같은 방향으로 움직이는지 여부를 파악한다. '0'일 시 독립적관계   \n",
    "자기 자신과의 관계를 표현하는 요소와, 다른 요소와의 관계를 표현하는 요소로 벡터 형태로 결과"
   ]
  },
  {
   "cell_type": "code",
   "execution_count": 108,
   "id": "4cd2db44",
   "metadata": {},
   "outputs": [
    {
     "name": "stdout",
     "output_type": "stream",
     "text": [
      "np cov=\n",
      " [[11.42424242  8.45454545]\n",
      " [ 8.45454545 11.18181818]]\n"
     ]
    }
   ],
   "source": [
    "print (\"np cov=\\n\",np.cov(X,Y))"
   ]
  },
  {
   "cell_type": "code",
   "execution_count": 109,
   "id": "6b07700a",
   "metadata": {},
   "outputs": [
    {
     "name": "stdout",
     "output_type": "stream",
     "text": [
      "11.424242424242424\n",
      "11.181818181818182\n"
     ]
    }
   ],
   "source": [
    "print (np.sum( (X-np.mean(X))**2) / (len(X)-1))\n",
    "print (np.sum( (Y-np.mean(Y))**2) / (len(Y)-1))"
   ]
  },
  {
   "cell_type": "code",
   "execution_count": 110,
   "id": "a00c9582",
   "metadata": {},
   "outputs": [
    {
     "name": "stdout",
     "output_type": "stream",
     "text": [
      "npcov of X 11.424242424242424\n",
      "npcov of Y 11.181818181818182\n"
     ]
    }
   ],
   "source": [
    "# 자신에 대한 공분산\n",
    "print (\"npcov of X\", np.cov(X)) #sum( [ (x-xbar)**2 for x in X ])/(len(X)-1)\n",
    "print (\"npcov of Y\", np.cov(Y))"
   ]
  },
  {
   "cell_type": "markdown",
   "id": "dcf5af6d",
   "metadata": {},
   "source": [
    "# 상관관계 계산\n",
    "\n",
    "상관관계는 공분산을 표준편차의 곱으로 나누어서 계산한다."
   ]
  },
  {
   "cell_type": "code",
   "execution_count": 111,
   "id": "2173a590",
   "metadata": {},
   "outputs": [
    {
     "name": "stdout",
     "output_type": "stream",
     "text": [
      "corr:  0.7480322896763185\n"
     ]
    }
   ],
   "source": [
    "import numpy as np\n",
    "\n",
    "xbar=np.mean(X)\n",
    "ybar=np.mean(Y)\n",
    "sx=np.sqrt(np.var(X,ddof=1))\n",
    "sy=np.sqrt(np.var(Y,ddof=1))\n",
    "covxy=sum( [ (x-xbar)*(y-ybar) for x,y in zip(X,Y) ]) / (len(X)-1)\n",
    "rxy=covxy/(sx*sy)\n",
    "print (\"corr: \",rxy)"
   ]
  },
  {
   "cell_type": "markdown",
   "id": "a39bab64",
   "metadata": {},
   "source": [
    "## 상관관계(ZScore 이용)"
   ]
  },
  {
   "cell_type": "code",
   "execution_count": 112,
   "id": "2776d59c",
   "metadata": {},
   "outputs": [
    {
     "name": "stdout",
     "output_type": "stream",
     "text": [
      "0.7480322896763183\n"
     ]
    }
   ],
   "source": [
    "from scipy.stats import skew\n",
    "\n",
    "print(sum (stats.zscore(X) * stats.zscore(Y))/len(X))"
   ]
  },
  {
   "cell_type": "markdown",
   "id": "bb1a08a4",
   "metadata": {},
   "source": [
    "# scipy\n",
    "### 상관관계 계산 라이브러리  \n",
    "\n",
    "scipy 라이브러리를 사용하여 pearson 상관관계를 계산해보자. 상관관계는 앞서 계산과 동일하며, 양측 확률이 같이 출력되고 있다 (two-tailed p-value).\n",
    "\n",
    "Pearson 상관관계는 정규분포인 경우,\n",
    "Spearman 상관관계는 정규분포가 아닌 경우 사용한다."
   ]
  },
  {
   "cell_type": "code",
   "execution_count": 113,
   "id": "73095c43",
   "metadata": {},
   "outputs": [],
   "source": [
    "import scipy.stats as stats\n",
    "\n",
    "import numpy as np\n",
    "xx=np.random.normal(0,1,100)\n",
    "yy=np.random.normal(0,1,100)\n",
    "\n",
    "# statistic : 관계의 강함\n",
    "# pvalue : 통계적 신뢰도 (0.05)"
   ]
  },
  {
   "cell_type": "code",
   "execution_count": 114,
   "id": "5321652c",
   "metadata": {},
   "outputs": [
    {
     "data": {
      "text/plain": [
       "PearsonRResult(statistic=0.7480322896763183, pvalue=0.0051443764140137495)"
      ]
     },
     "execution_count": 114,
     "metadata": {},
     "output_type": "execute_result"
    }
   ],
   "source": [
    "stats.pearsonr(X,Y) #정규분포 따르는 경우(연속변수+표본(N>30)+중심극한정리 만족)"
   ]
  },
  {
   "cell_type": "code",
   "execution_count": 115,
   "id": "c657cdab",
   "metadata": {},
   "outputs": [
    {
     "data": {
      "text/plain": [
       "SpearmanrResult(correlation=0.009408940894089408, pvalue=0.9259762401472473)"
      ]
     },
     "execution_count": 115,
     "metadata": {},
     "output_type": "execute_result"
    }
   ],
   "source": [
    "stats.spearmanr(xx,yy) #정규분포 아닌 경우"
   ]
  },
  {
   "cell_type": "code",
   "execution_count": 116,
   "id": "3355b15a",
   "metadata": {},
   "outputs": [
    {
     "data": {
      "text/plain": [
       "KendalltauResult(correlation=0.004444444444444445, pvalue=0.9477611219146415)"
      ]
     },
     "execution_count": 116,
     "metadata": {},
     "output_type": "execute_result"
    }
   ],
   "source": [
    "# 비모수 추저방법으로 등위에 의한 상관관계(위와 결과 유사)\n",
    "stats.kendalltau(xx,yy)"
   ]
  },
  {
   "cell_type": "markdown",
   "id": "ba87cd2f",
   "metadata": {},
   "source": [
    "## Spark로 상관관계 파악하기\n",
    "컬럼 서로간의 상관관계 계산하기"
   ]
  },
  {
   "cell_type": "code",
   "execution_count": 117,
   "id": "cf61ed15",
   "metadata": {},
   "outputs": [
    {
     "name": "stdout",
     "output_type": "stream",
     "text": [
      "0.13506684062243296\n"
     ]
    }
   ],
   "source": [
    "from pyspark.sql.functions import rand\n",
    "\n",
    "df = spark.range(0, 10).withColumn('rand1', rand(seed=10)).withColumn('rand2', rand(seed=27))\n",
    "print (df.stat.corr('rand1', 'rand2'))"
   ]
  },
  {
   "cell_type": "markdown",
   "id": "a3975473",
   "metadata": {},
   "source": [
    "# 상관관계 표"
   ]
  },
  {
   "cell_type": "code",
   "execution_count": 118,
   "id": "2d18ccd9",
   "metadata": {},
   "outputs": [],
   "source": [
    "import numpy as np\n",
    "\n",
    "a=np.array([0.1, .32, .2, 0.4, 0.8])\n",
    "b=np.array([.23, .18, .56, .61, .12])\n",
    "c=np.array([.9, .3, .6, .5, .3])\n",
    "d=np.array([.34, .75, .91, .19, .21])"
   ]
  },
  {
   "cell_type": "code",
   "execution_count": 119,
   "id": "0372490f",
   "metadata": {},
   "outputs": [
    {
     "data": {
      "text/plain": [
       "array([[ 1.        , -0.35153114, -0.74736506, -0.48917666],\n",
       "       [-0.35153114,  1.        ,  0.23810227,  0.15958285],\n",
       "       [-0.74736506,  0.23810227,  1.        , -0.03960706],\n",
       "       [-0.48917666,  0.15958285, -0.03960706,  1.        ]])"
      ]
     },
     "execution_count": 119,
     "metadata": {},
     "output_type": "execute_result"
    }
   ],
   "source": [
    "np.corrcoef([a,b,c,d])\n",
    "\n",
    "# 자기 자신과는 1, 대칭행렬, 0.74는 상다히 큰 관계, 0.15 : 흩어져 있는 관계"
   ]
  },
  {
   "cell_type": "markdown",
   "id": "3009199c",
   "metadata": {},
   "source": [
    "<hr>\n",
    "\n",
    "# 문제 : 키, 몸무게 상관관계"
   ]
  },
  {
   "cell_type": "code",
   "execution_count": 120,
   "id": "b8e38dbc",
   "metadata": {},
   "outputs": [],
   "source": [
    "from pyspark.sql.types import StructType, StructField, StringType, DoubleType\n",
    "\n",
    "_schema = StructType([\n",
    "    StructField(\"id\", StringType(), True),\n",
    "    StructField(\"height\", DoubleType(), True),\n",
    "    StructField(\"weight\", DoubleType(), True)\n",
    "])"
   ]
  },
  {
   "cell_type": "markdown",
   "id": "18090467",
   "metadata": {},
   "source": [
    "### 1. DataFrame 생성"
   ]
  },
  {
   "cell_type": "code",
   "execution_count": 121,
   "id": "b48c069e",
   "metadata": {},
   "outputs": [],
   "source": [
    "import os\n",
    "tDf = spark\\\n",
    "    .read\\\n",
    "    .options(header='false', delimiter='\\t')\\\n",
    "    .schema(_schema)\\\n",
    "    .csv(os.path.join('data', 'ds_spark_heightweight.txt'))"
   ]
  },
  {
   "cell_type": "code",
   "execution_count": 122,
   "id": "49f292b9",
   "metadata": {},
   "outputs": [
    {
     "name": "stdout",
     "output_type": "stream",
     "text": [
      "root\n",
      " |-- id: string (nullable = true)\n",
      " |-- height: double (nullable = true)\n",
      " |-- weight: double (nullable = true)\n",
      "\n",
      "+---+------+------+\n",
      "| id|height|weight|\n",
      "+---+------+------+\n",
      "|  1| 65.78|112.99|\n",
      "|  2| 71.52|136.49|\n",
      "|  3|  69.4|153.03|\n",
      "+---+------+------+\n",
      "only showing top 3 rows\n",
      "\n"
     ]
    }
   ],
   "source": [
    "tDf.printSchema()\n",
    "\n",
    "tDf.show(3)"
   ]
  },
  {
   "cell_type": "markdown",
   "id": "376cb3fa",
   "metadata": {},
   "source": [
    "### 2. BMI 컬럼 생성"
   ]
  },
  {
   "cell_type": "code",
   "execution_count": 123,
   "id": "d94ec53b",
   "metadata": {},
   "outputs": [
    {
     "name": "stdout",
     "output_type": "stream",
     "text": [
      "+---+------+------+------------------+\n",
      "| id|height|weight|               bmi|\n",
      "+---+------+------+------------------+\n",
      "|  1| 65.78|112.99|18.357248855814564|\n",
      "|  2| 71.52|136.49| 18.75863128975672|\n",
      "|  3|  69.4|153.03| 22.33638889119584|\n",
      "+---+------+------+------------------+\n",
      "only showing top 3 rows\n",
      "\n"
     ]
    }
   ],
   "source": [
    "from pyspark.sql import functions as F\n",
    "\n",
    "_tDf = tDf.withColumn(\"bmi\", 703 * F.col('weight') / F.pow(F.col('height'), 2))\n",
    "\n",
    "\n",
    "_tDf.show(3)"
   ]
  },
  {
   "cell_type": "markdown",
   "id": "a87521c5",
   "metadata": {},
   "source": [
    "### 3. BMI 구분별 건수"
   ]
  },
  {
   "cell_type": "code",
   "execution_count": 124,
   "id": "72893121",
   "metadata": {},
   "outputs": [],
   "source": [
    "def getBmi(bmi):\n",
    "    category = \"\";\n",
    "    if bmi < 18.5:\n",
    "        category = \"underweight\"\n",
    "    elif bmi >= 18.5 and bmi < 25:\n",
    "        category = \"normal\"\n",
    "    elif bmi >= 25 and bmi < 30:\n",
    "        category = \"overweight\"\n",
    "    elif bmi >= 30 and bmi < 35:\n",
    "        category = \"Obese Class I\"\n",
    "    elif bmi >= 35 and bmi < 40:\n",
    "        category = \"Obese Class II\"\n",
    "    elif bmi >= 40:\n",
    "        category = \"Obese Class III\"\n",
    "    else:\n",
    "        category = \"error\"\n",
    "    return category\n",
    "\n",
    "getBmiUdf = F.udf(lambda x: getBmi(x), StringType())"
   ]
  },
  {
   "cell_type": "code",
   "execution_count": 125,
   "id": "f7d34518",
   "metadata": {},
   "outputs": [
    {
     "name": "stdout",
     "output_type": "stream",
     "text": [
      "+------------+-----+\n",
      "|bmi category|count|\n",
      "+------------+-----+\n",
      "|      normal|   39|\n",
      "| underweight|   11|\n",
      "+------------+-----+\n",
      "\n"
     ]
    }
   ],
   "source": [
    "_tDf = _tDf.withColumn(\"bmi category\", getBmiUdf('bmi'))\n",
    "_tDf.groupBy(\"bmi category\").count().show()"
   ]
  },
  {
   "cell_type": "markdown",
   "id": "89a0e4f6",
   "metadata": {},
   "source": [
    "### 4. weigth와 height의 Zscore 계산"
   ]
  },
  {
   "cell_type": "code",
   "execution_count": 126,
   "id": "3a4df7ac",
   "metadata": {},
   "outputs": [],
   "source": [
    "from pyspark.sql.window import Window\n",
    "import sys\n",
    "\n",
    "byAll = Window.rowsBetween(-sys.maxsize, sys.maxsize) #윈도우 함수 범위 지정"
   ]
  },
  {
   "cell_type": "code",
   "execution_count": 127,
   "id": "029170e1",
   "metadata": {},
   "outputs": [
    {
     "name": "stdout",
     "output_type": "stream",
     "text": [
      "+---+------+------+-------+------------------+-------------------+\n",
      "| id|height|weight|  meanW|           stddevW|            zscoreW|\n",
      "+---+------+------+-------+------------------+-------------------+\n",
      "|  1| 65.78|112.99|128.842|12.888888902572523|-1.2298965504184058|\n",
      "|  2| 71.52|136.49|128.842|12.888888902572523| 0.5933793097148594|\n",
      "|  3|  69.4|153.03|128.842|12.888888902572523|   1.87665517042142|\n",
      "+---+------+------+-------+------------------+-------------------+\n",
      "only showing top 3 rows\n",
      "\n"
     ]
    },
    {
     "name": "stderr",
     "output_type": "stream",
     "text": [
      "23/12/20 12:20:31 WARN WindowExec: No Partition Defined for Window operation! Moving all data to a single partition, this can cause serious performance degradation.\n",
      "23/12/20 12:20:31 WARN WindowExec: No Partition Defined for Window operation! Moving all data to a single partition, this can cause serious performance degradation.\n",
      "23/12/20 12:20:31 WARN WindowExec: No Partition Defined for Window operation! Moving all data to a single partition, this can cause serious performance degradation.\n",
      "23/12/20 12:20:31 WARN WindowExec: No Partition Defined for Window operation! Moving all data to a single partition, this can cause serious performance degradation.\n",
      "23/12/20 12:20:31 WARN WindowExec: No Partition Defined for Window operation! Moving all data to a single partition, this can cause serious performance degradation.\n"
     ]
    }
   ],
   "source": [
    "from pyspark.sql import functions as F\n",
    "\n",
    "_tDf = tDf.withColumn(\"meanW\", F.avg(tDf['weight']).over(byAll)) # 평균\n",
    "_tDf = _tDf.withColumn(\"stddevW\", F.stddev(_tDf['weight']).over(byAll)) # 표준 편차\n",
    "# X - Mean / Stddev(표준편차)\n",
    "_tDf = _tDf.withColumn(\"zscoreW\", (F.col('weight')-F.col('meanW'))/F.col('stddevW'))\n",
    "_tDf.show(3)"
   ]
  },
  {
   "cell_type": "code",
   "execution_count": 128,
   "id": "51dc1aba",
   "metadata": {},
   "outputs": [
    {
     "name": "stdout",
     "output_type": "stream",
     "text": [
      "+---+------+------+-------+------------------+-------------------+-----------------+------------------+-------------------+\n",
      "| id|height|weight|  meanW|           stddevW|            zscoreW|            meanH|           stddevH|            zscoreH|\n",
      "+---+------+------+-------+------------------+-------------------+-----------------+------------------+-------------------+\n",
      "|  1| 65.78|112.99|128.842|12.888888902572523|-1.2298965504184058|68.05240000000002|1.8239803525615683|-1.2458467531235724|\n",
      "|  2| 71.52|136.49|128.842|12.888888902572523| 0.5933793097148594|68.05240000000002|1.8239803525615683| 1.9011169693413281|\n",
      "|  3|  69.4|153.03|128.842|12.888888902572523|   1.87665517042142|68.05240000000002|1.8239803525615683| 0.7388237478037734|\n",
      "+---+------+------+-------+------------------+-------------------+-----------------+------------------+-------------------+\n",
      "only showing top 3 rows\n",
      "\n"
     ]
    },
    {
     "name": "stderr",
     "output_type": "stream",
     "text": [
      "23/12/20 12:20:31 WARN WindowExec: No Partition Defined for Window operation! Moving all data to a single partition, this can cause serious performance degradation.\n",
      "23/12/20 12:20:31 WARN WindowExec: No Partition Defined for Window operation! Moving all data to a single partition, this can cause serious performance degradation.\n",
      "23/12/20 12:20:31 WARN WindowExec: No Partition Defined for Window operation! Moving all data to a single partition, this can cause serious performance degradation.\n",
      "23/12/20 12:20:31 WARN WindowExec: No Partition Defined for Window operation! Moving all data to a single partition, this can cause serious performance degradation.\n",
      "23/12/20 12:20:31 WARN WindowExec: No Partition Defined for Window operation! Moving all data to a single partition, this can cause serious performance degradation.\n"
     ]
    }
   ],
   "source": [
    "from pyspark.sql import functions as F\n",
    "\n",
    "_tDf = _tDf.withColumn(\"meanH\", F.avg(tDf['height']).over(byAll))\n",
    "_tDf = _tDf.withColumn(\"stddevH\", F.stddev(_tDf['height']).over(byAll))\n",
    "_tDf = _tDf.withColumn(\"zscoreH\", (F.col('height')-F.col('meanH'))/F.col('stddevH'))\n",
    "_tDf.show(3)"
   ]
  },
  {
   "cell_type": "code",
   "execution_count": 129,
   "id": "42af784d",
   "metadata": {},
   "outputs": [
    {
     "name": "stderr",
     "output_type": "stream",
     "text": [
      "23/12/20 12:20:31 WARN WindowExec: No Partition Defined for Window operation! Moving all data to a single partition, this can cause serious performance degradation.\n",
      "23/12/20 12:20:31 WARN WindowExec: No Partition Defined for Window operation! Moving all data to a single partition, this can cause serious performance degradation.\n",
      "23/12/20 12:20:31 WARN WindowExec: No Partition Defined for Window operation! Moving all data to a single partition, this can cause serious performance degradation.\n"
     ]
    },
    {
     "name": "stdout",
     "output_type": "stream",
     "text": [
      "+---+------+------+-------------------+-------------------+\n",
      "| id|height|weight|            zscoreW|            zscoreH|\n",
      "+---+------+------+-------------------+-------------------+\n",
      "|  1| 65.78|112.99|-1.2298965504184058|-1.2458467531235724|\n",
      "|  2| 71.52|136.49| 0.5933793097148594| 1.9011169693413281|\n",
      "|  3|  69.4|153.03|   1.87665517042142| 0.7388237478037734|\n",
      "+---+------+------+-------------------+-------------------+\n",
      "only showing top 3 rows\n",
      "\n"
     ]
    },
    {
     "name": "stderr",
     "output_type": "stream",
     "text": [
      "23/12/20 12:20:31 WARN WindowExec: No Partition Defined for Window operation! Moving all data to a single partition, this can cause serious performance degradation.\n",
      "23/12/20 12:20:31 WARN WindowExec: No Partition Defined for Window operation! Moving all data to a single partition, this can cause serious performance degradation.\n"
     ]
    }
   ],
   "source": [
    "# 연산 내용 Drop\n",
    "_tDf.drop(\"meanW\").drop(\"stddevW\").drop(\"meanH\").drop(\"stddevH\").show(3)"
   ]
  },
  {
   "cell_type": "markdown",
   "id": "c01c8701",
   "metadata": {},
   "source": [
    "### 5. spark에서 위에 계산한 zscore를 사용하여 상관관계 계산"
   ]
  },
  {
   "cell_type": "code",
   "execution_count": 130,
   "id": "d94708a0",
   "metadata": {},
   "outputs": [
    {
     "name": "stderr",
     "output_type": "stream",
     "text": [
      "23/12/20 12:20:31 WARN WindowExec: No Partition Defined for Window operation! Moving all data to a single partition, this can cause serious performance degradation.\n",
      "23/12/20 12:20:31 WARN WindowExec: No Partition Defined for Window operation! Moving all data to a single partition, this can cause serious performance degradation.\n",
      "23/12/20 12:20:31 WARN WindowExec: No Partition Defined for Window operation! Moving all data to a single partition, this can cause serious performance degradation.\n",
      "23/12/20 12:20:31 WARN WindowExec: No Partition Defined for Window operation! Moving all data to a single partition, this can cause serious performance degradation.\n"
     ]
    },
    {
     "data": {
      "text/plain": [
       "0.5925221289063219"
      ]
     },
     "execution_count": 130,
     "metadata": {},
     "output_type": "execute_result"
    }
   ],
   "source": [
    "_tDf.stat.corr('zscoreW', 'zscoreH') #ZScore 합계를 하지 않았기 때문에 N으로 나누지 않는다."
   ]
  },
  {
   "cell_type": "markdown",
   "id": "d0a95d22",
   "metadata": {},
   "source": [
    "### 6. spark correlation using features\n",
    "\n",
    "속성 Col들을 Vector(Features)로 변환 후 -> Corelation 측정\n",
    "- Labels : 명목변수\n",
    "- Features : 연속변수(일반적으로)\n"
   ]
  },
  {
   "cell_type": "code",
   "execution_count": 131,
   "id": "3fcaefff",
   "metadata": {},
   "outputs": [
    {
     "name": "stderr",
     "output_type": "stream",
     "text": [
      "\r",
      "[Stage 223:>                                                        (0 + 1) / 1]\r",
      "23/12/20 12:20:32 WARN InstanceBuilder: Failed to load implementation from:dev.ludovic.netlib.blas.JNIBLAS\n",
      "23/12/20 12:20:32 WARN InstanceBuilder: Failed to load implementation from:dev.ludovic.netlib.blas.VectorBLAS\n",
      "\r",
      "                                                                                \r"
     ]
    },
    {
     "name": "stdout",
     "output_type": "stream",
     "text": [
      "+----------------------------------------------------------------------------------+\n",
      "|pearson(features)                                                                 |\n",
      "+----------------------------------------------------------------------------------+\n",
      "|1.0                 0.5925221289063218  \\n0.5925221289063218  1.0                 |\n",
      "+----------------------------------------------------------------------------------+\n",
      "\n"
     ]
    },
    {
     "data": {
      "text/plain": [
       "array([[1.        , 0.59252213],\n",
       "       [0.59252213, 1.        ]])"
      ]
     },
     "execution_count": 131,
     "metadata": {},
     "output_type": "execute_result"
    }
   ],
   "source": [
    "from pyspark.ml.feature import VectorAssembler\n",
    "from pyspark.ml.stat import Correlation\n",
    "\n",
    "assembler = VectorAssembler(inputCols=['height', 'weight'], outputCol=\"features\")\n",
    "_trainDf = assembler.transform(_tDf).select(\"features\") #Vector로 Transform\n",
    "matrix = Correlation.corr(_trainDf, \"features\")\n",
    "matrix.show(truncate=False)\n",
    "matrix.collect()[0][0].toArray()"
   ]
  },
  {
   "cell_type": "markdown",
   "id": "48ddf208",
   "metadata": {},
   "source": [
    "### 7. scipy를 사용하여 상관관계를 계산"
   ]
  },
  {
   "cell_type": "code",
   "execution_count": 132,
   "id": "cd8b216c",
   "metadata": {},
   "outputs": [
    {
     "data": {
      "text/plain": [
       "PearsonRResult(statistic=0.5925221289063218, pvalue=5.808558311242065e-06)"
      ]
     },
     "execution_count": 132,
     "metadata": {},
     "output_type": "execute_result"
    }
   ],
   "source": [
    "import scipy.stats as stats\n",
    "\n",
    "weightList=_tDf.select('weight').rdd.flatMap(lambda x:x).collect()\n",
    "heightList=_tDf.select('height').rdd.flatMap(lambda x:x).collect()\n",
    "stats.pearsonr(weightList,heightList) #연속변수, 정규분포 -> pearsonr"
   ]
  },
  {
   "cell_type": "markdown",
   "id": "221165b9",
   "metadata": {},
   "source": [
    "### 8. 그래프"
   ]
  },
  {
   "cell_type": "code",
   "execution_count": 133,
   "id": "c923a230",
   "metadata": {},
   "outputs": [
    {
     "data": {
      "image/png": "[encoded data removed]",
      "text/plain": [
       "<Figure size 640x480 with 1 Axes>"
      ]
     },
     "metadata": {},
     "output_type": "display_data"
    }
   ],
   "source": [
    "import matplotlib.pyplot as plt\n",
    "\n",
    "plt.scatter(weightList, heightList)\n",
    "plt.show()"
   ]
  },
  {
   "cell_type": "markdown",
   "id": "e6c3b4b6",
   "metadata": {},
   "source": [
    "# 붓꽃 문제\n",
    "\n",
    "붓꽃 데이터의 상관관계를 알아보자"
   ]
  },
  {
   "cell_type": "code",
   "execution_count": 134,
   "id": "7df7867b",
   "metadata": {},
   "outputs": [
    {
     "data": {
      "text/html": [
       "<div>\n",
       "<style scoped>\n",
       "    .dataframe tbody tr th:only-of-type {\n",
       "        vertical-align: middle;\n",
       "    }\n",
       "\n",
       "    .dataframe tbody tr th {\n",
       "        vertical-align: top;\n",
       "    }\n",
       "\n",
       "    .dataframe thead th {\n",
       "        text-align: right;\n",
       "    }\n",
       "</style>\n",
       "<table border=\"1\" class=\"dataframe\">\n",
       "  <thead>\n",
       "    <tr style=\"text-align: right;\">\n",
       "      <th></th>\n",
       "      <th>sepal_length</th>\n",
       "      <th>sepal_width</th>\n",
       "      <th>petal_length</th>\n",
       "      <th>petal_width</th>\n",
       "      <th>species</th>\n",
       "    </tr>\n",
       "  </thead>\n",
       "  <tbody>\n",
       "    <tr>\n",
       "      <th>0</th>\n",
       "      <td>5.1</td>\n",
       "      <td>3.5</td>\n",
       "      <td>1.4</td>\n",
       "      <td>0.2</td>\n",
       "      <td>setosa</td>\n",
       "    </tr>\n",
       "    <tr>\n",
       "      <th>1</th>\n",
       "      <td>4.9</td>\n",
       "      <td>3.0</td>\n",
       "      <td>1.4</td>\n",
       "      <td>0.2</td>\n",
       "      <td>setosa</td>\n",
       "    </tr>\n",
       "    <tr>\n",
       "      <th>2</th>\n",
       "      <td>4.7</td>\n",
       "      <td>3.2</td>\n",
       "      <td>1.3</td>\n",
       "      <td>0.2</td>\n",
       "      <td>setosa</td>\n",
       "    </tr>\n",
       "    <tr>\n",
       "      <th>3</th>\n",
       "      <td>4.6</td>\n",
       "      <td>3.1</td>\n",
       "      <td>1.5</td>\n",
       "      <td>0.2</td>\n",
       "      <td>setosa</td>\n",
       "    </tr>\n",
       "    <tr>\n",
       "      <th>4</th>\n",
       "      <td>5.0</td>\n",
       "      <td>3.6</td>\n",
       "      <td>1.4</td>\n",
       "      <td>0.2</td>\n",
       "      <td>setosa</td>\n",
       "    </tr>\n",
       "  </tbody>\n",
       "</table>\n",
       "</div>"
      ],
      "text/plain": [
       "   sepal_length  sepal_width  petal_length  petal_width species\n",
       "0           5.1          3.5           1.4          0.2  setosa\n",
       "1           4.9          3.0           1.4          0.2  setosa\n",
       "2           4.7          3.2           1.3          0.2  setosa\n",
       "3           4.6          3.1           1.5          0.2  setosa\n",
       "4           5.0          3.6           1.4          0.2  setosa"
      ]
     },
     "execution_count": 134,
     "metadata": {},
     "output_type": "execute_result"
    }
   ],
   "source": [
    "import seaborn as sns\n",
    "\n",
    "iris1 = sns.load_dataset(\"iris\")\n",
    "\n",
    "iris1.head()"
   ]
  },
  {
   "cell_type": "code",
   "execution_count": 135,
   "id": "0b84a947",
   "metadata": {},
   "outputs": [],
   "source": [
    "# ML Repository에서 가져오기\n",
    "import pandas as pd\n",
    "\n",
    "file_name = \"http://archive.ics.uci.edu/ml/machine-learning-databases/iris/iris.data\"\n",
    "iris = pd.read_csv(file_name, names=[\"sepal_length\",\"sepal_width\",\"petal_length\", \"petal_width\",\"species\"])"
   ]
  },
  {
   "cell_type": "code",
   "execution_count": 136,
   "id": "801b47c7",
   "metadata": {},
   "outputs": [
    {
     "data": {
      "image/png": "[encoded data removed]",
      "text/plain": [
       "<Figure size 1117.75x1000 with 20 Axes>"
      ]
     },
     "metadata": {},
     "output_type": "display_data"
    }
   ],
   "source": [
    "import matplotlib.pyplot as plt\n",
    "\n",
    "sns.pairplot(iris1, kind=\"scatter\", hue=\"species\")\n",
    "plt.show()"
   ]
  },
  {
   "cell_type": "markdown",
   "id": "548cc472",
   "metadata": {},
   "source": [
    "- 붓꽃의 종류는 Iris setosa, Iris virginica and Iris versicolor -> Label이 된다.\n",
    "- 속성으로는 sepal 너비, 높이 / petal 너비, 높이를 제공"
   ]
  },
  {
   "cell_type": "markdown",
   "id": "afe06621",
   "metadata": {},
   "source": [
    "###  Boxplot을 이용한 Outlier 파악\n",
    "- 박스는 IQR (Interquartile Range), 즉 25%~75%의 구간을 의미\n",
    "- 위 아래 가로선은 IQR 값의 1.5배되는 구역\n",
    "- 2번째 boxplot에서 나타나는 점들은 outlier를 의미한다. outlier는 그 벗어난 정도가 심하지 않으므로 그대로 두기로 한다."
   ]
  },
  {
   "cell_type": "code",
   "execution_count": 137,
   "id": "54277960",
   "metadata": {},
   "outputs": [
    {
     "data": {
      "image/png": "[encoded data removed]",
      "text/plain": [
       "<Figure size 640x480 with 1 Axes>"
      ]
     },
     "metadata": {},
     "output_type": "display_data"
    }
   ],
   "source": [
    "import matplotlib.pyplot as plt\n",
    "\n",
    "iris4 = [ iris.sepal_length, iris.sepal_width, iris.petal_length, iris.petal_width ]\n",
    "plt.boxplot(iris4)\n",
    "plt.show()"
   ]
  },
  {
   "cell_type": "markdown",
   "id": "a4b66caf",
   "metadata": {},
   "source": [
    "### Dataframe 생성"
   ]
  },
  {
   "cell_type": "code",
   "execution_count": 138,
   "id": "bd0f3bb8",
   "metadata": {},
   "outputs": [
    {
     "name": "stdout",
     "output_type": "stream",
     "text": [
      "root\n",
      " |-- sepal_length: double (nullable = true)\n",
      " |-- sepal_width: double (nullable = true)\n",
      " |-- petal_length: double (nullable = true)\n",
      " |-- petal_width: double (nullable = true)\n",
      " |-- species: string (nullable = true)\n",
      "\n"
     ]
    }
   ],
   "source": [
    "irisDf = spark.createDataFrame(iris)\n",
    "\n",
    "irisDf.printSchema()"
   ]
  },
  {
   "cell_type": "markdown",
   "id": "8ba703f5",
   "metadata": {},
   "source": [
    "## 상관관계 분석\n",
    "상관관계 분석을 위해 속성들을 벡터 형태로 만들어준다."
   ]
  },
  {
   "cell_type": "code",
   "execution_count": 139,
   "id": "e5634a9f",
   "metadata": {},
   "outputs": [],
   "source": [
    "from pyspark.ml.feature import VectorAssembler\n",
    "from pyspark.ml.stat import Correlation\n",
    "\n",
    "\n",
    "\n",
    "assembler = VectorAssembler(inputCols=['sepal_length', 'sepal_width', 'petal_length', 'petal_width'],\n",
    "                                       outputCol=\"features\")\n",
    "df_vector = assembler.transform(irisDf).select(\"features\")"
   ]
  },
  {
   "cell_type": "code",
   "execution_count": 140,
   "id": "ccea8dd5",
   "metadata": {},
   "outputs": [
    {
     "data": {
      "text/plain": [
       "array([[1.        , 0.59252213],\n",
       "       [0.59252213, 1.        ]])"
      ]
     },
     "execution_count": 140,
     "metadata": {},
     "output_type": "execute_result"
    }
   ],
   "source": [
    "#상관관계 표\n",
    "matrix.collect()[0][0].toArray()"
   ]
  },
  {
   "cell_type": "code",
   "execution_count": null,
   "id": "3d316e71",
   "metadata": {},
   "outputs": [],
   "source": []
  }
 ],
 "metadata": {
  "kernelspec": {
   "display_name": "Python 3 (ipykernel)",
   "language": "python",
   "name": "python3"
  },
  "language_info": {
   "codemirror_mode": {
    "name": "ipython",
    "version": 3
   },
   "file_extension": ".py",
   "mimetype": "text/x-python",
   "name": "python",
   "nbconvert_exporter": "python",
   "pygments_lexer": "ipython3",
   "version": "3.9.13"
  }
 },
 "nbformat": 4,
 "nbformat_minor": 5
}
