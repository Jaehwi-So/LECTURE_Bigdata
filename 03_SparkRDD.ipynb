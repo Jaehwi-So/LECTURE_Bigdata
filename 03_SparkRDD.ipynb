{
 "cells": [
  {
   "cell_type": "markdown",
   "id": "54797201",
   "metadata": {},
   "source": [
    "# RDD\n",
    "<br>\n",
    "\n",
    "RDD(Resilient Distributed Dataset)는 Apache Spark에서 데이터를 표현하는 기본 구조이다.\n",
    "Spark에서는 RDD, Databrame, DataSet 세 가지 데이터구조를 제공\n",
    "RDD는 데이터가 비구조적인 경우 사용하기 적합하다\n",
    "\n",
    "Spark의 RDD, DataFrame 모두 immutable이라 일단 생성되고 나면 원본을 수정할 수 없다.\n",
    "\n",
    "해당 Jupyter Notebook에서는 아래의 내용을 다루려고 한다.\n",
    "\n",
    "## 1. RDD 생성과 기본 동작\n",
    "- parallelize(list) : 배멸에서 읽어서 RDD를 생성\n",
    "- take(출력개수) || collect() : RDD를 출력\n",
    "- collect() : 모든 파티션의 데이터를 수집하여 로컬의 리스트로 반환하는 액션(Action) 함수\n",
    "\n",
    "## 2. RDD 읽기 및 구성 \n",
    "- Partition : Spark의 논리적인 데이터 분할, 즉 일정한 크기로 잘라놓은 데이터 뭉치\n",
    "- 파일에서 RDD로 읽기, CSV에서 RDD로 읽기\n",
    "\n",
    "## 3. Map-Reduce\n",
    "- map() : 각 데이터 요소에 함수 적용\n",
    "- reduce() : 각 데이터에 대해 함수를 반복적으로 적용하여 결과 값을 만들어 냄\n",
    "\n",
    "## 4. 데이터 조작과 필터링\n",
    "- filter() : 데이터 선별\n",
    "- flat : 2차원 -> 1차원으로 변환\n",
    "- foreach() : 각 데이터 요소에 함수 적용(반환값이 없음)\n",
    "\n",
    "## 5. 통계\n",
    "- 통계함수\n",
    "\n",
    "<br><hr><br>"
   ]
  },
  {
   "cell_type": "code",
   "execution_count": 1,
   "id": "e34a45ab",
   "metadata": {},
   "outputs": [
    {
     "name": "stderr",
     "output_type": "stream",
     "text": [
      "23/11/27 05:24:58 WARN Utils: Your hostname, sojaehwiui-MacBookPro.local resolves to a loopback address: 127.0.0.1; using 172.30.1.29 instead (on interface en0)\n",
      "23/11/27 05:24:58 WARN Utils: Set SPARK_LOCAL_IP if you need to bind to another address\n",
      "Setting default log level to \"WARN\".\n",
      "To adjust logging level use sc.setLogLevel(newLevel). For SparkR, use setLogLevel(newLevel).\n",
      "23/11/27 05:24:59 WARN NativeCodeLoader: Unable to load native-hadoop library for your platform... using builtin-java classes where applicable\n"
     ]
    }
   ],
   "source": [
    "import pyspark\n",
    "\n",
    "spark = pyspark.sql.SparkSession.builder\\\n",
    "    .master(\"local\")\\\n",
    "    .appName(\"myApp\")\\\n",
    "    .getOrCreate()"
   ]
  },
  {
   "cell_type": "code",
   "execution_count": 2,
   "id": "589a3028",
   "metadata": {},
   "outputs": [],
   "source": [
    "myList=[1,2,3,4,5,6,7]"
   ]
  },
  {
   "cell_type": "markdown",
   "id": "77498cfa",
   "metadata": {},
   "source": [
    "#####  parallelize(list) : 배멸에서 읽어서 RDD를 생성"
   ]
  },
  {
   "cell_type": "code",
   "execution_count": 3,
   "id": "bd35f16a",
   "metadata": {},
   "outputs": [
    {
     "data": {
      "text/plain": [
       "pyspark.rdd.RDD"
      ]
     },
     "execution_count": 3,
     "metadata": {},
     "output_type": "execute_result"
    }
   ],
   "source": [
    "myRdd1 = spark.sparkContext.parallelize(myList) #RDD\n",
    "type(myRdd1)"
   ]
  },
  {
   "cell_type": "markdown",
   "id": "44a79581",
   "metadata": {},
   "source": [
    "##### take(출력개수) || collect() : RDD를 출력"
   ]
  },
  {
   "cell_type": "code",
   "execution_count": 4,
   "id": "0aa862bd",
   "metadata": {},
   "outputs": [
    {
     "name": "stderr",
     "output_type": "stream",
     "text": [
      "                                                                                \r"
     ]
    },
    {
     "data": {
      "text/plain": [
       "[1, 2, 3]"
      ]
     },
     "execution_count": 4,
     "metadata": {},
     "output_type": "execute_result"
    }
   ],
   "source": [
    "myRdd1.take(3) #List"
   ]
  },
  {
   "cell_type": "markdown",
   "id": "28b449b2",
   "metadata": {},
   "source": [
    "##### collect() : 모든 파티션의 데이터를 수집하여 로컬의 리스트로 반환하는 액션(Action) 함수"
   ]
  },
  {
   "cell_type": "code",
   "execution_count": 5,
   "id": "5d2da495",
   "metadata": {},
   "outputs": [
    {
     "data": {
      "text/plain": [
       "[0, 2, 3, 4, 6]"
      ]
     },
     "execution_count": 5,
     "metadata": {},
     "output_type": "execute_result"
    }
   ],
   "source": [
    "spark.sparkContext.parallelize([0, 2, 3, 4, 6], 2).collect() #List"
   ]
  },
  {
   "cell_type": "markdown",
   "id": "f739807b",
   "metadata": {},
   "source": [
    "##### \bPartition\n",
    "\n",
    "파티션이란 논리적인 데이터 분할, 즉 일정한 크기로 잘라놓은 데이터 뭉치이다.\n",
    "\n",
    "따라서 RDD는 파티션으로 구성되어 있다고 할 수 있다. 파티션의 수는 원하는 숫자만큼 구성할 수 있다. 데이터를 분할해 놓으면 동시에 여러 파티션을 나누어 여러 노드/스레드에서 병렬처리가 가능해진다."
   ]
  },
  {
   "cell_type": "code",
   "execution_count": 6,
   "id": "20df5e8a",
   "metadata": {},
   "outputs": [],
   "source": [
    "rdd = spark.sparkContext.parallelize([0, 2, 3, 4, 6], 3) # 3개의 파티션으로 분리."
   ]
  },
  {
   "cell_type": "markdown",
   "id": "94bc38d8",
   "metadata": {},
   "source": [
    "##### glom() : 파티션을 유지함"
   ]
  },
  {
   "cell_type": "code",
   "execution_count": 7,
   "id": "cd6e7d49",
   "metadata": {},
   "outputs": [
    {
     "data": {
      "text/plain": [
       "[[0], [2, 3], [4, 6]]"
      ]
     },
     "execution_count": 7,
     "metadata": {},
     "output_type": "execute_result"
    }
   ],
   "source": [
    "rdd.glom().collect()"
   ]
  },
  {
   "cell_type": "markdown",
   "id": "cea9f3be",
   "metadata": {},
   "source": [
    "## RDD 읽기"
   ]
  },
  {
   "cell_type": "markdown",
   "id": "0857ecff",
   "metadata": {},
   "source": [
    "### 파일에서 RDD 읽어오기"
   ]
  },
  {
   "cell_type": "code",
   "execution_count": 8,
   "id": "c93c1ff3",
   "metadata": {},
   "outputs": [
    {
     "name": "stdout",
     "output_type": "stream",
     "text": [
      "Overwriting data/ds_spark_wiki.txt\n"
     ]
    }
   ],
   "source": [
    "%%writefile data/ds_spark_wiki.txt\n",
    "Wikipedia\n",
    "Apache Spark is an open source cluster computing framework.\n",
    "아파치 스파크는 오픈 소스 클러스터 컴퓨팅 프레임워크이다.\n",
    "Apache Spark Apache Spark Apache Spark Apache Spark\n",
    "아파치 스파크 아파치 스파크 아파치 스파크 아파치 스파크\n",
    "Originally developed at the University of California, Berkeley's AMPLab,\n",
    "the Spark codebase was later donated to the Apache Software Foundation,\n",
    "which has maintained it since.\n",
    "Spark provides an interface for programming entire clusters with\n",
    "implicit data parallelism and fault-tolerance."
   ]
  },
  {
   "cell_type": "code",
   "execution_count": 10,
   "id": "1de64965",
   "metadata": {},
   "outputs": [],
   "source": [
    "import os\n",
    "myRdd2=spark.sparkContext\\\n",
    "    .textFile(os.path.join(\"data\",\"ds_spark_wiki.txt\"))"
   ]
  },
  {
   "cell_type": "code",
   "execution_count": 11,
   "id": "72f6dc6c",
   "metadata": {},
   "outputs": [
    {
     "data": {
      "text/plain": [
       "'Wikipedia'"
      ]
     },
     "execution_count": 11,
     "metadata": {},
     "output_type": "execute_result"
    }
   ],
   "source": [
    "myRdd2.first() #첫 데이터만 조회 -> RDD는 줄바꿈을 기준으로 Row 단위로 만든다.\n",
    "# myRdd2.collect()"
   ]
  },
  {
   "cell_type": "markdown",
   "id": "01518028",
   "metadata": {},
   "source": [
    "### CSV에서 RDD 읽어오기"
   ]
  },
  {
   "cell_type": "code",
   "execution_count": 12,
   "id": "e62322c4",
   "metadata": {},
   "outputs": [
    {
     "name": "stdout",
     "output_type": "stream",
     "text": [
      "Overwriting ./data/ds_spark_2cols.csv\n"
     ]
    }
   ],
   "source": [
    "%%writefile ./data/ds_spark_2cols.csv\n",
    "35, 2\n",
    "40, 27\n",
    "12, 38\n",
    "15, 31\n",
    "21, 1\n",
    "14, 19\n",
    "46, 1\n",
    "10, 34\n",
    "28, 3\n",
    "48, 1\n",
    "16, 2\n",
    "30, 3\n",
    "32, 2\n",
    "48, 1\n",
    "31, 2\n",
    "22, 1\n",
    "12, 3\n",
    "39, 29\n",
    "19, 37\n",
    "25, 2"
   ]
  },
  {
   "cell_type": "code",
   "execution_count": 13,
   "id": "30881ab2",
   "metadata": {},
   "outputs": [],
   "source": [
    "myRdd4 = spark.sparkContext\\\n",
    "    .textFile(os.path.join(\"data\",\"ds_spark_2cols.csv\"))"
   ]
  },
  {
   "cell_type": "code",
   "execution_count": 14,
   "id": "9b43212a",
   "metadata": {},
   "outputs": [
    {
     "name": "stdout",
     "output_type": "stream",
     "text": [
      "['35, 2', '40, 27', '12, 38', '15, 31', '21, 1']\n"
     ]
    }
   ],
   "source": [
    "myList=myRdd4.take(5)\n",
    "\n",
    "print(myList)"
   ]
  },
  {
   "cell_type": "code",
   "execution_count": 15,
   "id": "8c488421",
   "metadata": {},
   "outputs": [
    {
     "data": {
      "text/plain": [
       "[['35', ' 2'],\n",
       " ['40', ' 27'],\n",
       " ['12', ' 38'],\n",
       " ['15', ' 31'],\n",
       " ['21', ' 1'],\n",
       " ['14', ' 19'],\n",
       " ['46', ' 1'],\n",
       " ['10', ' 34'],\n",
       " ['28', ' 3'],\n",
       " ['48', ' 1'],\n",
       " ['16', ' 2'],\n",
       " ['30', ' 3'],\n",
       " ['32', ' 2'],\n",
       " ['48', ' 1'],\n",
       " ['31', ' 2'],\n",
       " ['22', ' 1'],\n",
       " ['12', ' 3'],\n",
       " ['39', ' 29'],\n",
       " ['19', ' 37'],\n",
       " ['25', ' 2']]"
      ]
     },
     "execution_count": 15,
     "metadata": {},
     "output_type": "execute_result"
    }
   ],
   "source": [
    "myRdd4.map(lambda x: x.split(\",\")).collect()\n",
    "\n",
    "#Lambda식으로 ,를 기준으로 쪼갬"
   ]
  },
  {
   "cell_type": "code",
   "execution_count": 16,
   "id": "ec1b0f69",
   "metadata": {},
   "outputs": [
    {
     "data": {
      "text/plain": [
       "[37,\n",
       " 67,\n",
       " 50,\n",
       " 46,\n",
       " 22,\n",
       " 33,\n",
       " 47,\n",
       " 44,\n",
       " 31,\n",
       " 49,\n",
       " 18,\n",
       " 33,\n",
       " 34,\n",
       " 49,\n",
       " 33,\n",
       " 23,\n",
       " 15,\n",
       " 68,\n",
       " 56,\n",
       " 27]"
      ]
     },
     "execution_count": 16,
     "metadata": {},
     "output_type": "execute_result"
    }
   ],
   "source": [
    "myRdd4.map(lambda x: x.split(\",\"))\\\n",
    "    .map(lambda x: int(x[0])+int(x[1]))\\\n",
    "    .collect()\n",
    " #Lambda식으로 리스트의 1,2번째 합"
   ]
  },
  {
   "cell_type": "markdown",
   "id": "6e0974dd",
   "metadata": {},
   "source": [
    "### 문제: 파일에서 RDD 생성\n",
    "다음 링크에서 파일을 읽어서 RDD를 생성하고, 5줄을 화면출력하세요.\n",
    "\n",
    "경기도 의정부시 인구현황 (파일명: 경기도 의정부시_인구현황_20230731)\n",
    "https://www.data.go.kr/data/15009613/fileData.do\n",
    "\n",
    "제주특별자치도 서귀포시 내 연도별 65세이상 인구수 및 고령화비율, 노령화지수 현황 (파일명: 제주특별자치도 서귀포시_고령화비율및노령화지수현황_20200623)\n",
    "https://www.data.go.kr/data/15051545/fileData.do\n",
    "\n",
    "파일을 읽을 경우, 문자가 한글인지, 영어인지 어떻게 인코딩되었는지 주의해야 한다. 결과가 깨져보인다면, 왜 그런지 이유를 적어보자."
   ]
  },
  {
   "cell_type": "code",
   "execution_count": 17,
   "id": "39646533",
   "metadata": {},
   "outputs": [],
   "source": [
    "popRdd = spark.sparkContext\\\n",
    "    .textFile(os.path.join(\"data\",\"경기도 의정부시_인구현황_20230831.csv\"), use_unicode=True)"
   ]
  },
  {
   "cell_type": "code",
   "execution_count": 18,
   "id": "789bb44e",
   "metadata": {},
   "outputs": [
    {
     "data": {
      "text/plain": [
       "['�������,�α���(��),�α���(��),�α���(��),������(��),������(��),������(��),����,�����,������α�,���������,�����μ���,�μ���ȭ��ȣ,�����ͱ�������',\n",
       " '������1��,37557 ,19039 ,18518 ,8.08,4.1,3.98,102.81,22514 ,1.67,��\\u2d75 �����ν�û,�ο����ǰ�,031-828-2466,2023-06-30',\n",
       " '������2��,29729 ,14817 ,14912 ,6.4,3.19,3.21,99.36,16007 ,1.86,��\\u2d75 �����ν�û,�ο����ǰ�,031-828-2466,2023-06-30',\n",
       " 'ȣ��1��,34658 ,16762 ,17896 ,7.46,3.61,3.85,93.66,15296 ,2.27,��\\u2d75 �����ν�û,�ο����ǰ�,031-828-2466,2023-06-30',\n",
       " 'ȣ��2��,33400 ,16088 ,17312 ,7.19,3.46,3.72,92.93,13422 ,2.49,��\\u2d75 �����ν�û,�ο����ǰ�,031-828-2466,2023-06-30']"
      ]
     },
     "execution_count": 18,
     "metadata": {},
     "output_type": "execute_result"
    }
   ],
   "source": [
    "popRdd.take(5) # 화면에 출력하면 한글이 깨져있다. use_unicode=True설정을 주었는데도 그렇다. 다운로드 받으면서 한글이 깨져 있기 때문에 그렇다. 다운로드 받은 파일을 수정해서 출력하면 된다."
   ]
  },
  {
   "cell_type": "code",
   "execution_count": 19,
   "id": "8a59d787",
   "metadata": {},
   "outputs": [],
   "source": [
    "agedRdd = spark.sparkContext\\\n",
    "    .textFile(os.path.join(\"data\",\"제주특별자치도 서귀포시_고령화비율및노령화지수현황_20230324.csv\"), use_unicode=True)"
   ]
  },
  {
   "cell_type": "code",
   "execution_count": 20,
   "id": "9f50155f",
   "metadata": {},
   "outputs": [
    {
     "name": "stdout",
     "output_type": "stream",
     "text": [
      "['2008', '12', '153120', '22241', '26792', '14.52', '83.01', '2023-03-24', 104087]\n",
      "['2009', '12', '152285', '23031', '25504', '15.12', '90.3', '2023-03-24', 103750]\n",
      "['2010', '12', '153716', '23990', '24633', '15.6', '97.38', '2023-03-24', 105093]\n",
      "['2011', '12', '153366', '24839', '23686', '16.2', '104.86', '2023-03-24', 104841]\n"
     ]
    }
   ],
   "source": [
    "for i in agedRdd.take(5)[1:]:\n",
    "    j=i.split(\",\")\n",
    "    j.append(int(j[2])-int(j[3])-int(j[4]))\n",
    "    print(j)"
   ]
  },
  {
   "cell_type": "markdown",
   "id": "66815804",
   "metadata": {},
   "source": [
    "##### binaryFiles\n",
    "binaryFiles()는 이진파일을 읽는 함수이다. 인코딩된 cp949, euc-kr 등으로 디코딩하여 한글을 불러오는것을 시도한다."
   ]
  },
  {
   "cell_type": "code",
   "execution_count": 21,
   "id": "68e6fef4",
   "metadata": {},
   "outputs": [],
   "source": [
    "popRddBin = spark.sparkContext.binaryFiles(os.path.join(\"data\",\"경기도 의정부시_인구현황_20230831.csv\"))"
   ]
  },
  {
   "cell_type": "code",
   "execution_count": 22,
   "id": "f8e343de",
   "metadata": {},
   "outputs": [],
   "source": [
    "_my = popRddBin.map(lambda x :x[1].decode('euc-kr'))"
   ]
  },
  {
   "cell_type": "code",
   "execution_count": 23,
   "id": "9d8f4f58",
   "metadata": {},
   "outputs": [
    {
     "data": {
      "text/plain": [
       "['행정기관,인구수(계),인구수(남),인구수(여),구성비(계),구성비(남),구성비(여),성비,세대수,세대당인구,관리기관명,관리부서명,부서전화번호,데이터기준일자\\r\\n의정부1동,37557 ,19039 ,18518 ,8.08,4.1,3.98,102.81,22514 ,1.67,경기도 의정부시청,민원여권과,031-828-2466,2023-06-30\\r\\n의정부2동,29729 ,14817 ,14912 ,6.4,3.19,3.21,99.36,16007 ,1.86,경기도 의정부시청,민원여권과,031-828-2466,2023-06-30\\r\\n호원1동,34658 ,16762 ,17896 ,7.46,3.61,3.85,93.66,15296 ,2.27,경기도 의정부시청,민원여권과,031-828-2466,2023-06-30\\r\\n호원2동,33400 ,16088 ,17312 ,7.19,3.46,3.72,92.93,13422 ,2.49,경기도 의정부시청,민원여권과,031-828-2466,2023-06-30\\r\\n장암동,19197 ,9156 ,10041 ,4.13,1.97,2.16,91.19,8324 ,2.31,경기도 의정부시청,민원여권과,031-828-2466,2023-06-30\\r\\n신곡1동,39848 ,19475 ,20373 ,8.57,4.19,4.38,95.59,17028 ,2.34,경기도 의정부시청,민원여권과,031-828-2466,2023-06-30\\r\\n신곡2동,45593 ,22018 ,23575 ,9.81,4.74,5.07,93.4,19005 ,2.4,경기도 의정부시청,민원여권과,031-828-2466,2023-06-30\\r\\n송산1동,56595 ,28012 ,28583 ,12.18,6.03,6.15,98,23887 ,2.37,경기도 의정부시청,민원여권과,031-828-2466,2023-06-30\\r\\n송산2동,32054 ,15897 ,16157 ,6.9,3.42,3.48,98.39,13103 ,2.45,경기도 의정부시청,민원여권과,031-828-2466,2023-06-30\\r\\n송산3동,45618 ,22119 ,23499 ,9.82,4.76,5.06,94.13,18032 ,2.53,경기도 의정부시청,민원여권과,031-828-2466,2023-06-30\\r\\n자금동,26064 ,12780 ,13284 ,5.61,2.75,2.86,96.21,11901 ,2.19,경기도 의정부시청,민원여권과,031-828-2466,2023-06-30\\r\\n가능동,24476 ,12238 ,12238 ,5.27,2.63,2.63,100,12165 ,2.01,경기도 의정부시청,민원여권과,031-828-2466,2023-06-30\\r\\n흥선동,19543 ,9935 ,9608 ,4.2,2.14,2.07,103.4,9735 ,2.01,경기도 의정부시청,민원여권과,031-828-2466,2023-06-30\\r\\n녹양동,20446 ,10148 ,10298 ,4.4,2.18,2.22,98.54,9356 ,2.19,경기도 의정부시청,민원여권과,031-828-2466,2023-06-30\\r\\n\\r\\n']"
      ]
     },
     "execution_count": 23,
     "metadata": {},
     "output_type": "execute_result"
    }
   ],
   "source": [
    "_my.take(1) # RDD binaryFiles로 읽으니, 파일의 전체내용을 하나의 값으로 읽을 뿐만 아니라, 2차원 배열로 읽어도 행렬의 구조가 없어서 이해하기 어렵다."
   ]
  },
  {
   "cell_type": "code",
   "execution_count": 24,
   "id": "0da7e6a9",
   "metadata": {},
   "outputs": [
    {
     "name": "stdout",
     "output_type": "stream",
     "text": [
      "---00:  행정기관,인구수(계),인구수(남),인구수(여),구성비(계),구성비(남),구성비(여),성비,세대수,세대당인구,관리기관명,관리부서명,부서전화번호,데이터기준일자\n",
      "---01:  의정부1동,37557\n"
     ]
    }
   ],
   "source": [
    "popList = _my.map(lambda x: x.split()).take(3)\n",
    "print(\"---00: \", popList[0][0])\n",
    "print(\"---01: \", popList[0][1])"
   ]
  },
  {
   "cell_type": "markdown",
   "id": "79858118",
   "metadata": {},
   "source": [
    "### 구조화된 데이터 -> Dataframe"
   ]
  },
  {
   "cell_type": "code",
   "execution_count": 25,
   "id": "2b5e0f4b",
   "metadata": {},
   "outputs": [
    {
     "name": "stdout",
     "output_type": "stream",
     "text": [
      "+---------+----------+----------+----------+----------+----------+----------+------+------+----------+-----------------+----------+------------+--------------+\n",
      "| 행정기관|인구수(계)|인구수(남)|인구수(여)|구성비(계)|구성비(남)|구성비(여)|  성비|세대수|세대당인구|       관리기관명|관리부서명|부서전화번호|데이터기준일자|\n",
      "+---------+----------+----------+----------+----------+----------+----------+------+------+----------+-----------------+----------+------------+--------------+\n",
      "|의정부1동|    37557 |    19039 |    18518 |      8.08|       4.1|      3.98|102.81|22514 |      1.67|경기도 의정부시청|민원여권과|031-828-2466|    2023-06-30|\n",
      "|의정부2동|    29729 |    14817 |    14912 |       6.4|      3.19|      3.21| 99.36|16007 |      1.86|경기도 의정부시청|민원여권과|031-828-2466|    2023-06-30|\n",
      "|  호원1동|    34658 |    16762 |    17896 |      7.46|      3.61|      3.85| 93.66|15296 |      2.27|경기도 의정부시청|민원여권과|031-828-2466|    2023-06-30|\n",
      "|  호원2동|    33400 |    16088 |    17312 |      7.19|      3.46|      3.72| 92.93|13422 |      2.49|경기도 의정부시청|민원여권과|031-828-2466|    2023-06-30|\n",
      "|   장암동|    19197 |     9156 |    10041 |      4.13|      1.97|      2.16| 91.19| 8324 |      2.31|경기도 의정부시청|민원여권과|031-828-2466|    2023-06-30|\n",
      "+---------+----------+----------+----------+----------+----------+----------+------+------+----------+-----------------+----------+------------+--------------+\n",
      "only showing top 5 rows\n",
      "\n"
     ]
    }
   ],
   "source": [
    "popDf = spark\\\n",
    "            .read.option(\"charset\", \"euc-kr\")\\\n",
    "            .option(\"header\", \"true\")\\\n",
    "            .csv(os.path.join(\"data\",\"경기도 의정부시_인구현황_20230831.csv\"))\n",
    "\n",
    "popDf.show(5)"
   ]
  },
  {
   "cell_type": "markdown",
   "id": "2fd712dc",
   "metadata": {},
   "source": [
    "# spark-submit 실행 \n",
    "\n",
    "위 프로그램을 .py로 저장하고, spark-submit 명령으로 배치 실행을 할 수 있다.(클러스터로 실행)"
   ]
  },
  {
   "cell_type": "code",
   "execution_count": 26,
   "id": "22fa5979",
   "metadata": {},
   "outputs": [
    {
     "name": "stdout",
     "output_type": "stream",
     "text": [
      "Overwriting src/ds3_popCsvRead.py\n"
     ]
    }
   ],
   "source": [
    "%%writefile src/ds3_popCsvRead.py\n",
    "#!/usr/bin/env python3\n",
    "# -*- coding: UTF-8 -*-\n",
    "import os\n",
    "import pyspark\n",
    "\n",
    "def doIt():\n",
    "    print (\"---------RESULT-----------\")\n",
    "    popDf = spark\\\n",
    "                .read.option(\"charset\", \"euc-kr\")\\\n",
    "                .option(\"header\", \"true\")\\\n",
    "                .csv(os.path.join(\"data\",\"경기도 의정부시_인구현황_20230831.csv\"))\n",
    "    popDf.show(5)\n",
    "    agedDf = spark\\\n",
    "                .read.option(\"charset\", \"euc-kr\")\\\n",
    "                .option(\"header\", \"true\")\\\n",
    "                .csv(os.path.join(\"data\",\"제주특별자치도 서귀포시_고령화비율및노령화지수현황_20230324.csv\"))\n",
    "    agedDf.show(5)\n",
    "\n",
    "if __name__ == \"__main__\":\n",
    "    os.environ[\"PYSPARK_PYTHON\"]=\"/usr/bin/python3\"\n",
    "    os.environ[\"PYSPARK_DRIVER_PYTHON\"]=\"/usr/bin/python3\"\n",
    "    myConf=pyspark.SparkConf()\n",
    "    spark = pyspark.sql.SparkSession.builder\\\n",
    "        .master(\"local\")\\\n",
    "        .appName(\"myApp\")\\\n",
    "        .config(conf=myConf)\\\n",
    "        .getOrCreate()\n",
    "    doIt()\n",
    "    spark.stop()"
   ]
  },
  {
   "cell_type": "code",
   "execution_count": 27,
   "id": "07278f90",
   "metadata": {},
   "outputs": [
    {
     "name": "stdout",
     "output_type": "stream",
     "text": [
      "23/11/27 05:26:07 WARN Utils: Your hostname, sojaehwiui-MacBookPro.local resolves to a loopback address: 127.0.0.1; using 172.30.1.29 instead (on interface en0)\n",
      "23/11/27 05:26:07 WARN Utils: Set SPARK_LOCAL_IP if you need to bind to another address\n",
      "23/11/27 05:26:08 INFO SparkContext: Running Spark version 3.4.1\n",
      "23/11/27 05:26:08 WARN NativeCodeLoader: Unable to load native-hadoop library for your platform... using builtin-java classes where applicable\n",
      "23/11/27 05:26:08 INFO ResourceUtils: ==============================================================\n",
      "23/11/27 05:26:08 INFO ResourceUtils: No custom resources configured for spark.driver.\n",
      "23/11/27 05:26:08 INFO ResourceUtils: ==============================================================\n",
      "23/11/27 05:26:08 INFO SparkContext: Submitted application: myApp\n",
      "23/11/27 05:26:08 INFO ResourceProfile: Default ResourceProfile created, executor resources: Map(cores -> name: cores, amount: 1, script: , vendor: , memory -> name: memory, amount: 1024, script: , vendor: , offHeap -> name: offHeap, amount: 0, script: , vendor: ), task resources: Map(cpus -> name: cpus, amount: 1.0)\n",
      "23/11/27 05:26:08 INFO ResourceProfile: Limiting resource is cpu\n",
      "23/11/27 05:26:08 INFO ResourceProfileManager: Added ResourceProfile id: 0\n",
      "23/11/27 05:26:08 INFO SecurityManager: Changing view acls to: sojaehwi\n",
      "23/11/27 05:26:08 INFO SecurityManager: Changing modify acls to: sojaehwi\n",
      "23/11/27 05:26:08 INFO SecurityManager: Changing view acls groups to: \n",
      "23/11/27 05:26:08 INFO SecurityManager: Changing modify acls groups to: \n",
      "23/11/27 05:26:08 INFO SecurityManager: SecurityManager: authentication disabled; ui acls disabled; users with view permissions: sojaehwi; groups with view permissions: EMPTY; users with modify permissions: sojaehwi; groups with modify permissions: EMPTY\n",
      "23/11/27 05:26:09 INFO Utils: Successfully started service 'sparkDriver' on port 59405.\n",
      "23/11/27 05:26:09 INFO SparkEnv: Registering MapOutputTracker\n",
      "23/11/27 05:26:09 INFO SparkEnv: Registering BlockManagerMaster\n",
      "23/11/27 05:26:09 INFO BlockManagerMasterEndpoint: Using org.apache.spark.storage.DefaultTopologyMapper for getting topology information\n",
      "23/11/27 05:26:09 INFO BlockManagerMasterEndpoint: BlockManagerMasterEndpoint up\n",
      "23/11/27 05:26:09 INFO SparkEnv: Registering BlockManagerMasterHeartbeat\n",
      "23/11/27 05:26:09 INFO DiskBlockManager: Created local directory at /private/var/folders/v4/z0sc2ps925v8zh04gvwkx_500000gn/T/blockmgr-f5e6750f-ea7f-4ba3-b7db-9bfb5f832dba\n",
      "23/11/27 05:26:09 INFO MemoryStore: MemoryStore started with capacity 434.4 MiB\n",
      "23/11/27 05:26:09 INFO SparkEnv: Registering OutputCommitCoordinator\n",
      "23/11/27 05:26:09 INFO JettyUtils: Start Jetty 0.0.0.0:4040 for SparkUI\n",
      "23/11/27 05:26:09 WARN Utils: Service 'SparkUI' could not bind on port 4040. Attempting port 4041.\n",
      "23/11/27 05:26:09 INFO Utils: Successfully started service 'SparkUI' on port 4041.\n",
      "23/11/27 05:26:09 INFO Executor: Starting executor ID driver on host 172.30.1.29\n",
      "23/11/27 05:26:09 INFO Executor: Starting executor with user classpath (userClassPathFirst = false): ''\n",
      "23/11/27 05:26:09 INFO Utils: Successfully started service 'org.apache.spark.network.netty.NettyBlockTransferService' on port 59406.\n",
      "23/11/27 05:26:09 INFO NettyBlockTransferService: Server created on 172.30.1.29:59406\n",
      "23/11/27 05:26:09 INFO BlockManager: Using org.apache.spark.storage.RandomBlockReplicationPolicy for block replication policy\n",
      "23/11/27 05:26:09 INFO BlockManagerMaster: Registering BlockManager BlockManagerId(driver, 172.30.1.29, 59406, None)\n",
      "23/11/27 05:26:09 INFO BlockManagerMasterEndpoint: Registering block manager 172.30.1.29:59406 with 434.4 MiB RAM, BlockManagerId(driver, 172.30.1.29, 59406, None)\n",
      "23/11/27 05:26:09 INFO BlockManagerMaster: Registered BlockManager BlockManagerId(driver, 172.30.1.29, 59406, None)\n",
      "23/11/27 05:26:09 INFO BlockManager: Initialized BlockManager: BlockManagerId(driver, 172.30.1.29, 59406, None)\n",
      "---------RESULT-----------\n",
      "23/11/27 05:26:09 INFO SharedState: Setting hive.metastore.warehouse.dir ('null') to the value of spark.sql.warehouse.dir.\n",
      "23/11/27 05:26:09 INFO SharedState: Warehouse path is 'file:/Users/sojaehwi/Documents/GitHub/LECTURE_Bigdata/spark-warehouse'.\n",
      "23/11/27 05:26:10 INFO InMemoryFileIndex: It took 23 ms to list leaf files for 1 paths.\n",
      "23/11/27 05:26:10 INFO InMemoryFileIndex: It took 1 ms to list leaf files for 1 paths.\n",
      "23/11/27 05:26:11 INFO FileSourceStrategy: Pushed Filters: \n",
      "23/11/27 05:26:11 INFO FileSourceStrategy: Post-Scan Filters: \n",
      "23/11/27 05:26:11 INFO MemoryStore: Block broadcast_0 stored as values in memory (estimated size 199.5 KiB, free 434.2 MiB)\n",
      "23/11/27 05:26:11 INFO MemoryStore: Block broadcast_0_piece0 stored as bytes in memory (estimated size 34.3 KiB, free 434.2 MiB)\n",
      "23/11/27 05:26:11 INFO BlockManagerInfo: Added broadcast_0_piece0 in memory on 172.30.1.29:59406 (size: 34.3 KiB, free: 434.4 MiB)\n",
      "23/11/27 05:26:11 INFO SparkContext: Created broadcast 0 from csv at NativeMethodAccessorImpl.java:0\n",
      "23/11/27 05:26:11 INFO FileSourceScanExec: Planning scan with bin packing, max size: 4196062 bytes, open cost is considered as scanning 4194304 bytes.\n",
      "23/11/27 05:26:11 INFO CodeGenerator: Code generated in 109.328 ms\n",
      "23/11/27 05:26:11 INFO SparkContext: Starting job: csv at NativeMethodAccessorImpl.java:0\n",
      "23/11/27 05:26:11 INFO DAGScheduler: Got job 0 (csv at NativeMethodAccessorImpl.java:0) with 1 output partitions\n",
      "23/11/27 05:26:11 INFO DAGScheduler: Final stage: ResultStage 0 (csv at NativeMethodAccessorImpl.java:0)\n",
      "23/11/27 05:26:11 INFO DAGScheduler: Parents of final stage: List()\n",
      "23/11/27 05:26:11 INFO DAGScheduler: Missing parents: List()\n",
      "23/11/27 05:26:11 INFO DAGScheduler: Submitting ResultStage 0 (MapPartitionsRDD[6] at csv at NativeMethodAccessorImpl.java:0), which has no missing parents\n",
      "23/11/27 05:26:11 INFO MemoryStore: Block broadcast_1 stored as values in memory (estimated size 17.6 KiB, free 434.2 MiB)\n",
      "23/11/27 05:26:11 INFO MemoryStore: Block broadcast_1_piece0 stored as bytes in memory (estimated size 7.9 KiB, free 434.1 MiB)\n",
      "23/11/27 05:26:11 INFO BlockManagerInfo: Added broadcast_1_piece0 in memory on 172.30.1.29:59406 (size: 7.9 KiB, free: 434.4 MiB)\n",
      "23/11/27 05:26:11 INFO SparkContext: Created broadcast 1 from broadcast at DAGScheduler.scala:1535\n",
      "23/11/27 05:26:11 INFO DAGScheduler: Submitting 1 missing tasks from ResultStage 0 (MapPartitionsRDD[6] at csv at NativeMethodAccessorImpl.java:0) (first 15 tasks are for partitions Vector(0))\n",
      "23/11/27 05:26:11 INFO TaskSchedulerImpl: Adding task set 0.0 with 1 tasks resource profile 0\n",
      "23/11/27 05:26:12 INFO TaskSetManager: Starting task 0.0 in stage 0.0 (TID 0) (172.30.1.29, executor driver, partition 0, PROCESS_LOCAL, 7991 bytes) \n",
      "23/11/27 05:26:12 INFO Executor: Running task 0.0 in stage 0.0 (TID 0)\n",
      "23/11/27 05:26:12 INFO FileScanRDD: Reading File path: file:///Users/sojaehwi/Documents/GitHub/LECTURE_Bigdata/data/경기도%20의정부시_인구현황_20230831.csv, range: 0-1758, partition values: [empty row]\n",
      "23/11/27 05:26:12 INFO CodeGenerator: Code generated in 6.352042 ms\n",
      "23/11/27 05:26:12 INFO Executor: Finished task 0.0 in stage 0.0 (TID 0). 1860 bytes result sent to driver\n",
      "23/11/27 05:26:12 INFO TaskSetManager: Finished task 0.0 in stage 0.0 (TID 0) in 119 ms on 172.30.1.29 (executor driver) (1/1)\n",
      "23/11/27 05:26:12 INFO TaskSchedulerImpl: Removed TaskSet 0.0, whose tasks have all completed, from pool \n",
      "23/11/27 05:26:12 INFO DAGScheduler: ResultStage 0 (csv at NativeMethodAccessorImpl.java:0) finished in 0.213 s\n",
      "23/11/27 05:26:12 INFO DAGScheduler: Job 0 is finished. Cancelling potential speculative or zombie tasks for this job\n",
      "23/11/27 05:26:12 INFO TaskSchedulerImpl: Killing all running tasks in stage 0: Stage finished\n",
      "23/11/27 05:26:12 INFO DAGScheduler: Job 0 finished: csv at NativeMethodAccessorImpl.java:0, took 0.237627 s\n",
      "23/11/27 05:26:12 INFO CodeGenerator: Code generated in 4.697708 ms\n",
      "23/11/27 05:26:12 INFO BlockManagerInfo: Removed broadcast_1_piece0 on 172.30.1.29:59406 in memory (size: 7.9 KiB, free: 434.4 MiB)\n",
      "23/11/27 05:26:12 INFO FileSourceStrategy: Pushed Filters: \n",
      "23/11/27 05:26:12 INFO FileSourceStrategy: Post-Scan Filters: \n",
      "23/11/27 05:26:12 INFO MemoryStore: Block broadcast_2 stored as values in memory (estimated size 199.4 KiB, free 434.0 MiB)\n",
      "23/11/27 05:26:12 INFO MemoryStore: Block broadcast_2_piece0 stored as bytes in memory (estimated size 34.2 KiB, free 433.9 MiB)\n",
      "23/11/27 05:26:12 INFO BlockManagerInfo: Added broadcast_2_piece0 in memory on 172.30.1.29:59406 (size: 34.2 KiB, free: 434.3 MiB)\n",
      "23/11/27 05:26:12 INFO SparkContext: Created broadcast 2 from showString at NativeMethodAccessorImpl.java:0\n",
      "23/11/27 05:26:12 INFO FileSourceScanExec: Planning scan with bin packing, max size: 4196062 bytes, open cost is considered as scanning 4194304 bytes.\n",
      "23/11/27 05:26:12 INFO SparkContext: Starting job: showString at NativeMethodAccessorImpl.java:0\n",
      "23/11/27 05:26:12 INFO DAGScheduler: Got job 1 (showString at NativeMethodAccessorImpl.java:0) with 1 output partitions\n",
      "23/11/27 05:26:12 INFO DAGScheduler: Final stage: ResultStage 1 (showString at NativeMethodAccessorImpl.java:0)\n",
      "23/11/27 05:26:12 INFO DAGScheduler: Parents of final stage: List()\n",
      "23/11/27 05:26:12 INFO DAGScheduler: Missing parents: List()\n",
      "23/11/27 05:26:12 INFO DAGScheduler: Submitting ResultStage 1 (MapPartitionsRDD[13] at showString at NativeMethodAccessorImpl.java:0), which has no missing parents\n"
     ]
    },
    {
     "name": "stdout",
     "output_type": "stream",
     "text": [
      "23/11/27 05:26:12 INFO MemoryStore: Block broadcast_3 stored as values in memory (estimated size 12.1 KiB, free 433.9 MiB)\n",
      "23/11/27 05:26:12 INFO MemoryStore: Block broadcast_3_piece0 stored as bytes in memory (estimated size 6.4 KiB, free 433.9 MiB)\n",
      "23/11/27 05:26:12 INFO BlockManagerInfo: Added broadcast_3_piece0 in memory on 172.30.1.29:59406 (size: 6.4 KiB, free: 434.3 MiB)\n",
      "23/11/27 05:26:12 INFO SparkContext: Created broadcast 3 from broadcast at DAGScheduler.scala:1535\n",
      "23/11/27 05:26:12 INFO DAGScheduler: Submitting 1 missing tasks from ResultStage 1 (MapPartitionsRDD[13] at showString at NativeMethodAccessorImpl.java:0) (first 15 tasks are for partitions Vector(0))\n",
      "23/11/27 05:26:12 INFO TaskSchedulerImpl: Adding task set 1.0 with 1 tasks resource profile 0\n",
      "23/11/27 05:26:12 INFO TaskSetManager: Starting task 0.0 in stage 1.0 (TID 1) (172.30.1.29, executor driver, partition 0, PROCESS_LOCAL, 7991 bytes) \n",
      "23/11/27 05:26:12 INFO Executor: Running task 0.0 in stage 1.0 (TID 1)\n",
      "23/11/27 05:26:12 INFO FileScanRDD: Reading File path: file:///Users/sojaehwi/Documents/GitHub/LECTURE_Bigdata/data/경기도%20의정부시_인구현황_20230831.csv, range: 0-1758, partition values: [empty row]\n",
      "23/11/27 05:26:12 INFO BlockManagerInfo: Removed broadcast_0_piece0 on 172.30.1.29:59406 in memory (size: 34.3 KiB, free: 434.4 MiB)\n",
      "23/11/27 05:26:12 INFO CodeGenerator: Code generated in 33.611833 ms\n",
      "23/11/27 05:26:12 INFO Executor: Finished task 0.0 in stage 1.0 (TID 1). 2124 bytes result sent to driver\n",
      "23/11/27 05:26:12 INFO TaskSetManager: Finished task 0.0 in stage 1.0 (TID 1) in 77 ms on 172.30.1.29 (executor driver) (1/1)\n",
      "23/11/27 05:26:12 INFO TaskSchedulerImpl: Removed TaskSet 1.0, whose tasks have all completed, from pool \n",
      "23/11/27 05:26:12 INFO DAGScheduler: ResultStage 1 (showString at NativeMethodAccessorImpl.java:0) finished in 0.088 s\n",
      "23/11/27 05:26:12 INFO DAGScheduler: Job 1 is finished. Cancelling potential speculative or zombie tasks for this job\n",
      "23/11/27 05:26:12 INFO TaskSchedulerImpl: Killing all running tasks in stage 1: Stage finished\n",
      "23/11/27 05:26:12 INFO DAGScheduler: Job 1 finished: showString at NativeMethodAccessorImpl.java:0, took 0.089902 s\n",
      "23/11/27 05:26:12 INFO CodeGenerator: Code generated in 22.498084 ms\n",
      "+---------+----------+----------+----------+----------+----------+----------+------+------+----------+-----------------+----------+------------+--------------+\n",
      "| 행정기관|인구수(계)|인구수(남)|인구수(여)|구성비(계)|구성비(남)|구성비(여)|  성비|세대수|세대당인구|       관리기관명|관리부서명|부서전화번호|데이터기준일자|\n",
      "+---------+----------+----------+----------+----------+----------+----------+------+------+----------+-----------------+----------+------------+--------------+\n",
      "|의정부1동|    37557 |    19039 |    18518 |      8.08|       4.1|      3.98|102.81|22514 |      1.67|경기도 의정부시청|민원여권과|031-828-2466|    2023-06-30|\n",
      "|의정부2동|    29729 |    14817 |    14912 |       6.4|      3.19|      3.21| 99.36|16007 |      1.86|경기도 의정부시청|민원여권과|031-828-2466|    2023-06-30|\n",
      "|  호원1동|    34658 |    16762 |    17896 |      7.46|      3.61|      3.85| 93.66|15296 |      2.27|경기도 의정부시청|민원여권과|031-828-2466|    2023-06-30|\n",
      "|  호원2동|    33400 |    16088 |    17312 |      7.19|      3.46|      3.72| 92.93|13422 |      2.49|경기도 의정부시청|민원여권과|031-828-2466|    2023-06-30|\n",
      "|   장암동|    19197 |     9156 |    10041 |      4.13|      1.97|      2.16| 91.19| 8324 |      2.31|경기도 의정부시청|민원여권과|031-828-2466|    2023-06-30|\n",
      "+---------+----------+----------+----------+----------+----------+----------+------+------+----------+-----------------+----------+------------+--------------+\n",
      "only showing top 5 rows\n",
      "\n",
      "23/11/27 05:26:12 INFO InMemoryFileIndex: It took 1 ms to list leaf files for 1 paths.\n",
      "23/11/27 05:26:12 INFO InMemoryFileIndex: It took 0 ms to list leaf files for 1 paths.\n",
      "23/11/27 05:26:12 INFO FileSourceStrategy: Pushed Filters: \n",
      "23/11/27 05:26:12 INFO FileSourceStrategy: Post-Scan Filters: \n",
      "23/11/27 05:26:12 INFO MemoryStore: Block broadcast_4 stored as values in memory (estimated size 199.5 KiB, free 434.0 MiB)\n",
      "23/11/27 05:26:12 INFO BlockManagerInfo: Removed broadcast_3_piece0 on 172.30.1.29:59406 in memory (size: 6.4 KiB, free: 434.4 MiB)\n",
      "23/11/27 05:26:12 INFO MemoryStore: Block broadcast_4_piece0 stored as bytes in memory (estimated size 34.3 KiB, free 433.9 MiB)\n",
      "23/11/27 05:26:12 INFO BlockManagerInfo: Added broadcast_4_piece0 in memory on 172.30.1.29:59406 (size: 34.3 KiB, free: 434.3 MiB)\n",
      "23/11/27 05:26:12 INFO SparkContext: Created broadcast 4 from csv at NativeMethodAccessorImpl.java:0\n",
      "23/11/27 05:26:12 INFO FileSourceScanExec: Planning scan with bin packing, max size: 4195172 bytes, open cost is considered as scanning 4194304 bytes.\n",
      "23/11/27 05:26:12 INFO SparkContext: Starting job: csv at NativeMethodAccessorImpl.java:0\n",
      "23/11/27 05:26:12 INFO DAGScheduler: Got job 2 (csv at NativeMethodAccessorImpl.java:0) with 1 output partitions\n",
      "23/11/27 05:26:12 INFO DAGScheduler: Final stage: ResultStage 2 (csv at NativeMethodAccessorImpl.java:0)\n",
      "23/11/27 05:26:12 INFO DAGScheduler: Parents of final stage: List()\n",
      "23/11/27 05:26:12 INFO DAGScheduler: Missing parents: List()\n",
      "23/11/27 05:26:12 INFO DAGScheduler: Submitting ResultStage 2 (MapPartitionsRDD[20] at csv at NativeMethodAccessorImpl.java:0), which has no missing parents\n",
      "23/11/27 05:26:12 INFO MemoryStore: Block broadcast_5 stored as values in memory (estimated size 17.6 KiB, free 433.9 MiB)\n",
      "23/11/27 05:26:12 INFO BlockManagerInfo: Removed broadcast_2_piece0 on 172.30.1.29:59406 in memory (size: 34.2 KiB, free: 434.4 MiB)\n",
      "23/11/27 05:26:12 INFO MemoryStore: Block broadcast_5_piece0 stored as bytes in memory (estimated size 7.9 KiB, free 433.9 MiB)\n",
      "23/11/27 05:26:12 INFO BlockManagerInfo: Added broadcast_5_piece0 in memory on 172.30.1.29:59406 (size: 7.9 KiB, free: 434.4 MiB)\n",
      "23/11/27 05:26:12 INFO SparkContext: Created broadcast 5 from broadcast at DAGScheduler.scala:1535\n",
      "23/11/27 05:26:12 INFO DAGScheduler: Submitting 1 missing tasks from ResultStage 2 (MapPartitionsRDD[20] at csv at NativeMethodAccessorImpl.java:0) (first 15 tasks are for partitions Vector(0))\n",
      "23/11/27 05:26:12 INFO TaskSchedulerImpl: Adding task set 2.0 with 1 tasks resource profile 0\n",
      "23/11/27 05:26:12 INFO TaskSetManager: Starting task 0.0 in stage 2.0 (TID 2) (172.30.1.29, executor driver, partition 0, PROCESS_LOCAL, 8030 bytes) \n",
      "23/11/27 05:26:12 INFO Executor: Running task 0.0 in stage 2.0 (TID 2)\n",
      "23/11/27 05:26:12 INFO FileScanRDD: Reading File path: file:///Users/sojaehwi/Documents/GitHub/LECTURE_Bigdata/data/제주특별자치도%20서귀포시_고령화비율및노령화지수현황_20230324.csv, range: 0-868, partition values: [empty row]\n",
      "23/11/27 05:26:12 INFO Executor: Finished task 0.0 in stage 2.0 (TID 2). 1742 bytes result sent to driver\n",
      "23/11/27 05:26:12 INFO TaskSetManager: Finished task 0.0 in stage 2.0 (TID 2) in 13 ms on 172.30.1.29 (executor driver) (1/1)\n",
      "23/11/27 05:26:12 INFO TaskSchedulerImpl: Removed TaskSet 2.0, whose tasks have all completed, from pool \n",
      "23/11/27 05:26:12 INFO DAGScheduler: ResultStage 2 (csv at NativeMethodAccessorImpl.java:0) finished in 0.028 s\n",
      "23/11/27 05:26:12 INFO DAGScheduler: Job 2 is finished. Cancelling potential speculative or zombie tasks for this job\n",
      "23/11/27 05:26:12 INFO TaskSchedulerImpl: Killing all running tasks in stage 2: Stage finished\n",
      "23/11/27 05:26:12 INFO DAGScheduler: Job 2 finished: csv at NativeMethodAccessorImpl.java:0, took 0.029598 s\n",
      "23/11/27 05:26:12 INFO BlockManagerInfo: Removed broadcast_5_piece0 on 172.30.1.29:59406 in memory (size: 7.9 KiB, free: 434.4 MiB)\n",
      "23/11/27 05:26:12 INFO FileSourceStrategy: Pushed Filters: \n",
      "23/11/27 05:26:12 INFO FileSourceStrategy: Post-Scan Filters: \n",
      "23/11/27 05:26:12 INFO MemoryStore: Block broadcast_6 stored as values in memory (estimated size 199.4 KiB, free 434.0 MiB)\n",
      "23/11/27 05:26:12 INFO BlockManagerInfo: Removed broadcast_4_piece0 on 172.30.1.29:59406 in memory (size: 34.3 KiB, free: 434.4 MiB)\n",
      "23/11/27 05:26:12 INFO MemoryStore: Block broadcast_6_piece0 stored as bytes in memory (estimated size 34.2 KiB, free 434.2 MiB)\n",
      "23/11/27 05:26:12 INFO BlockManagerInfo: Added broadcast_6_piece0 in memory on 172.30.1.29:59406 (size: 34.2 KiB, free: 434.4 MiB)\n",
      "23/11/27 05:26:12 INFO SparkContext: Created broadcast 6 from showString at NativeMethodAccessorImpl.java:0\n",
      "23/11/27 05:26:12 INFO FileSourceScanExec: Planning scan with bin packing, max size: 4195172 bytes, open cost is considered as scanning 4194304 bytes.\n"
     ]
    },
    {
     "name": "stdout",
     "output_type": "stream",
     "text": [
      "23/11/27 05:26:12 INFO SparkContext: Starting job: showString at NativeMethodAccessorImpl.java:0\n",
      "23/11/27 05:26:12 INFO DAGScheduler: Got job 3 (showString at NativeMethodAccessorImpl.java:0) with 1 output partitions\n",
      "23/11/27 05:26:12 INFO DAGScheduler: Final stage: ResultStage 3 (showString at NativeMethodAccessorImpl.java:0)\n",
      "23/11/27 05:26:12 INFO DAGScheduler: Parents of final stage: List()\n",
      "23/11/27 05:26:12 INFO DAGScheduler: Missing parents: List()\n",
      "23/11/27 05:26:12 INFO DAGScheduler: Submitting ResultStage 3 (MapPartitionsRDD[27] at showString at NativeMethodAccessorImpl.java:0), which has no missing parents\n",
      "23/11/27 05:26:12 INFO MemoryStore: Block broadcast_7 stored as values in memory (estimated size 11.4 KiB, free 434.2 MiB)\n",
      "23/11/27 05:26:12 INFO MemoryStore: Block broadcast_7_piece0 stored as bytes in memory (estimated size 6.1 KiB, free 434.2 MiB)\n",
      "23/11/27 05:26:12 INFO BlockManagerInfo: Added broadcast_7_piece0 in memory on 172.30.1.29:59406 (size: 6.1 KiB, free: 434.4 MiB)\n",
      "23/11/27 05:26:12 INFO SparkContext: Created broadcast 7 from broadcast at DAGScheduler.scala:1535\n",
      "23/11/27 05:26:12 INFO DAGScheduler: Submitting 1 missing tasks from ResultStage 3 (MapPartitionsRDD[27] at showString at NativeMethodAccessorImpl.java:0) (first 15 tasks are for partitions Vector(0))\n",
      "23/11/27 05:26:12 INFO TaskSchedulerImpl: Adding task set 3.0 with 1 tasks resource profile 0\n",
      "23/11/27 05:26:12 INFO TaskSetManager: Starting task 0.0 in stage 3.0 (TID 3) (172.30.1.29, executor driver, partition 0, PROCESS_LOCAL, 8030 bytes) \n",
      "23/11/27 05:26:12 INFO Executor: Running task 0.0 in stage 3.0 (TID 3)\n",
      "23/11/27 05:26:12 INFO FileScanRDD: Reading File path: file:///Users/sojaehwi/Documents/GitHub/LECTURE_Bigdata/data/제주특별자치도%20서귀포시_고령화비율및노령화지수현황_20230324.csv, range: 0-868, partition values: [empty row]\n",
      "23/11/27 05:26:12 INFO CodeGenerator: Code generated in 10.106541 ms\n",
      "23/11/27 05:26:12 INFO Executor: Finished task 0.0 in stage 3.0 (TID 3). 1858 bytes result sent to driver\n",
      "23/11/27 05:26:12 INFO TaskSetManager: Finished task 0.0 in stage 3.0 (TID 3) in 39 ms on 172.30.1.29 (executor driver) (1/1)\n",
      "23/11/27 05:26:12 INFO TaskSchedulerImpl: Removed TaskSet 3.0, whose tasks have all completed, from pool \n",
      "23/11/27 05:26:12 INFO DAGScheduler: ResultStage 3 (showString at NativeMethodAccessorImpl.java:0) finished in 0.050 s\n",
      "23/11/27 05:26:12 INFO DAGScheduler: Job 3 is finished. Cancelling potential speculative or zombie tasks for this job\n",
      "23/11/27 05:26:12 INFO TaskSchedulerImpl: Killing all running tasks in stage 3: Stage finished\n",
      "23/11/27 05:26:12 INFO DAGScheduler: Job 3 finished: showString at NativeMethodAccessorImpl.java:0, took 0.064414 s\n",
      "23/11/27 05:26:12 INFO CodeGenerator: Code generated in 9.870542 ms\n",
      "+----+---+---------------+----------------+---------------+----------+----------+--------------+\n",
      "|년도| 월|서귀포시 인구수|65세이상 인구수 |14세이하 인구수|고령화비율|노령화지수|데이터기준일자|\n",
      "+----+---+---------------+----------------+---------------+----------+----------+--------------+\n",
      "|2008| 12|         153120|           22241|          26792|     14.52|     83.01|    2023-03-24|\n",
      "|2009| 12|         152285|           23031|          25504|     15.12|      90.3|    2023-03-24|\n",
      "|2010| 12|         153716|           23990|          24633|      15.6|     97.38|    2023-03-24|\n",
      "|2011| 12|         153366|           24839|          23686|      16.2|    104.86|    2023-03-24|\n",
      "|2012| 12|         154057|           25826|          22861|     16.76|    112.97|    2023-03-24|\n",
      "+----+---+---------------+----------------+---------------+----------+----------+--------------+\n",
      "only showing top 5 rows\n",
      "\n",
      "23/11/27 05:26:12 INFO SparkContext: SparkContext is stopping with exitCode 0.\n",
      "23/11/27 05:26:12 INFO SparkUI: Stopped Spark web UI at http://172.30.1.29:4041\n",
      "23/11/27 05:26:12 INFO MapOutputTrackerMasterEndpoint: MapOutputTrackerMasterEndpoint stopped!\n",
      "23/11/27 05:26:12 INFO MemoryStore: MemoryStore cleared\n",
      "23/11/27 05:26:12 INFO BlockManager: BlockManager stopped\n",
      "23/11/27 05:26:12 INFO BlockManagerMaster: BlockManagerMaster stopped\n",
      "23/11/27 05:26:12 INFO OutputCommitCoordinator$OutputCommitCoordinatorEndpoint: OutputCommitCoordinator stopped!\n",
      "23/11/27 05:26:12 INFO SparkContext: Successfully stopped SparkContext\n",
      "23/11/27 05:26:12 INFO ShutdownHookManager: Shutdown hook called\n",
      "23/11/27 05:26:12 INFO ShutdownHookManager: Deleting directory /private/var/folders/v4/z0sc2ps925v8zh04gvwkx_500000gn/T/spark-8effc4bf-1536-44f7-a4d3-ca4a990aff2f\n",
      "23/11/27 05:26:12 INFO ShutdownHookManager: Deleting directory /private/var/folders/v4/z0sc2ps925v8zh04gvwkx_500000gn/T/spark-a63799cd-1f49-4de6-8560-47c217995782/pyspark-29804b3a-dc10-4427-8a74-03e3803fd0f1\n",
      "23/11/27 05:26:12 INFO ShutdownHookManager: Deleting directory /private/var/folders/v4/z0sc2ps925v8zh04gvwkx_500000gn/T/spark-a63799cd-1f49-4de6-8560-47c217995782\n"
     ]
    }
   ],
   "source": [
    "!spark-submit src/ds3_popCsvRead.py"
   ]
  },
  {
   "cell_type": "code",
   "execution_count": 28,
   "id": "a9096f46",
   "metadata": {},
   "outputs": [
    {
     "name": "stdout",
     "output_type": "stream",
     "text": [
      "/Users/sojaehwi/opt/anaconda3/bin/python\r\n"
     ]
    }
   ],
   "source": [
    "!which python"
   ]
  },
  {
   "cell_type": "code",
   "execution_count": 29,
   "id": "20e365e3",
   "metadata": {},
   "outputs": [
    {
     "name": "stdout",
     "output_type": "stream",
     "text": [
      "23/11/27 05:26:17 WARN Utils: Your hostname, sojaehwiui-MacBookPro.local resolves to a loopback address: 127.0.0.1; using 172.30.1.29 instead (on interface en0)\n",
      "23/11/27 05:26:17 WARN Utils: Set SPARK_LOCAL_IP if you need to bind to another address\n",
      "Setting default log level to \"WARN\".\n",
      "To adjust logging level use sc.setLogLevel(newLevel). For SparkR, use setLogLevel(newLevel).\n",
      "23/11/27 05:26:18 WARN NativeCodeLoader: Unable to load native-hadoop library for your platform... using builtin-java classes where applicable\n",
      "23/11/27 05:26:18 WARN Utils: Service 'SparkUI' could not bind on port 4040. Attempting port 4041.\n",
      "---------RESULT-----------\n",
      "+---------+----------+----------+----------+----------+----------+----------+------+------+----------+-----------------+----------+------------+--------------+\n",
      "| 행정기관|인구수(계)|인구수(남)|인구수(여)|구성비(계)|구성비(남)|구성비(여)|  성비|세대수|세대당인구|       관리기관명|관리부서명|부서전화번호|데이터기준일자|\n",
      "+---------+----------+----------+----------+----------+----------+----------+------+------+----------+-----------------+----------+------------+--------------+\n",
      "|의정부1동|    37557 |    19039 |    18518 |      8.08|       4.1|      3.98|102.81|22514 |      1.67|경기도 의정부시청|민원여권과|031-828-2466|    2023-06-30|\n",
      "|의정부2동|    29729 |    14817 |    14912 |       6.4|      3.19|      3.21| 99.36|16007 |      1.86|경기도 의정부시청|민원여권과|031-828-2466|    2023-06-30|\n",
      "|  호원1동|    34658 |    16762 |    17896 |      7.46|      3.61|      3.85| 93.66|15296 |      2.27|경기도 의정부시청|민원여권과|031-828-2466|    2023-06-30|\n",
      "|  호원2동|    33400 |    16088 |    17312 |      7.19|      3.46|      3.72| 92.93|13422 |      2.49|경기도 의정부시청|민원여권과|031-828-2466|    2023-06-30|\n",
      "|   장암동|    19197 |     9156 |    10041 |      4.13|      1.97|      2.16| 91.19| 8324 |      2.31|경기도 의정부시청|민원여권과|031-828-2466|    2023-06-30|\n",
      "+---------+----------+----------+----------+----------+----------+----------+------+------+----------+-----------------+----------+------------+--------------+\n",
      "only showing top 5 rows\n",
      "\n",
      "+----+---+---------------+----------------+---------------+----------+----------+--------------+\n",
      "|년도| 월|서귀포시 인구수|65세이상 인구수 |14세이하 인구수|고령화비율|노령화지수|데이터기준일자|\n",
      "+----+---+---------------+----------------+---------------+----------+----------+--------------+\n",
      "|2008| 12|         153120|           22241|          26792|     14.52|     83.01|    2023-03-24|\n",
      "|2009| 12|         152285|           23031|          25504|     15.12|      90.3|    2023-03-24|\n",
      "|2010| 12|         153716|           23990|          24633|      15.6|     97.38|    2023-03-24|\n",
      "|2011| 12|         153366|           24839|          23686|      16.2|    104.86|    2023-03-24|\n",
      "|2012| 12|         154057|           25826|          22861|     16.76|    112.97|    2023-03-24|\n",
      "+----+---+---------------+----------------+---------------+----------+----------+--------------+\n",
      "only showing top 5 rows\n",
      "\n"
     ]
    }
   ],
   "source": [
    "!python src/ds3_popCsvRead.py"
   ]
  },
  {
   "cell_type": "markdown",
   "id": "2781f84f",
   "metadata": {},
   "source": [
    "# Map-Reduce"
   ]
  },
  {
   "cell_type": "markdown",
   "id": "c0f21702",
   "metadata": {},
   "source": [
    "### 1. Python으로 따라해보기"
   ]
  },
  {
   "cell_type": "markdown",
   "id": "7e2c4436",
   "metadata": {},
   "source": [
    "### 1-1. map() : 각 데이터 요소에 함수를 적용해서 list를 반환"
   ]
  },
  {
   "cell_type": "code",
   "execution_count": 30,
   "id": "9ea24514",
   "metadata": {},
   "outputs": [
    {
     "name": "stdout",
     "output_type": "stream",
     "text": [
      "[102.56, 97.7, 99.14, 100.03999999999999]\n"
     ]
    }
   ],
   "source": [
    "def c2f(c):\n",
    "    return (float(9)/5)*c + 32\n",
    "\n",
    "f= map(c2f, [39.2, 36.5, 37.3, 37.8])\n",
    "print (list(f))"
   ]
  },
  {
   "cell_type": "code",
   "execution_count": 31,
   "id": "7a9333df",
   "metadata": {},
   "outputs": [
    {
     "name": "stdout",
     "output_type": "stream",
     "text": [
      "3\n"
     ]
    }
   ],
   "source": [
    "x = lambda x, y : x + y\n",
    "\n",
    "print(x(1, 2))"
   ]
  },
  {
   "cell_type": "code",
   "execution_count": 32,
   "id": "126e5ecf",
   "metadata": {},
   "outputs": [
    {
     "name": "stdout",
     "output_type": "stream",
     "text": [
      "<map object at 0x7fc548f56250> [50.0, 68.0, 86.0, 104.0]\n"
     ]
    }
   ],
   "source": [
    "# lambda func\n",
    "celsius = [10, 20, 30, 40]\n",
    "f=map(lambda c:(float(9)/5)*c + 32, celsius)\n",
    "print(f, list(f))"
   ]
  },
  {
   "cell_type": "code",
   "execution_count": 33,
   "id": "5afa479f",
   "metadata": {},
   "outputs": [
    {
     "data": {
      "text/plain": [
       "[['H'], ['e'], ['l'], ['l'], ['o'], [], ['W'], ['o'], ['r'], ['l'], ['d']]"
      ]
     },
     "execution_count": 33,
     "metadata": {},
     "output_type": "execute_result"
    }
   ],
   "source": [
    "list(map(lambda x:x.split(), \"Hello World\"))"
   ]
  },
  {
   "cell_type": "markdown",
   "id": "2f326bc7",
   "metadata": {},
   "source": [
    "### 1-2. filter(): 데이터를 선별한다."
   ]
  },
  {
   "cell_type": "code",
   "execution_count": 34,
   "id": "63456864",
   "metadata": {},
   "outputs": [
    {
     "name": "stdout",
     "output_type": "stream",
     "text": [
      "[1, 1, 3, 5, 13, 21, 55]\n"
     ]
    }
   ],
   "source": [
    "fib = [0,1,1,2,3,5,8,13,21,34,55]\n",
    "result = filter(lambda x: x % 2, fib)\n",
    "print (list(result))"
   ]
  },
  {
   "cell_type": "markdown",
   "id": "bf9ef8c7",
   "metadata": {},
   "source": [
    "### 1-3. reduce() : 데이터에 대해 함수를 반복적으로 적용하여 결과 값을 만들게 된다\n",
    "\n",
    "reduce() 역시 함수와 데이터 2개의 인자를 받는다.\n",
    "\n",
    "아래 예는 1부터 101까지 두 수 x,y 인자를 반복해서 더한다는 것이다. x는 부분합계로 y를 계속 저장해 나가는 역할을 하며, 최종 합계에 이르게 된다."
   ]
  },
  {
   "cell_type": "code",
   "execution_count": 35,
   "id": "ef2a80f6",
   "metadata": {},
   "outputs": [
    {
     "data": {
      "text/plain": [
       "5050"
      ]
     },
     "execution_count": 35,
     "metadata": {},
     "output_type": "execute_result"
    }
   ],
   "source": [
    "from functools import reduce\n",
    "reduce(lambda x, y: x + y, range(1,101))"
   ]
  },
  {
   "cell_type": "markdown",
   "id": "40179bfe",
   "metadata": {},
   "source": [
    "### 2. RDD 사용하기"
   ]
  },
  {
   "cell_type": "markdown",
   "id": "bb34dfdd",
   "metadata": {},
   "source": [
    "### 2-1. map() : 각 데이터 요소에 함수 적용"
   ]
  },
  {
   "cell_type": "code",
   "execution_count": 36,
   "id": "92125f74",
   "metadata": {},
   "outputs": [
    {
     "name": "stdout",
     "output_type": "stream",
     "text": [
      "PythonRDD[37] at RDD at PythonRDD.scala:53\n"
     ]
    }
   ],
   "source": [
    "nRdd = spark.sparkContext.parallelize([1, 2, 3, 4])\n",
    "squared = nRdd.map(lambda x: x * x)\n",
    "\n",
    "print (squared)"
   ]
  },
  {
   "cell_type": "code",
   "execution_count": 37,
   "id": "73a72e44",
   "metadata": {},
   "outputs": [
    {
     "data": {
      "text/plain": [
       "[1, 4, 9, 16]"
      ]
     },
     "execution_count": 37,
     "metadata": {},
     "output_type": "execute_result"
    }
   ],
   "source": [
    "squared.collect()   #변환의 실제 경과 보기"
   ]
  },
  {
   "cell_type": "markdown",
   "id": "6e313916",
   "metadata": {},
   "source": [
    "#### 문자열을 정수로 반환하기"
   ]
  },
  {
   "cell_type": "code",
   "execution_count": 38,
   "id": "661c35c7",
   "metadata": {},
   "outputs": [
    {
     "data": {
      "text/plain": [
       "['35, 2', '40, 27', '12, 38', '15, 31', '21, 1']"
      ]
     },
     "execution_count": 38,
     "metadata": {},
     "output_type": "execute_result"
    }
   ],
   "source": [
    "myRdd4.take(5)"
   ]
  },
  {
   "cell_type": "code",
   "execution_count": 39,
   "id": "43f9f74b",
   "metadata": {},
   "outputs": [
    {
     "data": {
      "text/plain": [
       "[['35', ' 2'], ['40', ' 27'], ['12', ' 38'], ['15', ' 31'], ['21', ' 1']]"
      ]
     },
     "execution_count": 39,
     "metadata": {},
     "output_type": "execute_result"
    }
   ],
   "source": [
    "myRdd5 = myRdd4.map(lambda x : x.split(','))\n",
    "myRdd5.take(5)"
   ]
  },
  {
   "cell_type": "code",
   "execution_count": 40,
   "id": "77037391",
   "metadata": {},
   "outputs": [
    {
     "data": {
      "text/plain": [
       "[[35, 2], [40, 27], [12, 38], [15, 31], [21, 1]]"
      ]
     },
     "execution_count": 40,
     "metadata": {},
     "output_type": "execute_result"
    }
   ],
   "source": [
    "myRdd6 = myRdd5.map(lambda x: [int(i) for i in x])\n",
    "myRdd6.take(5)"
   ]
  },
  {
   "cell_type": "markdown",
   "id": "7c0a3577",
   "metadata": {},
   "source": [
    "#### 단어 분리하기"
   ]
  },
  {
   "cell_type": "code",
   "execution_count": 41,
   "id": "00ae9e5e",
   "metadata": {},
   "outputs": [],
   "source": [
    "myRdd2=spark.sparkContext\\\n",
    "    .textFile(os.path.join(\"data\",\"ds_spark_wiki.txt\"))"
   ]
  },
  {
   "cell_type": "code",
   "execution_count": 42,
   "id": "cbc41be4",
   "metadata": {},
   "outputs": [],
   "source": [
    "sentences=myRdd2.map(lambda x:x.split()) #공백을 기준으로 분할"
   ]
  },
  {
   "cell_type": "code",
   "execution_count": 43,
   "id": "dce050df",
   "metadata": {},
   "outputs": [
    {
     "data": {
      "text/plain": [
       "10"
      ]
     },
     "execution_count": 43,
     "metadata": {},
     "output_type": "execute_result"
    }
   ],
   "source": [
    "sentences.count()"
   ]
  },
  {
   "cell_type": "code",
   "execution_count": 44,
   "id": "a9e6d22c",
   "metadata": {},
   "outputs": [
    {
     "data": {
      "text/plain": [
       "[['Wikipedia'],\n",
       " ['Apache',\n",
       "  'Spark',\n",
       "  'is',\n",
       "  'an',\n",
       "  'open',\n",
       "  'source',\n",
       "  'cluster',\n",
       "  'computing',\n",
       "  'framework.'],\n",
       " ['아파치', '스파크는', '오픈', '소스', '클러스터', '컴퓨팅', '프레임워크이다.']]"
      ]
     },
     "execution_count": 44,
     "metadata": {},
     "output_type": "execute_result"
    }
   ],
   "source": [
    "sentences.take(3)"
   ]
  },
  {
   "cell_type": "code",
   "execution_count": 45,
   "id": "69d53908",
   "metadata": {},
   "outputs": [
    {
     "name": "stdout",
     "output_type": "stream",
     "text": [
      "Wikipedia \n",
      "-----\n",
      "Apache Spark is an open source cluster computing framework. \n",
      "-----\n",
      "아파치 스파크는 오픈 소스 클러스터 컴퓨팅 프레임워크이다. \n",
      "-----\n",
      "Apache Spark Apache Spark Apache Spark Apache Spark \n",
      "-----\n",
      "아파치 스파크 아파치 스파크 아파치 스파크 아파치 스파크 \n",
      "-----\n",
      "Originally developed at the University of California, Berkeley's AMPLab, \n",
      "-----\n",
      "the Spark codebase was later donated to the Apache Software Foundation, \n",
      "-----\n",
      "which has maintained it since. \n",
      "-----\n",
      "Spark provides an interface for programming entire clusters with \n",
      "-----\n",
      "implicit data parallelism and fault-tolerance. \n",
      "-----\n"
     ]
    }
   ],
   "source": [
    "for line in sentences.collect():\n",
    "    for word in line:\n",
    "        print (word, end=\" \")\n",
    "    print (\"\\n-----\")"
   ]
  },
  {
   "cell_type": "code",
   "execution_count": 46,
   "id": "6a7c9140",
   "metadata": {},
   "outputs": [
    {
     "data": {
      "text/plain": [
       "[9, 59, 32, 51, 31, 72, 71, 30, 64, 46]"
      ]
     },
     "execution_count": 46,
     "metadata": {},
     "output_type": "execute_result"
    }
   ],
   "source": [
    "myRdd2.map(lambda s:len(s)).collect() #한 줄 Length"
   ]
  },
  {
   "cell_type": "code",
   "execution_count": 47,
   "id": "204055f3",
   "metadata": {},
   "outputs": [
    {
     "data": {
      "text/plain": [
       "'S'"
      ]
     },
     "execution_count": 47,
     "metadata": {},
     "output_type": "execute_result"
    }
   ],
   "source": [
    "'s'.upper() #대소문자 변환"
   ]
  },
  {
   "cell_type": "markdown",
   "id": "4a2126f5",
   "metadata": {},
   "source": [
    "### 2-2. \breduce() : 각 데이터 요소에 함수 적용"
   ]
  },
  {
   "cell_type": "code",
   "execution_count": 48,
   "id": "a5d1395e",
   "metadata": {},
   "outputs": [],
   "source": [
    "myRdd100 = spark.sparkContext.parallelize(range(1,101))"
   ]
  },
  {
   "cell_type": "code",
   "execution_count": 49,
   "id": "fce75321",
   "metadata": {},
   "outputs": [
    {
     "data": {
      "text/plain": [
       "5050"
      ]
     },
     "execution_count": 49,
     "metadata": {},
     "output_type": "execute_result"
    }
   ],
   "source": [
    "myRdd100.reduce(lambda subtotal, x: subtotal + x)"
   ]
  },
  {
   "cell_type": "markdown",
   "id": "d2378f10",
   "metadata": {},
   "source": [
    "### Fold\n",
    "reduce와 유사하나 파티션별로 초기값을 할당함(많이 안씀)"
   ]
  },
  {
   "cell_type": "code",
   "execution_count": 50,
   "id": "8b428f8d",
   "metadata": {},
   "outputs": [
    {
     "data": {
      "text/plain": [
       "[[1, 2, 3, 4, 5], [6, 7, 8, 9, 10]]"
      ]
     },
     "execution_count": 50,
     "metadata": {},
     "output_type": "execute_result"
    }
   ],
   "source": [
    "spark.sparkContext.parallelize(range(1,11),2).glom().collect()"
   ]
  },
  {
   "cell_type": "code",
   "execution_count": 51,
   "id": "28730388",
   "metadata": {},
   "outputs": [
    {
     "data": {
      "text/plain": [
       "85"
      ]
     },
     "execution_count": 51,
     "metadata": {},
     "output_type": "execute_result"
    }
   ],
   "source": [
    "# 파티션 수 2 * 초기값 10 + (초기값 10 + 55) = 85\n",
    "spark.sparkContext.parallelize(range(1,11),2).fold(10, lambda subtotal, x: subtotal + x)"
   ]
  },
  {
   "cell_type": "markdown",
   "id": "6485f13f",
   "metadata": {},
   "source": [
    "### 통계함수"
   ]
  },
  {
   "cell_type": "code",
   "execution_count": 52,
   "id": "485d5c4b",
   "metadata": {},
   "outputs": [
    {
     "name": "stdout",
     "output_type": "stream",
     "text": [
      "sum:  5050\n",
      "min:  1\n",
      "max:  100\n",
      "count:  100\n",
      "standard deviation: 28.86607004772212\n",
      "variance:  833.25\n"
     ]
    }
   ],
   "source": [
    "print (\"sum: \", myRdd100.sum())\n",
    "print (\"min: \", myRdd100.min())\n",
    "print (\"max: \", myRdd100.max())\n",
    "print (\"count: \", myRdd100.count())\n",
    "print (\"standard deviation:\", myRdd100.stdev())\n",
    "print (\"variance: \", myRdd100.variance())"
   ]
  },
  {
   "cell_type": "markdown",
   "id": "e102ccb7",
   "metadata": {},
   "source": [
    "### filter"
   ]
  },
  {
   "cell_type": "code",
   "execution_count": 53,
   "id": "715a07b4",
   "metadata": {},
   "outputs": [
    {
     "data": {
      "text/plain": [
       "['Wikipedia',\n",
       " 'Apache Spark is an open source cluster computing framework.',\n",
       " '아파치 스파크는 오픈 소스 클러스터 컴퓨팅 프레임워크이다.',\n",
       " 'Apache Spark Apache Spark Apache Spark Apache Spark',\n",
       " '아파치 스파크 아파치 스파크 아파치 스파크 아파치 스파크',\n",
       " \"Originally developed at the University of California, Berkeley's AMPLab,\",\n",
       " 'the Spark codebase was later donated to the Apache Software Foundation,',\n",
       " 'which has maintained it since.',\n",
       " 'Spark provides an interface for programming entire clusters with',\n",
       " 'implicit data parallelism and fault-tolerance.']"
      ]
     },
     "execution_count": 53,
     "metadata": {},
     "output_type": "execute_result"
    }
   ],
   "source": [
    "myRdd2.collect()"
   ]
  },
  {
   "cell_type": "code",
   "execution_count": 54,
   "id": "779f602d",
   "metadata": {},
   "outputs": [
    {
     "name": "stdout",
     "output_type": "stream",
     "text": [
      "How many lines having 'Spark':  4\n"
     ]
    }
   ],
   "source": [
    "myRdd_spark=myRdd2.filter(lambda line: \"Spark\" in line)\n",
    "print (\"How many lines having 'Spark': \", myRdd_spark.count())"
   ]
  },
  {
   "cell_type": "code",
   "execution_count": 55,
   "id": "88a81583",
   "metadata": {},
   "outputs": [
    {
     "name": "stdout",
     "output_type": "stream",
     "text": [
      "아파치 스파크는 오픈 소스 클러스터 컴퓨팅 프레임워크이다.\n"
     ]
    }
   ],
   "source": [
    "myRdd_unicode = myRdd2.filter(lambda line: u\"스파크\" in line) #u는 유니코드. pyhton3부터는 안해도된다.\n",
    "print (myRdd_unicode.first())"
   ]
  },
  {
   "cell_type": "markdown",
   "id": "03754566",
   "metadata": {},
   "source": [
    "### flat : 2차원 -> 1차원으로 변환"
   ]
  },
  {
   "cell_type": "code",
   "execution_count": 56,
   "id": "cf3ba4c8",
   "metadata": {},
   "outputs": [
    {
     "name": "stdout",
     "output_type": "stream",
     "text": [
      "Wikipedia Apache Spark open source cluster computing framework. 아파치 스파크는 오픈 소스 클러스터 컴퓨팅 프레임워크이다. Apache Spark Apache Spark Apache Spark Apache Spark 아파치 스파크 아파치 스파크 아파치 스파크 아파치 스파크 Originally developed University of California, Berkeley's AMPLab, Spark codebase was later donated to Apache Software Foundation, which has maintained it since. Spark provides interface programming entire clusters with implicit data parallelism and fault-tolerance. "
     ]
    }
   ],
   "source": [
    "# 문장 안에 stopwords를 포함한 경우는 제거되지 않는다. 따라서 flatMap()을 하고 단어에 대해 불용어를 제거해야 한다. \n",
    "# 불용어는 단어빈도를 계산하면서 제거하고 싶은 단어를 말한다. 불용어는 빈도를 세어도 의미가 없는 대명사 (이, 그, 저...) 또는 한 글자 단어 (등...)이 \n",
    "# 될 수 있다. \n",
    "# 한글은 유니코드로 처리해야 한다. 영어는 대소문자를 모두 처리하기 위해 여기서는 소문자로 만들어 처리한다.\n",
    "\n",
    "\n",
    "stopwords = ['is','am','are','the','for','a', 'an', 'at']\n",
    "myRdd_stop = myRdd2.flatMap(lambda x:x.split())\\\n",
    "                    .filter(lambda x: x not in stopwords)\n",
    "                            \n",
    "                            \n",
    "for words in myRdd_stop.collect():\n",
    "    print (words, end=' ')"
   ]
  },
  {
   "cell_type": "markdown",
   "id": "08793dec",
   "metadata": {},
   "source": [
    "### foreach() : map()과 달리 반환값이 없다"
   ]
  },
  {
   "cell_type": "code",
   "execution_count": 57,
   "id": "755025cb",
   "metadata": {},
   "outputs": [],
   "source": [
    "spark.sparkContext.parallelize([1, 2, 3, 4, 5]).foreach(lambda x: x + 1)"
   ]
  },
  {
   "cell_type": "code",
   "execution_count": 58,
   "id": "9d661c5b",
   "metadata": {},
   "outputs": [
    {
     "data": {
      "text/plain": [
       "[2, 3, 4, 5, 6]"
      ]
     },
     "execution_count": 58,
     "metadata": {},
     "output_type": "execute_result"
    }
   ],
   "source": [
    "spark.sparkContext.parallelize([1, 2, 3, 4, 5]).map(lambda x: x + 1).collect()"
   ]
  },
  {
   "cell_type": "code",
   "execution_count": 59,
   "id": "03134da2",
   "metadata": {},
   "outputs": [
    {
     "name": "stderr",
     "output_type": "stream",
     "text": [
      "1\n",
      "2\n",
      "3\n",
      "4\n",
      "5\n"
     ]
    }
   ],
   "source": [
    "def f(x): \n",
    "    print(x)\n",
    "    \n",
    "    \n",
    "spark.sparkContext.parallelize([1, 2, 3, 4, 5]).foreach(f)"
   ]
  },
  {
   "cell_type": "markdown",
   "id": "ddc37825",
   "metadata": {},
   "source": [
    "### Pipeline Chaining\n",
    "Function을 연이어서 적용하는 방식"
   ]
  },
  {
   "cell_type": "code",
   "execution_count": 60,
   "id": "8ca31b03",
   "metadata": {},
   "outputs": [
    {
     "name": "stdout",
     "output_type": "stream",
     "text": [
      "[9, 6, 5, 4, 6, 7, 9, 10, 3, 4, 2, 2, 4, 3, 8, 6, 5, 6, 5, 6, 5, 6, 5, 3, 3, 3, 3, 3, 3, 3, 3, 10, 9, 10, 2, 11, 10, 7, 5, 8, 3, 5, 7, 2, 6, 8, 11, 5, 3, 10, 2, 6, 5, 8, 9, 11, 6, 8, 4, 8, 4, 11, 3, 16]\n"
     ]
    }
   ],
   "source": [
    "wordsLength = myRdd_stop\\\n",
    "    .map(len)\\\n",
    "    .collect()\n",
    "\n",
    "\n",
    "print (wordsLength)"
   ]
  },
  {
   "cell_type": "code",
   "execution_count": null,
   "id": "dab91492",
   "metadata": {},
   "outputs": [],
   "source": []
  }
 ],
 "metadata": {
  "kernelspec": {
   "display_name": "Python 3 (ipykernel)",
   "language": "python",
   "name": "python3"
  },
  "language_info": {
   "codemirror_mode": {
    "name": "ipython",
    "version": 3
   },
   "file_extension": ".py",
   "mimetype": "text/x-python",
   "name": "python",
   "nbconvert_exporter": "python",
   "pygments_lexer": "ipython3",
   "version": "3.9.13"
  }
 },
 "nbformat": 4,
 "nbformat_minor": 5
}
