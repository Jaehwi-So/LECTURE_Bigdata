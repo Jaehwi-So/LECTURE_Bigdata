{
 "cells": [
  {
   "cell_type": "code",
   "execution_count": 63,
   "id": "c13d676d",
   "metadata": {},
   "outputs": [],
   "source": [
    "import os, sys\n",
    "import pyspark\n",
    "\n",
    "myConf=pyspark.SparkConf()\n",
    "spark = pyspark.sql.SparkSession\\\n",
    "    .builder\\\n",
    "    .master(\"local\")\\\n",
    "    .appName(\"myApp\")\\\n",
    "    .config(conf=myConf)\\\n",
    "    .getOrCreate()"
   ]
  },
  {
   "cell_type": "code",
   "execution_count": 64,
   "id": "010ba132",
   "metadata": {},
   "outputs": [
    {
     "name": "stdout",
     "output_type": "stream",
     "text": [
      "Overwriting data/ds_spark_song_yesterday.txt\n"
     ]
    }
   ],
   "source": [
    "%%writefile data/ds_spark_song_yesterday.txt\n",
    "Yesterday 어제는\n",
    "All my troubles seemed to far away 내 모든 문제들이 참 멀리 있는 것 같았는데\n",
    "Now it looks as though they're here to stay 이제는 그 모든 문제들이 여기에 있는 것처럼 보여\n",
    "Oh, I believe in yesterday 오오, 어제가 좋았는데\n",
    "Suddenly 갑자기 그-림-자-가 2021 그-림-자-가 2021\n",
    "I'm not half the man I used to be 난 예전 내 모습의 반도 못한 사람이 되어버렸어\n",
    "There's a shadow hanging over me 내 위에 그림자가 드리워져 있네\n",
    "Oh!, yesterday came suddenly 오오!, 이제는 너무 갑자기 와버렸어.."
   ]
  },
  {
   "cell_type": "markdown",
   "id": "dcb2e8b7",
   "metadata": {},
   "source": [
    "# 1) 단어빈도 계산\n",
    "\n",
    "\n",
    "\n",
    "- 대소문자 구별 (Yesterday, yesterday는 동일한 단어로 인식한다)\n",
    "\n",
    "- 불필요한 느낌표 '!', 글자 사이 하이픈 '-', 쉼표 ',', 점 '.' 등 제거\n",
    "\n",
    "(예: oh! -> oh, '그-림-자-가' -> '그림자가' 된다)\n",
    "\n",
    "- 한 글자 단어 제거 ('i', '내' 등)\n",
    "\n",
    "- 숫자 제거\n",
    "\n",
    "\n",
    "\n",
    "# 2) 빈도순으로 출력, 전체단어 수 출력\n",
    "\n",
    "\n",
    "\n",
    "```\n",
    "\n",
    "[(3, 'yesterday'),\n",
    "\n",
    " (3, 'to'),\n",
    "\n",
    " (3, '그림자가'),\n",
    "\n",
    " (2, '모든'),\n",
    "\n",
    " (2, '문제들이'),\n",
    "\n",
    " (2, '있는'),\n",
    "\n",
    " (2, '이제는'),\n",
    "\n",
    " (2, 'oh'),\n",
    "\n",
    " (2, '오오'),\n",
    "\n",
    " (2, 'suddenly'),\n",
    "\n",
    " (2, '갑자기')]\n",
    "\n",
    "```"
   ]
  },
  {
   "cell_type": "code",
   "execution_count": 65,
   "id": "37b1dd5b",
   "metadata": {},
   "outputs": [
    {
     "data": {
      "text/plain": [
       "['Yesterday 어제는',\n",
       " 'All my troubles seemed to far away 내 모든 문제들이 참 멀리 있는 것 같았는데',\n",
       " \"Now it looks as though they're here to stay 이제는 그 모든 문제들이 여기에 있는 것처럼 보여\",\n",
       " 'Oh, I believe in yesterday 오오, 어제가 좋았는데',\n",
       " 'Suddenly 갑자기 그-림-자-가 2021 그-림-자-가 2021',\n",
       " \"I'm not half the man I used to be 난 예전 내 모습의 반도 못한 사람이 되어버렸어\",\n",
       " \"There's a shadow hanging over me 내 위에 그림자가 드리워져 있네\",\n",
       " 'Oh!, yesterday came suddenly 오오!, 이제는 너무 갑자기 와버렸어..']"
      ]
     },
     "execution_count": 65,
     "metadata": {},
     "output_type": "execute_result"
    }
   ],
   "source": [
    "rdd = spark.sparkContext\\\n",
    "    .textFile(os.path.join(\"data\",\"ds_spark_song_yesterday.txt\"))\n",
    "\n",
    "rdd.collect()"
   ]
  },
  {
   "cell_type": "code",
   "execution_count": 66,
   "id": "c6b666bf",
   "metadata": {},
   "outputs": [
    {
     "data": {
      "text/plain": [
       "[('yesterday', 3),\n",
       " ('어제는', 1),\n",
       " ('all', 1),\n",
       " ('my', 1),\n",
       " ('troubles', 1),\n",
       " ('seemed', 1),\n",
       " ('to', 3),\n",
       " ('far', 1),\n",
       " ('away', 1),\n",
       " ('내', 3),\n",
       " ('모든', 2),\n",
       " ('문제들이', 2),\n",
       " ('참', 1),\n",
       " ('멀리', 1),\n",
       " ('있는', 2),\n",
       " ('것', 1),\n",
       " ('같았는데', 1),\n",
       " ('now', 1),\n",
       " ('it', 1),\n",
       " ('looks', 1),\n",
       " ('as', 1),\n",
       " ('though', 1),\n",
       " (\"they're\", 1),\n",
       " ('here', 1),\n",
       " ('stay', 1),\n",
       " ('이제는', 2),\n",
       " ('그', 1),\n",
       " ('여기에', 1),\n",
       " ('것처럼', 1),\n",
       " ('보여', 1),\n",
       " ('oh', 2),\n",
       " ('i', 2),\n",
       " ('believe', 1),\n",
       " ('in', 1),\n",
       " ('오오', 2),\n",
       " ('어제가', 1),\n",
       " ('좋았는데', 1),\n",
       " ('suddenly', 2),\n",
       " ('갑자기', 2),\n",
       " ('그림자가', 3),\n",
       " ('', 2),\n",
       " (\"i'm\", 1),\n",
       " ('not', 1),\n",
       " ('half', 1),\n",
       " ('the', 1),\n",
       " ('man', 1),\n",
       " ('used', 1),\n",
       " ('be', 1),\n",
       " ('난', 1),\n",
       " ('예전', 1),\n",
       " ('모습의', 1),\n",
       " ('반도', 1),\n",
       " ('못한', 1),\n",
       " ('사람이', 1),\n",
       " ('되어버렸어', 1),\n",
       " (\"there's\", 1),\n",
       " ('a', 1),\n",
       " ('shadow', 1),\n",
       " ('hanging', 1),\n",
       " ('over', 1),\n",
       " ('me', 1),\n",
       " ('위에', 1),\n",
       " ('드리워져', 1),\n",
       " ('있네', 1),\n",
       " ('came', 1),\n",
       " ('너무', 1),\n",
       " ('와버렸어', 1)]"
      ]
     },
     "execution_count": 66,
     "metadata": {},
     "output_type": "execute_result"
    }
   ],
   "source": [
    "bans = ['!','-','.',',','0','1','2','3','4','5','6','7','8','9']\n",
    "\n",
    "def replacaBan(x):\n",
    "    for ban in bans:\n",
    "        x = x.replace(ban, '')\n",
    "    return x\n",
    "\n",
    "# 대소문자 구별 (Yesterday, yesterday는 동일한 단어로 인식한다)\n",
    "# 불필요한 느낌표 '!', 글자 사이 하이픈 '-', 쉼표 ',', 점 '.' 등 제거\n",
    "# 숫자 제거\n",
    "\n",
    "rdd2 = rdd\\\n",
    "    .flatMap(lambda x: x.split())\\\n",
    "    .map(lambda x: x.lower())\\\n",
    "    .map(lambda x: replacaBan(x))\\\n",
    "    .map(lambda x: (x, 1))\\\n",
    "    .reduceByKey(lambda x,y:x+y)\n",
    "\n",
    "rdd2.collect()\n"
   ]
  },
  {
   "cell_type": "code",
   "execution_count": 67,
   "id": "b5878510",
   "metadata": {},
   "outputs": [
    {
     "data": {
      "text/plain": [
       "[('yesterday', 3),\n",
       " ('to', 3),\n",
       " ('모든', 2),\n",
       " ('문제들이', 2),\n",
       " ('있는', 2),\n",
       " ('이제는', 2),\n",
       " ('oh', 2),\n",
       " ('오오', 2),\n",
       " ('suddenly', 2),\n",
       " ('갑자기', 2),\n",
       " ('그림자가', 3)]"
      ]
     },
     "execution_count": 67,
     "metadata": {},
     "output_type": "execute_result"
    }
   ],
   "source": [
    "# 공백 제거, 1글자 제거, 출현빈도 1 이하 제거\n",
    "\n",
    "rdd3 = rdd2.filter(lambda x: x[1] > 1)\\\n",
    "    .filter(lambda x: x[0] != '')\\\n",
    "    .filter(lambda x: len(x[0]) > 1)\n",
    "\n",
    "rdd3.collect()"
   ]
  },
  {
   "cell_type": "code",
   "execution_count": 68,
   "id": "6f1364f2",
   "metadata": {},
   "outputs": [
    {
     "data": {
      "text/plain": [
       "PythonRDD[65] at RDD at PythonRDD.scala:53"
      ]
     },
     "execution_count": 68,
     "metadata": {},
     "output_type": "execute_result"
    }
   ],
   "source": [
    "# 빈도를 기준으로 정렬\n",
    "\n",
    "rdd4 = rdd3.map(lambda x: (x[1],x[0]))\\\n",
    "    .sortByKey(False)\n",
    "    \n",
    "rdd4"
   ]
  },
  {
   "cell_type": "code",
   "execution_count": 69,
   "id": "2becf084",
   "metadata": {},
   "outputs": [
    {
     "data": {
      "text/plain": [
       "[(3, 'yesterday'),\n",
       " (3, 'to'),\n",
       " (3, '그림자가'),\n",
       " (2, '모든'),\n",
       " (2, '문제들이'),\n",
       " (2, '있는'),\n",
       " (2, '이제는'),\n",
       " (2, 'oh'),\n",
       " (2, '오오'),\n",
       " (2, 'suddenly'),\n",
       " (2, '갑자기')]"
      ]
     },
     "execution_count": 69,
     "metadata": {},
     "output_type": "execute_result"
    }
   ],
   "source": [
    "rdd4.collect()"
   ]
  }
 ],
 "metadata": {
  "kernelspec": {
   "display_name": "Python 3 (ipykernel)",
   "language": "python",
   "name": "python3"
  },
  "language_info": {
   "codemirror_mode": {
    "name": "ipython",
    "version": 3
   },
   "file_extension": ".py",
   "mimetype": "text/x-python",
   "name": "python",
   "nbconvert_exporter": "python",
   "pygments_lexer": "ipython3",
   "version": "3.9.13"
  }
 },
 "nbformat": 4,
 "nbformat_minor": 5
}
